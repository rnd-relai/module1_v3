{
 "cells": [
  {
   "cell_type": "code",
   "execution_count": 2,
   "metadata": {},
   "outputs": [],
   "source": [
    "# 01 functional module - NN AE v2.1 Aug-2020 (New Metrics, EGR presently)"
   ]
  },
  {
   "cell_type": "code",
   "execution_count": 3,
   "metadata": {},
   "outputs": [],
   "source": [
    "# Part 1 - Data with Annotations\n",
    "import pandas as pd\n",
    "X= pd.read_csv('01_egr_af_ANNKM.csv')"
   ]
  },
  {
   "cell_type": "code",
   "execution_count": 3,
   "metadata": {
    "jupyter": {
     "source_hidden": true
    }
   },
   "outputs": [],
   "source": [
    "col_list = ['Power_mean',\n",
    " 'Power_median',\n",
    " 'Power_variance',\n",
    " 'Power_max',\n",
    " 'Power_min',\n",
    " 'Power_max-min',\n",
    "\n",
    " 'Power_kurtosis',\n",
    " 'Power_skewness',\n",
    " 'engine_speed_mean',\n",
    " 'engine_speed_median',\n",
    " 'engine_speed_variance',\n",
    " 'engine_speed_max',\n",
    " 'engine_speed_min',\n",
    " 'engine_speed_max-min',\n",
    " \n",
    " 'engine_speed_kurtosis',\n",
    " 'engine_speed_skewness',\n",
    " 'VEHICAL_BATTERY_POTENTIAL_mean',\n",
    " 'VEHICAL_BATTERY_POTENTIAL_median',\n",
    " 'VEHICAL_BATTERY_POTENTIAL_variance',\n",
    " 'VEHICAL_BATTERY_POTENTIAL_max',\n",
    " 'VEHICAL_BATTERY_POTENTIAL_min',\n",
    " 'VEHICAL_BATTERY_POTENTIAL_max-min',\n",
    "\n",
    " 'VEHICAL_BATTERY_POTENTIAL_kurtosis',\n",
    " 'VEHICAL_BATTERY_POTENTIAL_skewness',\n",
    " 'FUEL_CONSUM_mean',\n",
    " 'FUEL_CONSUM_median',\n",
    " 'FUEL_CONSUM_variance',\n",
    " 'FUEL_CONSUM_max',\n",
    " 'FUEL_CONSUM_min',\n",
    " 'FUEL_CONSUM_max-min',\n",
    "\n",
    " 'FUEL_CONSUM_kurtosis',\n",
    " 'FUEL_CONSUM_skewness',\n",
    " 'THROTTLE_POS_mean',\n",
    " 'THROTTLE_POS_median',\n",
    " 'THROTTLE_POS_variance',\n",
    " 'THROTTLE_POS_max',\n",
    " 'THROTTLE_POS_min',\n",
    " 'THROTTLE_POS_max-min',\n",
    "\n",
    " 'THROTTLE_POS_kurtosis',\n",
    " 'THROTTLE_POS_skewness',\n",
    " 'ACTUAL_ENGINE_TORQUE_mean',\n",
    " 'ACTUAL_ENGINE_TORQUE_median',\n",
    " 'ACTUAL_ENGINE_TORQUE_variance',\n",
    " 'ACTUAL_ENGINE_TORQUE_max',\n",
    " 'ACTUAL_ENGINE_TORQUE_min',\n",
    " 'ACTUAL_ENGINE_TORQUE_max-min',\n",
    "\n",
    " 'ACTUAL_ENGINE_TORQUE_kurtosis',\n",
    " 'ACTUAL_ENGINE_TORQUE_skewness',\n",
    " 'ENGINE_OIL_TEMP_mean',\n",
    " 'ENGINE_OIL_TEMP_median',\n",
    " 'ENGINE_OIL_TEMP_variance',\n",
    " 'ENGINE_OIL_TEMP_max',\n",
    " 'ENGINE_OIL_TEMP_min',\n",
    " 'ENGINE_OIL_TEMP_max-min',\n",
    "\n",
    " 'ENGINE_OIL_TEMP_kurtosis',\n",
    " 'ENGINE_OIL_TEMP_skewness',\n",
    " 'ENGINE_INTAKE_M_PRESSURE_mean',\n",
    " 'ENGINE_INTAKE_M_PRESSURE_median',\n",
    " 'ENGINE_INTAKE_M_PRESSURE_variance',\n",
    " 'ENGINE_INTAKE_M_PRESSURE_max',\n",
    " 'ENGINE_INTAKE_M_PRESSURE_min',\n",
    " 'ENGINE_INTAKE_M_PRESSURE_max-min',\n",
    "\n",
    " 'ENGINE_INTAKE_M_PRESSURE_kurtosis',\n",
    " 'ENGINE_INTAKE_M_PRESSURE_skewness',\n",
    " 'ENGINE_INTAKE_M_TEMPERATURE_mean',\n",
    " 'ENGINE_INTAKE_M_TEMPERATURE_median',\n",
    " 'ENGINE_INTAKE_M_TEMPERATURE_variance',\n",
    " 'ENGINE_INTAKE_M_TEMPERATURE_max',\n",
    " 'ENGINE_INTAKE_M_TEMPERATURE_min',\n",
    " 'ENGINE_INTAKE_M_TEMPERATURE_max-min',\n",
    "\n",
    " 'ENGINE_INTAKE_M_TEMPERATURE_kurtosis',\n",
    " 'ENGINE_INTAKE_M_TEMPERATURE_skewness',\n",
    " 'ENGINE_AIR_INLET_PRESSURE_mean',\n",
    " 'ENGINE_AIR_INLET_PRESSURE_median',\n",
    " 'ENGINE_AIR_INLET_PRESSURE_variance',\n",
    " 'ENGINE_AIR_INLET_PRESSURE_max',\n",
    " 'ENGINE_AIR_INLET_PRESSURE_min',\n",
    " 'ENGINE_AIR_INLET_PRESSURE_max-min',\n",
    "\n",
    " 'ENGINE_AIR_INLET_PRESSURE_kurtosis',\n",
    " 'ENGINE_AIR_INLET_PRESSURE_skewness',\n",
    " 'AMBIENT_AIR_TEMP_mean',\n",
    " 'AMBIENT_AIR_TEMP_median',\n",
    " 'AMBIENT_AIR_TEMP_variance',\n",
    " 'AMBIENT_AIR_TEMP_max',\n",
    " 'AMBIENT_AIR_TEMP_min',\n",
    " 'AMBIENT_AIR_TEMP_max-min',\n",
    " \n",
    " 'AMBIENT_AIR_TEMP_kurtosis',\n",
    " 'AMBIENT_AIR_TEMP_skewness',\n",
    " 'ENGINE_FUEL_TEMP_1_mean',\n",
    " 'ENGINE_FUEL_TEMP_1_median',\n",
    " 'ENGINE_FUEL_TEMP_1_variance',\n",
    " 'ENGINE_FUEL_TEMP_1_max',\n",
    " 'ENGINE_FUEL_TEMP_1_min',\n",
    " 'ENGINE_FUEL_TEMP_1_max-min',\n",
    "\n",
    " 'ENGINE_FUEL_TEMP_1_kurtosis',\n",
    " 'ENGINE_FUEL_TEMP_1_skewness',\n",
    " 'BAT_CHARGING_CURRENT_mean',\n",
    " 'BAT_CHARGING_CURRENT_median',\n",
    " 'BAT_CHARGING_CURRENT_variance',\n",
    " 'BAT_CHARGING_CURRENT_max',\n",
    " 'BAT_CHARGING_CURRENT_min',\n",
    " 'BAT_CHARGING_CURRENT_max-min',\n",
    "\n",
    " 'BAT_CHARGING_CURRENT_kurtosis',\n",
    " 'BAT_CHARGING_CURRENT_skewness',\n",
    " 'ENGINE_OIL_PRESSURE_mean',\n",
    " 'ENGINE_OIL_PRESSURE_median',\n",
    " 'ENGINE_OIL_PRESSURE_variance',\n",
    " 'ENGINE_OIL_PRESSURE_max',\n",
    " 'ENGINE_OIL_PRESSURE_min',\n",
    " 'ENGINE_OIL_PRESSURE_max-min',\n",
    " \n",
    " 'ENGINE_OIL_PRESSURE_kurtosis',\n",
    " 'ENGINE_OIL_PRESSURE_skewness',\n",
    " 'AIR_PRESSURE_1_mean',\n",
    " 'AIR_PRESSURE_1_median',\n",
    " 'AIR_PRESSURE_1_variance',\n",
    " 'AIR_PRESSURE_1_max',\n",
    " 'AIR_PRESSURE_1_min',\n",
    " 'AIR_PRESSURE_1_max-min',\n",
    "\n",
    " 'AIR_PRESSURE_1_kurtosis',\n",
    " 'AIR_PRESSURE_1_skewness',\n",
    " 'AIR_PRESSURE_2_mean',\n",
    " 'AIR_PRESSURE_2_median',\n",
    " 'AIR_PRESSURE_2_variance',\n",
    " 'AIR_PRESSURE_2_max',\n",
    " 'AIR_PRESSURE_2_min',\n",
    " 'AIR_PRESSURE_2_max-min',\n",
    "\n",
    " 'AIR_PRESSURE_2_kurtosis',\n",
    " 'AIR_PRESSURE_2_skewness',\n",
    " 'AIR_PRESSURE_DIGITAL_mean',\n",
    " 'AIR_PRESSURE_DIGITAL_median',\n",
    " 'AIR_PRESSURE_DIGITAL_variance',\n",
    " 'AIR_PRESSURE_DIGITAL_max',\n",
    " 'AIR_PRESSURE_DIGITAL_min',\n",
    " 'AIR_PRESSURE_DIGITAL_max-min',\n",
    " \n",
    " 'AIR_PRESSURE_DIGITAL_kurtosis',\n",
    " 'AIR_PRESSURE_DIGITAL_skewness',\n",
    " 'ENG_OIL_DIGITAL_mean',\n",
    " 'ENG_OIL_DIGITAL_median',\n",
    " 'ENG_OIL_DIGITAL_variance',\n",
    " 'ENG_OIL_DIGITAL_max',\n",
    " 'ENG_OIL_DIGITAL_min',\n",
    " 'ENG_OIL_DIGITAL_max-min',\n",
    " \n",
    " 'ENG_OIL_DIGITAL_kurtosis',\n",
    " 'ENG_OIL_DIGITAL_skewness',\n",
    " 'eng_coolant_temp_mean',\n",
    " 'eng_coolant_temp_median',\n",
    " 'eng_coolant_temp_variance',\n",
    " 'eng_coolant_temp_max',\n",
    " 'eng_coolant_temp_min',\n",
    " 'eng_coolant_temp_max-min',\n",
    "\n",
    " 'eng_coolant_temp_kurtosis',\n",
    " 'eng_coolant_temp_skewness',\n",
    " 'distance_idle%',\n",
    " 'distance_overrun%',\n",
    " 'distance_decel%',\n",
    " 'distance_accel%',\n",
    " 'time_idle%',\n",
    " 'time_overrun%',\n",
    " 'time_decel%',\n",
    " 'time_accel%',\n",
    " '5409',\n",
    " '535',\n",
    " '525569',\n",
    " '6912',\n",
    " '5888',\n",
    " '6144',\n",
    " '131363',\n",
    " '131619',\n",
    " '8501',\n",
    " '5688',\n",
    " '262288',\n",
    " '131895',\n",
    " '4386',\n",
    " '69888',\n",
    " '5169',\n",
    " '4356',\n",
    " '4406',\n",
    " '131906',\n",
    " '267048',\n",
    " 'total',\n",
    " '22',\n",
    " '4377',\n",
    " '408',\n",
    " '267012',\n",
    " '4390',\n",
    " '9502',\n",
    " '4369',\n",
    " '1315',\n",
    " '4371',\n",
    " '65939',\n",
    " '4613',\n",
    " '1028',\n",
    " '1025',\n",
    " '1030',\n",
    " '1156',\n",
    " '4614',\n",
    " '66104',\n",
    " '1159',\n",
    " '65816',\n",
    " '275',\n",
    " '1344',\n",
    " '5376',\n",
    " '1316',\n",
    " '4374',\n",
    " '66370',\n",
    " '267024',\n",
    " '537',\n",
    " '663',\n",
    " '9501',\n",
    " '70434',\n",
    " '267042',\n",
    " '257',\n",
    " '295',\n",
    " '6657',\n",
    " '131352',\n",
    " '5120',\n",
    " '6400',\n",
    " '66359',\n",
    " '1026',\n",
    " '4626',\n",
    " '1314',\n",
    " '267060',\n",
    " '4385',\n",
    " '5696',\n",
    " '4612',\n",
    " '533',\n",
    " '5634',\n",
    " '4375',\n",
    " '5159',\n",
    " '74065']"
   ]
  },
  {
   "cell_type": "code",
   "execution_count": 4,
   "metadata": {},
   "outputs": [
    {
     "name": "stdout",
     "output_type": "stream",
     "text": [
      "WARNING:tensorflow:From /home/ec2-user/anaconda3/envs/tensorflow_p36/lib/python3.6/site-packages/tensorflow_core/__init__.py:1473: The name tf.estimator.inputs is deprecated. Please use tf.compat.v1.estimator.inputs instead.\n",
      "\n"
     ]
    },
    {
     "name": "stderr",
     "output_type": "stream",
     "text": [
      "Using TensorFlow backend.\n"
     ]
    }
   ],
   "source": [
    "from numpy.random import seed\n",
    "seed(123)\n",
    "from tensorflow import set_random_seed\n",
    "set_random_seed(234)\n",
    "\n",
    "import sklearn\n",
    "from sklearn import datasets\n",
    "import numpy as np\n",
    "from sklearn.model_selection import train_test_split\n",
    "from sklearn.preprocessing import StandardScaler, MinMaxScaler\n",
    "from sklearn import decomposition\n",
    "import scipy\n",
    "\n",
    "import tensorflow as tf\n",
    "from keras.models import Model, load_model\n",
    "from keras.layers import Input, Dense, Layer, InputSpec\n",
    "from keras.callbacks import ModelCheckpoint, TensorBoard\n",
    "from keras import regularizers, activations, initializers, constraints, Sequential\n",
    "from keras import backend as K\n",
    "from keras.constraints import UnitNorm, Constraint"
   ]
  },
  {
   "cell_type": "code",
   "execution_count": 7,
   "metadata": {},
   "outputs": [
    {
     "data": {
      "text/plain": [
       "'1.15.3'"
      ]
     },
     "execution_count": 7,
     "metadata": {},
     "output_type": "execute_result"
    }
   ],
   "source": [
    "tf.__version__"
   ]
  },
  {
   "cell_type": "code",
   "execution_count": 8,
   "metadata": {},
   "outputs": [],
   "source": [
    "scaler = MinMaxScaler()\n",
    "scaler.fit(X[col_list])\n",
    "X_scaled = scaler.transform(X[col_list])"
   ]
  },
  {
   "cell_type": "code",
   "execution_count": 9,
   "metadata": {},
   "outputs": [],
   "source": [
    "## part 2 ##\n",
    "# need to import custom class created for orthogonalisation\n",
    "# load_model from github codebase"
   ]
  },
  {
   "cell_type": "code",
   "execution_count": 10,
   "metadata": {},
   "outputs": [],
   "source": [
    "class DenseTied(Layer):\n",
    "    def __init__(self, units,\n",
    "                 activation=None,\n",
    "                 use_bias=True,\n",
    "                 kernel_initializer='glorot_uniform',\n",
    "                 bias_initializer='zeros',\n",
    "                 kernel_regularizer=None,\n",
    "                 bias_regularizer=None,\n",
    "                 activity_regularizer=None,\n",
    "                 kernel_constraint=None,\n",
    "                 bias_constraint=None,\n",
    "                 tied_to=None,\n",
    "                 **kwargs):\n",
    "        self.tied_to = tied_to\n",
    "        if 'input_shape' not in kwargs and 'input_dim' in kwargs:\n",
    "            kwargs['input_shape'] = (kwargs.pop('input_dim'),)\n",
    "        super().__init__(**kwargs)\n",
    "        self.units = units\n",
    "        self.activation = activations.get(activation)\n",
    "        self.use_bias = use_bias\n",
    "        self.kernel_initializer = initializers.get(kernel_initializer)\n",
    "        self.bias_initializer = initializers.get(bias_initializer)\n",
    "        self.kernel_regularizer = regularizers.get(kernel_regularizer)\n",
    "        self.bias_regularizer = regularizers.get(bias_regularizer)\n",
    "        self.activity_regularizer = regularizers.get(activity_regularizer)\n",
    "        self.kernel_constraint = constraints.get(kernel_constraint)\n",
    "        self.bias_constraint = constraints.get(bias_constraint)\n",
    "        self.input_spec = InputSpec(min_ndim=2)\n",
    "        self.supports_masking = True\n",
    "                \n",
    "    def build(self, input_shape):\n",
    "        assert len(input_shape) >= 2\n",
    "        input_dim = input_shape[-1]\n",
    "\n",
    "        if self.tied_to is not None:\n",
    "            self.kernel = K.transpose(self.tied_to.kernel)\n",
    "            self._non_trainable_weights.append(self.kernel)\n",
    "        else:\n",
    "            self.kernel = self.add_weight(shape=(input_dim, self.units),\n",
    "                                          initializer=self.kernel_initializer,\n",
    "                                          name='kernel',\n",
    "                                          regularizer=self.kernel_regularizer,\n",
    "                                          constraint=self.kernel_constraint)\n",
    "        if self.use_bias:\n",
    "            self.bias = self.add_weight(shape=(self.units,),\n",
    "                                        initializer=self.bias_initializer,\n",
    "                                        name='bias',\n",
    "                                        regularizer=self.bias_regularizer,\n",
    "                                        constraint=self.bias_constraint)\n",
    "        else:\n",
    "            self.bias = None\n",
    "        self.input_spec = InputSpec(min_ndim=2, axes={-1: input_dim})\n",
    "        self.built = True\n",
    "\n",
    "    def compute_output_shape(self, input_shape):\n",
    "        assert input_shape and len(input_shape) >= 2\n",
    "        output_shape = list(input_shape)\n",
    "        output_shape[-1] = self.units\n",
    "        return tuple(output_shape)\n",
    "\n",
    "    def call(self, inputs):\n",
    "        output = K.dot(inputs, self.kernel)\n",
    "        if self.use_bias:\n",
    "            output = K.bias_add(output, self.bias, data_format='channels_last')\n",
    "        if self.activation is not None:\n",
    "            output = self.activation(output)\n",
    "        return output\n",
    "    \n",
    "class WeightsOrthogonalityConstraint (Constraint):\n",
    "    def __init__(self, encoding_dim, weightage = 1.0, axis = 0):\n",
    "        self.encoding_dim = encoding_dim\n",
    "        self.weightage = weightage\n",
    "        self.axis = axis\n",
    "        \n",
    "    def weights_orthogonality(self, w):\n",
    "        if(self.axis==1):\n",
    "            w = K.transpose(w)\n",
    "        if(self.encoding_dim > 1):\n",
    "            m = K.dot(K.transpose(w), w) - K.eye(self.encoding_dim)\n",
    "            return self.weightage * K.sqrt(K.sum(K.square(m)))\n",
    "        else:\n",
    "            m = K.sum(w ** 2) - 1.\n",
    "            return m\n",
    "\n",
    "    def __call__(self, w):\n",
    "        return self.weights_orthogonality(w)\n",
    "    "
   ]
  },
  {
   "cell_type": "code",
   "execution_count": 11,
   "metadata": {},
   "outputs": [
    {
     "name": "stdout",
     "output_type": "stream",
     "text": [
      "WARNING:tensorflow:From /home/ec2-user/anaconda3/envs/tensorflow_p36/lib/python3.6/site-packages/keras/backend/tensorflow_backend.py:74: The name tf.get_default_graph is deprecated. Please use tf.compat.v1.get_default_graph instead.\n",
      "\n",
      "WARNING:tensorflow:From /home/ec2-user/anaconda3/envs/tensorflow_p36/lib/python3.6/site-packages/keras/backend/tensorflow_backend.py:517: The name tf.placeholder is deprecated. Please use tf.compat.v1.placeholder instead.\n",
      "\n",
      "WARNING:tensorflow:From /home/ec2-user/anaconda3/envs/tensorflow_p36/lib/python3.6/site-packages/keras/backend/tensorflow_backend.py:4138: The name tf.random_uniform is deprecated. Please use tf.random.uniform instead.\n",
      "\n",
      "WARNING:tensorflow:From /home/ec2-user/anaconda3/envs/tensorflow_p36/lib/python3.6/site-packages/keras/backend/tensorflow_backend.py:174: The name tf.get_default_session is deprecated. Please use tf.compat.v1.get_default_session instead.\n",
      "\n",
      "WARNING:tensorflow:From /home/ec2-user/anaconda3/envs/tensorflow_p36/lib/python3.6/site-packages/keras/backend/tensorflow_backend.py:184: The name tf.ConfigProto is deprecated. Please use tf.compat.v1.ConfigProto instead.\n",
      "\n",
      "WARNING:tensorflow:From /home/ec2-user/anaconda3/envs/tensorflow_p36/lib/python3.6/site-packages/keras/backend/tensorflow_backend.py:186: The name tf.Session is deprecated. Please use tf.compat.v1.Session instead.\n",
      "\n",
      "WARNING:tensorflow:From /home/ec2-user/anaconda3/envs/tensorflow_p36/lib/python3.6/site-packages/keras/backend/tensorflow_backend.py:190: The name tf.global_variables is deprecated. Please use tf.compat.v1.global_variables instead.\n",
      "\n",
      "WARNING:tensorflow:From /home/ec2-user/anaconda3/envs/tensorflow_p36/lib/python3.6/site-packages/keras/backend/tensorflow_backend.py:199: The name tf.is_variable_initialized is deprecated. Please use tf.compat.v1.is_variable_initialized instead.\n",
      "\n",
      "WARNING:tensorflow:From /home/ec2-user/anaconda3/envs/tensorflow_p36/lib/python3.6/site-packages/keras/backend/tensorflow_backend.py:206: The name tf.variables_initializer is deprecated. Please use tf.compat.v1.variables_initializer instead.\n",
      "\n"
     ]
    }
   ],
   "source": [
    "# autoencoder_rad.save('NN_binary_Autoencoder_Generic_V21.h5')\n",
    "#autoencoder_rad = load_model('NN_binary_Autoencoder_Generic_V21.h5')\n",
    "\n",
    "def RTPv2model():\n",
    "    import tensorflow as tf\n",
    "    from keras.models import Model, load_model\n",
    "    from keras.layers import Input, Dense, Layer, InputSpec\n",
    "    from keras.callbacks import ModelCheckpoint, TensorBoard\n",
    "    from keras import regularizers, activations, initializers, constraints, Sequential\n",
    "    from keras import backend as K\n",
    "    from keras.constraints import UnitNorm, Constraint\n",
    "    \n",
    "    class DenseTied(Layer):\n",
    "        def __init__(self, units,\n",
    "                     activation=None,\n",
    "                     use_bias=True,\n",
    "                     kernel_initializer='glorot_uniform',\n",
    "                     bias_initializer='zeros',\n",
    "                     kernel_regularizer=None,\n",
    "                     bias_regularizer=None,\n",
    "                     activity_regularizer=None,\n",
    "                     kernel_constraint=None,\n",
    "                     bias_constraint=None,\n",
    "                     tied_to=None,\n",
    "                     **kwargs):\n",
    "            self.tied_to = tied_to\n",
    "            if 'input_shape' not in kwargs and 'input_dim' in kwargs:\n",
    "                kwargs['input_shape'] = (kwargs.pop('input_dim'),)\n",
    "            super().__init__(**kwargs)\n",
    "            self.units = units\n",
    "            self.activation = activations.get(activation)\n",
    "            self.use_bias = use_bias\n",
    "            self.kernel_initializer = initializers.get(kernel_initializer)\n",
    "            self.bias_initializer = initializers.get(bias_initializer)\n",
    "            self.kernel_regularizer = regularizers.get(kernel_regularizer)\n",
    "            self.bias_regularizer = regularizers.get(bias_regularizer)\n",
    "            self.activity_regularizer = regularizers.get(activity_regularizer)\n",
    "            self.kernel_constraint = constraints.get(kernel_constraint)\n",
    "            self.bias_constraint = constraints.get(bias_constraint)\n",
    "            self.input_spec = InputSpec(min_ndim=2)\n",
    "            self.supports_masking = True\n",
    "\n",
    "        def build(self, input_shape):\n",
    "            assert len(input_shape) >= 2\n",
    "            input_dim = input_shape[-1]\n",
    "\n",
    "            if self.tied_to is not None:\n",
    "                self.kernel = K.transpose(self.tied_to.kernel)\n",
    "                self._non_trainable_weights.append(self.kernel)\n",
    "            else:\n",
    "                self.kernel = self.add_weight(shape=(input_dim, self.units),\n",
    "                                              initializer=self.kernel_initializer,\n",
    "                                              name='kernel',\n",
    "                                              regularizer=self.kernel_regularizer,\n",
    "                                              constraint=self.kernel_constraint)\n",
    "            if self.use_bias:\n",
    "                self.bias = self.add_weight(shape=(self.units,),\n",
    "                                            initializer=self.bias_initializer,\n",
    "                                            name='bias',\n",
    "                                            regularizer=self.bias_regularizer,\n",
    "                                            constraint=self.bias_constraint)\n",
    "            else:\n",
    "                self.bias = None\n",
    "            self.input_spec = InputSpec(min_ndim=2, axes={-1: input_dim})\n",
    "            self.built = True\n",
    "\n",
    "        def compute_output_shape(self, input_shape):\n",
    "            assert input_shape and len(input_shape) >= 2\n",
    "            output_shape = list(input_shape)\n",
    "            output_shape[-1] = self.units\n",
    "            return tuple(output_shape)\n",
    "\n",
    "        def call(self, inputs):\n",
    "            output = K.dot(inputs, self.kernel)\n",
    "            if self.use_bias:\n",
    "                output = K.bias_add(output, self.bias, data_format='channels_last')\n",
    "            if self.activation is not None:\n",
    "                output = self.activation(output)\n",
    "            return output\n",
    "    \n",
    "    class WeightsOrthogonalityConstraint (Constraint):\n",
    "        def __init__(self, encoding_dim, weightage = 1.0, axis = 0):\n",
    "            self.encoding_dim = encoding_dim\n",
    "            self.weightage = weightage\n",
    "            self.axis = axis\n",
    "\n",
    "        def weights_orthogonality(self, w):\n",
    "            if(self.axis==1):\n",
    "                w = K.transpose(w)\n",
    "            if(self.encoding_dim > 1):\n",
    "                m = K.dot(K.transpose(w), w) - K.eye(self.encoding_dim)\n",
    "                return self.weightage * K.sqrt(K.sum(K.square(m)))\n",
    "            else:\n",
    "                m = K.sum(w ** 2) - 1.\n",
    "                return m\n",
    "\n",
    "        def __call__(self, w):\n",
    "            return self.weights_orthogonality(w)\n",
    "    \n",
    "    from keras.layers import Dense\n",
    "    \n",
    "    Tencoder = Dense(encoding_dim, activation=\"linear\", input_shape=(input_dim,), use_bias = True, kernel_regularizer=WeightsOrthogonalityConstraint(encoding_dim, weightage=1., axis=0), kernel_constraint=UnitNorm(axis=0)) \n",
    "    Tdecoder = DenseTied(input_dim, activation=\"linear\",  use_bias = False) #tied_to=encoder,\n",
    "\n",
    "    Tautoencoder = Sequential()\n",
    "    Tautoencoder.add(Tencoder)\n",
    "    Tautoencoder.add(Tdecoder)\n",
    "    \n",
    "    return Tautoencoder\n",
    "\n",
    "def RTPv2trainedmodel():\n",
    "    import numpy as np\n",
    "    from pandas import read_csv as rc\n",
    "    z000xfaexl1wbs0 = (rc('000xfaexl1wbs[0].csv', header=None).values)\n",
    "    z000xfaexl1wbs1 = np.reshape(rc('000xfaexl1wbs[1].csv', header=None).values, (24,))\n",
    "    z000xfaexl2wbs0 = rc('000xfaexl2wbs[0].csv', header=None)\n",
    "    RTPv2modeli = RTPv2model()\n",
    "\n",
    "    l1wbs=[z000xfaexl1wbs0,z000xfaexl1wbs1]\n",
    "    l2wbs=[z000xfaexl2wbs0]\n",
    "    RTPv2modeli.layers[0].set_weights(l1wbs)\n",
    "    RTPv2modeli.layers[1].set_weights(l2wbs)\n",
    "    \n",
    "    return RTPv2modeli\n",
    "\n",
    "encoding_dim = 24\n",
    "input_dim = len(col_list)\n",
    "autoencoder_rad = RTPv2trainedmodel()"
   ]
  },
  {
   "cell_type": "code",
   "execution_count": null,
   "metadata": {},
   "outputs": [],
   "source": []
  },
  {
   "cell_type": "code",
   "execution_count": 48,
   "metadata": {},
   "outputs": [],
   "source": [
    "#from sklearn.preprocessing import RobustScaler as rs \n",
    "#rs1 = rs().fit(X_train[col_list])\n",
    "#X_train_scale2 = rs1.transform(X_train[col_list]) \n",
    "#X_test_scale2 = rs1.transform(X_test[col_list]) "
   ]
  },
  {
   "cell_type": "code",
   "execution_count": 12,
   "metadata": {},
   "outputs": [],
   "source": [
    "from keras import backend as K\n",
    "# with a Sequential model\n",
    "#get_layer_output = K.function([autoencoder_rad.layers[0].input], [autoencoder_rad.layers[1].output])\n",
    "get_layer_output = K.function([autoencoder_rad.layers[0].input], [autoencoder_rad.layers[0].output])\n",
    "# output in test mode = 0\n",
    "X_scale_encoded_data_bottleneck_output = get_layer_output([X[col_list]])[0]\n",
    "#X_train_scale_encoded_data = encoder_rad.predict(X_train_scale)"
   ]
  },
  {
   "cell_type": "code",
   "execution_count": 63,
   "metadata": {},
   "outputs": [
    {
     "name": "stdout",
     "output_type": "stream",
     "text": [
      "_________________________________________________________________\n",
      "Layer (type)                 Output Shape              Param #   \n",
      "=================================================================\n",
      "dense_5 (Dense)              (None, 24)                5544      \n",
      "_________________________________________________________________\n",
      "dense_tied_5 (DenseTied)     (None, 230)               5520      \n",
      "=================================================================\n",
      "Total params: 11,064\n",
      "Trainable params: 11,064\n",
      "Non-trainable params: 0\n",
      "_________________________________________________________________\n"
     ]
    }
   ],
   "source": [
    "#X_test_scale_encoded_data_bottleneck_output = get_layer_output([X_test_scale])[0]\n",
    "autoencoder_rad.summary()"
   ]
  },
  {
   "cell_type": "code",
   "execution_count": 65,
   "metadata": {},
   "outputs": [
    {
     "data": {
      "text/plain": [
       "(109845, 24)"
      ]
     },
     "execution_count": 65,
     "metadata": {},
     "output_type": "execute_result"
    }
   ],
   "source": [
    "X_scale_encoded_data_bottleneck_output.shape"
   ]
  },
  {
   "cell_type": "code",
   "execution_count": 129,
   "metadata": {},
   "outputs": [
    {
     "data": {
      "text/html": [
       "<div>\n",
       "<style scoped>\n",
       "    .dataframe tbody tr th:only-of-type {\n",
       "        vertical-align: middle;\n",
       "    }\n",
       "\n",
       "    .dataframe tbody tr th {\n",
       "        vertical-align: top;\n",
       "    }\n",
       "\n",
       "    .dataframe thead th {\n",
       "        text-align: right;\n",
       "    }\n",
       "</style>\n",
       "<table border=\"1\" class=\"dataframe\">\n",
       "  <thead>\n",
       "    <tr style=\"text-align: right;\">\n",
       "      <th></th>\n",
       "      <th>Power_mean</th>\n",
       "      <th>Power_median</th>\n",
       "      <th>Power_variance</th>\n",
       "      <th>Power_max</th>\n",
       "      <th>Power_min</th>\n",
       "      <th>Power_max-min</th>\n",
       "      <th>Power_kurtosis</th>\n",
       "      <th>Power_skewness</th>\n",
       "      <th>engine_speed_mean</th>\n",
       "      <th>engine_speed_median</th>\n",
       "      <th>...</th>\n",
       "      <th>5634</th>\n",
       "      <th>4375</th>\n",
       "      <th>5159</th>\n",
       "      <th>74065</th>\n",
       "      <th>r_error</th>\n",
       "      <th>ANN_EGR_N</th>\n",
       "      <th>ANN_AIR_FILTER_N</th>\n",
       "      <th>vin</th>\n",
       "      <th>ANN_EGR_KM</th>\n",
       "      <th>ANN_AIR_FILTER_KM</th>\n",
       "    </tr>\n",
       "  </thead>\n",
       "  <tbody>\n",
       "    <tr>\n",
       "      <th>0</th>\n",
       "      <td>0.259912</td>\n",
       "      <td>0.144962</td>\n",
       "      <td>0.352379</td>\n",
       "      <td>0.460322</td>\n",
       "      <td>0.907371</td>\n",
       "      <td>0.111187</td>\n",
       "      <td>0.021218</td>\n",
       "      <td>0.732725</td>\n",
       "      <td>0.555864</td>\n",
       "      <td>0.524963</td>\n",
       "      <td>...</td>\n",
       "      <td>-0.001815</td>\n",
       "      <td>0.078333</td>\n",
       "      <td>0.017304</td>\n",
       "      <td>-0.058437</td>\n",
       "      <td>1.839550</td>\n",
       "      <td>0</td>\n",
       "      <td>0</td>\n",
       "      <td>MB1A3CHD0KPHH2911</td>\n",
       "      <td>0</td>\n",
       "      <td>0</td>\n",
       "    </tr>\n",
       "    <tr>\n",
       "      <th>1</th>\n",
       "      <td>0.348366</td>\n",
       "      <td>0.226150</td>\n",
       "      <td>0.333504</td>\n",
       "      <td>0.424219</td>\n",
       "      <td>0.944676</td>\n",
       "      <td>0.153521</td>\n",
       "      <td>0.042616</td>\n",
       "      <td>0.735572</td>\n",
       "      <td>0.499062</td>\n",
       "      <td>0.544591</td>\n",
       "      <td>...</td>\n",
       "      <td>-0.045493</td>\n",
       "      <td>-0.012543</td>\n",
       "      <td>0.064563</td>\n",
       "      <td>-0.014140</td>\n",
       "      <td>2.314701</td>\n",
       "      <td>0</td>\n",
       "      <td>0</td>\n",
       "      <td>MB1A3CHD0KPHH2911</td>\n",
       "      <td>0</td>\n",
       "      <td>0</td>\n",
       "    </tr>\n",
       "    <tr>\n",
       "      <th>2</th>\n",
       "      <td>0.347972</td>\n",
       "      <td>0.227108</td>\n",
       "      <td>0.320133</td>\n",
       "      <td>0.418274</td>\n",
       "      <td>0.946901</td>\n",
       "      <td>0.155367</td>\n",
       "      <td>0.041158</td>\n",
       "      <td>0.732302</td>\n",
       "      <td>0.499988</td>\n",
       "      <td>0.540374</td>\n",
       "      <td>...</td>\n",
       "      <td>-0.048789</td>\n",
       "      <td>-0.018112</td>\n",
       "      <td>0.065178</td>\n",
       "      <td>-0.016270</td>\n",
       "      <td>2.308819</td>\n",
       "      <td>0</td>\n",
       "      <td>0</td>\n",
       "      <td>MB1A3CHD0KPHH2911</td>\n",
       "      <td>0</td>\n",
       "      <td>0</td>\n",
       "    </tr>\n",
       "    <tr>\n",
       "      <th>3</th>\n",
       "      <td>0.360102</td>\n",
       "      <td>0.238688</td>\n",
       "      <td>0.332370</td>\n",
       "      <td>0.433043</td>\n",
       "      <td>0.954894</td>\n",
       "      <td>0.151264</td>\n",
       "      <td>0.047587</td>\n",
       "      <td>0.735610</td>\n",
       "      <td>0.511808</td>\n",
       "      <td>0.545102</td>\n",
       "      <td>...</td>\n",
       "      <td>-0.051432</td>\n",
       "      <td>-0.013910</td>\n",
       "      <td>0.059936</td>\n",
       "      <td>-0.021624</td>\n",
       "      <td>2.331466</td>\n",
       "      <td>0</td>\n",
       "      <td>0</td>\n",
       "      <td>MB1A3CHD0KPHH2911</td>\n",
       "      <td>0</td>\n",
       "      <td>0</td>\n",
       "    </tr>\n",
       "    <tr>\n",
       "      <th>4</th>\n",
       "      <td>0.314433</td>\n",
       "      <td>0.222240</td>\n",
       "      <td>0.374136</td>\n",
       "      <td>0.498584</td>\n",
       "      <td>0.928193</td>\n",
       "      <td>0.125254</td>\n",
       "      <td>0.046222</td>\n",
       "      <td>0.726539</td>\n",
       "      <td>0.605816</td>\n",
       "      <td>0.548432</td>\n",
       "      <td>...</td>\n",
       "      <td>-0.013007</td>\n",
       "      <td>0.043535</td>\n",
       "      <td>-0.013676</td>\n",
       "      <td>-0.087040</td>\n",
       "      <td>1.781243</td>\n",
       "      <td>0</td>\n",
       "      <td>0</td>\n",
       "      <td>MB1A3CHD0KPHH2911</td>\n",
       "      <td>0</td>\n",
       "      <td>0</td>\n",
       "    </tr>\n",
       "    <tr>\n",
       "      <th>...</th>\n",
       "      <td>...</td>\n",
       "      <td>...</td>\n",
       "      <td>...</td>\n",
       "      <td>...</td>\n",
       "      <td>...</td>\n",
       "      <td>...</td>\n",
       "      <td>...</td>\n",
       "      <td>...</td>\n",
       "      <td>...</td>\n",
       "      <td>...</td>\n",
       "      <td>...</td>\n",
       "      <td>...</td>\n",
       "      <td>...</td>\n",
       "      <td>...</td>\n",
       "      <td>...</td>\n",
       "      <td>...</td>\n",
       "      <td>...</td>\n",
       "      <td>...</td>\n",
       "      <td>...</td>\n",
       "      <td>...</td>\n",
       "      <td>...</td>\n",
       "    </tr>\n",
       "    <tr>\n",
       "      <th>109840</th>\n",
       "      <td>0.380121</td>\n",
       "      <td>0.219573</td>\n",
       "      <td>0.294618</td>\n",
       "      <td>0.491505</td>\n",
       "      <td>0.972128</td>\n",
       "      <td>0.112378</td>\n",
       "      <td>0.003840</td>\n",
       "      <td>0.719142</td>\n",
       "      <td>0.522335</td>\n",
       "      <td>0.533320</td>\n",
       "      <td>...</td>\n",
       "      <td>0.002227</td>\n",
       "      <td>0.015496</td>\n",
       "      <td>-0.010944</td>\n",
       "      <td>0.005436</td>\n",
       "      <td>0.819123</td>\n",
       "      <td>0</td>\n",
       "      <td>0</td>\n",
       "      <td>MB1WADHD9JRFW8228</td>\n",
       "      <td>0</td>\n",
       "      <td>0</td>\n",
       "    </tr>\n",
       "    <tr>\n",
       "      <th>109841</th>\n",
       "      <td>0.373381</td>\n",
       "      <td>0.216154</td>\n",
       "      <td>0.256003</td>\n",
       "      <td>0.461225</td>\n",
       "      <td>0.968662</td>\n",
       "      <td>0.127550</td>\n",
       "      <td>-0.002462</td>\n",
       "      <td>0.723175</td>\n",
       "      <td>0.505735</td>\n",
       "      <td>0.513190</td>\n",
       "      <td>...</td>\n",
       "      <td>0.005729</td>\n",
       "      <td>-0.006708</td>\n",
       "      <td>-0.010438</td>\n",
       "      <td>0.008135</td>\n",
       "      <td>0.792497</td>\n",
       "      <td>0</td>\n",
       "      <td>0</td>\n",
       "      <td>MB1WADHD9JRFW8228</td>\n",
       "      <td>0</td>\n",
       "      <td>0</td>\n",
       "    </tr>\n",
       "    <tr>\n",
       "      <th>109842</th>\n",
       "      <td>0.345918</td>\n",
       "      <td>0.235121</td>\n",
       "      <td>0.264633</td>\n",
       "      <td>0.465152</td>\n",
       "      <td>0.945491</td>\n",
       "      <td>0.078563</td>\n",
       "      <td>-0.017671</td>\n",
       "      <td>0.744971</td>\n",
       "      <td>0.467249</td>\n",
       "      <td>0.532145</td>\n",
       "      <td>...</td>\n",
       "      <td>0.004610</td>\n",
       "      <td>0.011158</td>\n",
       "      <td>0.001882</td>\n",
       "      <td>0.037919</td>\n",
       "      <td>1.345000</td>\n",
       "      <td>0</td>\n",
       "      <td>0</td>\n",
       "      <td>MB1WADHD9JRFW8228</td>\n",
       "      <td>0</td>\n",
       "      <td>0</td>\n",
       "    </tr>\n",
       "    <tr>\n",
       "      <th>109843</th>\n",
       "      <td>0.350667</td>\n",
       "      <td>0.239523</td>\n",
       "      <td>0.265850</td>\n",
       "      <td>0.467055</td>\n",
       "      <td>0.947270</td>\n",
       "      <td>0.078886</td>\n",
       "      <td>-0.017092</td>\n",
       "      <td>0.744599</td>\n",
       "      <td>0.469219</td>\n",
       "      <td>0.534082</td>\n",
       "      <td>...</td>\n",
       "      <td>0.005133</td>\n",
       "      <td>0.010885</td>\n",
       "      <td>0.002058</td>\n",
       "      <td>0.035215</td>\n",
       "      <td>1.341801</td>\n",
       "      <td>0</td>\n",
       "      <td>0</td>\n",
       "      <td>MB1WADHD9JRFW8228</td>\n",
       "      <td>0</td>\n",
       "      <td>0</td>\n",
       "    </tr>\n",
       "    <tr>\n",
       "      <th>109844</th>\n",
       "      <td>0.378040</td>\n",
       "      <td>0.205250</td>\n",
       "      <td>0.290417</td>\n",
       "      <td>0.483650</td>\n",
       "      <td>0.980731</td>\n",
       "      <td>0.114693</td>\n",
       "      <td>0.003730</td>\n",
       "      <td>0.724997</td>\n",
       "      <td>0.521387</td>\n",
       "      <td>0.531612</td>\n",
       "      <td>...</td>\n",
       "      <td>0.001219</td>\n",
       "      <td>0.018285</td>\n",
       "      <td>-0.006678</td>\n",
       "      <td>0.006698</td>\n",
       "      <td>0.806085</td>\n",
       "      <td>0</td>\n",
       "      <td>0</td>\n",
       "      <td>MB1WADHD9JRFW8228</td>\n",
       "      <td>0</td>\n",
       "      <td>0</td>\n",
       "    </tr>\n",
       "  </tbody>\n",
       "</table>\n",
       "<p>109845 rows × 236 columns</p>\n",
       "</div>"
      ],
      "text/plain": [
       "        Power_mean  Power_median  Power_variance  Power_max  Power_min  \\\n",
       "0         0.259912      0.144962        0.352379   0.460322   0.907371   \n",
       "1         0.348366      0.226150        0.333504   0.424219   0.944676   \n",
       "2         0.347972      0.227108        0.320133   0.418274   0.946901   \n",
       "3         0.360102      0.238688        0.332370   0.433043   0.954894   \n",
       "4         0.314433      0.222240        0.374136   0.498584   0.928193   \n",
       "...            ...           ...             ...        ...        ...   \n",
       "109840    0.380121      0.219573        0.294618   0.491505   0.972128   \n",
       "109841    0.373381      0.216154        0.256003   0.461225   0.968662   \n",
       "109842    0.345918      0.235121        0.264633   0.465152   0.945491   \n",
       "109843    0.350667      0.239523        0.265850   0.467055   0.947270   \n",
       "109844    0.378040      0.205250        0.290417   0.483650   0.980731   \n",
       "\n",
       "        Power_max-min  Power_kurtosis  Power_skewness  engine_speed_mean  \\\n",
       "0            0.111187        0.021218        0.732725           0.555864   \n",
       "1            0.153521        0.042616        0.735572           0.499062   \n",
       "2            0.155367        0.041158        0.732302           0.499988   \n",
       "3            0.151264        0.047587        0.735610           0.511808   \n",
       "4            0.125254        0.046222        0.726539           0.605816   \n",
       "...               ...             ...             ...                ...   \n",
       "109840       0.112378        0.003840        0.719142           0.522335   \n",
       "109841       0.127550       -0.002462        0.723175           0.505735   \n",
       "109842       0.078563       -0.017671        0.744971           0.467249   \n",
       "109843       0.078886       -0.017092        0.744599           0.469219   \n",
       "109844       0.114693        0.003730        0.724997           0.521387   \n",
       "\n",
       "        engine_speed_median  ...      5634      4375      5159     74065  \\\n",
       "0                  0.524963  ... -0.001815  0.078333  0.017304 -0.058437   \n",
       "1                  0.544591  ... -0.045493 -0.012543  0.064563 -0.014140   \n",
       "2                  0.540374  ... -0.048789 -0.018112  0.065178 -0.016270   \n",
       "3                  0.545102  ... -0.051432 -0.013910  0.059936 -0.021624   \n",
       "4                  0.548432  ... -0.013007  0.043535 -0.013676 -0.087040   \n",
       "...                     ...  ...       ...       ...       ...       ...   \n",
       "109840             0.533320  ...  0.002227  0.015496 -0.010944  0.005436   \n",
       "109841             0.513190  ...  0.005729 -0.006708 -0.010438  0.008135   \n",
       "109842             0.532145  ...  0.004610  0.011158  0.001882  0.037919   \n",
       "109843             0.534082  ...  0.005133  0.010885  0.002058  0.035215   \n",
       "109844             0.531612  ...  0.001219  0.018285 -0.006678  0.006698   \n",
       "\n",
       "         r_error  ANN_EGR_N  ANN_AIR_FILTER_N                vin  ANN_EGR_KM  \\\n",
       "0       1.839550          0                 0  MB1A3CHD0KPHH2911           0   \n",
       "1       2.314701          0                 0  MB1A3CHD0KPHH2911           0   \n",
       "2       2.308819          0                 0  MB1A3CHD0KPHH2911           0   \n",
       "3       2.331466          0                 0  MB1A3CHD0KPHH2911           0   \n",
       "4       1.781243          0                 0  MB1A3CHD0KPHH2911           0   \n",
       "...          ...        ...               ...                ...         ...   \n",
       "109840  0.819123          0                 0  MB1WADHD9JRFW8228           0   \n",
       "109841  0.792497          0                 0  MB1WADHD9JRFW8228           0   \n",
       "109842  1.345000          0                 0  MB1WADHD9JRFW8228           0   \n",
       "109843  1.341801          0                 0  MB1WADHD9JRFW8228           0   \n",
       "109844  0.806085          0                 0  MB1WADHD9JRFW8228           0   \n",
       "\n",
       "        ANN_AIR_FILTER_KM  \n",
       "0                       0  \n",
       "1                       0  \n",
       "2                       0  \n",
       "3                       0  \n",
       "4                       0  \n",
       "...                   ...  \n",
       "109840                  0  \n",
       "109841                  0  \n",
       "109842                  0  \n",
       "109843                  0  \n",
       "109844                  0  \n",
       "\n",
       "[109845 rows x 236 columns]"
      ]
     },
     "execution_count": 129,
     "metadata": {},
     "output_type": "execute_result"
    }
   ],
   "source": [
    "X"
   ]
  },
  {
   "cell_type": "code",
   "execution_count": 5,
   "metadata": {},
   "outputs": [],
   "source": [
    "Y = X['ANN_AIR_FILTER_N']\n",
    "import numpy as np \n",
    "Y = np.array(list(map(lambda x: 0 if (x=='0' or x==0) else 1,Y))).reshape(-1,)"
   ]
  },
  {
   "cell_type": "code",
   "execution_count": 14,
   "metadata": {},
   "outputs": [],
   "source": [
    "X_input = pd.DataFrame(X_scale_encoded_data_bottleneck_output)"
   ]
  },
  {
   "cell_type": "code",
   "execution_count": 15,
   "metadata": {},
   "outputs": [],
   "source": [
    "X_input['24'] = X['r_error']"
   ]
  },
  {
   "cell_type": "code",
   "execution_count": 16,
   "metadata": {},
   "outputs": [
    {
     "data": {
      "text/plain": [
       "(109845, 25)"
      ]
     },
     "execution_count": 16,
     "metadata": {},
     "output_type": "execute_result"
    }
   ],
   "source": [
    "X_input.shape"
   ]
  },
  {
   "cell_type": "code",
   "execution_count": 17,
   "metadata": {},
   "outputs": [
    {
     "data": {
      "text/plain": [
       "(109845,)"
      ]
     },
     "execution_count": 17,
     "metadata": {},
     "output_type": "execute_result"
    }
   ],
   "source": [
    "Y.shape"
   ]
  },
  {
   "cell_type": "code",
   "execution_count": 132,
   "metadata": {},
   "outputs": [],
   "source": [
    "'''from keras.models import Sequential, Model\n",
    "from keras.layers import Dense, Input\n",
    "Clf_rad_v21 = Sequential()\n",
    "Clf_rad_v21.add(Dense(24, activation='relu', input_shape=(25,)))\n",
    "Clf_rad_v21.add(Dense(24, activation='relu'))\n",
    "Clf_rad_v21.add(Dense(2,  activation='sigmoid'))\n",
    "Clf_rad_v21.add(Dense(1,  activation='sigmoid'))'''"
   ]
  },
  {
   "cell_type": "code",
   "execution_count": 18,
   "metadata": {},
   "outputs": [
    {
     "data": {
      "text/plain": [
       "\"Clf_rad_v21.compile(optimizer='Adam', loss='binary_crossentropy')\\nClf_rad_v21.fit(x=X_input, y=Y, batch_size=200, epochs=50, verbose=1, class_weight={1:0.9, 0:0.1})\""
      ]
     },
     "execution_count": 18,
     "metadata": {},
     "output_type": "execute_result"
    }
   ],
   "source": [
    "'''Clf_rad_v21.compile(optimizer='Adam', loss='binary_crossentropy')\n",
    "Clf_rad_v21.fit(x=X_input, y=Y, batch_size=200, epochs=50, verbose=1, class_weight={1:0.9, 0:0.1})'''"
   ]
  },
  {
   "cell_type": "code",
   "execution_count": 19,
   "metadata": {},
   "outputs": [
    {
     "name": "stdout",
     "output_type": "stream",
     "text": [
      "WARNING:tensorflow:From /home/ec2-user/anaconda3/envs/tensorflow_p36/lib/python3.6/site-packages/keras/optimizers.py:790: The name tf.train.Optimizer is deprecated. Please use tf.compat.v1.train.Optimizer instead.\n",
      "\n",
      "WARNING:tensorflow:From /home/ec2-user/anaconda3/envs/tensorflow_p36/lib/python3.6/site-packages/keras/backend/tensorflow_backend.py:3376: The name tf.log is deprecated. Please use tf.math.log instead.\n",
      "\n",
      "WARNING:tensorflow:From /home/ec2-user/anaconda3/envs/tensorflow_p36/lib/python3.6/site-packages/tensorflow_core/python/ops/nn_impl.py:183: where (from tensorflow.python.ops.array_ops) is deprecated and will be removed in a future version.\n",
      "Instructions for updating:\n",
      "Use tf.where in 2.0, which has the same broadcast rule as np.where\n",
      "WARNING:tensorflow:From /home/ec2-user/anaconda3/envs/tensorflow_p36/lib/python3.6/site-packages/keras/backend/tensorflow_backend.py:986: The name tf.assign_add is deprecated. Please use tf.compat.v1.assign_add instead.\n",
      "\n",
      "WARNING:tensorflow:From /home/ec2-user/anaconda3/envs/tensorflow_p36/lib/python3.6/site-packages/keras/backend/tensorflow_backend.py:973: The name tf.assign is deprecated. Please use tf.compat.v1.assign instead.\n",
      "\n"
     ]
    }
   ],
   "source": [
    "#Clf_rad_v21.save('Clf_af_v22_aug2020.h5')\n",
    "Clf_rad_v21 = load_model('Clf_af_v22_aug2020.h5')"
   ]
  },
  {
   "cell_type": "code",
   "execution_count": 20,
   "metadata": {},
   "outputs": [],
   "source": [
    "y_predict= Clf_rad_v21.predict(X_input)"
   ]
  },
  {
   "cell_type": "code",
   "execution_count": 21,
   "metadata": {},
   "outputs": [],
   "source": [
    "from sklearn.metrics import confusion_matrix as cm\n",
    "#cm(Y_train_binary.ravel(),y_train_predict.ravel())\n",
    "from sklearn.metrics import roc_curve as roc\n",
    "roc_data = roc(Y.ravel(),y_predict.ravel())"
   ]
  },
  {
   "cell_type": "code",
   "execution_count": null,
   "metadata": {},
   "outputs": [],
   "source": []
  },
  {
   "cell_type": "code",
   "execution_count": 22,
   "metadata": {},
   "outputs": [
    {
     "data": {
      "text/plain": [
       "<matplotlib.collections.PathCollection at 0x7f72737d4710>"
      ]
     },
     "execution_count": 22,
     "metadata": {},
     "output_type": "execute_result"
    },
    {
     "data": {
      "image/png": "[encoded data removed]",
      "text/plain": [
       "<Figure size 432x288 with 1 Axes>"
      ]
     },
     "metadata": {
      "needs_background": "light"
     },
     "output_type": "display_data"
    }
   ],
   "source": [
    "import matplotlib.pyplot as plt\n",
    "%matplotlib inline\n",
    "plt.scatter(y_predict.ravel(),range(0,109845),c=Y.ravel(),alpha=0.02, cmap='gray')"
   ]
  },
  {
   "cell_type": "code",
   "execution_count": 138,
   "metadata": {},
   "outputs": [
    {
     "data": {
      "text/plain": [
       "<matplotlib.axes._subplots.AxesSubplot at 0x7f15eb52b630>"
      ]
     },
     "execution_count": 138,
     "metadata": {},
     "output_type": "execute_result"
    },
    {
     "data": {
      "image/png": "[encoded data removed]",
      "text/plain": [
       "<Figure size 432x288 with 1 Axes>"
      ]
     },
     "metadata": {
      "needs_background": "light"
     },
     "output_type": "display_data"
    }
   ],
   "source": [
    "import seaborn as sns\n",
    "sns.scatterplot(x=range(0,109845), y=y_predict.ravel(), hue=Y, alpha=0.4)"
   ]
  },
  {
   "cell_type": "code",
   "execution_count": 139,
   "metadata": {},
   "outputs": [
    {
     "data": {
      "text/plain": [
       "[<matplotlib.lines.Line2D at 0x7f15eb4aa9e8>]"
      ]
     },
     "execution_count": 139,
     "metadata": {},
     "output_type": "execute_result"
    },
    {
     "data": {
      "image/png": "[encoded data removed]",
      "text/plain": [
       "<Figure size 432x288 with 1 Axes>"
      ]
     },
     "metadata": {
      "needs_background": "light"
     },
     "output_type": "display_data"
    }
   ],
   "source": [
    "plt.plot(roc_data[0], roc_data[1])\n",
    "plt.plot(roc_data[1], roc_data[1])\n",
    "#plt.plot(roc_data[2], roc_data[1])"
   ]
  },
  {
   "cell_type": "code",
   "execution_count": 23,
   "metadata": {},
   "outputs": [],
   "source": [
    "def thres_pred(lis,thres=0.5):\n",
    "    return list(map(lambda x: 1 if x>=thres else 0, lis))"
   ]
  },
  {
   "cell_type": "code",
   "execution_count": 24,
   "metadata": {},
   "outputs": [],
   "source": [
    "df_egr_train_pred = pd.DataFrame()\n",
    "df_egr_train_pred['pred']=y_predict.ravel()\n",
    "df_egr_train_pred['label']=Y.ravel()"
   ]
  },
  {
   "cell_type": "code",
   "execution_count": null,
   "metadata": {},
   "outputs": [
    {
     "name": "stderr",
     "output_type": "stream",
     "text": [
      "/home/ec2-user/anaconda3/envs/tensorflow_p36/lib/python3.6/site-packages/sklearn/metrics/_classification.py:1221: UndefinedMetricWarning: Precision is ill-defined and being set to 0.0 due to no predicted samples. Use `zero_division` parameter to control this behavior.\n",
      "  _warn_prf(average, modifier, msg_start, len(result))\n"
     ]
    }
   ],
   "source": [
    "from sklearn.metrics import recall_score, precision_score, accuracy_score\n",
    "pr=[]\n",
    "rec=[]\n",
    "acc=[]\n",
    "cm_ls=[]\n",
    "for thres in roc_data[2]:\n",
    "    pred_tmp = thres_pred(thres=thres,lis=df_egr_train_pred['pred'] )\n",
    "    cm_ls.append(cm(df_egr_train_pred['label'], pred_tmp))\n",
    "    pr.append(precision_score(df_egr_train_pred['label'], pred_tmp))\n",
    "    rec.append(recall_score(df_egr_train_pred['label'], pred_tmp))\n",
    "    acc.append(accuracy_score(df_egr_train_pred['label'], pred_tmp))"
   ]
  },
  {
   "cell_type": "code",
   "execution_count": null,
   "metadata": {},
   "outputs": [],
   "source": []
  },
  {
   "cell_type": "code",
   "execution_count": 33,
   "metadata": {},
   "outputs": [],
   "source": [
    "df_egr_train_pred_score = pd.DataFrame({'cm_TN':list(map( lambda x: x[0][0], cm_ls)), 'cm_TP':list(map( lambda x: x[1][1], cm_ls)), 'cm_FN':list(map( lambda x: x[1][0], cm_ls)), 'cm_FP':list(map( lambda x: x[0][1], cm_ls)), 'pr':pr, 'rec':rec, 'acc':acc, 'thres':roc_data[2]})"
   ]
  },
  {
   "cell_type": "code",
   "execution_count": 38,
   "metadata": {},
   "outputs": [],
   "source": [
    "df_egr_train_pred_score.to_csv(\"AI_03_AF_ResMatrix.csv\")"
   ]
  },
  {
   "cell_type": "code",
   "execution_count": 34,
   "metadata": {},
   "outputs": [
    {
     "data": {
      "text/html": [
       "<div>\n",
       "<style scoped>\n",
       "    .dataframe tbody tr th:only-of-type {\n",
       "        vertical-align: middle;\n",
       "    }\n",
       "\n",
       "    .dataframe tbody tr th {\n",
       "        vertical-align: top;\n",
       "    }\n",
       "\n",
       "    .dataframe thead th {\n",
       "        text-align: right;\n",
       "    }\n",
       "</style>\n",
       "<table border=\"1\" class=\"dataframe\">\n",
       "  <thead>\n",
       "    <tr style=\"text-align: right;\">\n",
       "      <th></th>\n",
       "      <th>cm_TN</th>\n",
       "      <th>cm_TP</th>\n",
       "      <th>cm_FN</th>\n",
       "      <th>cm_FP</th>\n",
       "      <th>pr</th>\n",
       "      <th>rec</th>\n",
       "      <th>acc</th>\n",
       "      <th>thres</th>\n",
       "    </tr>\n",
       "  </thead>\n",
       "  <tbody>\n",
       "    <tr>\n",
       "      <th>985</th>\n",
       "      <td>87470</td>\n",
       "      <td>427</td>\n",
       "      <td>334</td>\n",
       "      <td>21614</td>\n",
       "      <td>0.019373</td>\n",
       "      <td>0.561104</td>\n",
       "      <td>0.800191</td>\n",
       "      <td>0.064840</td>\n",
       "    </tr>\n",
       "    <tr>\n",
       "      <th>981</th>\n",
       "      <td>87601</td>\n",
       "      <td>426</td>\n",
       "      <td>335</td>\n",
       "      <td>21483</td>\n",
       "      <td>0.019444</td>\n",
       "      <td>0.559790</td>\n",
       "      <td>0.801375</td>\n",
       "      <td>0.065032</td>\n",
       "    </tr>\n",
       "    <tr>\n",
       "      <th>982</th>\n",
       "      <td>87506</td>\n",
       "      <td>426</td>\n",
       "      <td>335</td>\n",
       "      <td>21578</td>\n",
       "      <td>0.019360</td>\n",
       "      <td>0.559790</td>\n",
       "      <td>0.800510</td>\n",
       "      <td>0.064897</td>\n",
       "    </tr>\n",
       "    <tr>\n",
       "      <th>983</th>\n",
       "      <td>87504</td>\n",
       "      <td>426</td>\n",
       "      <td>335</td>\n",
       "      <td>21580</td>\n",
       "      <td>0.019358</td>\n",
       "      <td>0.559790</td>\n",
       "      <td>0.800492</td>\n",
       "      <td>0.064897</td>\n",
       "    </tr>\n",
       "    <tr>\n",
       "      <th>984</th>\n",
       "      <td>87470</td>\n",
       "      <td>426</td>\n",
       "      <td>335</td>\n",
       "      <td>21614</td>\n",
       "      <td>0.019328</td>\n",
       "      <td>0.559790</td>\n",
       "      <td>0.800182</td>\n",
       "      <td>0.064846</td>\n",
       "    </tr>\n",
       "    <tr>\n",
       "      <th>965</th>\n",
       "      <td>87942</td>\n",
       "      <td>425</td>\n",
       "      <td>336</td>\n",
       "      <td>21142</td>\n",
       "      <td>0.019706</td>\n",
       "      <td>0.558476</td>\n",
       "      <td>0.804470</td>\n",
       "      <td>0.065541</td>\n",
       "    </tr>\n",
       "    <tr>\n",
       "      <th>966</th>\n",
       "      <td>87870</td>\n",
       "      <td>425</td>\n",
       "      <td>336</td>\n",
       "      <td>21214</td>\n",
       "      <td>0.019640</td>\n",
       "      <td>0.558476</td>\n",
       "      <td>0.803814</td>\n",
       "      <td>0.065442</td>\n",
       "    </tr>\n",
       "    <tr>\n",
       "      <th>967</th>\n",
       "      <td>87868</td>\n",
       "      <td>425</td>\n",
       "      <td>336</td>\n",
       "      <td>21216</td>\n",
       "      <td>0.019639</td>\n",
       "      <td>0.558476</td>\n",
       "      <td>0.803796</td>\n",
       "      <td>0.065439</td>\n",
       "    </tr>\n",
       "    <tr>\n",
       "      <th>968</th>\n",
       "      <td>87824</td>\n",
       "      <td>425</td>\n",
       "      <td>336</td>\n",
       "      <td>21260</td>\n",
       "      <td>0.019599</td>\n",
       "      <td>0.558476</td>\n",
       "      <td>0.803396</td>\n",
       "      <td>0.065364</td>\n",
       "    </tr>\n",
       "    <tr>\n",
       "      <th>969</th>\n",
       "      <td>87822</td>\n",
       "      <td>425</td>\n",
       "      <td>336</td>\n",
       "      <td>21262</td>\n",
       "      <td>0.019597</td>\n",
       "      <td>0.558476</td>\n",
       "      <td>0.803377</td>\n",
       "      <td>0.065364</td>\n",
       "    </tr>\n",
       "    <tr>\n",
       "      <th>970</th>\n",
       "      <td>87761</td>\n",
       "      <td>425</td>\n",
       "      <td>336</td>\n",
       "      <td>21323</td>\n",
       "      <td>0.019542</td>\n",
       "      <td>0.558476</td>\n",
       "      <td>0.802822</td>\n",
       "      <td>0.065265</td>\n",
       "    </tr>\n",
       "    <tr>\n",
       "      <th>971</th>\n",
       "      <td>87759</td>\n",
       "      <td>425</td>\n",
       "      <td>336</td>\n",
       "      <td>21325</td>\n",
       "      <td>0.019540</td>\n",
       "      <td>0.558476</td>\n",
       "      <td>0.802804</td>\n",
       "      <td>0.065261</td>\n",
       "    </tr>\n",
       "    <tr>\n",
       "      <th>972</th>\n",
       "      <td>87749</td>\n",
       "      <td>425</td>\n",
       "      <td>336</td>\n",
       "      <td>21335</td>\n",
       "      <td>0.019531</td>\n",
       "      <td>0.558476</td>\n",
       "      <td>0.802713</td>\n",
       "      <td>0.065248</td>\n",
       "    </tr>\n",
       "    <tr>\n",
       "      <th>973</th>\n",
       "      <td>87747</td>\n",
       "      <td>425</td>\n",
       "      <td>336</td>\n",
       "      <td>21337</td>\n",
       "      <td>0.019529</td>\n",
       "      <td>0.558476</td>\n",
       "      <td>0.802695</td>\n",
       "      <td>0.065247</td>\n",
       "    </tr>\n",
       "    <tr>\n",
       "      <th>974</th>\n",
       "      <td>87734</td>\n",
       "      <td>425</td>\n",
       "      <td>336</td>\n",
       "      <td>21350</td>\n",
       "      <td>0.019518</td>\n",
       "      <td>0.558476</td>\n",
       "      <td>0.802576</td>\n",
       "      <td>0.065228</td>\n",
       "    </tr>\n",
       "    <tr>\n",
       "      <th>975</th>\n",
       "      <td>87732</td>\n",
       "      <td>425</td>\n",
       "      <td>336</td>\n",
       "      <td>21352</td>\n",
       "      <td>0.019516</td>\n",
       "      <td>0.558476</td>\n",
       "      <td>0.802558</td>\n",
       "      <td>0.065227</td>\n",
       "    </tr>\n",
       "    <tr>\n",
       "      <th>976</th>\n",
       "      <td>87712</td>\n",
       "      <td>425</td>\n",
       "      <td>336</td>\n",
       "      <td>21372</td>\n",
       "      <td>0.019498</td>\n",
       "      <td>0.558476</td>\n",
       "      <td>0.802376</td>\n",
       "      <td>0.065200</td>\n",
       "    </tr>\n",
       "    <tr>\n",
       "      <th>977</th>\n",
       "      <td>87710</td>\n",
       "      <td>425</td>\n",
       "      <td>336</td>\n",
       "      <td>21374</td>\n",
       "      <td>0.019496</td>\n",
       "      <td>0.558476</td>\n",
       "      <td>0.802358</td>\n",
       "      <td>0.065200</td>\n",
       "    </tr>\n",
       "    <tr>\n",
       "      <th>978</th>\n",
       "      <td>87694</td>\n",
       "      <td>425</td>\n",
       "      <td>336</td>\n",
       "      <td>21390</td>\n",
       "      <td>0.019482</td>\n",
       "      <td>0.558476</td>\n",
       "      <td>0.802212</td>\n",
       "      <td>0.065169</td>\n",
       "    </tr>\n",
       "    <tr>\n",
       "      <th>979</th>\n",
       "      <td>87692</td>\n",
       "      <td>425</td>\n",
       "      <td>336</td>\n",
       "      <td>21392</td>\n",
       "      <td>0.019480</td>\n",
       "      <td>0.558476</td>\n",
       "      <td>0.802194</td>\n",
       "      <td>0.065167</td>\n",
       "    </tr>\n",
       "    <tr>\n",
       "      <th>980</th>\n",
       "      <td>87601</td>\n",
       "      <td>425</td>\n",
       "      <td>336</td>\n",
       "      <td>21483</td>\n",
       "      <td>0.019399</td>\n",
       "      <td>0.558476</td>\n",
       "      <td>0.801366</td>\n",
       "      <td>0.065036</td>\n",
       "    </tr>\n",
       "    <tr>\n",
       "      <th>961</th>\n",
       "      <td>87948</td>\n",
       "      <td>424</td>\n",
       "      <td>337</td>\n",
       "      <td>21136</td>\n",
       "      <td>0.019666</td>\n",
       "      <td>0.557162</td>\n",
       "      <td>0.804515</td>\n",
       "      <td>0.065550</td>\n",
       "    </tr>\n",
       "  </tbody>\n",
       "</table>\n",
       "</div>"
      ],
      "text/plain": [
       "     cm_TN  cm_TP  cm_FN  cm_FP        pr       rec       acc     thres\n",
       "985  87470    427    334  21614  0.019373  0.561104  0.800191  0.064840\n",
       "981  87601    426    335  21483  0.019444  0.559790  0.801375  0.065032\n",
       "982  87506    426    335  21578  0.019360  0.559790  0.800510  0.064897\n",
       "983  87504    426    335  21580  0.019358  0.559790  0.800492  0.064897\n",
       "984  87470    426    335  21614  0.019328  0.559790  0.800182  0.064846\n",
       "965  87942    425    336  21142  0.019706  0.558476  0.804470  0.065541\n",
       "966  87870    425    336  21214  0.019640  0.558476  0.803814  0.065442\n",
       "967  87868    425    336  21216  0.019639  0.558476  0.803796  0.065439\n",
       "968  87824    425    336  21260  0.019599  0.558476  0.803396  0.065364\n",
       "969  87822    425    336  21262  0.019597  0.558476  0.803377  0.065364\n",
       "970  87761    425    336  21323  0.019542  0.558476  0.802822  0.065265\n",
       "971  87759    425    336  21325  0.019540  0.558476  0.802804  0.065261\n",
       "972  87749    425    336  21335  0.019531  0.558476  0.802713  0.065248\n",
       "973  87747    425    336  21337  0.019529  0.558476  0.802695  0.065247\n",
       "974  87734    425    336  21350  0.019518  0.558476  0.802576  0.065228\n",
       "975  87732    425    336  21352  0.019516  0.558476  0.802558  0.065227\n",
       "976  87712    425    336  21372  0.019498  0.558476  0.802376  0.065200\n",
       "977  87710    425    336  21374  0.019496  0.558476  0.802358  0.065200\n",
       "978  87694    425    336  21390  0.019482  0.558476  0.802212  0.065169\n",
       "979  87692    425    336  21392  0.019480  0.558476  0.802194  0.065167\n",
       "980  87601    425    336  21483  0.019399  0.558476  0.801366  0.065036\n",
       "961  87948    424    337  21136  0.019666  0.557162  0.804515  0.065550"
      ]
     },
     "execution_count": 34,
     "metadata": {},
     "output_type": "execute_result"
    }
   ],
   "source": [
    "# df_egr_train_pred_score[df_egr_train_pred_score['cm_FN']<400]\n",
    "# plt.hist(df_egr_train_pred_score['acc'].values)\n",
    "(df_egr_train_pred_score[df_egr_train_pred_score['acc']>0.8]).sort_values(['cm_TP','pr'], ascending=False).head(22)"
   ]
  },
  {
   "cell_type": "code",
   "execution_count": 35,
   "metadata": {},
   "outputs": [
    {
     "data": {
      "text/html": [
       "<div>\n",
       "<style scoped>\n",
       "    .dataframe tbody tr th:only-of-type {\n",
       "        vertical-align: middle;\n",
       "    }\n",
       "\n",
       "    .dataframe tbody tr th {\n",
       "        vertical-align: top;\n",
       "    }\n",
       "\n",
       "    .dataframe thead th {\n",
       "        text-align: right;\n",
       "    }\n",
       "</style>\n",
       "<table border=\"1\" class=\"dataframe\">\n",
       "  <thead>\n",
       "    <tr style=\"text-align: right;\">\n",
       "      <th></th>\n",
       "      <th>cm_TN</th>\n",
       "      <th>cm_TP</th>\n",
       "      <th>cm_FN</th>\n",
       "      <th>cm_FP</th>\n",
       "      <th>pr</th>\n",
       "      <th>rec</th>\n",
       "      <th>acc</th>\n",
       "      <th>thres</th>\n",
       "    </tr>\n",
       "  </thead>\n",
       "  <tbody>\n",
       "    <tr>\n",
       "      <th>73</th>\n",
       "      <td>108734</td>\n",
       "      <td>40</td>\n",
       "      <td>721</td>\n",
       "      <td>350</td>\n",
       "      <td>0.102564</td>\n",
       "      <td>0.052562</td>\n",
       "      <td>0.990250</td>\n",
       "      <td>0.340641</td>\n",
       "    </tr>\n",
       "    <tr>\n",
       "      <th>71</th>\n",
       "      <td>108742</td>\n",
       "      <td>39</td>\n",
       "      <td>722</td>\n",
       "      <td>342</td>\n",
       "      <td>0.102362</td>\n",
       "      <td>0.051248</td>\n",
       "      <td>0.990314</td>\n",
       "      <td>0.341612</td>\n",
       "    </tr>\n",
       "    <tr>\n",
       "      <th>72</th>\n",
       "      <td>108734</td>\n",
       "      <td>39</td>\n",
       "      <td>722</td>\n",
       "      <td>350</td>\n",
       "      <td>0.100257</td>\n",
       "      <td>0.051248</td>\n",
       "      <td>0.990241</td>\n",
       "      <td>0.340656</td>\n",
       "    </tr>\n",
       "    <tr>\n",
       "      <th>69</th>\n",
       "      <td>108750</td>\n",
       "      <td>38</td>\n",
       "      <td>723</td>\n",
       "      <td>334</td>\n",
       "      <td>0.102151</td>\n",
       "      <td>0.049934</td>\n",
       "      <td>0.990377</td>\n",
       "      <td>0.342305</td>\n",
       "    </tr>\n",
       "    <tr>\n",
       "      <th>67</th>\n",
       "      <td>108761</td>\n",
       "      <td>37</td>\n",
       "      <td>724</td>\n",
       "      <td>323</td>\n",
       "      <td>0.102778</td>\n",
       "      <td>0.048620</td>\n",
       "      <td>0.990468</td>\n",
       "      <td>0.343225</td>\n",
       "    </tr>\n",
       "    <tr>\n",
       "      <th>65</th>\n",
       "      <td>108767</td>\n",
       "      <td>36</td>\n",
       "      <td>725</td>\n",
       "      <td>317</td>\n",
       "      <td>0.101983</td>\n",
       "      <td>0.047306</td>\n",
       "      <td>0.990514</td>\n",
       "      <td>0.343636</td>\n",
       "    </tr>\n",
       "    <tr>\n",
       "      <th>66</th>\n",
       "      <td>108761</td>\n",
       "      <td>36</td>\n",
       "      <td>725</td>\n",
       "      <td>323</td>\n",
       "      <td>0.100279</td>\n",
       "      <td>0.047306</td>\n",
       "      <td>0.990459</td>\n",
       "      <td>0.343252</td>\n",
       "    </tr>\n",
       "    <tr>\n",
       "      <th>63</th>\n",
       "      <td>108770</td>\n",
       "      <td>35</td>\n",
       "      <td>726</td>\n",
       "      <td>314</td>\n",
       "      <td>0.100287</td>\n",
       "      <td>0.045992</td>\n",
       "      <td>0.990532</td>\n",
       "      <td>0.343989</td>\n",
       "    </tr>\n",
       "    <tr>\n",
       "      <th>61</th>\n",
       "      <td>108780</td>\n",
       "      <td>34</td>\n",
       "      <td>727</td>\n",
       "      <td>304</td>\n",
       "      <td>0.100592</td>\n",
       "      <td>0.044678</td>\n",
       "      <td>0.990614</td>\n",
       "      <td>0.345393</td>\n",
       "    </tr>\n",
       "    <tr>\n",
       "      <th>55</th>\n",
       "      <td>108806</td>\n",
       "      <td>31</td>\n",
       "      <td>730</td>\n",
       "      <td>278</td>\n",
       "      <td>0.100324</td>\n",
       "      <td>0.040736</td>\n",
       "      <td>0.990823</td>\n",
       "      <td>0.347730</td>\n",
       "    </tr>\n",
       "  </tbody>\n",
       "</table>\n",
       "</div>"
      ],
      "text/plain": [
       "     cm_TN  cm_TP  cm_FN  cm_FP        pr       rec       acc     thres\n",
       "73  108734     40    721    350  0.102564  0.052562  0.990250  0.340641\n",
       "71  108742     39    722    342  0.102362  0.051248  0.990314  0.341612\n",
       "72  108734     39    722    350  0.100257  0.051248  0.990241  0.340656\n",
       "69  108750     38    723    334  0.102151  0.049934  0.990377  0.342305\n",
       "67  108761     37    724    323  0.102778  0.048620  0.990468  0.343225\n",
       "65  108767     36    725    317  0.101983  0.047306  0.990514  0.343636\n",
       "66  108761     36    725    323  0.100279  0.047306  0.990459  0.343252\n",
       "63  108770     35    726    314  0.100287  0.045992  0.990532  0.343989\n",
       "61  108780     34    727    304  0.100592  0.044678  0.990614  0.345393\n",
       "55  108806     31    730    278  0.100324  0.040736  0.990823  0.347730"
      ]
     },
     "execution_count": 35,
     "metadata": {},
     "output_type": "execute_result"
    }
   ],
   "source": [
    "(df_egr_train_pred_score[df_egr_train_pred_score['pr']>0.1]).sort_values(['cm_TP','acc'], ascending=False).head(10)"
   ]
  },
  {
   "cell_type": "code",
   "execution_count": 36,
   "metadata": {},
   "outputs": [
    {
     "data": {
      "text/html": [
       "<div>\n",
       "<style scoped>\n",
       "    .dataframe tbody tr th:only-of-type {\n",
       "        vertical-align: middle;\n",
       "    }\n",
       "\n",
       "    .dataframe tbody tr th {\n",
       "        vertical-align: top;\n",
       "    }\n",
       "\n",
       "    .dataframe thead th {\n",
       "        text-align: right;\n",
       "    }\n",
       "</style>\n",
       "<table border=\"1\" class=\"dataframe\">\n",
       "  <thead>\n",
       "    <tr style=\"text-align: right;\">\n",
       "      <th></th>\n",
       "      <th>cm_TN</th>\n",
       "      <th>cm_TP</th>\n",
       "      <th>cm_FN</th>\n",
       "      <th>cm_FP</th>\n",
       "      <th>pr</th>\n",
       "      <th>rec</th>\n",
       "      <th>acc</th>\n",
       "      <th>thres</th>\n",
       "    </tr>\n",
       "  </thead>\n",
       "  <tbody>\n",
       "    <tr>\n",
       "      <th>2281</th>\n",
       "      <td>66630</td>\n",
       "      <td>533</td>\n",
       "      <td>228</td>\n",
       "      <td>42454</td>\n",
       "      <td>0.012399</td>\n",
       "      <td>0.700394</td>\n",
       "      <td>0.611434</td>\n",
       "      <td>0.046818</td>\n",
       "    </tr>\n",
       "    <tr>\n",
       "      <th>2283</th>\n",
       "      <td>66629</td>\n",
       "      <td>534</td>\n",
       "      <td>227</td>\n",
       "      <td>42455</td>\n",
       "      <td>0.012422</td>\n",
       "      <td>0.701708</td>\n",
       "      <td>0.611434</td>\n",
       "      <td>0.046817</td>\n",
       "    </tr>\n",
       "    <tr>\n",
       "      <th>2282</th>\n",
       "      <td>66629</td>\n",
       "      <td>533</td>\n",
       "      <td>228</td>\n",
       "      <td>42455</td>\n",
       "      <td>0.012399</td>\n",
       "      <td>0.700394</td>\n",
       "      <td>0.611425</td>\n",
       "      <td>0.046817</td>\n",
       "    </tr>\n",
       "    <tr>\n",
       "      <th>2284</th>\n",
       "      <td>66623</td>\n",
       "      <td>534</td>\n",
       "      <td>227</td>\n",
       "      <td>42461</td>\n",
       "      <td>0.012420</td>\n",
       "      <td>0.701708</td>\n",
       "      <td>0.611380</td>\n",
       "      <td>0.046813</td>\n",
       "    </tr>\n",
       "    <tr>\n",
       "      <th>2285</th>\n",
       "      <td>66621</td>\n",
       "      <td>534</td>\n",
       "      <td>227</td>\n",
       "      <td>42463</td>\n",
       "      <td>0.012419</td>\n",
       "      <td>0.701708</td>\n",
       "      <td>0.611361</td>\n",
       "      <td>0.046813</td>\n",
       "    </tr>\n",
       "  </tbody>\n",
       "</table>\n",
       "</div>"
      ],
      "text/plain": [
       "      cm_TN  cm_TP  cm_FN  cm_FP        pr       rec       acc     thres\n",
       "2281  66630    533    228  42454  0.012399  0.700394  0.611434  0.046818\n",
       "2283  66629    534    227  42455  0.012422  0.701708  0.611434  0.046817\n",
       "2282  66629    533    228  42455  0.012399  0.700394  0.611425  0.046817\n",
       "2284  66623    534    227  42461  0.012420  0.701708  0.611380  0.046813\n",
       "2285  66621    534    227  42463  0.012419  0.701708  0.611361  0.046813"
      ]
     },
     "execution_count": 36,
     "metadata": {},
     "output_type": "execute_result"
    }
   ],
   "source": [
    "(df_egr_train_pred_score[df_egr_train_pred_score['rec']>0.7]).sort_values(['acc'], ascending=False).head()"
   ]
  },
  {
   "cell_type": "code",
   "execution_count": 39,
   "metadata": {},
   "outputs": [
    {
     "data": {
      "text/plain": [
       "Text(0, 0.5, 'Precision')"
      ]
     },
     "execution_count": 39,
     "metadata": {},
     "output_type": "execute_result"
    },
    {
     "data": {
      "image/png": "[encoded data removed]",
      "text/plain": [
       "<Figure size 432x288 with 1 Axes>"
      ]
     },
     "metadata": {
      "needs_background": "light"
     },
     "output_type": "display_data"
    }
   ],
   "source": [
    "plt.plot(df_egr_train_pred_score['rec'], df_egr_train_pred_score['pr'])\n",
    "plt.xlabel('Recall')\n",
    "plt.ylabel('Precision')"
   ]
  },
  {
   "cell_type": "code",
   "execution_count": 41,
   "metadata": {},
   "outputs": [
    {
     "data": {
      "text/plain": [
       "109845"
      ]
     },
     "execution_count": 41,
     "metadata": {},
     "output_type": "execute_result"
    }
   ],
   "source": [
    "bucket=\"relai.poc.data\" # aws bucket for sourcing data\n",
    "folder_base = '/unified_Fx_D3_power_annotated/'  # prev modules: data cleaning/sticthing, feature engineering/extraction, annotations \n",
    "extn='.csv' # presently dealing only with csv files\n",
    "\n",
    "from d2 import get_vin_list #d2 is RelAI specific lib \n",
    "_f=get_vin_list(bucket=bucket, folder_base=folder_base, file_extn=extn) # fetches filename list from s3 location\n",
    "\n",
    "_ls=list()\n",
    "\n",
    "import pandas as pd\n",
    "for vin in _f:\n",
    "    path='s3://{}/{}{}{}'.format(bucket, folder_base, vin, extn)\n",
    "    _ls.append(pd.read_csv(path))\n",
    "\n",
    "_df28 = pd.concat(_ls)\n",
    "len(_df28['statedwell_km'])\n",
    "\n",
    "X_extended = X.copy()\n",
    "X_extended['y_pred_AF'] = y_predict.ravel()\n",
    "X_extended['statedwell_km'] = _df28['statedwell_km'].values\n",
    "\n",
    "len(X_extended)\n",
    "X_extended.to_csv(\"AI_03_AF_X_extended.csv\")"
   ]
  },
  {
   "cell_type": "code",
   "execution_count": 6,
   "metadata": {},
   "outputs": [
    {
     "data": {
      "text/html": [
       "<div>\n",
       "<style scoped>\n",
       "    .dataframe tbody tr th:only-of-type {\n",
       "        vertical-align: middle;\n",
       "    }\n",
       "\n",
       "    .dataframe tbody tr th {\n",
       "        vertical-align: top;\n",
       "    }\n",
       "\n",
       "    .dataframe thead th {\n",
       "        text-align: right;\n",
       "    }\n",
       "</style>\n",
       "<table border=\"1\" class=\"dataframe\">\n",
       "  <thead>\n",
       "    <tr style=\"text-align: right;\">\n",
       "      <th></th>\n",
       "      <th>Unnamed: 0</th>\n",
       "      <th>Power_mean</th>\n",
       "      <th>Power_median</th>\n",
       "      <th>Power_variance</th>\n",
       "      <th>Power_max</th>\n",
       "      <th>Power_min</th>\n",
       "      <th>Power_max-min</th>\n",
       "      <th>Power_kurtosis</th>\n",
       "      <th>Power_skewness</th>\n",
       "      <th>engine_speed_mean</th>\n",
       "      <th>...</th>\n",
       "      <th>5159</th>\n",
       "      <th>74065</th>\n",
       "      <th>r_error</th>\n",
       "      <th>ANN_EGR_N</th>\n",
       "      <th>ANN_AIR_FILTER_N</th>\n",
       "      <th>vin</th>\n",
       "      <th>ANN_EGR_KM</th>\n",
       "      <th>ANN_AIR_FILTER_KM</th>\n",
       "      <th>y_pred_AF</th>\n",
       "      <th>statedwell_km</th>\n",
       "    </tr>\n",
       "  </thead>\n",
       "  <tbody>\n",
       "    <tr>\n",
       "      <th>0</th>\n",
       "      <td>0</td>\n",
       "      <td>0.259912</td>\n",
       "      <td>0.144962</td>\n",
       "      <td>0.352379</td>\n",
       "      <td>0.460322</td>\n",
       "      <td>0.907371</td>\n",
       "      <td>0.111187</td>\n",
       "      <td>0.021218</td>\n",
       "      <td>0.732725</td>\n",
       "      <td>0.555864</td>\n",
       "      <td>...</td>\n",
       "      <td>0.017304</td>\n",
       "      <td>-0.058437</td>\n",
       "      <td>1.839550</td>\n",
       "      <td>0</td>\n",
       "      <td>0</td>\n",
       "      <td>MB1A3CHD0KPHH2911</td>\n",
       "      <td>0</td>\n",
       "      <td>0</td>\n",
       "      <td>0.035655</td>\n",
       "      <td>23061.4</td>\n",
       "    </tr>\n",
       "    <tr>\n",
       "      <th>1</th>\n",
       "      <td>1</td>\n",
       "      <td>0.348366</td>\n",
       "      <td>0.226150</td>\n",
       "      <td>0.333504</td>\n",
       "      <td>0.424219</td>\n",
       "      <td>0.944676</td>\n",
       "      <td>0.153521</td>\n",
       "      <td>0.042616</td>\n",
       "      <td>0.735572</td>\n",
       "      <td>0.499062</td>\n",
       "      <td>...</td>\n",
       "      <td>0.064563</td>\n",
       "      <td>-0.014140</td>\n",
       "      <td>2.314701</td>\n",
       "      <td>0</td>\n",
       "      <td>0</td>\n",
       "      <td>MB1A3CHD0KPHH2911</td>\n",
       "      <td>0</td>\n",
       "      <td>0</td>\n",
       "      <td>0.028922</td>\n",
       "      <td>23161.4</td>\n",
       "    </tr>\n",
       "    <tr>\n",
       "      <th>2</th>\n",
       "      <td>2</td>\n",
       "      <td>0.347972</td>\n",
       "      <td>0.227108</td>\n",
       "      <td>0.320133</td>\n",
       "      <td>0.418274</td>\n",
       "      <td>0.946901</td>\n",
       "      <td>0.155367</td>\n",
       "      <td>0.041158</td>\n",
       "      <td>0.732302</td>\n",
       "      <td>0.499988</td>\n",
       "      <td>...</td>\n",
       "      <td>0.065178</td>\n",
       "      <td>-0.016270</td>\n",
       "      <td>2.308819</td>\n",
       "      <td>0</td>\n",
       "      <td>0</td>\n",
       "      <td>MB1A3CHD0KPHH2911</td>\n",
       "      <td>0</td>\n",
       "      <td>0</td>\n",
       "      <td>0.029597</td>\n",
       "      <td>23261.4</td>\n",
       "    </tr>\n",
       "    <tr>\n",
       "      <th>3</th>\n",
       "      <td>3</td>\n",
       "      <td>0.360102</td>\n",
       "      <td>0.238688</td>\n",
       "      <td>0.332370</td>\n",
       "      <td>0.433043</td>\n",
       "      <td>0.954894</td>\n",
       "      <td>0.151264</td>\n",
       "      <td>0.047587</td>\n",
       "      <td>0.735610</td>\n",
       "      <td>0.511808</td>\n",
       "      <td>...</td>\n",
       "      <td>0.059936</td>\n",
       "      <td>-0.021624</td>\n",
       "      <td>2.331466</td>\n",
       "      <td>0</td>\n",
       "      <td>0</td>\n",
       "      <td>MB1A3CHD0KPHH2911</td>\n",
       "      <td>0</td>\n",
       "      <td>0</td>\n",
       "      <td>0.028307</td>\n",
       "      <td>23361.4</td>\n",
       "    </tr>\n",
       "    <tr>\n",
       "      <th>4</th>\n",
       "      <td>4</td>\n",
       "      <td>0.314433</td>\n",
       "      <td>0.222240</td>\n",
       "      <td>0.374136</td>\n",
       "      <td>0.498584</td>\n",
       "      <td>0.928193</td>\n",
       "      <td>0.125254</td>\n",
       "      <td>0.046222</td>\n",
       "      <td>0.726539</td>\n",
       "      <td>0.605816</td>\n",
       "      <td>...</td>\n",
       "      <td>-0.013676</td>\n",
       "      <td>-0.087040</td>\n",
       "      <td>1.781243</td>\n",
       "      <td>0</td>\n",
       "      <td>0</td>\n",
       "      <td>MB1A3CHD0KPHH2911</td>\n",
       "      <td>0</td>\n",
       "      <td>0</td>\n",
       "      <td>0.035461</td>\n",
       "      <td>23461.4</td>\n",
       "    </tr>\n",
       "    <tr>\n",
       "      <th>...</th>\n",
       "      <td>...</td>\n",
       "      <td>...</td>\n",
       "      <td>...</td>\n",
       "      <td>...</td>\n",
       "      <td>...</td>\n",
       "      <td>...</td>\n",
       "      <td>...</td>\n",
       "      <td>...</td>\n",
       "      <td>...</td>\n",
       "      <td>...</td>\n",
       "      <td>...</td>\n",
       "      <td>...</td>\n",
       "      <td>...</td>\n",
       "      <td>...</td>\n",
       "      <td>...</td>\n",
       "      <td>...</td>\n",
       "      <td>...</td>\n",
       "      <td>...</td>\n",
       "      <td>...</td>\n",
       "      <td>...</td>\n",
       "      <td>...</td>\n",
       "    </tr>\n",
       "    <tr>\n",
       "      <th>109840</th>\n",
       "      <td>109840</td>\n",
       "      <td>0.380121</td>\n",
       "      <td>0.219573</td>\n",
       "      <td>0.294618</td>\n",
       "      <td>0.491505</td>\n",
       "      <td>0.972128</td>\n",
       "      <td>0.112378</td>\n",
       "      <td>0.003840</td>\n",
       "      <td>0.719142</td>\n",
       "      <td>0.522335</td>\n",
       "      <td>...</td>\n",
       "      <td>-0.010944</td>\n",
       "      <td>0.005436</td>\n",
       "      <td>0.819123</td>\n",
       "      <td>0</td>\n",
       "      <td>0</td>\n",
       "      <td>MB1WADHD9JRFW8228</td>\n",
       "      <td>0</td>\n",
       "      <td>0</td>\n",
       "      <td>0.058118</td>\n",
       "      <td>109661.2</td>\n",
       "    </tr>\n",
       "    <tr>\n",
       "      <th>109841</th>\n",
       "      <td>109841</td>\n",
       "      <td>0.373381</td>\n",
       "      <td>0.216154</td>\n",
       "      <td>0.256003</td>\n",
       "      <td>0.461225</td>\n",
       "      <td>0.968662</td>\n",
       "      <td>0.127550</td>\n",
       "      <td>-0.002462</td>\n",
       "      <td>0.723175</td>\n",
       "      <td>0.505735</td>\n",
       "      <td>...</td>\n",
       "      <td>-0.010438</td>\n",
       "      <td>0.008135</td>\n",
       "      <td>0.792497</td>\n",
       "      <td>0</td>\n",
       "      <td>0</td>\n",
       "      <td>MB1WADHD9JRFW8228</td>\n",
       "      <td>0</td>\n",
       "      <td>0</td>\n",
       "      <td>0.056903</td>\n",
       "      <td>109761.2</td>\n",
       "    </tr>\n",
       "    <tr>\n",
       "      <th>109842</th>\n",
       "      <td>109842</td>\n",
       "      <td>0.345918</td>\n",
       "      <td>0.235121</td>\n",
       "      <td>0.264633</td>\n",
       "      <td>0.465152</td>\n",
       "      <td>0.945491</td>\n",
       "      <td>0.078563</td>\n",
       "      <td>-0.017671</td>\n",
       "      <td>0.744971</td>\n",
       "      <td>0.467249</td>\n",
       "      <td>...</td>\n",
       "      <td>0.001882</td>\n",
       "      <td>0.037919</td>\n",
       "      <td>1.345000</td>\n",
       "      <td>0</td>\n",
       "      <td>0</td>\n",
       "      <td>MB1WADHD9JRFW8228</td>\n",
       "      <td>0</td>\n",
       "      <td>0</td>\n",
       "      <td>0.044929</td>\n",
       "      <td>109861.2</td>\n",
       "    </tr>\n",
       "    <tr>\n",
       "      <th>109843</th>\n",
       "      <td>109843</td>\n",
       "      <td>0.350667</td>\n",
       "      <td>0.239523</td>\n",
       "      <td>0.265850</td>\n",
       "      <td>0.467055</td>\n",
       "      <td>0.947270</td>\n",
       "      <td>0.078886</td>\n",
       "      <td>-0.017092</td>\n",
       "      <td>0.744599</td>\n",
       "      <td>0.469219</td>\n",
       "      <td>...</td>\n",
       "      <td>0.002058</td>\n",
       "      <td>0.035215</td>\n",
       "      <td>1.341801</td>\n",
       "      <td>0</td>\n",
       "      <td>0</td>\n",
       "      <td>MB1WADHD9JRFW8228</td>\n",
       "      <td>0</td>\n",
       "      <td>0</td>\n",
       "      <td>0.045425</td>\n",
       "      <td>109961.2</td>\n",
       "    </tr>\n",
       "    <tr>\n",
       "      <th>109844</th>\n",
       "      <td>109844</td>\n",
       "      <td>0.378040</td>\n",
       "      <td>0.205250</td>\n",
       "      <td>0.290417</td>\n",
       "      <td>0.483650</td>\n",
       "      <td>0.980731</td>\n",
       "      <td>0.114693</td>\n",
       "      <td>0.003730</td>\n",
       "      <td>0.724997</td>\n",
       "      <td>0.521387</td>\n",
       "      <td>...</td>\n",
       "      <td>-0.006678</td>\n",
       "      <td>0.006698</td>\n",
       "      <td>0.806085</td>\n",
       "      <td>0</td>\n",
       "      <td>0</td>\n",
       "      <td>MB1WADHD9JRFW8228</td>\n",
       "      <td>0</td>\n",
       "      <td>0</td>\n",
       "      <td>0.058422</td>\n",
       "      <td>110061.2</td>\n",
       "    </tr>\n",
       "  </tbody>\n",
       "</table>\n",
       "<p>109845 rows × 239 columns</p>\n",
       "</div>"
      ],
      "text/plain": [
       "        Unnamed: 0  Power_mean  Power_median  Power_variance  Power_max  \\\n",
       "0                0    0.259912      0.144962        0.352379   0.460322   \n",
       "1                1    0.348366      0.226150        0.333504   0.424219   \n",
       "2                2    0.347972      0.227108        0.320133   0.418274   \n",
       "3                3    0.360102      0.238688        0.332370   0.433043   \n",
       "4                4    0.314433      0.222240        0.374136   0.498584   \n",
       "...            ...         ...           ...             ...        ...   \n",
       "109840      109840    0.380121      0.219573        0.294618   0.491505   \n",
       "109841      109841    0.373381      0.216154        0.256003   0.461225   \n",
       "109842      109842    0.345918      0.235121        0.264633   0.465152   \n",
       "109843      109843    0.350667      0.239523        0.265850   0.467055   \n",
       "109844      109844    0.378040      0.205250        0.290417   0.483650   \n",
       "\n",
       "        Power_min  Power_max-min  Power_kurtosis  Power_skewness  \\\n",
       "0        0.907371       0.111187        0.021218        0.732725   \n",
       "1        0.944676       0.153521        0.042616        0.735572   \n",
       "2        0.946901       0.155367        0.041158        0.732302   \n",
       "3        0.954894       0.151264        0.047587        0.735610   \n",
       "4        0.928193       0.125254        0.046222        0.726539   \n",
       "...           ...            ...             ...             ...   \n",
       "109840   0.972128       0.112378        0.003840        0.719142   \n",
       "109841   0.968662       0.127550       -0.002462        0.723175   \n",
       "109842   0.945491       0.078563       -0.017671        0.744971   \n",
       "109843   0.947270       0.078886       -0.017092        0.744599   \n",
       "109844   0.980731       0.114693        0.003730        0.724997   \n",
       "\n",
       "        engine_speed_mean  ...      5159     74065   r_error  ANN_EGR_N  \\\n",
       "0                0.555864  ...  0.017304 -0.058437  1.839550          0   \n",
       "1                0.499062  ...  0.064563 -0.014140  2.314701          0   \n",
       "2                0.499988  ...  0.065178 -0.016270  2.308819          0   \n",
       "3                0.511808  ...  0.059936 -0.021624  2.331466          0   \n",
       "4                0.605816  ... -0.013676 -0.087040  1.781243          0   \n",
       "...                   ...  ...       ...       ...       ...        ...   \n",
       "109840           0.522335  ... -0.010944  0.005436  0.819123          0   \n",
       "109841           0.505735  ... -0.010438  0.008135  0.792497          0   \n",
       "109842           0.467249  ...  0.001882  0.037919  1.345000          0   \n",
       "109843           0.469219  ...  0.002058  0.035215  1.341801          0   \n",
       "109844           0.521387  ... -0.006678  0.006698  0.806085          0   \n",
       "\n",
       "        ANN_AIR_FILTER_N                vin  ANN_EGR_KM  ANN_AIR_FILTER_KM  \\\n",
       "0                      0  MB1A3CHD0KPHH2911           0                  0   \n",
       "1                      0  MB1A3CHD0KPHH2911           0                  0   \n",
       "2                      0  MB1A3CHD0KPHH2911           0                  0   \n",
       "3                      0  MB1A3CHD0KPHH2911           0                  0   \n",
       "4                      0  MB1A3CHD0KPHH2911           0                  0   \n",
       "...                  ...                ...         ...                ...   \n",
       "109840                 0  MB1WADHD9JRFW8228           0                  0   \n",
       "109841                 0  MB1WADHD9JRFW8228           0                  0   \n",
       "109842                 0  MB1WADHD9JRFW8228           0                  0   \n",
       "109843                 0  MB1WADHD9JRFW8228           0                  0   \n",
       "109844                 0  MB1WADHD9JRFW8228           0                  0   \n",
       "\n",
       "        y_pred_AF  statedwell_km  \n",
       "0        0.035655        23061.4  \n",
       "1        0.028922        23161.4  \n",
       "2        0.029597        23261.4  \n",
       "3        0.028307        23361.4  \n",
       "4        0.035461        23461.4  \n",
       "...           ...            ...  \n",
       "109840   0.058118       109661.2  \n",
       "109841   0.056903       109761.2  \n",
       "109842   0.044929       109861.2  \n",
       "109843   0.045425       109961.2  \n",
       "109844   0.058422       110061.2  \n",
       "\n",
       "[109845 rows x 239 columns]"
      ]
     },
     "execution_count": 6,
     "metadata": {},
     "output_type": "execute_result"
    }
   ],
   "source": [
    "X_extended =pd.read_csv(\"AI_03_AF_X_extended.csv\")\n",
    "X_extended"
   ]
  },
  {
   "cell_type": "code",
   "execution_count": 9,
   "metadata": {},
   "outputs": [],
   "source": [
    "## TO DO 1 : for AF\n",
    "\n",
    "import pandas as pd\n",
    "X_extended =pd.read_csv(\"AI_03_AF_X_extended.csv\")\n",
    "ls_TN=list()\n",
    "ls_TP=list()\n",
    "ls_FP=list()\n",
    "ls_FN=list()\n",
    "\n",
    "TN_Note_vin=list()\n",
    "TN_Note_km=list()\n",
    "\n",
    "FN_Note_vin=list()\n",
    "FN_Note_km=list()\n",
    "\n",
    "TP_Note_vin=list()\n",
    "TP_Note_km=list()\n",
    "\n",
    "FP_Note_vin=list()\n",
    "FP_Note_km=list()\n",
    "\n",
    "for O in [17]:# range(0,100):\n",
    "    OT=O/100.0\n",
    "    \n",
    "    # veh count\n",
    "    points=0\n",
    "    flen=0\n",
    "    fc=0\n",
    "    TN=0\n",
    "    TP=0\n",
    "    FP=0\n",
    "    FN=0\n",
    "    \n",
    "    df21=X_extended.groupby('vin')\n",
    "\n",
    "    for i in df21: # X_train_list\n",
    "        df1=i[1]   \n",
    "        if(len(df1)>0): \n",
    "            df2=pd.DataFrame()\n",
    "            df2['y_pred']=df1['y_pred_AF']\n",
    "            df3=df1[df1['ANN_AIR_FILTER_N']!=0][['ANN_AIR_FILTER_KM']] \n",
    "            df3['Measurement in KM'] = df3['ANN_AIR_FILTER_KM']\n",
    "\n",
    "            if(len(df3)==0):\n",
    "                if(df1.loc[(df2[df2['y_pred']>OT]['y_pred']).index]['statedwell_km'].shape[0]==0): \n",
    "                    TN+=1\n",
    "                    TN_Note_vin.append(i[0])\n",
    "                    TN_Note_km.append(df1.loc[(df2[df2['y_pred']>OT]['y_pred']).index]['statedwell_km'].min() )\n",
    "                else:\n",
    "                    FP+=1\n",
    "                    FP_Note_vin.append(i[0])\n",
    "                    FP_Note_km.append(df1.loc[(df2[df2['y_pred']>OT]['y_pred']).index]['statedwell_km'].min() )\n",
    "            else: \n",
    "                if((df1.loc[(df2[df2['y_pred']>OT]['y_pred']).index]['statedwell_km'].min() <= df3['Measurement in KM'].min() ) & (df1.loc[(df2[df2['y_pred']>OT]['y_pred']).index]['statedwell_km'].max()+25000 >= df3['Measurement in KM'].min() )): \n",
    "                    TP+=1\n",
    "                    TP_Note_vin.append(i[0])\n",
    "                    TP_Note_km.append(df1.loc[(df2[df2['y_pred']>OT]['y_pred']).index]['statedwell_km'].min() )\n",
    "                elif((df1.loc[(df2[df2['y_pred']>OT]['y_pred']).index]['statedwell_km'].min() <= df3['Measurement in KM'].max() ) & (df1.loc[(df2[df2['y_pred']>OT]['y_pred']).index]['statedwell_km'].max()+25000 >= df3['Measurement in KM'].max() )): \n",
    "                    TP+=1\n",
    "                    TP_Note_vin.append(i[0])\n",
    "                    TP_Note_km.append(df1.loc[(df2[df2['y_pred']>OT]['y_pred']).index]['statedwell_km'].min()) \n",
    "                elif(df1.loc[(df2[df2['y_pred']>OT]['y_pred']).index]['statedwell_km'].shape[0]==0): \n",
    "                    FN+=1\n",
    "                    FN_Note_vin.append(i[0])\n",
    "                    FN_Note_km.append(df1.loc[(df2[df2['y_pred']>OT]['y_pred']).index]['statedwell_km'].min() )                    \n",
    "                else: \n",
    "                    FN+=1\n",
    "                    FN_Note_vin.append(i[0])\n",
    "                    FN_Note_km.append(df1.loc[(df2[df2['y_pred']>OT]['y_pred']).index]['statedwell_km'].min() )\n",
    "\n",
    "            #print(vin)\n",
    "            #flen=flen+(len(df3['Measurement in KM'].unique()))\n",
    "    fc=fc+1\n",
    "    ls_TN.append(TN)\n",
    "    ls_TP.append(TP)\n",
    "    ls_FP.append(FP)\n",
    "    ls_FN.append(FN)\n",
    "\n",
    "df_EGR_vinkm_TN = pd.DataFrame({'vin':TN_Note_vin, '1st_prediction_instance_km':TN_Note_km})\n",
    "df_EGR_vinkm_TN['Predicted as Failed'] = \"N\"\n",
    "df_EGR_vinkm_TN['Actual Failed'] = \"N\"\n",
    "\n",
    "df_EGR_vinkm_TP = pd.DataFrame({'vin':TP_Note_vin, '1st_prediction_instance_km':TP_Note_km})\n",
    "df_EGR_vinkm_TP['Predicted as Failed'] = \"Y\"\n",
    "df_EGR_vinkm_TP['Actual Failed'] = \"Y\"\n",
    "\n",
    "df_EGR_vinkm_FN = pd.DataFrame({'vin':FN_Note_vin, '1st_prediction_instance_km':FN_Note_km})\n",
    "df_EGR_vinkm_FN['Predicted as Failed'] = \"N\"\n",
    "df_EGR_vinkm_FN['Actual Failed'] = \"Y\"\n",
    "\n",
    "df_EGR_vinkm_FP = pd.DataFrame({'vin':FP_Note_vin, '1st_prediction_instance_km':FP_Note_km})\n",
    "df_EGR_vinkm_FP['Predicted as Failed'] = \"Y\"\n",
    "df_EGR_vinkm_FP['Actual Failed'] = \"N\"\n",
    "\n",
    "df_EGR_vinkm_formatted_compiled = pd.concat([df_EGR_vinkm_TP, df_EGR_vinkm_FP, df_EGR_vinkm_TN,df_EGR_vinkm_FN])\n",
    "df_EGR_vinkm_formatted_compiled.to_csv('AI_03_AIR_FILTER_Failure_Prediction_formatted_compiled.csv')        "
   ]
  },
  {
   "cell_type": "code",
   "execution_count": 10,
   "metadata": {},
   "outputs": [],
   "source": [
    "## TO DO 1 : for AF\n",
    "\n",
    "ls_CM = pd.DataFrame()\n",
    "ls_CM['TN'] = ls_TN\n",
    "ls_CM['TP'] = ls_TP\n",
    "ls_CM['FP'] = ls_FP\n",
    "ls_CM['FN'] = ls_FN\n",
    "ls_CM.to_csv(\"AI_03_AIR_FILTER_ResMatrix_VINLEVEL.csv\")"
   ]
  },
  {
   "cell_type": "code",
   "execution_count": 45,
   "metadata": {},
   "outputs": [
    {
     "data": {
      "text/plain": [
       "(109845, 238)"
      ]
     },
     "execution_count": 45,
     "metadata": {},
     "output_type": "execute_result"
    },
    {
     "data": {
      "text/plain": [
       "(109845, 238)"
      ]
     },
     "execution_count": 45,
     "metadata": {},
     "output_type": "execute_result"
    }
   ],
   "source": [
    "X_extended.shape"
   ]
  },
  {
   "cell_type": "code",
   "execution_count": 44,
   "metadata": {},
   "outputs": [
    {
     "data": {
      "text/plain": [
       "9"
      ]
     },
     "execution_count": 44,
     "metadata": {},
     "output_type": "execute_result"
    },
    {
     "data": {
      "text/plain": [
       "9"
      ]
     },
     "execution_count": 44,
     "metadata": {},
     "output_type": "execute_result"
    }
   ],
   "source": [
    "9"
   ]
  },
  {
   "cell_type": "code",
   "execution_count": null,
   "metadata": {},
   "outputs": [],
   "source": [
    "# veh count\n",
    "points=0\n",
    "flen=0\n",
    "fc=0\n",
    "TN=0\n",
    "TP=0\n",
    "FP=0\n",
    "FN=0\n",
    "OT= 0.111 #0.203328\n",
    "\n",
    "df21=X_input.groupby('vin')\n",
    "\n",
    "for i in df21: # X_train_list\n",
    "    df1=i[1]   \n",
    "    __x=df1[col_list].copy()\n",
    "    __x.fillna(method='ffill', inplace=True)\n",
    "    __x.fillna(method='bfill', inplace=True)\n",
    "    __x.fillna(value=0, inplace=True)\n",
    "    if(len(__x)>0): \n",
    "        _x = rs1.transform(__x)\n",
    "        # output in test mode = 0\n",
    "        bottleneck_output = get_layer_output([__x,0])[0]  # bottleneck representation\n",
    "        y_pred = Clf_rad_v21.predict(bottleneck_output)\n",
    "\n",
    "        df2=pd.DataFrame(y_pred)\n",
    "        #points=points+len(y_pred)\n",
    "        #if (min(df2[0])<= 0.966): l1[vin]=1-min(df2[0])\n",
    "        df3=df1[df1['ANN_EGR_N']!=0][['ANN_EGR_KM']] \n",
    "        df3['Measurement in KM'] = df3['ANN_EGR_KM']\n",
    "\n",
    "        if(len(df3)==0):\n",
    "            if(df1.iloc[(df2[df2[0]>OT][0]).index]['statedwell_km'].shape[0]==0): TN+=1\n",
    "            else: FP+=1\n",
    "        else: \n",
    "            if((df1.iloc[(df2[df2[0]>OT][0]).index]['statedwell_km'].min() <= df3['Measurement in KM'].min() ) & (df1.iloc[(df2[df2[0]>OT][0]).index]['statedwell_km'].max()+25000 >= df3['Measurement in KM'].min() )): TP+=1\n",
    "            elif((df1.iloc[(df2[df2[0]>OT][0]).index]['statedwell_km'].min() <= df3['Measurement in KM'].max() ) & (df1.iloc[(df2[df2[0]>OT][0]).index]['statedwell_km'].max()+25000 >= df3['Measurement in KM'].max() )): TP+=1 \n",
    "            elif(df1.iloc[(df2[df2[0]>OT][0]).index]['statedwell_km'].shape[0]==0): FN+=1\n",
    "            else: FN+=1\n",
    "\n",
    "        #print(vin)\n",
    "        #flen=flen+(len(df3['Measurement in KM'].unique()))\n",
    "        fc=fc+1\n",
    "   "
   ]
  },
  {
   "cell_type": "code",
   "execution_count": null,
   "metadata": {},
   "outputs": [],
   "source": [
    "print(TN, TP, FN, FP ) # test set @ 0.111"
   ]
  },
  {
   "cell_type": "code",
   "execution_count": null,
   "metadata": {},
   "outputs": [],
   "source": [
    "print(TN, TP, FN, FP ) # test set @ 0.12"
   ]
  },
  {
   "cell_type": "code",
   "execution_count": 413,
   "metadata": {},
   "outputs": [
    {
     "name": "stdout",
     "output_type": "stream",
     "text": [
      "105 8 47 14\n"
     ]
    }
   ],
   "source": [
    "print(TN, TP, FN, FP ) # test set @ 0.203328"
   ]
  },
  {
   "cell_type": "code",
   "execution_count": null,
   "metadata": {},
   "outputs": [],
   "source": []
  },
  {
   "cell_type": "code",
   "execution_count": 409,
   "metadata": {},
   "outputs": [
    {
     "name": "stdout",
     "output_type": "stream",
     "text": [
      "105 8 47 14\n"
     ]
    }
   ],
   "source": [
    "print(TN, TP, FN, FP ) # test set @ 0.230706"
   ]
  },
  {
   "cell_type": "code",
   "execution_count": 411,
   "metadata": {},
   "outputs": [
    {
     "name": "stdout",
     "output_type": "stream",
     "text": [
      "119 0 55 0\n"
     ]
    }
   ],
   "source": [
    "print(TN, TP, FN, FP ) # test set @ 0.590117"
   ]
  },
  {
   "cell_type": "code",
   "execution_count": null,
   "metadata": {},
   "outputs": [],
   "source": []
  },
  {
   "cell_type": "code",
   "execution_count": null,
   "metadata": {},
   "outputs": [],
   "source": []
  },
  {
   "cell_type": "code",
   "execution_count": null,
   "metadata": {},
   "outputs": [],
   "source": []
  },
  {
   "cell_type": "code",
   "execution_count": null,
   "metadata": {},
   "outputs": [],
   "source": []
  },
  {
   "cell_type": "code",
   "execution_count": 389,
   "metadata": {},
   "outputs": [
    {
     "name": "stdout",
     "output_type": "stream",
     "text": [
      "110 7 33 24\n"
     ]
    }
   ],
   "source": [
    "print(TN, TP, FN, FP ) # tr .113"
   ]
  },
  {
   "cell_type": "code",
   "execution_count": 407,
   "metadata": {},
   "outputs": [
    {
     "name": "stdout",
     "output_type": "stream",
     "text": [
      "0 40 0 134\n"
     ]
    }
   ],
   "source": [
    "print(TN, TP, FN, FP ) # train set @ 0.1105#001"
   ]
  },
  {
   "cell_type": "code",
   "execution_count": 376,
   "metadata": {},
   "outputs": [
    {
     "name": "stdout",
     "output_type": "stream",
     "text": [
      "114 5 35 20\n"
     ]
    }
   ],
   "source": [
    "print(TN, TP, FN, FP ) # train set @ 0.176299 "
   ]
  },
  {
   "cell_type": "code",
   "execution_count": 378,
   "metadata": {},
   "outputs": [
    {
     "name": "stdout",
     "output_type": "stream",
     "text": [
      "114 5 35 20\n"
     ]
    }
   ],
   "source": [
    "print(TN, TP, FN, FP ) # train set @ 0.239928 "
   ]
  },
  {
   "cell_type": "code",
   "execution_count": 373,
   "metadata": {},
   "outputs": [
    {
     "name": "stdout",
     "output_type": "stream",
     "text": [
      "123 3 37 11\n"
     ]
    }
   ],
   "source": [
    "print(TN, TP, FN, FP ) # train set @ 0.351392"
   ]
  },
  {
   "cell_type": "code",
   "execution_count": null,
   "metadata": {},
   "outputs": [],
   "source": []
  },
  {
   "cell_type": "code",
   "execution_count": 347,
   "metadata": {},
   "outputs": [
    {
     "data": {
      "text/plain": [
       "0"
      ]
     },
     "execution_count": 347,
     "metadata": {},
     "output_type": "execute_result"
    }
   ],
   "source": []
  },
  {
   "cell_type": "code",
   "execution_count": 371,
   "metadata": {},
   "outputs": [
    {
     "data": {
      "text/plain": [
       "(429, 269)"
      ]
     },
     "execution_count": 371,
     "metadata": {},
     "output_type": "execute_result"
    }
   ],
   "source": [
    "__x.fillna(method='ffill', inplace=True)\n",
    "__x.fillna(method='bfill', inplace=True)\n",
    "__x.fillna(value=0, inplace=True)\n",
    "__x.dropna().shape"
   ]
  },
  {
   "cell_type": "code",
   "execution_count": 370,
   "metadata": {},
   "outputs": [
    {
     "data": {
      "text/plain": [
       "power[75,inf]_min                       0.0\n",
       "power[75,inf]_median                    0.0\n",
       "power[75,inf]_kurtosis                  0.0\n",
       "power[75,inf]_skewness                  0.0\n",
       "power[75,inf]_mean                      0.0\n",
       "power[75,inf]_variance                  0.0\n",
       "power[75,inf]_max                       0.0\n",
       "power[-inf,-10]_max-min               429.0\n",
       "power[-10,0]_variance                 429.0\n",
       "power[-10,0]_median                   429.0\n",
       "power[-10,0]_mean                     429.0\n",
       "power[-10,0]_count                    429.0\n",
       "EFF_TORQUE_mean                       429.0\n",
       "EFF_TORQUE_median                     429.0\n",
       "EFF_TORQUE_variance                   429.0\n",
       "EFF_TORQUE_max                        429.0\n",
       "EFF_TORQUE_min                        429.0\n",
       "EFF_TORQUE_max-min                    429.0\n",
       "EFF_TORQUE_kurtosis                   429.0\n",
       "EFF_TORQUE_skewness                   429.0\n",
       "power[-inf,-10]_kurtosis              429.0\n",
       "Power_mean                            429.0\n",
       "Power_variance                        429.0\n",
       "Power_max                             429.0\n",
       "power[-inf,-10]_skewness              429.0\n",
       "Power_max-min                         429.0\n",
       "Power_kurtosis                        429.0\n",
       "Power_skewness                        429.0\n",
       "power[-inf,-10]_count                 429.0\n",
       "power[-inf,-10]_mean                  429.0\n",
       "                                      ...  \n",
       "4626                                  429.0\n",
       "1314                                  429.0\n",
       "267060                                429.0\n",
       "4385                                  429.0\n",
       "5696                                  429.0\n",
       "4612                                  429.0\n",
       "533                                   429.0\n",
       "5634                                  429.0\n",
       "4375                                  429.0\n",
       "5159                                  429.0\n",
       "74065                                 429.0\n",
       "5409_count                            429.0\n",
       "267048_count                          429.0\n",
       "535_count                             429.0\n",
       "6912_count                            429.0\n",
       "5888_count                            429.0\n",
       "6144_count                            429.0\n",
       "131363_count                          429.0\n",
       "131619_count                          429.0\n",
       "8501_count                            429.0\n",
       "5688_count                            429.0\n",
       "262288_count                          429.0\n",
       "131895_count                          429.0\n",
       "4386_count                            429.0\n",
       "69888_count                           429.0\n",
       "5169_count                            429.0\n",
       "4356_count                            429.0\n",
       "4406_count                            429.0\n",
       "525569_count                          429.0\n",
       "VEHICAL_BATTERY_POTENTIAL_skewness    429.0\n",
       "Name: count, Length: 269, dtype: float64"
      ]
     },
     "execution_count": 370,
     "metadata": {},
     "output_type": "execute_result"
    }
   ],
   "source": [
    "(__x.describe().iloc[0]).sort_values(ascending=True)"
   ]
  },
  {
   "cell_type": "code",
   "execution_count": null,
   "metadata": {},
   "outputs": [],
   "source": []
  },
  {
   "cell_type": "code",
   "execution_count": null,
   "metadata": {},
   "outputs": [],
   "source": []
  },
  {
   "cell_type": "code",
   "execution_count": 4,
   "metadata": {},
   "outputs": [],
   "source": [
    "bucket=\"relai.poc.temp\"\n",
    "file_extn='.csv'\n",
    "%matplotlib inline\n",
    "import matplotlib.pyplot as plt\n",
    "import numpy as np\n",
    "import seaborn as sns\n",
    "import pandas as pd\n",
    "from d2 import get_vin_list\n",
    "f1=get_vin_list(bucket=bucket, folder_base='res/1/', file_extn=file_extn)  #reading source\n",
    "#'s3://{}/{}{}.csv'.format(bucket,'res/1',vin)\n",
    "setA=set(list(pd.read_csv('ANOVA_EGR.csv')['Feature'])[0:54] ) \n",
    "setB=set(['power[0,25]_count %', 'power[75,inf]_count %', 'power[25,75]_count %'])\n",
    "col_list = list(setA-setB)  # Annova top 51\n",
    "             \n",
    "# predictions\n",
    "from keras import backend as K# with a Sequential model\n",
    "ib=1\n",
    "get_layer_output = K.function([autoencoder_egr.layers[0].input], [autoencoder_egr.layers[ib].output])\n"
   ]
  },
  {
   "cell_type": "code",
   "execution_count": null,
   "metadata": {},
   "outputs": [],
   "source": []
  },
  {
   "cell_type": "code",
   "execution_count": 10,
   "metadata": {
    "collapsed": true,
    "jupyter": {
     "outputs_hidden": true,
     "source_hidden": true
    }
   },
   "outputs": [
    {
     "name": "stdout",
     "output_type": "stream",
     "text": [
      "MB1A3CHD2JAEH9187\n",
      "MB1A3EHD2JPGC1112\n",
      "MB1A3EHD3JPBE1810\n",
      "MB1A3EHD5JAGH5930\n",
      "MB1A3EHDXJAHH5103\n",
      "MB1CTCFD0HAEG4824\n",
      "MB1CTCFD3HAEG4803\n",
      "MB1CTCFD6HAEG4844\n",
      "MB1CTCHD0HAJH3802\n",
      "MB1CTCHD0HAVH2225\n",
      "MB1CTCHD0HEXZ0162\n",
      "MB1CTCHD0JPAE7090\n",
      "MB1CTCHD0JPHB6359\n",
      "MB1CTCHD1HEXY9828\n",
      "MB1CTCHD1JPGB8828\n",
      "MB1CTCHD2HAVH2209\n",
      "MB1CTCHD2HEVZ4367\n",
      "MB1CTCHD3HEVZ3678\n",
      "MB1CTCHD3HPWA4775\n",
      "MB1CTCHD4HAAG7582\n"
     ]
    },
    {
     "name": "stderr",
     "output_type": "stream",
     "text": [
      "/home/ec2-user/anaconda3/envs/tensorflow_p36/lib/python3.6/site-packages/matplotlib/pyplot.py:514: RuntimeWarning: More than 20 figures have been opened. Figures created through the pyplot interface (`matplotlib.pyplot.figure`) are retained until explicitly closed and may consume too much memory. (To control this warning, see the rcParam `figure.max_open_warning`).\n",
      "  max_open_warning, RuntimeWarning)\n"
     ]
    },
    {
     "name": "stdout",
     "output_type": "stream",
     "text": [
      "MB1CTCHD4HPWA5613\n",
      "MB1CTCHD4JADJ1242\n",
      "MB1CTCHD5HPJB2216\n",
      "MB1CTCHD5JPEC8773\n",
      "MB1CTCHD6JPEC8779\n",
      "MB1CTCHD6JPEC8782\n",
      "MB1CTCHD6JPEC9172\n",
      "MB1CTCHD7JAGH6526\n",
      "MB1CTCHD8HPWA3573\n",
      "MB1CTCHD8JPEC8783\n",
      "MB1CTCHD9HPWA4778\n",
      "MB1CTCHD9JAHH4408\n",
      "MB1CTCHD9JPEC9005\n",
      "MB1CTCHD9JPGC1217\n",
      "MB1JADHD0JRGW0273\n",
      "MB1KACFD7HPGX1732\n",
      "MB1KACHD0JPHB8128\n",
      "MB1KACHD1JRGW2953\n",
      "MB1KACHD2HEVZ4497\n",
      "MB1KACHD2JPGC2162\n",
      "MB1KACHD3HAJH3312\n",
      "MB1KACHD3JPGC1778\n",
      "MB1KACHD4HRWU7757\n",
      "MB1KACHD4JRHV9161\n",
      "MB1KACHD5HEJZ5499\n",
      "MB1KACHD6HEJZ5205\n",
      "MB1KACHD6HRWU6299\n",
      "MB1KACHD6JRFW8650\n",
      "MB1KACHD6JRGW3886\n",
      "MB1KACHD6JRHV7539\n",
      "MB1KACHD6JRHV9534\n",
      "MB1KACHD7HEVZ2552\n",
      "MB1KACHD7HPJB3207\n",
      "MB1KACHD8HRWU7762\n",
      "MB1KACHD8JPHB4554\n",
      "MB1KACHD8JPHB6241\n",
      "MB1KACHD9JPGB9890\n",
      "MB1KACHD9JRHV8880\n",
      "MB1KACHDXHAVH2301\n",
      "MB1KACHDXJRHV9455\n",
      "MB1KADYD2HPEY0142\n",
      "MB1NACHD0HAVH1462\n",
      "MB1NACHD0HPXA1107\n",
      "MB1NACHD0JAHH4327\n",
      "MB1NACHD0JRHV6500\n",
      "MB1NACHD1HRVV1159\n",
      "MB1NACHD2HRVU8948\n",
      "MB1NACHD2HRWU8175\n",
      "MB1NACHD3HPVA6182\n",
      "MB1NACHD4JAHH4217\n",
      "MB1NACHD4JPHB7061\n",
      "MB1NACHD5HPWA3996\n",
      "MB1NACHD5JEGZ9945\n",
      "MB1NACHD6HPJA9422\n",
      "MB1NACHD7HRVV1456\n",
      "MB1NACHD7JRHV8356\n",
      "MB1NACHD8HPYZ7866\n",
      "MB1NACHD8JPHB4907\n",
      "MB1NACHDXHRJV2993\n",
      "MB1NAVHD5HPFX4003\n",
      "MB1UPDHD0JPGC2562\n",
      "MB1UPDHD0JPHB6019\n",
      "MB1UPDHD2JPGC2983\n",
      "MB1UPDHD3JPFC7459\n",
      "MB1UPDHD3JPHB4748\n",
      "MB1UPDHD5JPGC2296\n",
      "MB1UPDHD6JPFC7469\n",
      "MB1UPDHDXJPFC7412\n"
     ]
    },
    {
     "data": {
      "text/plain": [
       "<Figure size 432x288 with 0 Axes>"
      ]
     },
     "metadata": {},
     "output_type": "display_data"
    },
    {
     "data": {
      "text/plain": [
       "<Figure size 432x288 with 0 Axes>"
      ]
     },
     "metadata": {},
     "output_type": "display_data"
    },
    {
     "data": {
      "text/plain": [
       "<Figure size 432x288 with 0 Axes>"
      ]
     },
     "metadata": {},
     "output_type": "display_data"
    },
    {
     "data": {
      "text/plain": [
       "<Figure size 432x288 with 0 Axes>"
      ]
     },
     "metadata": {},
     "output_type": "display_data"
    },
    {
     "data": {
      "text/plain": [
       "<Figure size 432x288 with 0 Axes>"
      ]
     },
     "metadata": {},
     "output_type": "display_data"
    },
    {
     "data": {
      "text/plain": [
       "<Figure size 432x288 with 0 Axes>"
      ]
     },
     "metadata": {},
     "output_type": "display_data"
    },
    {
     "data": {
      "text/plain": [
       "<Figure size 432x288 with 0 Axes>"
      ]
     },
     "metadata": {},
     "output_type": "display_data"
    },
    {
     "data": {
      "text/plain": [
       "<Figure size 432x288 with 0 Axes>"
      ]
     },
     "metadata": {},
     "output_type": "display_data"
    },
    {
     "data": {
      "text/plain": [
       "<Figure size 432x288 with 0 Axes>"
      ]
     },
     "metadata": {},
     "output_type": "display_data"
    },
    {
     "data": {
      "text/plain": [
       "<Figure size 432x288 with 0 Axes>"
      ]
     },
     "metadata": {},
     "output_type": "display_data"
    },
    {
     "data": {
      "text/plain": [
       "<Figure size 432x288 with 0 Axes>"
      ]
     },
     "metadata": {},
     "output_type": "display_data"
    },
    {
     "data": {
      "text/plain": [
       "<Figure size 432x288 with 0 Axes>"
      ]
     },
     "metadata": {},
     "output_type": "display_data"
    },
    {
     "data": {
      "text/plain": [
       "<Figure size 432x288 with 0 Axes>"
      ]
     },
     "metadata": {},
     "output_type": "display_data"
    },
    {
     "data": {
      "text/plain": [
       "<Figure size 432x288 with 0 Axes>"
      ]
     },
     "metadata": {},
     "output_type": "display_data"
    },
    {
     "data": {
      "text/plain": [
       "<Figure size 432x288 with 0 Axes>"
      ]
     },
     "metadata": {},
     "output_type": "display_data"
    },
    {
     "data": {
      "text/plain": [
       "<Figure size 432x288 with 0 Axes>"
      ]
     },
     "metadata": {},
     "output_type": "display_data"
    },
    {
     "data": {
      "text/plain": [
       "<Figure size 432x288 with 0 Axes>"
      ]
     },
     "metadata": {},
     "output_type": "display_data"
    },
    {
     "data": {
      "text/plain": [
       "<Figure size 432x288 with 0 Axes>"
      ]
     },
     "metadata": {},
     "output_type": "display_data"
    },
    {
     "data": {
      "text/plain": [
       "<Figure size 432x288 with 0 Axes>"
      ]
     },
     "metadata": {},
     "output_type": "display_data"
    },
    {
     "data": {
      "text/plain": [
       "<Figure size 432x288 with 0 Axes>"
      ]
     },
     "metadata": {},
     "output_type": "display_data"
    },
    {
     "data": {
      "text/plain": [
       "<Figure size 432x288 with 0 Axes>"
      ]
     },
     "metadata": {},
     "output_type": "display_data"
    },
    {
     "data": {
      "text/plain": [
       "<Figure size 432x288 with 0 Axes>"
      ]
     },
     "metadata": {},
     "output_type": "display_data"
    },
    {
     "data": {
      "text/plain": [
       "<Figure size 432x288 with 0 Axes>"
      ]
     },
     "metadata": {},
     "output_type": "display_data"
    },
    {
     "data": {
      "text/plain": [
       "<Figure size 432x288 with 0 Axes>"
      ]
     },
     "metadata": {},
     "output_type": "display_data"
    },
    {
     "data": {
      "text/plain": [
       "<Figure size 432x288 with 0 Axes>"
      ]
     },
     "metadata": {},
     "output_type": "display_data"
    },
    {
     "data": {
      "text/plain": [
       "<Figure size 432x288 with 0 Axes>"
      ]
     },
     "metadata": {},
     "output_type": "display_data"
    },
    {
     "data": {
      "text/plain": [
       "<Figure size 432x288 with 0 Axes>"
      ]
     },
     "metadata": {},
     "output_type": "display_data"
    },
    {
     "data": {
      "text/plain": [
       "<Figure size 432x288 with 0 Axes>"
      ]
     },
     "metadata": {},
     "output_type": "display_data"
    },
    {
     "data": {
      "text/plain": [
       "<Figure size 432x288 with 0 Axes>"
      ]
     },
     "metadata": {},
     "output_type": "display_data"
    },
    {
     "data": {
      "text/plain": [
       "<Figure size 432x288 with 0 Axes>"
      ]
     },
     "metadata": {},
     "output_type": "display_data"
    },
    {
     "data": {
      "text/plain": [
       "<Figure size 432x288 with 0 Axes>"
      ]
     },
     "metadata": {},
     "output_type": "display_data"
    },
    {
     "data": {
      "text/plain": [
       "<Figure size 432x288 with 0 Axes>"
      ]
     },
     "metadata": {},
     "output_type": "display_data"
    },
    {
     "data": {
      "text/plain": [
       "<Figure size 432x288 with 0 Axes>"
      ]
     },
     "metadata": {},
     "output_type": "display_data"
    },
    {
     "data": {
      "text/plain": [
       "<Figure size 432x288 with 0 Axes>"
      ]
     },
     "metadata": {},
     "output_type": "display_data"
    },
    {
     "data": {
      "text/plain": [
       "<Figure size 432x288 with 0 Axes>"
      ]
     },
     "metadata": {},
     "output_type": "display_data"
    },
    {
     "data": {
      "text/plain": [
       "<Figure size 432x288 with 0 Axes>"
      ]
     },
     "metadata": {},
     "output_type": "display_data"
    },
    {
     "data": {
      "text/plain": [
       "<Figure size 432x288 with 0 Axes>"
      ]
     },
     "metadata": {},
     "output_type": "display_data"
    },
    {
     "data": {
      "text/plain": [
       "<Figure size 432x288 with 0 Axes>"
      ]
     },
     "metadata": {},
     "output_type": "display_data"
    },
    {
     "data": {
      "text/plain": [
       "<Figure size 432x288 with 0 Axes>"
      ]
     },
     "metadata": {},
     "output_type": "display_data"
    },
    {
     "data": {
      "text/plain": [
       "<Figure size 432x288 with 0 Axes>"
      ]
     },
     "metadata": {},
     "output_type": "display_data"
    },
    {
     "data": {
      "text/plain": [
       "<Figure size 432x288 with 0 Axes>"
      ]
     },
     "metadata": {},
     "output_type": "display_data"
    },
    {
     "data": {
      "text/plain": [
       "<Figure size 432x288 with 0 Axes>"
      ]
     },
     "metadata": {},
     "output_type": "display_data"
    },
    {
     "data": {
      "text/plain": [
       "<Figure size 432x288 with 0 Axes>"
      ]
     },
     "metadata": {},
     "output_type": "display_data"
    },
    {
     "data": {
      "text/plain": [
       "<Figure size 432x288 with 0 Axes>"
      ]
     },
     "metadata": {},
     "output_type": "display_data"
    },
    {
     "data": {
      "text/plain": [
       "<Figure size 432x288 with 0 Axes>"
      ]
     },
     "metadata": {},
     "output_type": "display_data"
    },
    {
     "data": {
      "text/plain": [
       "<Figure size 432x288 with 0 Axes>"
      ]
     },
     "metadata": {},
     "output_type": "display_data"
    },
    {
     "data": {
      "text/plain": [
       "<Figure size 432x288 with 0 Axes>"
      ]
     },
     "metadata": {},
     "output_type": "display_data"
    },
    {
     "data": {
      "text/plain": [
       "<Figure size 432x288 with 0 Axes>"
      ]
     },
     "metadata": {},
     "output_type": "display_data"
    },
    {
     "data": {
      "text/plain": [
       "<Figure size 432x288 with 0 Axes>"
      ]
     },
     "metadata": {},
     "output_type": "display_data"
    },
    {
     "data": {
      "text/plain": [
       "<Figure size 432x288 with 0 Axes>"
      ]
     },
     "metadata": {},
     "output_type": "display_data"
    },
    {
     "data": {
      "text/plain": [
       "<Figure size 432x288 with 0 Axes>"
      ]
     },
     "metadata": {},
     "output_type": "display_data"
    },
    {
     "data": {
      "text/plain": [
       "<Figure size 432x288 with 0 Axes>"
      ]
     },
     "metadata": {},
     "output_type": "display_data"
    },
    {
     "data": {
      "text/plain": [
       "<Figure size 432x288 with 0 Axes>"
      ]
     },
     "metadata": {},
     "output_type": "display_data"
    },
    {
     "data": {
      "text/plain": [
       "<Figure size 432x288 with 0 Axes>"
      ]
     },
     "metadata": {},
     "output_type": "display_data"
    },
    {
     "data": {
      "text/plain": [
       "<Figure size 432x288 with 0 Axes>"
      ]
     },
     "metadata": {},
     "output_type": "display_data"
    },
    {
     "data": {
      "text/plain": [
       "<Figure size 432x288 with 0 Axes>"
      ]
     },
     "metadata": {},
     "output_type": "display_data"
    },
    {
     "data": {
      "text/plain": [
       "<Figure size 432x288 with 0 Axes>"
      ]
     },
     "metadata": {},
     "output_type": "display_data"
    },
    {
     "data": {
      "text/plain": [
       "<Figure size 432x288 with 0 Axes>"
      ]
     },
     "metadata": {},
     "output_type": "display_data"
    },
    {
     "data": {
      "text/plain": [
       "<Figure size 432x288 with 0 Axes>"
      ]
     },
     "metadata": {},
     "output_type": "display_data"
    },
    {
     "data": {
      "text/plain": [
       "<Figure size 432x288 with 0 Axes>"
      ]
     },
     "metadata": {},
     "output_type": "display_data"
    },
    {
     "data": {
      "text/plain": [
       "<Figure size 432x288 with 0 Axes>"
      ]
     },
     "metadata": {},
     "output_type": "display_data"
    },
    {
     "data": {
      "text/plain": [
       "<Figure size 432x288 with 0 Axes>"
      ]
     },
     "metadata": {},
     "output_type": "display_data"
    },
    {
     "data": {
      "text/plain": [
       "<Figure size 432x288 with 0 Axes>"
      ]
     },
     "metadata": {},
     "output_type": "display_data"
    },
    {
     "data": {
      "text/plain": [
       "<Figure size 432x288 with 0 Axes>"
      ]
     },
     "metadata": {},
     "output_type": "display_data"
    },
    {
     "data": {
      "text/plain": [
       "<Figure size 432x288 with 0 Axes>"
      ]
     },
     "metadata": {},
     "output_type": "display_data"
    },
    {
     "data": {
      "text/plain": [
       "<Figure size 432x288 with 0 Axes>"
      ]
     },
     "metadata": {},
     "output_type": "display_data"
    },
    {
     "data": {
      "text/plain": [
       "<Figure size 432x288 with 0 Axes>"
      ]
     },
     "metadata": {},
     "output_type": "display_data"
    },
    {
     "data": {
      "text/plain": [
       "<Figure size 432x288 with 0 Axes>"
      ]
     },
     "metadata": {},
     "output_type": "display_data"
    },
    {
     "data": {
      "text/plain": [
       "<Figure size 432x288 with 0 Axes>"
      ]
     },
     "metadata": {},
     "output_type": "display_data"
    },
    {
     "data": {
      "text/plain": [
       "<Figure size 432x288 with 0 Axes>"
      ]
     },
     "metadata": {},
     "output_type": "display_data"
    },
    {
     "data": {
      "text/plain": [
       "<Figure size 432x288 with 0 Axes>"
      ]
     },
     "metadata": {},
     "output_type": "display_data"
    },
    {
     "data": {
      "text/plain": [
       "<Figure size 432x288 with 0 Axes>"
      ]
     },
     "metadata": {},
     "output_type": "display_data"
    },
    {
     "data": {
      "text/plain": [
       "<Figure size 432x288 with 0 Axes>"
      ]
     },
     "metadata": {},
     "output_type": "display_data"
    },
    {
     "data": {
      "text/plain": [
       "<Figure size 432x288 with 0 Axes>"
      ]
     },
     "metadata": {},
     "output_type": "display_data"
    },
    {
     "data": {
      "text/plain": [
       "<Figure size 432x288 with 0 Axes>"
      ]
     },
     "metadata": {},
     "output_type": "display_data"
    },
    {
     "data": {
      "text/plain": [
       "<Figure size 432x288 with 0 Axes>"
      ]
     },
     "metadata": {},
     "output_type": "display_data"
    },
    {
     "data": {
      "text/plain": [
       "<Figure size 432x288 with 0 Axes>"
      ]
     },
     "metadata": {},
     "output_type": "display_data"
    },
    {
     "data": {
      "text/plain": [
       "<Figure size 432x288 with 0 Axes>"
      ]
     },
     "metadata": {},
     "output_type": "display_data"
    },
    {
     "data": {
      "text/plain": [
       "<Figure size 432x288 with 0 Axes>"
      ]
     },
     "metadata": {},
     "output_type": "display_data"
    },
    {
     "data": {
      "text/plain": [
       "<Figure size 432x288 with 0 Axes>"
      ]
     },
     "metadata": {},
     "output_type": "display_data"
    },
    {
     "data": {
      "text/plain": [
       "<Figure size 432x288 with 0 Axes>"
      ]
     },
     "metadata": {},
     "output_type": "display_data"
    },
    {
     "data": {
      "text/plain": [
       "<Figure size 432x288 with 0 Axes>"
      ]
     },
     "metadata": {},
     "output_type": "display_data"
    },
    {
     "data": {
      "text/plain": [
       "<Figure size 432x288 with 0 Axes>"
      ]
     },
     "metadata": {},
     "output_type": "display_data"
    },
    {
     "data": {
      "text/plain": [
       "<Figure size 432x288 with 0 Axes>"
      ]
     },
     "metadata": {},
     "output_type": "display_data"
    },
    {
     "data": {
      "text/plain": [
       "<Figure size 432x288 with 0 Axes>"
      ]
     },
     "metadata": {},
     "output_type": "display_data"
    },
    {
     "data": {
      "text/plain": [
       "<Figure size 432x288 with 0 Axes>"
      ]
     },
     "metadata": {},
     "output_type": "display_data"
    },
    {
     "data": {
      "text/plain": [
       "<Figure size 432x288 with 0 Axes>"
      ]
     },
     "metadata": {},
     "output_type": "display_data"
    },
    {
     "data": {
      "text/plain": [
       "<Figure size 432x288 with 0 Axes>"
      ]
     },
     "metadata": {},
     "output_type": "display_data"
    }
   ],
   "source": [
    "f1=get_vin_list(bucket=bucket, folder_base='res/1/', file_extn=file_extn)  #reading source\n",
    "for vin in f1[0:]:\n",
    "    df1=pd.read_csv('s3://{}/{}{}.csv'.format(bucket,'res/1/',vin))\n",
    "    #df1.columns=[str(i) for i in (df1.columns)]\n",
    "    c_df3=0\n",
    "    try:\n",
    "        df3=pd.read_csv('s3://{}/{}{}.csv'.format(bucket,'jcd/',vin))\n",
    "        c_df3=1\n",
    "    except:\n",
    "        c_df3=0\n",
    "    # y_pred = autoencoder_egr.predict()  # Reconstruction\n",
    "    try:\n",
    "        _x=df1[col_list]\n",
    "        # output in test mode = 0\n",
    "        bottleneck_output = get_layer_output([_x,0])[0]  # bottleneck representation\n",
    "        y_pred = predictor_egr.predict(bottleneck_output)\n",
    "        df2=pd.DataFrame(y_pred)\n",
    "        '''\n",
    "        df1=pd.read_csv('s3://{}/{}{}.csv'.format(bucket,'res/1/',vin))\n",
    "        df2=pd.DataFrame(y_pred)\n",
    "        df3=pd.read_csv('s3://{}/{}{}.csv'.format(bucket,'jcd/',vin))\n",
    "        '''\n",
    "        plt.figure()\n",
    "        try: sns.kdeplot(df1.iloc[(df2[df2[0]<0.966][0]).index]['statedwell_km'], alpha=0.8,legend=False)\n",
    "        except: pass\n",
    "        if (c_df3==1): plt.vlines(df3['Measurement in KM'],0,1)\n",
    "        plt.vlines(df1[np.isnan(df2[0])]['statedwell_km'],0,1, colors='red', alpha=0.05) #'ENGINE_SPEED_x_count',\n",
    "        #plt.vlines(df1[df1['ENGINE_SPEED_x_count']<5]['statedwell_km'],0,1, colors='red', alpha=0.03) #\n",
    "        ax2=plt.twinx()\n",
    "        ax2.plot(df1.iloc[(df2[df2[0]<0.966][0]).index]['statedwell_km'], 1-df2[df2[0]<0.966][0], alpha=0.4)\n",
    "        ax2.set_ylim(0,1)\n",
    "        plt.legend().set_visible(False)\n",
    "        plt.title('EGR failure prediction for {}'.format(vin))\n",
    "        doc = 'temp.png'\n",
    "        plt.savefig(doc)\n",
    "        from boto3 import resource\n",
    "        s3 = resource('s3')\n",
    "        from os import remove\n",
    "        s3.Bucket(bucket).Object('res/8/{}.png'.format(vin)).upload_file(doc)\n",
    "        remove(doc)\n",
    "        plt.clf()\n",
    "        print(vin)\n",
    "    except: pass"
   ]
  },
  {
   "cell_type": "code",
   "execution_count": 6,
   "metadata": {},
   "outputs": [
    {
     "data": {
      "text/plain": [
       "'MB1A3CHD8JEHZ9434'"
      ]
     },
     "execution_count": 6,
     "metadata": {},
     "output_type": "execute_result"
    }
   ],
   "source": [
    "vin#pd.read_csv('s3://{}/{}{}.csv'.format(bucket,'res/1/',f1[1])) #list(df1.columns)#=[str(i) for i in (df1.columns)]"
   ]
  },
  {
   "cell_type": "code",
   "execution_count": 193,
   "metadata": {},
   "outputs": [],
   "source": [
    "# (df2[df2[0]<0.966][0])"
   ]
  },
  {
   "cell_type": "code",
   "execution_count": 170,
   "metadata": {
    "collapsed": true,
    "jupyter": {
     "outputs_hidden": true
    }
   },
   "outputs": [
    {
     "data": {
      "text/plain": [
       "Text(0.5, 1.0, 'EGR failure prediction for MB1CTCHD0HAVH2225')"
      ]
     },
     "execution_count": 170,
     "metadata": {},
     "output_type": "execute_result"
    },
    {
     "data": {
      "image/png": "[encoded data removed]",
      "text/plain": [
       "<Figure size 432x288 with 1 Axes>"
      ]
     },
     "metadata": {},
     "output_type": "display_data"
    }
   ],
   "source": [
    "'''\n",
    "sns.kdeplot(df1.iloc[(df2[df2[0]<0.966][0]).index]['statedwell_km'])\n",
    "plt.vlines(df3['Measurement in KM'],0,1)\n",
    "#plt.vlines(df1[np.isnan(df2[0])]['statedwell_km'],0,1, colors='red', alpha=0.05) #'ENGINE_SPEED_x_count',\n",
    "plt.vlines(df1[df1['ENGINE_SPEED_x_count']<5]['statedwell_km'],0,1, colors='red', alpha=0.03) #\n",
    "plt.legend().set_visible(False)\n",
    "plt.title('EGR failure prediction for {}'.format(vin))\n",
    "'''"
   ]
  },
  {
   "cell_type": "code",
   "execution_count": 201,
   "metadata": {},
   "outputs": [
    {
     "data": {
      "text/plain": [
       "(0, 1)"
      ]
     },
     "execution_count": 201,
     "metadata": {},
     "output_type": "execute_result"
    },
    {
     "data": {
      "image/png": "[encoded data removed]",
      "text/plain": [
       "<Figure size 432x288 with 2 Axes>"
      ]
     },
     "metadata": {},
     "output_type": "display_data"
    }
   ],
   "source": [
    "sns.kdeplot(df1.iloc[(df2[df2[0]<0.966][0]).index]['statedwell_km'], alpha=0.8)\n",
    "plt.vlines(df3['Measurement in KM'],0,1, alpha=0.8)\n",
    "#plt.vlines(df1[np.isnan(df2[0])]['statedwell_km'],0,1, colors='red', alpha=0.05) #'ENGINE_SPEED_x_count',\n",
    "plt.vlines(df1[df1['ENGINE_SPEED_x_count']<5]['statedwell_km'],0,1, colors='red', alpha=0.03) #\n",
    "plt.legend().set_visible(False)\n",
    "plt.title('EGR failure prediction for {}'.format(vin))\n",
    "ax2=plt.twinx()\n",
    "ax2.plot(df1.iloc[(df2[df2[0]<0.966][0]).index]['statedwell_km'], 1-df2[df2[0]<0.966][0], alpha=0.4)\n",
    "ax2.set_ylim(0,1)\n",
    "#ax2.plot(df1.iloc[(df2[df2[0]<0.966][0]).index]['statedwell_km'], df2[df2[0]<0.966][0])\n"
   ]
  },
  {
   "cell_type": "code",
   "execution_count": 39,
   "metadata": {},
   "outputs": [
    {
     "data": {
      "text/plain": [
       "<keras.layers.core.Dense at 0x7f4889d17e10>"
      ]
     },
     "execution_count": 39,
     "metadata": {},
     "output_type": "execute_result"
    }
   ],
   "source": [
    "#bottleneck\n",
    "autoencoder_egr.get_layer('bottleneck').shape"
   ]
  },
  {
   "cell_type": "code",
   "execution_count": 85,
   "metadata": {},
   "outputs": [],
   "source": [
    "from keras import backend as K\n",
    "# with a Sequential model\n",
    "get_layer_output = K.function([autoencoder_egr.layers[0].input], [autoencoder_egr.layers[1].output])\n",
    "# output in test mode = 0\n",
    "x=df1[col_list].head(2)\n",
    "bottleneck_output = get_layer_output([x])[0]"
   ]
  },
  {
   "cell_type": "code",
   "execution_count": 86,
   "metadata": {},
   "outputs": [
    {
     "data": {
      "text/plain": [
       "array([[-1.,  1., -1.,  1.,  1.,  1., -1., -1.],\n",
       "       [nan, nan, nan, nan, nan, nan, nan, nan]], dtype=float32)"
      ]
     },
     "execution_count": 86,
     "metadata": {},
     "output_type": "execute_result"
    }
   ],
   "source": [
    "layer_output"
   ]
  },
  {
   "cell_type": "code",
   "execution_count": 58,
   "metadata": {},
   "outputs": [],
   "source": [
    "#autoencoder_egr.get_config()"
   ]
  },
  {
   "cell_type": "code",
   "execution_count": 62,
   "metadata": {},
   "outputs": [
    {
     "name": "stdout",
     "output_type": "stream",
     "text": [
      "0 (1, 16)\n",
      "1 (1, 8)\n",
      "2 (1, 16)\n",
      "3 (1, 51)\n"
     ]
    }
   ],
   "source": [
    " for i in range(0,4):\n",
    "    get_layer_output = K.function([autoencoder_egr.layers[0].input], [autoencoder_egr.layers[i].output])\n",
    "    # output in test mode = 0\n",
    "    x=df1[col_list].head(1)\n",
    "    layer_output = get_layer_output([x,0])[0]\n",
    "    print(i, layer_output.shape)"
   ]
  },
  {
   "cell_type": "code",
   "execution_count": 269,
   "metadata": {
    "collapsed": true,
    "jupyter": {
     "outputs_hidden": true
    }
   },
   "outputs": [
    {
     "data": {
      "image/png": "[encoded data removed]",
      "text/plain": [
       "<Figure size 432x288 with 1 Axes>"
      ]
     },
     "metadata": {},
     "output_type": "display_data"
    },
    {
     "data": {
      "image/png": "[encoded data removed]",
      "text/plain": [
       "<Figure size 432x288 with 1 Axes>"
      ]
     },
     "metadata": {},
     "output_type": "display_data"
    },
    {
     "data": {
      "image/png": "[encoded data removed]",
      "text/plain": [
       "<Figure size 432x288 with 1 Axes>"
      ]
     },
     "metadata": {},
     "output_type": "display_data"
    },
    {
     "data": {
      "image/png": "[encoded data removed]",
      "text/plain": [
       "<Figure size 432x288 with 1 Axes>"
      ]
     },
     "metadata": {},
     "output_type": "display_data"
    },
    {
     "data": {
      "image/png": "[encoded data removed]",
      "text/plain": [
       "<Figure size 432x288 with 1 Axes>"
      ]
     },
     "metadata": {},
     "output_type": "display_data"
    },
    {
     "data": {
      "image/png": "[encoded data removed]",
      "text/plain": [
       "<Figure size 432x288 with 1 Axes>"
      ]
     },
     "metadata": {},
     "output_type": "display_data"
    },
    {
     "data": {
      "image/png": "[encoded data removed]",
      "text/plain": [
       "<Figure size 432x288 with 1 Axes>"
      ]
     },
     "metadata": {},
     "output_type": "display_data"
    },
    {
     "data": {
      "image/png": "[encoded data removed]",
      "text/plain": [
       "<Figure size 432x288 with 1 Axes>"
      ]
     },
     "metadata": {},
     "output_type": "display_data"
    },
    {
     "data": {
      "image/png": "[encoded data removed]",
      "text/plain": [
       "<Figure size 432x288 with 1 Axes>"
      ]
     },
     "metadata": {},
     "output_type": "display_data"
    }
   ],
   "source": [
    "#f6=get_vin_list(bucket=bucket, folder_base='res/7/', file_extn='.png')  #reading source\n",
    "import matplotlib.pyplot as plt\n",
    "import matplotlib.image as mpimg\n",
    "import numpy as np\n",
    "import boto3\n",
    "import io\n",
    "import tempfile\n",
    "bucket=\"relai.poc.temp\"\n",
    "s3 = boto3.resource('s3', region_name='us-east-1')\n",
    "bucket = s3.Bucket(bucket)\n",
    "for i in f6[0:9]:\n",
    "    #print('s3://{}/res/7/{}.png'.format(bucket,i))\n",
    "    #plt.imread('s3://{}/res/7/{}.png'.format(bucket,i))\n",
    "    object = bucket.Object('res/7/{}.png'.format(i))\n",
    "    file_stream = io.BytesIO()\n",
    "    object.download_fileobj(file_stream)\n",
    "    #img = plt.imread(file_stream)\n",
    "    #plt.imshow(img)\n",
    "    tmp = tempfile.NamedTemporaryFile()\n",
    "    with open(tmp.name, 'wb') as f:\n",
    "        object.download_fileobj(f)\n",
    "        img=mpimg.imread(tmp.name)\n",
    "        plt.imshow(img)\n",
    "        # ...Do jobs using img\n",
    "    plt.show()\n",
    "    "
   ]
  },
  {
   "cell_type": "code",
   "execution_count": null,
   "metadata": {},
   "outputs": [],
   "source": []
  }
 ],
 "metadata": {
  "kernelspec": {
   "display_name": "conda_tensorflow_p36",
   "language": "python",
   "name": "conda_tensorflow_p36"
  },
  "language_info": {
   "codemirror_mode": {
    "name": "ipython",
    "version": 3
   },
   "file_extension": ".py",
   "mimetype": "text/x-python",
   "name": "python",
   "nbconvert_exporter": "python",
   "pygments_lexer": "ipython3",
   "version": "3.6.10"
  }
 },
 "nbformat": 4,
 "nbformat_minor": 4
}
