{
 "cells": [
  {
   "cell_type": "code",
   "execution_count": 1,
   "metadata": {},
   "outputs": [],
   "source": [
    "# non-linear orthogonal auto-encoder - partial.Generic (w/o EGR ANOVA) - "
   ]
  },
  {
   "cell_type": "code",
   "execution_count": 2,
   "metadata": {},
   "outputs": [
    {
     "name": "stdout",
     "output_type": "stream",
     "text": [
      "[[0 0 1]\n",
      " [0 0 1]\n",
      " [0 0 1]]\n"
     ]
    },
    {
     "ename": "TypeError",
     "evalue": "'axis' is an invalid keyword to ufunc 'subtract'",
     "output_type": "error",
     "traceback": [
      "\u001b[0;31m---------------------------------------------------------------------------\u001b[0m",
      "\u001b[0;31mTypeError\u001b[0m                                 Traceback (most recent call last)",
      "\u001b[0;32m<ipython-input-2-04f75c153823>\u001b[0m in \u001b[0;36m<module>\u001b[0;34m()\u001b[0m\n\u001b[1;32m      3\u001b[0m \u001b[0;32mimport\u001b[0m \u001b[0mnumpy\u001b[0m \u001b[0;32mas\u001b[0m \u001b[0mnp\u001b[0m\u001b[0;34m\u001b[0m\u001b[0m\n\u001b[1;32m      4\u001b[0m \u001b[0mprint\u001b[0m\u001b[0;34m(\u001b[0m\u001b[0mnp\u001b[0m\u001b[0;34m.\u001b[0m\u001b[0msubtract\u001b[0m\u001b[0;34m(\u001b[0m\u001b[0mta\u001b[0m\u001b[0;34m,\u001b[0m\u001b[0mtb\u001b[0m\u001b[0;34m)\u001b[0m\u001b[0;34m)\u001b[0m\u001b[0;34m\u001b[0m\u001b[0m\n\u001b[0;32m----> 5\u001b[0;31m \u001b[0mprint\u001b[0m\u001b[0;34m(\u001b[0m\u001b[0mnp\u001b[0m\u001b[0;34m.\u001b[0m\u001b[0msubtract\u001b[0m\u001b[0;34m(\u001b[0m\u001b[0mta\u001b[0m\u001b[0;34m,\u001b[0m\u001b[0mtb\u001b[0m\u001b[0;34m,\u001b[0m\u001b[0maxis\u001b[0m\u001b[0;34m=\u001b[0m\u001b[0;36m0\u001b[0m\u001b[0;34m)\u001b[0m\u001b[0;34m)\u001b[0m\u001b[0;34m\u001b[0m\u001b[0m\n\u001b[0m\u001b[1;32m      6\u001b[0m \u001b[0mprint\u001b[0m\u001b[0;34m(\u001b[0m\u001b[0mnp\u001b[0m\u001b[0;34m.\u001b[0m\u001b[0msubtract\u001b[0m\u001b[0;34m(\u001b[0m\u001b[0mta\u001b[0m\u001b[0;34m,\u001b[0m\u001b[0mtb\u001b[0m\u001b[0;34m,\u001b[0m\u001b[0maxis\u001b[0m\u001b[0;34m=\u001b[0m\u001b[0;36m1\u001b[0m\u001b[0;34m)\u001b[0m\u001b[0;34m)\u001b[0m\u001b[0;34m\u001b[0m\u001b[0m\n",
      "\u001b[0;31mTypeError\u001b[0m: 'axis' is an invalid keyword to ufunc 'subtract'"
     ]
    }
   ],
   "source": [
    "ta=[[1,1,2],[1,1,2],[1,1,2]]\n",
    "tb=[[0.1,1,1],[1,1,1],[1,1,1]]\n",
    "import numpy as np\n",
    "print(np.subtract(ta,tb)**2)\n",
    "print(np.subtract(ta,tb,axis=0))\n",
    "print(np.subtract(ta,tb,axis=1))"
   ]
  },
  {
   "cell_type": "code",
   "execution_count": 2,
   "metadata": {},
   "outputs": [],
   "source": [
    "bucket=\"relai.poc.data\" # aws bucket for sourcing data\n",
    "folder_base = '/unified_Fx_D3_power_annotated/'  # prev modules: data cleaning/sticthing, feature engineering/extraction, annotations \n",
    "csv='.csv' # presently dealing only with csv files\n",
    "\n",
    "from d2 import get_vin_list #d2 is RelAI specific lib \n",
    "f_=get_vin_list(bucket=bucket, folder_base=folder_base, file_extn=csv) # fetches filename list from s3 location\n",
    "\n",
    "#f_train=get_vin_list(bucket=bucket, folder_base=folder_base_train, file_extn=csv)\n",
    "#path_test='s3://{}/{}{}{}'.format(bucket, folder_base_test, vin, csv)\n",
    "#path_train='s3://{}/{}{}{}'.format(bucket, folder_base_train, vin, csv)"
   ]
  },
  {
   "cell_type": "code",
   "execution_count": 3,
   "metadata": {},
   "outputs": [],
   "source": [
    "from sklearn.model_selection import train_test_split as split\n",
    "f_train, f_test = split(f_,test_size=0.26, random_state=3)"
   ]
  },
  {
   "cell_type": "code",
   "execution_count": 4,
   "metadata": {},
   "outputs": [
    {
     "name": "stdout",
     "output_type": "stream",
     "text": [
      "1013 356\n"
     ]
    }
   ],
   "source": [
    "print(len(f_train), len(f_test))"
   ]
  },
  {
   "cell_type": "code",
   "execution_count": 5,
   "metadata": {},
   "outputs": [],
   "source": [
    "vin_pathlist_test = ['s3://{}/{}{}{}'.format(bucket, folder_base, vin, csv) for vin in f_test]\n",
    "vin_pathlist_train = ['s3://{}/{}{}{}'.format(bucket, folder_base, vin, csv) for vin in f_train]\n",
    "\n",
    "#X_train_path  #vin_pathlist_test  #vin_pathlist_train\n",
    "#len(X_train_path)"
   ]
  },
  {
   "cell_type": "code",
   "execution_count": 6,
   "metadata": {},
   "outputs": [
    {
     "data": {
      "text/plain": [
       "356"
      ]
     },
     "execution_count": 6,
     "metadata": {},
     "output_type": "execute_result"
    }
   ],
   "source": [
    "len(vin_pathlist_test)"
   ]
  },
  {
   "cell_type": "code",
   "execution_count": 7,
   "metadata": {},
   "outputs": [],
   "source": [
    "import pandas as pd\n",
    "X_test_list = []\n",
    "for i in vin_pathlist_test:\n",
    "    X_test_list.append(pd.read_csv(i))"
   ]
  },
  {
   "cell_type": "code",
   "execution_count": 8,
   "metadata": {},
   "outputs": [],
   "source": [
    "X_test = pd.concat(X_test_list, axis=0)"
   ]
  },
  {
   "cell_type": "code",
   "execution_count": 9,
   "metadata": {},
   "outputs": [
    {
     "data": {
      "text/plain": [
       "(30234, 255)"
      ]
     },
     "execution_count": 9,
     "metadata": {},
     "output_type": "execute_result"
    }
   ],
   "source": [
    "X_test.shape"
   ]
  },
  {
   "cell_type": "code",
   "execution_count": 10,
   "metadata": {},
   "outputs": [
    {
     "data": {
      "text/plain": [
       "(30234, 255)"
      ]
     },
     "execution_count": 10,
     "metadata": {},
     "output_type": "execute_result"
    }
   ],
   "source": [
    "X_test.dropna().shape"
   ]
  },
  {
   "cell_type": "code",
   "execution_count": 11,
   "metadata": {},
   "outputs": [],
   "source": [
    "X_test.to_csv('X_test.csv')"
   ]
  },
  {
   "cell_type": "code",
   "execution_count": 40,
   "metadata": {},
   "outputs": [
    {
     "data": {
      "text/plain": [
       "\"X_test.fillna(method='ffill', inplace=True)\\nX_test.fillna(method='bfill', inplace=True)\\nX_test.dropna().shape\""
      ]
     },
     "execution_count": 40,
     "metadata": {},
     "output_type": "execute_result"
    }
   ],
   "source": [
    "'''X_test.fillna(method='ffill', inplace=True)\n",
    "X_test.fillna(method='bfill', inplace=True)\n",
    "X_test.dropna().shape'''"
   ]
  },
  {
   "cell_type": "code",
   "execution_count": 12,
   "metadata": {},
   "outputs": [],
   "source": [
    "import pandas as pd\n",
    "X_train_list = []\n",
    "for i in vin_pathlist_train:\n",
    "    X_train_list.append(pd.read_csv(i))\n"
   ]
  },
  {
   "cell_type": "code",
   "execution_count": 13,
   "metadata": {},
   "outputs": [],
   "source": [
    "X_train = pd.concat(X_train_list, axis=0)"
   ]
  },
  {
   "cell_type": "code",
   "execution_count": 14,
   "metadata": {},
   "outputs": [
    {
     "data": {
      "text/plain": [
       "(79611, 255)"
      ]
     },
     "execution_count": 14,
     "metadata": {},
     "output_type": "execute_result"
    }
   ],
   "source": [
    "X_train.shape"
   ]
  },
  {
   "cell_type": "code",
   "execution_count": 15,
   "metadata": {},
   "outputs": [
    {
     "data": {
      "text/plain": [
       "(79610, 255)"
      ]
     },
     "execution_count": 15,
     "metadata": {},
     "output_type": "execute_result"
    }
   ],
   "source": [
    "X_train.dropna().shape"
   ]
  },
  {
   "cell_type": "code",
   "execution_count": 16,
   "metadata": {},
   "outputs": [
    {
     "data": {
      "text/plain": [
       "(79611, 255)"
      ]
     },
     "execution_count": 16,
     "metadata": {},
     "output_type": "execute_result"
    }
   ],
   "source": [
    "X_train.fillna(method='ffill', inplace=True)\n",
    "X_train.fillna(method='bfill', inplace=True)\n",
    "X_train.dropna().shape"
   ]
  },
  {
   "cell_type": "code",
   "execution_count": 17,
   "metadata": {},
   "outputs": [],
   "source": [
    "# X_train, X_test\n",
    "X_train.to_csv('X_train.csv')"
   ]
  },
  {
   "cell_type": "code",
   "execution_count": 18,
   "metadata": {
    "jupyter": {
     "source_hidden": true
    }
   },
   "outputs": [],
   "source": [
    "col_list = ['Power_mean',\n",
    " 'Power_median',\n",
    " 'Power_variance',\n",
    " 'Power_max',\n",
    " 'Power_min',\n",
    " 'Power_max-min',\n",
    "\n",
    " 'Power_kurtosis',\n",
    " 'Power_skewness',\n",
    " 'engine_speed_mean',\n",
    " 'engine_speed_median',\n",
    " 'engine_speed_variance',\n",
    " 'engine_speed_max',\n",
    " 'engine_speed_min',\n",
    " 'engine_speed_max-min',\n",
    " \n",
    " 'engine_speed_kurtosis',\n",
    " 'engine_speed_skewness',\n",
    " 'VEHICAL_BATTERY_POTENTIAL_mean',\n",
    " 'VEHICAL_BATTERY_POTENTIAL_median',\n",
    " 'VEHICAL_BATTERY_POTENTIAL_variance',\n",
    " 'VEHICAL_BATTERY_POTENTIAL_max',\n",
    " 'VEHICAL_BATTERY_POTENTIAL_min',\n",
    " 'VEHICAL_BATTERY_POTENTIAL_max-min',\n",
    "\n",
    " 'VEHICAL_BATTERY_POTENTIAL_kurtosis',\n",
    " 'VEHICAL_BATTERY_POTENTIAL_skewness',\n",
    " 'FUEL_CONSUM_mean',\n",
    " 'FUEL_CONSUM_median',\n",
    " 'FUEL_CONSUM_variance',\n",
    " 'FUEL_CONSUM_max',\n",
    " 'FUEL_CONSUM_min',\n",
    " 'FUEL_CONSUM_max-min',\n",
    "\n",
    " 'FUEL_CONSUM_kurtosis',\n",
    " 'FUEL_CONSUM_skewness',\n",
    " 'THROTTLE_POS_mean',\n",
    " 'THROTTLE_POS_median',\n",
    " 'THROTTLE_POS_variance',\n",
    " 'THROTTLE_POS_max',\n",
    " 'THROTTLE_POS_min',\n",
    " 'THROTTLE_POS_max-min',\n",
    "\n",
    " 'THROTTLE_POS_kurtosis',\n",
    " 'THROTTLE_POS_skewness',\n",
    " 'ACTUAL_ENGINE_TORQUE_mean',\n",
    " 'ACTUAL_ENGINE_TORQUE_median',\n",
    " 'ACTUAL_ENGINE_TORQUE_variance',\n",
    " 'ACTUAL_ENGINE_TORQUE_max',\n",
    " 'ACTUAL_ENGINE_TORQUE_min',\n",
    " 'ACTUAL_ENGINE_TORQUE_max-min',\n",
    "\n",
    " 'ACTUAL_ENGINE_TORQUE_kurtosis',\n",
    " 'ACTUAL_ENGINE_TORQUE_skewness',\n",
    " 'ENGINE_OIL_TEMP_mean',\n",
    " 'ENGINE_OIL_TEMP_median',\n",
    " 'ENGINE_OIL_TEMP_variance',\n",
    " 'ENGINE_OIL_TEMP_max',\n",
    " 'ENGINE_OIL_TEMP_min',\n",
    " 'ENGINE_OIL_TEMP_max-min',\n",
    "\n",
    " 'ENGINE_OIL_TEMP_kurtosis',\n",
    " 'ENGINE_OIL_TEMP_skewness',\n",
    " 'ENGINE_INTAKE_M_PRESSURE_mean',\n",
    " 'ENGINE_INTAKE_M_PRESSURE_median',\n",
    " 'ENGINE_INTAKE_M_PRESSURE_variance',\n",
    " 'ENGINE_INTAKE_M_PRESSURE_max',\n",
    " 'ENGINE_INTAKE_M_PRESSURE_min',\n",
    " 'ENGINE_INTAKE_M_PRESSURE_max-min',\n",
    "\n",
    " 'ENGINE_INTAKE_M_PRESSURE_kurtosis',\n",
    " 'ENGINE_INTAKE_M_PRESSURE_skewness',\n",
    " 'ENGINE_INTAKE_M_TEMPERATURE_mean',\n",
    " 'ENGINE_INTAKE_M_TEMPERATURE_median',\n",
    " 'ENGINE_INTAKE_M_TEMPERATURE_variance',\n",
    " 'ENGINE_INTAKE_M_TEMPERATURE_max',\n",
    " 'ENGINE_INTAKE_M_TEMPERATURE_min',\n",
    " 'ENGINE_INTAKE_M_TEMPERATURE_max-min',\n",
    "\n",
    " 'ENGINE_INTAKE_M_TEMPERATURE_kurtosis',\n",
    " 'ENGINE_INTAKE_M_TEMPERATURE_skewness',\n",
    " 'ENGINE_AIR_INLET_PRESSURE_mean',\n",
    " 'ENGINE_AIR_INLET_PRESSURE_median',\n",
    " 'ENGINE_AIR_INLET_PRESSURE_variance',\n",
    " 'ENGINE_AIR_INLET_PRESSURE_max',\n",
    " 'ENGINE_AIR_INLET_PRESSURE_min',\n",
    " 'ENGINE_AIR_INLET_PRESSURE_max-min',\n",
    "\n",
    " 'ENGINE_AIR_INLET_PRESSURE_kurtosis',\n",
    " 'ENGINE_AIR_INLET_PRESSURE_skewness',\n",
    " 'AMBIENT_AIR_TEMP_mean',\n",
    " 'AMBIENT_AIR_TEMP_median',\n",
    " 'AMBIENT_AIR_TEMP_variance',\n",
    " 'AMBIENT_AIR_TEMP_max',\n",
    " 'AMBIENT_AIR_TEMP_min',\n",
    " 'AMBIENT_AIR_TEMP_max-min',\n",
    " \n",
    " 'AMBIENT_AIR_TEMP_kurtosis',\n",
    " 'AMBIENT_AIR_TEMP_skewness',\n",
    " 'ENGINE_FUEL_TEMP_1_mean',\n",
    " 'ENGINE_FUEL_TEMP_1_median',\n",
    " 'ENGINE_FUEL_TEMP_1_variance',\n",
    " 'ENGINE_FUEL_TEMP_1_max',\n",
    " 'ENGINE_FUEL_TEMP_1_min',\n",
    " 'ENGINE_FUEL_TEMP_1_max-min',\n",
    "\n",
    " 'ENGINE_FUEL_TEMP_1_kurtosis',\n",
    " 'ENGINE_FUEL_TEMP_1_skewness',\n",
    " 'BAT_CHARGING_CURRENT_mean',\n",
    " 'BAT_CHARGING_CURRENT_median',\n",
    " 'BAT_CHARGING_CURRENT_variance',\n",
    " 'BAT_CHARGING_CURRENT_max',\n",
    " 'BAT_CHARGING_CURRENT_min',\n",
    " 'BAT_CHARGING_CURRENT_max-min',\n",
    "\n",
    " 'BAT_CHARGING_CURRENT_kurtosis',\n",
    " 'BAT_CHARGING_CURRENT_skewness',\n",
    " 'ENGINE_OIL_PRESSURE_mean',\n",
    " 'ENGINE_OIL_PRESSURE_median',\n",
    " 'ENGINE_OIL_PRESSURE_variance',\n",
    " 'ENGINE_OIL_PRESSURE_max',\n",
    " 'ENGINE_OIL_PRESSURE_min',\n",
    " 'ENGINE_OIL_PRESSURE_max-min',\n",
    " \n",
    " 'ENGINE_OIL_PRESSURE_kurtosis',\n",
    " 'ENGINE_OIL_PRESSURE_skewness',\n",
    " 'AIR_PRESSURE_1_mean',\n",
    " 'AIR_PRESSURE_1_median',\n",
    " 'AIR_PRESSURE_1_variance',\n",
    " 'AIR_PRESSURE_1_max',\n",
    " 'AIR_PRESSURE_1_min',\n",
    " 'AIR_PRESSURE_1_max-min',\n",
    "\n",
    " 'AIR_PRESSURE_1_kurtosis',\n",
    " 'AIR_PRESSURE_1_skewness',\n",
    " 'AIR_PRESSURE_2_mean',\n",
    " 'AIR_PRESSURE_2_median',\n",
    " 'AIR_PRESSURE_2_variance',\n",
    " 'AIR_PRESSURE_2_max',\n",
    " 'AIR_PRESSURE_2_min',\n",
    " 'AIR_PRESSURE_2_max-min',\n",
    "\n",
    " 'AIR_PRESSURE_2_kurtosis',\n",
    " 'AIR_PRESSURE_2_skewness',\n",
    " 'AIR_PRESSURE_DIGITAL_mean',\n",
    " 'AIR_PRESSURE_DIGITAL_median',\n",
    " 'AIR_PRESSURE_DIGITAL_variance',\n",
    " 'AIR_PRESSURE_DIGITAL_max',\n",
    " 'AIR_PRESSURE_DIGITAL_min',\n",
    " 'AIR_PRESSURE_DIGITAL_max-min',\n",
    " \n",
    " 'AIR_PRESSURE_DIGITAL_kurtosis',\n",
    " 'AIR_PRESSURE_DIGITAL_skewness',\n",
    " 'ENG_OIL_DIGITAL_mean',\n",
    " 'ENG_OIL_DIGITAL_median',\n",
    " 'ENG_OIL_DIGITAL_variance',\n",
    " 'ENG_OIL_DIGITAL_max',\n",
    " 'ENG_OIL_DIGITAL_min',\n",
    " 'ENG_OIL_DIGITAL_max-min',\n",
    " \n",
    " 'ENG_OIL_DIGITAL_kurtosis',\n",
    " 'ENG_OIL_DIGITAL_skewness',\n",
    " 'eng_coolant_temp_mean',\n",
    " 'eng_coolant_temp_median',\n",
    " 'eng_coolant_temp_variance',\n",
    " 'eng_coolant_temp_max',\n",
    " 'eng_coolant_temp_min',\n",
    " 'eng_coolant_temp_max-min',\n",
    "\n",
    " 'eng_coolant_temp_kurtosis',\n",
    " 'eng_coolant_temp_skewness',\n",
    " 'distance_idle%',\n",
    " 'distance_overrun%',\n",
    " 'distance_decel%',\n",
    " 'distance_accel%',\n",
    " 'time_idle%',\n",
    " 'time_overrun%',\n",
    " 'time_decel%',\n",
    " 'time_accel%',\n",
    " '5409',\n",
    " '535',\n",
    " '525569',\n",
    " '6912',\n",
    " '5888',\n",
    " '6144',\n",
    " '131363',\n",
    " '131619',\n",
    " '8501',\n",
    " '5688',\n",
    " '262288',\n",
    " '131895',\n",
    " '4386',\n",
    " '69888',\n",
    " '5169',\n",
    " '4356',\n",
    " '4406',\n",
    " '131906',\n",
    " '267048',\n",
    " 'total',\n",
    " '22',\n",
    " '4377',\n",
    " '408',\n",
    " '267012',\n",
    " '4390',\n",
    " '9502',\n",
    " '4369',\n",
    " '1315',\n",
    " '4371',\n",
    " '65939',\n",
    " '4613',\n",
    " '1028',\n",
    " '1025',\n",
    " '1030',\n",
    " '1156',\n",
    " '4614',\n",
    " '66104',\n",
    " '1159',\n",
    " '65816',\n",
    " '275',\n",
    " '1344',\n",
    " '5376',\n",
    " '1316',\n",
    " '4374',\n",
    " '66370',\n",
    " '267024',\n",
    " '537',\n",
    " '663',\n",
    " '9501',\n",
    " '70434',\n",
    " '267042',\n",
    " '257',\n",
    " '295',\n",
    " '6657',\n",
    " '131352',\n",
    " '5120',\n",
    " '6400',\n",
    " '66359',\n",
    " '1026',\n",
    " '4626',\n",
    " '1314',\n",
    " '267060',\n",
    " '4385',\n",
    " '5696',\n",
    " '4612',\n",
    " '533',\n",
    " '5634',\n",
    " '4375',\n",
    " '5159',\n",
    " '74065']"
   ]
  },
  {
   "cell_type": "code",
   "execution_count": 19,
   "metadata": {},
   "outputs": [
    {
     "name": "stdout",
     "output_type": "stream",
     "text": [
      "WARNING:tensorflow:From /home/ec2-user/anaconda3/envs/tensorflow_p36/lib/python3.6/site-packages/tensorflow_core/__init__.py:1467: The name tf.estimator.inputs is deprecated. Please use tf.compat.v1.estimator.inputs instead.\n",
      "\n"
     ]
    },
    {
     "name": "stderr",
     "output_type": "stream",
     "text": [
      "Using TensorFlow backend.\n"
     ]
    }
   ],
   "source": [
    "from numpy.random import seed\n",
    "seed(123)\n",
    "from tensorflow import set_random_seed\n",
    "set_random_seed(234)\n",
    "\n",
    "import sklearn\n",
    "from sklearn import datasets\n",
    "import numpy as np\n",
    "from sklearn.model_selection import train_test_split\n",
    "from sklearn.preprocessing import StandardScaler, MinMaxScaler\n",
    "from sklearn import decomposition\n",
    "import scipy\n",
    "\n",
    "import tensorflow as tf\n",
    "from keras.models import Model, load_model\n",
    "from keras.layers import Input, Dense, Layer, InputSpec\n",
    "from keras.callbacks import ModelCheckpoint, TensorBoard\n",
    "from keras import regularizers, activations, initializers, constraints, Sequential\n",
    "from keras import backend as K\n",
    "from keras.constraints import UnitNorm, Constraint"
   ]
  },
  {
   "cell_type": "code",
   "execution_count": 20,
   "metadata": {},
   "outputs": [
    {
     "data": {
      "text/plain": [
       "'1.15.0'"
      ]
     },
     "execution_count": 20,
     "metadata": {},
     "output_type": "execute_result"
    }
   ],
   "source": [
    "tf.__version__"
   ]
  },
  {
   "cell_type": "code",
   "execution_count": 21,
   "metadata": {},
   "outputs": [],
   "source": [
    "scaler = MinMaxScaler()\n",
    "scaler.fit(X_train[col_list])\n",
    "\n",
    "X_train_scaled = scaler.transform(X_train[col_list])\n",
    "\n",
    "X_test_scaled = scaler.transform(X_test[col_list])"
   ]
  },
  {
   "cell_type": "code",
   "execution_count": 22,
   "metadata": {},
   "outputs": [],
   "source": [
    "class DenseTied(Layer):\n",
    "    def __init__(self, units,\n",
    "                 activation=None,\n",
    "                 use_bias=True,\n",
    "                 kernel_initializer='glorot_uniform',\n",
    "                 bias_initializer='zeros',\n",
    "                 kernel_regularizer=None,\n",
    "                 bias_regularizer=None,\n",
    "                 activity_regularizer=None,\n",
    "                 kernel_constraint=None,\n",
    "                 bias_constraint=None,\n",
    "                 tied_to=None,\n",
    "                 **kwargs):\n",
    "        self.tied_to = tied_to\n",
    "        if 'input_shape' not in kwargs and 'input_dim' in kwargs:\n",
    "            kwargs['input_shape'] = (kwargs.pop('input_dim'),)\n",
    "        super().__init__(**kwargs)\n",
    "        self.units = units\n",
    "        self.activation = activations.get(activation)\n",
    "        self.use_bias = use_bias\n",
    "        self.kernel_initializer = initializers.get(kernel_initializer)\n",
    "        self.bias_initializer = initializers.get(bias_initializer)\n",
    "        self.kernel_regularizer = regularizers.get(kernel_regularizer)\n",
    "        self.bias_regularizer = regularizers.get(bias_regularizer)\n",
    "        self.activity_regularizer = regularizers.get(activity_regularizer)\n",
    "        self.kernel_constraint = constraints.get(kernel_constraint)\n",
    "        self.bias_constraint = constraints.get(bias_constraint)\n",
    "        self.input_spec = InputSpec(min_ndim=2)\n",
    "        self.supports_masking = True\n",
    "                \n",
    "    def build(self, input_shape):\n",
    "        assert len(input_shape) >= 2\n",
    "        input_dim = input_shape[-1]\n",
    "\n",
    "        if self.tied_to is not None:\n",
    "            self.kernel = K.transpose(self.tied_to.kernel)\n",
    "            self._non_trainable_weights.append(self.kernel)\n",
    "        else:\n",
    "            self.kernel = self.add_weight(shape=(input_dim, self.units),\n",
    "                                          initializer=self.kernel_initializer,\n",
    "                                          name='kernel',\n",
    "                                          regularizer=self.kernel_regularizer,\n",
    "                                          constraint=self.kernel_constraint)\n",
    "        if self.use_bias:\n",
    "            self.bias = self.add_weight(shape=(self.units,),\n",
    "                                        initializer=self.bias_initializer,\n",
    "                                        name='bias',\n",
    "                                        regularizer=self.bias_regularizer,\n",
    "                                        constraint=self.bias_constraint)\n",
    "        else:\n",
    "            self.bias = None\n",
    "        self.input_spec = InputSpec(min_ndim=2, axes={-1: input_dim})\n",
    "        self.built = True\n",
    "\n",
    "    def compute_output_shape(self, input_shape):\n",
    "        assert input_shape and len(input_shape) >= 2\n",
    "        output_shape = list(input_shape)\n",
    "        output_shape[-1] = self.units\n",
    "        return tuple(output_shape)\n",
    "\n",
    "    def call(self, inputs):\n",
    "        output = K.dot(inputs, self.kernel)\n",
    "        if self.use_bias:\n",
    "            output = K.bias_add(output, self.bias, data_format='channels_last')\n",
    "        if self.activation is not None:\n",
    "            output = self.activation(output)\n",
    "        return output"
   ]
  },
  {
   "cell_type": "code",
   "execution_count": 23,
   "metadata": {},
   "outputs": [
    {
     "name": "stdout",
     "output_type": "stream",
     "text": [
      "WARNING:tensorflow:From /home/ec2-user/anaconda3/envs/tensorflow_p36/lib/python3.6/site-packages/keras/backend/tensorflow_backend.py:74: The name tf.get_default_graph is deprecated. Please use tf.compat.v1.get_default_graph instead.\n",
      "\n",
      "WARNING:tensorflow:From /home/ec2-user/anaconda3/envs/tensorflow_p36/lib/python3.6/site-packages/keras/backend/tensorflow_backend.py:517: The name tf.placeholder is deprecated. Please use tf.compat.v1.placeholder instead.\n",
      "\n",
      "WARNING:tensorflow:From /home/ec2-user/anaconda3/envs/tensorflow_p36/lib/python3.6/site-packages/keras/backend/tensorflow_backend.py:4138: The name tf.random_uniform is deprecated. Please use tf.random.uniform instead.\n",
      "\n",
      "WARNING:tensorflow:From /home/ec2-user/anaconda3/envs/tensorflow_p36/lib/python3.6/site-packages/keras/optimizers.py:790: The name tf.train.Optimizer is deprecated. Please use tf.compat.v1.train.Optimizer instead.\n",
      "\n",
      "_________________________________________________________________\n",
      "Layer (type)                 Output Shape              Param #   \n",
      "=================================================================\n",
      "dense_1 (Dense)              (None, 24)                5544      \n",
      "_________________________________________________________________\n",
      "dense_tied_1 (DenseTied)     (None, 230)               5520      \n",
      "=================================================================\n",
      "Total params: 11,064\n",
      "Trainable params: 5,544\n",
      "Non-trainable params: 5,520\n",
      "_________________________________________________________________\n",
      "WARNING:tensorflow:From /home/ec2-user/anaconda3/envs/tensorflow_p36/lib/python3.6/site-packages/keras/backend/tensorflow_backend.py:986: The name tf.assign_add is deprecated. Please use tf.compat.v1.assign_add instead.\n",
      "\n",
      "WARNING:tensorflow:From /home/ec2-user/anaconda3/envs/tensorflow_p36/lib/python3.6/site-packages/keras/backend/tensorflow_backend.py:973: The name tf.assign is deprecated. Please use tf.compat.v1.assign instead.\n",
      "\n",
      "WARNING:tensorflow:From /home/ec2-user/anaconda3/envs/tensorflow_p36/lib/python3.6/site-packages/keras/backend/tensorflow_backend.py:2741: The name tf.Session is deprecated. Please use tf.compat.v1.Session instead.\n",
      "\n",
      "WARNING:tensorflow:From /home/ec2-user/anaconda3/envs/tensorflow_p36/lib/python3.6/site-packages/keras/backend/tensorflow_backend.py:174: The name tf.get_default_session is deprecated. Please use tf.compat.v1.get_default_session instead.\n",
      "\n",
      "WARNING:tensorflow:From /home/ec2-user/anaconda3/envs/tensorflow_p36/lib/python3.6/site-packages/keras/backend/tensorflow_backend.py:184: The name tf.ConfigProto is deprecated. Please use tf.compat.v1.ConfigProto instead.\n",
      "\n",
      "WARNING:tensorflow:From /home/ec2-user/anaconda3/envs/tensorflow_p36/lib/python3.6/site-packages/keras/backend/tensorflow_backend.py:190: The name tf.global_variables is deprecated. Please use tf.compat.v1.global_variables instead.\n",
      "\n",
      "WARNING:tensorflow:From /home/ec2-user/anaconda3/envs/tensorflow_p36/lib/python3.6/site-packages/keras/backend/tensorflow_backend.py:199: The name tf.is_variable_initialized is deprecated. Please use tf.compat.v1.is_variable_initialized instead.\n",
      "\n",
      "WARNING:tensorflow:From /home/ec2-user/anaconda3/envs/tensorflow_p36/lib/python3.6/site-packages/keras/backend/tensorflow_backend.py:206: The name tf.variables_initializer is deprecated. Please use tf.compat.v1.variables_initializer instead.\n",
      "\n"
     ]
    },
    {
     "data": {
      "text/plain": [
       "<keras.callbacks.History at 0x7f33e14dab38>"
      ]
     },
     "execution_count": 23,
     "metadata": {},
     "output_type": "execute_result"
    }
   ],
   "source": [
    "encoding_dim = 24\n",
    "input_dim = len(col_list)\n",
    "batch_size = 200\n",
    "encoder = Dense(encoding_dim, activation=\"linear\", input_shape=(input_dim,), use_bias = True) \n",
    "decoder = DenseTied(input_dim, activation=\"linear\", tied_to=encoder, use_bias = False)\n",
    "\n",
    "autoencoder = Sequential()\n",
    "autoencoder.add(encoder)\n",
    "autoencoder.add(decoder)\n",
    "\n",
    "autoencoder.compile(metrics=['accuracy'],\n",
    "                    loss='mean_squared_error',\n",
    "                    optimizer='sgd')\n",
    "autoencoder.summary()\n",
    "\n",
    "autoencoder.fit(X_train_scaled, X_train_scaled,\n",
    "                epochs=3,\n",
    "                batch_size=batch_size,\n",
    "                shuffle=True,\n",
    "                verbose=0)"
   ]
  },
  {
   "cell_type": "code",
   "execution_count": 24,
   "metadata": {
    "collapsed": true,
    "jupyter": {
     "outputs_hidden": true
    }
   },
   "outputs": [
    {
     "name": "stdout",
     "output_type": "stream",
     "text": [
      "Encoder weights\n",
      " [[-0.071  0.076  0.03  ...  0.05  -0.089 -0.149]\n",
      " [-0.144 -0.09   0.155 ...  0.098 -0.086  0.014]\n",
      " [-0.007 -0.151  0.017 ...  0.054  0.117  0.043]\n",
      " ...\n",
      " [-0.056 -0.051  0.133 ... -0.067  0.099  0.051]\n",
      " [ 0.022 -0.099  0.099 ...  0.133  0.066  0.124]\n",
      " [ 0.117 -0.001  0.015 ... -0.015  0.131  0.062]]\n",
      "Decoder weights\n",
      " [[-0.071  0.076  0.03  ...  0.05  -0.089 -0.149]\n",
      " [-0.144 -0.09   0.155 ...  0.098 -0.086  0.014]\n",
      " [-0.007 -0.151  0.017 ...  0.054  0.117  0.043]\n",
      " ...\n",
      " [-0.056 -0.051  0.133 ... -0.067  0.099  0.051]\n",
      " [ 0.022 -0.099  0.099 ...  0.133  0.066  0.124]\n",
      " [ 0.117 -0.001  0.015 ... -0.015  0.131  0.062]]\n"
     ]
    }
   ],
   "source": [
    "w_encoder = np.round(np.transpose(autoencoder.layers[0].get_weights()[0]), 3)\n",
    "w_decoder = np.round(autoencoder.layers[1].get_weights()[0], 3)\n",
    "print('Encoder weights\\n', w_encoder)\n",
    "print('Decoder weights\\n', w_decoder)"
   ]
  },
  {
   "cell_type": "code",
   "execution_count": 25,
   "metadata": {},
   "outputs": [
    {
     "name": "stdout",
     "output_type": "stream",
     "text": [
      "Train reconstrunction error\n",
      " 0.013005921384764035\n",
      "Test reconstrunction error\n",
      " 0.2733842057915587\n"
     ]
    }
   ],
   "source": [
    "train_predictions = autoencoder.predict(X_train_scaled)\n",
    "print('Train reconstrunction error\\n', sklearn.metrics.mean_squared_error(X_train_scaled, train_predictions))\n",
    "test_predictions = autoencoder.predict(X_test_scaled)\n",
    "print('Test reconstrunction error\\n', sklearn.metrics.mean_squared_error(X_test_scaled, test_predictions))"
   ]
  },
  {
   "cell_type": "code",
   "execution_count": 26,
   "metadata": {},
   "outputs": [
    {
     "name": "stdout",
     "output_type": "stream",
     "text": [
      "_________________________________________________________________\n",
      "Layer (type)                 Output Shape              Param #   \n",
      "=================================================================\n",
      "dense_2 (Dense)              (None, 24)                5544      \n",
      "_________________________________________________________________\n",
      "dense_tied_2 (DenseTied)     (None, 230)               5750      \n",
      "=================================================================\n",
      "Total params: 11,294\n",
      "Trainable params: 5,774\n",
      "Non-trainable params: 5,520\n",
      "_________________________________________________________________\n"
     ]
    },
    {
     "data": {
      "text/plain": [
       "<keras.callbacks.History at 0x7f33e1485e80>"
      ]
     },
     "execution_count": 26,
     "metadata": {},
     "output_type": "execute_result"
    }
   ],
   "source": [
    "nb_epoch = 100\n",
    "\n",
    "encoder = Dense(encoding_dim, activation=\"linear\", input_shape=(input_dim,), use_bias = True) \n",
    "decoder = DenseTied(input_dim, activation=\"linear\", tied_to=encoder, use_bias = True)\n",
    "\n",
    "autoencoder = Sequential()\n",
    "autoencoder.add(encoder)\n",
    "autoencoder.add(decoder)\n",
    "\n",
    "autoencoder.compile(metrics=['accuracy'],\n",
    "                    loss='mean_squared_error',\n",
    "                    optimizer='sgd')\n",
    "autoencoder.summary()\n",
    "\n",
    "autoencoder.fit(X_train_scaled, X_train_scaled,\n",
    "                epochs=nb_epoch,\n",
    "                batch_size=batch_size,\n",
    "                shuffle=True,\n",
    "                verbose=0)"
   ]
  },
  {
   "cell_type": "code",
   "execution_count": 27,
   "metadata": {
    "collapsed": true,
    "jupyter": {
     "outputs_hidden": true
    }
   },
   "outputs": [
    {
     "name": "stdout",
     "output_type": "stream",
     "text": [
      "Encoder weights\n",
      " [[-0.008 -0.103 -0.136 ...  0.051 -0.036  0.081]\n",
      " [ 0.001 -0.036  0.147 ...  0.095 -0.091 -0.088]\n",
      " [ 0.089  0.082  0.002 ... -0.098 -0.019 -0.138]\n",
      " ...\n",
      " [ 0.038  0.093 -0.076 ... -0.134 -0.064  0.133]\n",
      " [-0.03  -0.081 -0.052 ... -0.068  0.13   0.028]\n",
      " [ 0.015 -0.136  0.135 ...  0.129  0.05  -0.109]]\n",
      "Decoder weights\n",
      " [[-0.008 -0.103 -0.136 ...  0.051 -0.036  0.081]\n",
      " [ 0.001 -0.036  0.147 ...  0.095 -0.091 -0.088]\n",
      " [ 0.089  0.082  0.002 ... -0.098 -0.019 -0.138]\n",
      " ...\n",
      " [ 0.038  0.093 -0.076 ... -0.134 -0.064  0.133]\n",
      " [-0.03  -0.081 -0.052 ... -0.068  0.13   0.028]\n",
      " [ 0.015 -0.136  0.135 ...  0.129  0.05  -0.109]]\n"
     ]
    }
   ],
   "source": [
    "w_encoder = np.round(np.transpose(autoencoder.layers[0].get_weights()[0]), 3)\n",
    "w_decoder = np.round(autoencoder.layers[1].get_weights()[1], 3)\n",
    "print('Encoder weights\\n', w_encoder)\n",
    "print('Decoder weights\\n', w_decoder)"
   ]
  },
  {
   "cell_type": "code",
   "execution_count": 28,
   "metadata": {
    "collapsed": true,
    "jupyter": {
     "outputs_hidden": true
    }
   },
   "outputs": [
    {
     "name": "stdout",
     "output_type": "stream",
     "text": [
      "Encoder bias\n",
      " [ 0.021  0.024 -0.009  0.    -0.003  0.001  0.02  -0.017 -0.018 -0.007\n",
      "  0.004  0.001 -0.02  -0.02  -0.021  0.004 -0.022  0.006  0.016 -0.008\n",
      "  0.009 -0.009  0.005 -0.025]\n",
      "Decoder bias\n",
      " [ 0.01   0.003  0.001  0.033  0.062 -0.002  0.009  0.046  0.044  0.042\n",
      "  0.016  0.026 -0.011  0.026  0.006  0.039  0.055  0.028  0.005  0.062\n",
      "  0.053  0.013 -0.039  0.056  0.007  0.019  0.02   0.045  0.027 -0.018\n",
      "  0.021  0.043  0.012 -0.006  0.049  0.023 -0.005  0.039 -0.006  0.02\n",
      "  0.015  0.029  0.032  0.05  -0.001  0.02  -0.015  0.025  0.04  -0.017\n",
      " -0.013  0.036  0.051  0.009 -0.01   0.045 -0.022  0.002  0.023 -0.01\n",
      " -0.007  0.     0.026  0.02  -0.002  0.007 -0.007  0.008  0.057  0.001\n",
      "  0.031  0.023  0.045 -0.007  0.02   0.017  0.032 -0.008  0.031  0.025\n",
      " -0.023  0.004 -0.004 -0.024 -0.017 -0.006  0.017  0.047  0.009  0.033\n",
      "  0.007  0.021 -0.005 -0.009 -0.004  0.005  0.045 -0.011 -0.018  0.004\n",
      "  0.023 -0.034  0.007 -0.001  0.048  0.017  0.005  0.026 -0.014  0.033\n",
      "  0.028  0.013  0.026  0.024  0.002  0.04  -0.007  0.023  0.002  0.019\n",
      "  0.045  0.016 -0.021  0.014 -0.037  0.007 -0.004  0.033  0.004  0.043\n",
      "  0.013  0.036 -0.005  0.017 -0.007  0.036  0.018 -0.033  0.008 -0.014\n",
      "  0.019  0.015 -0.004  0.047  0.056  0.066 -0.007  0.039  0.037 -0.004\n",
      "  0.029  0.034 -0.008  0.012  0.028  0.041  0.084  0.078  0.033  0.025\n",
      "  0.008 -0.027 -0.009  0.043 -0.012 -0.022  0.023  0.002  0.035  0.018\n",
      "  0.006 -0.025 -0.02  -0.006  0.004  0.003 -0.015 -0.003 -0.007  0.005\n",
      " -0.032 -0.011 -0.011  0.021 -0.039 -0.017 -0.016  0.008 -0.01  -0.005\n",
      " -0.029 -0.024  0.02   0.029 -0.016  0.026  0.026 -0.017 -0.02   0.016\n",
      " -0.027 -0.048  0.004  0.004  0.02  -0.011  0.019 -0.003 -0.011 -0.007\n",
      " -0.014 -0.008  0.005 -0.004 -0.002 -0.026  0.014  0.036 -0.019 -0.006\n",
      " -0.01  -0.018  0.008 -0.005  0.016  0.029 -0.005  0.    -0.044  0.005]\n"
     ]
    }
   ],
   "source": [
    "b_encoder = np.round(np.transpose(autoencoder.layers[0].get_weights()[1]), 3)\n",
    "b_decoder = np.round(np.transpose(autoencoder.layers[1].get_weights()[0]), 3)\n",
    "print('Encoder bias\\n', b_encoder)\n",
    "print('Decoder bias\\n', b_decoder)"
   ]
  },
  {
   "cell_type": "code",
   "execution_count": 29,
   "metadata": {},
   "outputs": [
    {
     "name": "stdout",
     "output_type": "stream",
     "text": [
      "Train reconstrunction error\n",
      " 0.004256277177017816\n",
      "Test reconstrunction error\n",
      " 0.25544716440876064\n"
     ]
    }
   ],
   "source": [
    "train_predictions = autoencoder.predict(X_train_scaled)\n",
    "print('Train reconstrunction error\\n', sklearn.metrics.mean_squared_error(X_train_scaled, train_predictions))\n",
    "test_predictions = autoencoder.predict(X_test_scaled)\n",
    "print('Test reconstrunction error\\n', sklearn.metrics.mean_squared_error(X_test_scaled, test_predictions))"
   ]
  },
  {
   "cell_type": "code",
   "execution_count": 30,
   "metadata": {},
   "outputs": [],
   "source": [
    "class WeightsOrthogonalityConstraint (Constraint):\n",
    "    def __init__(self, encoding_dim, weightage = 1.0, axis = 0):\n",
    "        self.encoding_dim = encoding_dim\n",
    "        self.weightage = weightage\n",
    "        self.axis = axis\n",
    "        \n",
    "    def weights_orthogonality(self, w):\n",
    "        if(self.axis==1):\n",
    "            w = K.transpose(w)\n",
    "        if(self.encoding_dim > 1):\n",
    "            m = K.dot(K.transpose(w), w) - K.eye(self.encoding_dim)\n",
    "            return self.weightage * K.sqrt(K.sum(K.square(m)))\n",
    "        else:\n",
    "            m = K.sum(w ** 2) - 1.\n",
    "            return m\n",
    "\n",
    "    def __call__(self, w):\n",
    "        return self.weights_orthogonality(w)"
   ]
  },
  {
   "cell_type": "code",
   "execution_count": 31,
   "metadata": {
    "collapsed": true,
    "jupyter": {
     "outputs_hidden": true
    }
   },
   "outputs": [
    {
     "name": "stdout",
     "output_type": "stream",
     "text": [
      "_________________________________________________________________\n",
      "Layer (type)                 Output Shape              Param #   \n",
      "=================================================================\n",
      "dense_3 (Dense)              (None, 24)                5544      \n",
      "_________________________________________________________________\n",
      "dense_4 (Dense)              (None, 230)               5750      \n",
      "=================================================================\n",
      "Total params: 11,294\n",
      "Trainable params: 11,294\n",
      "Non-trainable params: 0\n",
      "_________________________________________________________________\n",
      "WARNING:tensorflow:From /home/ec2-user/anaconda3/envs/tensorflow_p36/lib/python3.6/site-packages/tensorflow_core/python/ops/math_grad.py:1424: where (from tensorflow.python.ops.array_ops) is deprecated and will be removed in a future version.\n",
      "Instructions for updating:\n",
      "Use tf.where in 2.0, which has the same broadcast rule as np.where\n"
     ]
    },
    {
     "data": {
      "text/plain": [
       "<keras.callbacks.History at 0x7f33e033ee10>"
      ]
     },
     "execution_count": 31,
     "metadata": {},
     "output_type": "execute_result"
    }
   ],
   "source": [
    "encoder = Dense(encoding_dim, activation=\"linear\", input_shape=(input_dim,), use_bias=True, kernel_regularizer=WeightsOrthogonalityConstraint(encoding_dim, weightage=1., axis=0)) \n",
    "decoder = Dense(input_dim, activation=\"linear\", use_bias = True)\n",
    "\n",
    "autoencoder = Sequential()\n",
    "autoencoder.add(encoder)\n",
    "autoencoder.add(decoder)\n",
    "\n",
    "autoencoder.compile(metrics=['accuracy'],\n",
    "                    loss='mean_squared_error',\n",
    "                    optimizer='sgd')\n",
    "autoencoder.summary()\n",
    "\n",
    "autoencoder.fit(X_train_scaled, X_train_scaled,\n",
    "                epochs=nb_epoch,\n",
    "                batch_size=batch_size,\n",
    "                shuffle=True,\n",
    "                verbose=0)"
   ]
  },
  {
   "cell_type": "code",
   "execution_count": 32,
   "metadata": {
    "collapsed": true,
    "jupyter": {
     "outputs_hidden": true
    }
   },
   "outputs": [
    {
     "name": "stdout",
     "output_type": "stream",
     "text": [
      "Encoder weights dot product\n",
      " [[ 1. -0.  0.  0.  0. -0. -0. -0.  0. -0. -0. -0.  0.  0. -0. -0.  0.  0.\n",
      "   0.  0. -0. -0.  0.  0.]\n",
      " [-0.  1.  0.  0. -0.  0. -0. -0.  0. -0. -0. -0.  0. -0. -0. -0.  0.  0.\n",
      "   0. -0.  0. -0.  0. -0.]\n",
      " [ 0.  0.  1. -0.  0.  0.  0.  0. -0.  0.  0.  0. -0.  0.  0.  0. -0. -0.\n",
      "  -0.  0.  0.  0. -0. -0.]\n",
      " [ 0.  0. -0.  1. -0.  0.  0. -0.  0. -0.  0. -0.  0. -0. -0.  0. -0. -0.\n",
      "   0. -0.  0.  0. -0. -0.]\n",
      " [ 0. -0.  0. -0.  1. -0. -0.  0. -0.  0. -0.  0. -0.  0.  0.  0. -0.  0.\n",
      "  -0.  0. -0.  0. -0.  0.]\n",
      " [-0.  0.  0.  0. -0.  1. -0. -0.  0. -0. -0. -0.  0. -0. -0. -0.  0.  0.\n",
      "   0. -0.  0. -0.  0. -0.]\n",
      " [-0. -0.  0.  0. -0. -0.  1. -0.  0. -0. -0. -0.  0. -0. -0. -0.  0.  0.\n",
      "   0. -0. -0. -0.  0.  0.]\n",
      " [-0. -0.  0. -0.  0. -0. -0.  1. -0.  0. -0.  0. -0.  0.  0.  0. -0.  0.\n",
      "  -0.  0. -0.  0. -0.  0.]\n",
      " [ 0.  0. -0.  0. -0.  0.  0. -0.  1. -0.  0. -0.  0. -0. -0.  0. -0. -0.\n",
      "   0. -0.  0.  0. -0. -0.]\n",
      " [-0. -0.  0. -0.  0. -0. -0.  0. -0.  1. -0.  0. -0.  0.  0. -0.  0.  0.\n",
      "  -0.  0. -0. -0.  0.  0.]\n",
      " [-0. -0.  0.  0. -0. -0. -0. -0.  0. -0.  1. -0.  0. -0. -0. -0.  0.  0.\n",
      "   0. -0. -0. -0.  0.  0.]\n",
      " [-0. -0.  0. -0.  0. -0. -0.  0. -0.  0. -0.  1. -0.  0.  0. -0.  0.  0.\n",
      "  -0.  0. -0. -0.  0.  0.]\n",
      " [ 0.  0. -0.  0. -0.  0.  0. -0.  0. -0.  0. -0.  1. -0. -0. -0. -0. -0.\n",
      "   0. -0.  0.  0. -0. -0.]\n",
      " [ 0. -0.  0. -0.  0. -0. -0.  0. -0.  0. -0.  0. -0.  1.  0.  0. -0.  0.\n",
      "  -0.  0. -0.  0. -0.  0.]\n",
      " [-0. -0.  0. -0.  0. -0. -0.  0. -0.  0. -0.  0. -0.  0.  1.  0. -0.  0.\n",
      "  -0.  0. -0.  0. -0.  0.]\n",
      " [-0. -0.  0.  0.  0. -0. -0.  0.  0. -0. -0. -0. -0.  0.  0.  1.  0.  0.\n",
      "  -0.  0. -0. -0.  0.  0.]\n",
      " [ 0.  0. -0. -0. -0.  0.  0. -0. -0.  0.  0.  0. -0. -0. -0.  0.  1. -0.\n",
      "   0. -0.  0.  0. -0. -0.]\n",
      " [ 0.  0. -0. -0.  0.  0.  0.  0. -0.  0.  0.  0. -0.  0.  0.  0. -0.  1.\n",
      "  -0.  0.  0.  0. -0. -0.]\n",
      " [ 0.  0. -0.  0. -0.  0.  0. -0.  0. -0.  0. -0.  0. -0. -0. -0.  0. -0.\n",
      "   1. -0.  0. -0.  0. -0.]\n",
      " [ 0. -0.  0. -0.  0. -0. -0.  0. -0.  0. -0.  0. -0.  0.  0.  0. -0.  0.\n",
      "  -0.  1. -0.  0. -0.  0.]\n",
      " [-0.  0.  0.  0. -0.  0. -0. -0.  0. -0. -0. -0.  0. -0. -0. -0.  0.  0.\n",
      "   0. -0.  1. -0.  0. -0.]\n",
      " [-0. -0.  0.  0.  0. -0. -0.  0.  0. -0. -0. -0.  0.  0.  0. -0.  0.  0.\n",
      "  -0.  0. -0.  1.  0.  0.]\n",
      " [ 0.  0. -0. -0. -0.  0.  0. -0. -0.  0.  0.  0. -0. -0. -0.  0. -0. -0.\n",
      "   0. -0.  0.  0.  1. -0.]\n",
      " [ 0. -0. -0. -0.  0. -0.  0.  0. -0.  0.  0.  0. -0.  0.  0.  0. -0. -0.\n",
      "  -0.  0. -0.  0. -0.  1.]]\n"
     ]
    }
   ],
   "source": [
    "w_encoder = autoencoder.layers[0].get_weights()[0]\n",
    "print('Encoder weights dot product\\n', np.round(np.dot(w_encoder.T, w_encoder), 2))"
   ]
  },
  {
   "cell_type": "code",
   "execution_count": 33,
   "metadata": {},
   "outputs": [
    {
     "name": "stdout",
     "output_type": "stream",
     "text": [
      "Train reconstrunction error\n",
      " 0.005830682917710691\n",
      "Test reconstrunction error\n",
      " 0.31550189676230933\n"
     ]
    }
   ],
   "source": [
    "train_predictions = autoencoder.predict(X_train_scaled)\n",
    "print('Train reconstrunction error\\n', sklearn.metrics.mean_squared_error(X_train_scaled, train_predictions))\n",
    "test_predictions = autoencoder.predict(X_test_scaled)\n",
    "print('Test reconstrunction error\\n', sklearn.metrics.mean_squared_error(X_test_scaled, test_predictions))"
   ]
  },
  {
   "cell_type": "code",
   "execution_count": 34,
   "metadata": {},
   "outputs": [
    {
     "name": "stdout",
     "output_type": "stream",
     "text": [
      "_________________________________________________________________\n",
      "Layer (type)                 Output Shape              Param #   \n",
      "=================================================================\n",
      "dense_5 (Dense)              (None, 24)                5544      \n",
      "_________________________________________________________________\n",
      "dense_6 (Dense)              (None, 230)               5750      \n",
      "=================================================================\n",
      "Total params: 11,294\n",
      "Trainable params: 11,294\n",
      "Non-trainable params: 0\n",
      "_________________________________________________________________\n"
     ]
    },
    {
     "data": {
      "text/plain": [
       "<keras.callbacks.History at 0x7f33e02e42e8>"
      ]
     },
     "execution_count": 34,
     "metadata": {},
     "output_type": "execute_result"
    }
   ],
   "source": [
    "encoder = Dense(encoding_dim, activation=\"linear\", input_shape=(input_dim,), use_bias=True, kernel_regularizer=WeightsOrthogonalityConstraint(encoding_dim, weightage=1., axis=0)) \n",
    "decoder = Dense(input_dim, activation=\"linear\", use_bias = True, kernel_regularizer=WeightsOrthogonalityConstraint(encoding_dim, weightage=1., axis=1))\n",
    "\n",
    "autoencoder = Sequential()\n",
    "autoencoder.add(encoder)\n",
    "autoencoder.add(decoder)\n",
    "\n",
    "autoencoder.compile(metrics=['accuracy'],\n",
    "                    loss='mean_squared_error',\n",
    "                    optimizer='sgd')\n",
    "autoencoder.summary()\n",
    "\n",
    "autoencoder.fit(X_train_scaled, X_train_scaled,\n",
    "                epochs=nb_epoch,\n",
    "                batch_size=batch_size,\n",
    "                shuffle=True,\n",
    "                verbose=0)"
   ]
  },
  {
   "cell_type": "code",
   "execution_count": 35,
   "metadata": {
    "collapsed": true,
    "jupyter": {
     "outputs_hidden": true
    }
   },
   "outputs": [
    {
     "name": "stdout",
     "output_type": "stream",
     "text": [
      "Encoder weights dot product\n",
      " [[ 1. -0.  0.  0.  0. -0.  0.  0.  0.  0. -0.  0. -0. -0.  0. -0. -0.  0.\n",
      "   0. -0. -0.  0. -0. -0.]\n",
      " [-0.  1. -0.  0.  0.  0. -0. -0.  0.  0.  0.  0. -0. -0.  0.  0.  0. -0.\n",
      "   0.  0. -0. -0.  0.  0.]\n",
      " [ 0. -0.  1. -0. -0. -0. -0.  0. -0. -0.  0. -0.  0.  0. -0. -0. -0. -0.\n",
      "  -0. -0.  0. -0. -0.  0.]\n",
      " [ 0.  0. -0.  1. -0.  0. -0. -0. -0. -0.  0. -0.  0.  0. -0.  0.  0. -0.\n",
      "  -0.  0.  0. -0.  0.  0.]\n",
      " [ 0.  0. -0. -0.  1.  0. -0. -0. -0.  0.  0. -0. -0.  0. -0.  0.  0. -0.\n",
      "  -0.  0.  0. -0.  0.  0.]\n",
      " [-0.  0. -0.  0.  0.  1. -0. -0. -0.  0.  0. -0. -0.  0.  0.  0.  0. -0.\n",
      "   0.  0.  0. -0.  0.  0.]\n",
      " [ 0. -0. -0. -0. -0. -0.  1.  0. -0. -0. -0. -0.  0.  0. -0. -0. -0. -0.\n",
      "  -0. -0.  0. -0. -0.  0.]\n",
      " [ 0. -0.  0. -0. -0. -0.  0.  1.  0. -0. -0.  0.  0. -0. -0. -0. -0.  0.\n",
      "  -0. -0.  0.  0. -0. -0.]\n",
      " [ 0.  0. -0. -0. -0. -0. -0.  0.  1. -0.  0. -0.  0.  0. -0. -0. -0. -0.\n",
      "  -0. -0.  0. -0. -0.  0.]\n",
      " [ 0.  0. -0. -0.  0.  0. -0. -0. -0.  1.  0. -0. -0.  0.  0.  0.  0. -0.\n",
      "   0.  0.  0. -0.  0.  0.]\n",
      " [-0.  0.  0.  0.  0.  0. -0. -0.  0.  0.  1.  0. -0. -0.  0.  0.  0. -0.\n",
      "   0.  0. -0. -0.  0. -0.]\n",
      " [ 0.  0. -0. -0. -0. -0. -0.  0. -0. -0.  0.  1.  0.  0. -0. -0. -0. -0.\n",
      "  -0. -0.  0. -0. -0.  0.]\n",
      " [-0. -0.  0.  0. -0. -0.  0.  0.  0. -0. -0.  0.  1. -0. -0. -0. -0.  0.\n",
      "  -0. -0. -0.  0. -0. -0.]\n",
      " [-0. -0.  0.  0.  0.  0.  0. -0.  0.  0. -0.  0. -0.  1.  0. -0.  0.  0.\n",
      "   0. -0. -0.  0.  0. -0.]\n",
      " [ 0.  0. -0. -0. -0.  0. -0. -0. -0.  0.  0. -0. -0.  0.  1.  0.  0. -0.\n",
      "  -0.  0.  0. -0.  0.  0.]\n",
      " [-0.  0. -0.  0.  0.  0. -0. -0. -0.  0.  0. -0. -0. -0.  0.  1.  0. -0.\n",
      "   0.  0. -0. -0.  0.  0.]\n",
      " [-0.  0. -0.  0.  0.  0. -0. -0. -0.  0.  0. -0. -0.  0.  0.  0.  1. -0.\n",
      "   0.  0. -0. -0.  0.  0.]\n",
      " [ 0. -0. -0. -0. -0. -0. -0.  0. -0. -0. -0. -0.  0.  0. -0. -0. -0.  1.\n",
      "  -0. -0.  0. -0. -0.  0.]\n",
      " [ 0.  0. -0. -0. -0.  0. -0. -0. -0.  0.  0. -0. -0.  0. -0.  0.  0. -0.\n",
      "   1.  0.  0. -0.  0.  0.]\n",
      " [-0.  0. -0.  0.  0.  0. -0. -0. -0.  0.  0. -0. -0. -0.  0.  0.  0. -0.\n",
      "   0.  1. -0. -0.  0.  0.]\n",
      " [-0. -0.  0.  0.  0.  0.  0.  0.  0.  0. -0.  0. -0. -0.  0. -0. -0.  0.\n",
      "   0. -0.  1.  0. -0. -0.]\n",
      " [ 0. -0. -0. -0. -0. -0. -0.  0. -0. -0. -0. -0.  0.  0. -0. -0. -0. -0.\n",
      "  -0. -0.  0.  1. -0.  0.]\n",
      " [-0.  0. -0.  0.  0.  0. -0. -0. -0.  0.  0. -0. -0.  0.  0.  0.  0. -0.\n",
      "   0.  0. -0. -0.  1.  0.]\n",
      " [-0.  0.  0.  0.  0.  0.  0. -0.  0.  0. -0.  0. -0. -0.  0.  0.  0.  0.\n",
      "   0.  0. -0.  0.  0.  1.]]\n",
      "Decoder weights dot product\n",
      " [[ 1. -0.  0.  0.  0. -0.  0.  0.  0.  0. -0.  0. -0. -0.  0. -0. -0.  0.\n",
      "   0. -0. -0.  0. -0. -0.]\n",
      " [-0.  1. -0.  0.  0.  0. -0. -0.  0.  0.  0.  0. -0. -0.  0.  0.  0. -0.\n",
      "   0.  0. -0. -0.  0.  0.]\n",
      " [ 0. -0.  1. -0. -0. -0. -0.  0. -0. -0.  0. -0.  0.  0. -0. -0. -0. -0.\n",
      "  -0. -0.  0. -0. -0.  0.]\n",
      " [ 0.  0. -0.  1. -0.  0. -0. -0. -0. -0.  0. -0.  0.  0. -0.  0.  0. -0.\n",
      "  -0.  0.  0. -0.  0.  0.]\n",
      " [ 0.  0. -0. -0.  1.  0. -0. -0. -0.  0.  0. -0. -0.  0. -0.  0.  0. -0.\n",
      "  -0.  0.  0. -0.  0.  0.]\n",
      " [-0.  0. -0.  0.  0.  1. -0. -0. -0.  0.  0. -0. -0.  0.  0.  0.  0. -0.\n",
      "   0.  0.  0. -0.  0.  0.]\n",
      " [ 0. -0. -0. -0. -0. -0.  1.  0. -0. -0. -0. -0.  0.  0. -0. -0. -0. -0.\n",
      "  -0. -0.  0. -0. -0.  0.]\n",
      " [ 0. -0.  0. -0. -0. -0.  0.  1.  0. -0. -0.  0.  0. -0. -0. -0. -0.  0.\n",
      "  -0. -0.  0.  0. -0. -0.]\n",
      " [ 0.  0. -0. -0. -0. -0. -0.  0.  1. -0.  0. -0.  0.  0. -0. -0. -0. -0.\n",
      "  -0. -0.  0. -0. -0.  0.]\n",
      " [ 0.  0. -0. -0.  0.  0. -0. -0. -0.  1.  0. -0. -0.  0.  0.  0.  0. -0.\n",
      "   0.  0.  0. -0.  0.  0.]\n",
      " [-0.  0.  0.  0.  0.  0. -0. -0.  0.  0.  1.  0. -0. -0.  0.  0.  0. -0.\n",
      "   0.  0. -0. -0.  0. -0.]\n",
      " [ 0.  0. -0. -0. -0. -0. -0.  0. -0. -0.  0.  1.  0.  0. -0. -0. -0. -0.\n",
      "  -0. -0.  0. -0. -0.  0.]\n",
      " [-0. -0.  0.  0. -0. -0.  0.  0.  0. -0. -0.  0.  1. -0. -0. -0. -0.  0.\n",
      "  -0. -0. -0.  0. -0. -0.]\n",
      " [-0. -0.  0.  0.  0.  0.  0. -0.  0.  0. -0.  0. -0.  1.  0. -0.  0.  0.\n",
      "   0. -0. -0.  0.  0. -0.]\n",
      " [ 0.  0. -0. -0. -0.  0. -0. -0. -0.  0.  0. -0. -0.  0.  1.  0.  0. -0.\n",
      "  -0.  0.  0. -0.  0.  0.]\n",
      " [-0.  0. -0.  0.  0.  0. -0. -0. -0.  0.  0. -0. -0. -0.  0.  1.  0. -0.\n",
      "   0.  0. -0. -0.  0.  0.]\n",
      " [-0.  0. -0.  0.  0.  0. -0. -0. -0.  0.  0. -0. -0.  0.  0.  0.  1. -0.\n",
      "   0.  0. -0. -0.  0.  0.]\n",
      " [ 0. -0. -0. -0. -0. -0. -0.  0. -0. -0. -0. -0.  0.  0. -0. -0. -0.  1.\n",
      "  -0. -0.  0. -0. -0.  0.]\n",
      " [ 0.  0. -0. -0. -0.  0. -0. -0. -0.  0.  0. -0. -0.  0. -0.  0.  0. -0.\n",
      "   1.  0.  0. -0.  0.  0.]\n",
      " [-0.  0. -0.  0.  0.  0. -0. -0. -0.  0.  0. -0. -0. -0.  0.  0.  0. -0.\n",
      "   0.  1. -0. -0.  0.  0.]\n",
      " [-0. -0.  0.  0.  0.  0.  0.  0.  0.  0. -0.  0. -0. -0.  0. -0. -0.  0.\n",
      "   0. -0.  1.  0. -0. -0.]\n",
      " [ 0. -0. -0. -0. -0. -0. -0.  0. -0. -0. -0. -0.  0.  0. -0. -0. -0. -0.\n",
      "  -0. -0.  0.  1. -0.  0.]\n",
      " [-0.  0. -0.  0.  0.  0. -0. -0. -0.  0.  0. -0. -0.  0.  0.  0.  0. -0.\n",
      "   0.  0. -0. -0.  1.  0.]\n",
      " [-0.  0.  0.  0.  0.  0.  0. -0.  0.  0. -0.  0. -0. -0.  0.  0.  0.  0.\n",
      "   0.  0. -0.  0.  0.  1.]]\n"
     ]
    }
   ],
   "source": [
    "w_encoder = autoencoder.layers[0].get_weights()[0]\n",
    "print('Encoder weights dot product\\n', np.round(np.dot(w_encoder.T, w_encoder), 2))\n",
    "\n",
    "w_decoder = autoencoder.layers[1].get_weights()[0]\n",
    "print('Decoder weights dot product\\n', np.round(np.dot(w_decoder, w_decoder.T), 2))"
   ]
  },
  {
   "cell_type": "code",
   "execution_count": 36,
   "metadata": {},
   "outputs": [],
   "source": [
    "class UncorrelatedFeaturesConstraint (Constraint):\n",
    "\n",
    "    def __init__(self, encoding_dim, weightage=1.0):\n",
    "        self.encoding_dim = encoding_dim\n",
    "        self.weightage = weightage\n",
    "\n",
    "    def get_covariance(self, x):\n",
    "        x_centered_list = []\n",
    "\n",
    "        for i in range(self.encoding_dim):\n",
    "            x_centered_list.append(x[:, i] - K.mean(x[:, i]))\n",
    "\n",
    "        x_centered = tf.stack(x_centered_list)\n",
    "        covariance = K.dot(x_centered, K.transpose(x_centered)) / \\\n",
    "            tf.cast(x_centered.get_shape()[0], tf.float32)\n",
    "\n",
    "        return covariance\n",
    "\n",
    "    # Constraint penalty\n",
    "    def uncorrelated_feature(self, x):\n",
    "        if(self.encoding_dim <= 1):\n",
    "            return 0.0\n",
    "        else:\n",
    "            output = K.sum(K.square(\n",
    "                self.covariance - tf.math.multiply(self.covariance, K.eye(self.encoding_dim))))\n",
    "            return output\n",
    "\n",
    "    def __call__(self, x):\n",
    "        self.covariance = self.get_covariance(x)\n",
    "        return self.weightage * self.uncorrelated_feature(x)"
   ]
  },
  {
   "cell_type": "code",
   "execution_count": 37,
   "metadata": {},
   "outputs": [
    {
     "name": "stdout",
     "output_type": "stream",
     "text": [
      "_________________________________________________________________\n",
      "Layer (type)                 Output Shape              Param #   \n",
      "=================================================================\n",
      "dense_7 (Dense)              (None, 24)                5544      \n",
      "_________________________________________________________________\n",
      "dense_8 (Dense)              (None, 230)               5750      \n",
      "=================================================================\n",
      "Total params: 11,294\n",
      "Trainable params: 11,294\n",
      "Non-trainable params: 0\n",
      "_________________________________________________________________\n"
     ]
    },
    {
     "data": {
      "text/plain": [
       "<keras.callbacks.History at 0x7f33e15395f8>"
      ]
     },
     "execution_count": 37,
     "metadata": {},
     "output_type": "execute_result"
    }
   ],
   "source": [
    "encoder = Dense(encoding_dim, activation=\"linear\", input_shape=(input_dim,), use_bias=True,\n",
    "                activity_regularizer=UncorrelatedFeaturesConstraint(encoding_dim, weightage=1.))\n",
    "decoder = Dense(input_dim, activation=\"linear\", use_bias=True)\n",
    "\n",
    "autoencoder = Sequential()\n",
    "autoencoder.add(encoder)\n",
    "autoencoder.add(decoder)\n",
    "\n",
    "autoencoder.compile(metrics=['accuracy'],\n",
    "                    loss='mean_squared_error',\n",
    "                    optimizer='sgd')\n",
    "autoencoder.summary()\n",
    "\n",
    "autoencoder.fit(X_train_scaled, X_train_scaled,\n",
    "                epochs=nb_epoch,\n",
    "                batch_size=batch_size,\n",
    "                shuffle=True,\n",
    "                verbose=0)"
   ]
  },
  {
   "cell_type": "code",
   "execution_count": 38,
   "metadata": {
    "collapsed": true,
    "jupyter": {
     "outputs_hidden": true
    }
   },
   "outputs": [
    {
     "name": "stdout",
     "output_type": "stream",
     "text": [
      "Encoded feature covariance\n",
      " [[ 0.001  0.     0.    -0.     0.    -0.    -0.     0.     0.    -0.\n",
      "  -0.     0.    -0.    -0.    -0.    -0.     0.    -0.    -0.     0.\n",
      "  -0.    -0.    -0.     0.   ]\n",
      " [ 0.     0.001 -0.     0.     0.    -0.     0.    -0.     0.     0.\n",
      "   0.    -0.    -0.     0.    -0.     0.    -0.    -0.     0.     0.\n",
      "  -0.     0.     0.    -0.   ]\n",
      " [ 0.    -0.     0.001  0.    -0.    -0.    -0.     0.     0.    -0.\n",
      "  -0.    -0.    -0.    -0.    -0.    -0.     0.    -0.    -0.     0.\n",
      "   0.    -0.    -0.     0.   ]\n",
      " [-0.     0.     0.     0.001 -0.     0.     0.    -0.    -0.    -0.\n",
      "   0.    -0.     0.     0.     0.    -0.     0.    -0.     0.    -0.\n",
      "  -0.    -0.     0.    -0.   ]\n",
      " [ 0.     0.    -0.    -0.     0.001  0.     0.     0.    -0.     0.\n",
      "  -0.    -0.     0.    -0.    -0.    -0.    -0.     0.     0.    -0.\n",
      "   0.    -0.    -0.    -0.   ]\n",
      " [-0.    -0.    -0.     0.     0.     0.001  0.    -0.    -0.     0.\n",
      "   0.    -0.    -0.    -0.     0.    -0.    -0.     0.    -0.     0.\n",
      "  -0.     0.    -0.    -0.   ]\n",
      " [-0.     0.    -0.     0.     0.     0.     0.001 -0.    -0.     0.\n",
      "  -0.    -0.    -0.    -0.    -0.     0.    -0.    -0.    -0.     0.\n",
      "  -0.     0.     0.    -0.   ]\n",
      " [ 0.    -0.     0.    -0.     0.    -0.    -0.     0.001  0.     0.\n",
      "  -0.     0.    -0.    -0.    -0.    -0.     0.    -0.     0.     0.\n",
      "   0.    -0.     0.     0.   ]\n",
      " [ 0.     0.     0.    -0.    -0.    -0.    -0.     0.     0.001  0.\n",
      "   0.     0.    -0.    -0.    -0.     0.     0.     0.    -0.    -0.\n",
      "   0.     0.    -0.    -0.   ]\n",
      " [-0.     0.    -0.    -0.     0.     0.     0.     0.     0.     0.001\n",
      "  -0.     0.     0.    -0.    -0.     0.    -0.     0.     0.    -0.\n",
      "   0.    -0.     0.     0.   ]\n",
      " [-0.     0.    -0.     0.    -0.     0.    -0.    -0.     0.    -0.\n",
      "   0.001 -0.     0.     0.     0.     0.    -0.     0.    -0.     0.\n",
      "   0.     0.    -0.    -0.   ]\n",
      " [ 0.    -0.    -0.    -0.    -0.    -0.    -0.     0.     0.     0.\n",
      "  -0.     0.001 -0.    -0.    -0.     0.     0.    -0.     0.     0.\n",
      "  -0.    -0.    -0.     0.   ]\n",
      " [-0.    -0.    -0.     0.     0.    -0.    -0.    -0.    -0.     0.\n",
      "   0.    -0.     0.001  0.    -0.     0.     0.     0.    -0.    -0.\n",
      "   0.    -0.     0.     0.   ]\n",
      " [-0.     0.    -0.     0.    -0.    -0.    -0.    -0.    -0.    -0.\n",
      "   0.    -0.     0.     0.001  0.    -0.    -0.     0.     0.     0.\n",
      "  -0.    -0.    -0.    -0.   ]\n",
      " [-0.    -0.    -0.     0.    -0.     0.    -0.    -0.    -0.    -0.\n",
      "   0.    -0.    -0.     0.     0.001 -0.    -0.     0.    -0.     0.\n",
      "   0.     0.    -0.    -0.   ]\n",
      " [-0.     0.    -0.    -0.    -0.    -0.     0.    -0.     0.     0.\n",
      "   0.     0.     0.    -0.    -0.     0.001  0.     0.     0.     0.\n",
      "  -0.     0.     0.    -0.   ]\n",
      " [ 0.    -0.     0.     0.    -0.    -0.    -0.     0.     0.    -0.\n",
      "  -0.     0.     0.    -0.    -0.     0.     0.001 -0.    -0.    -0.\n",
      "   0.    -0.    -0.     0.   ]\n",
      " [-0.    -0.    -0.    -0.     0.     0.    -0.    -0.     0.     0.\n",
      "   0.    -0.     0.     0.     0.     0.    -0.     0.001  0.     0.\n",
      "   0.     0.     0.    -0.   ]\n",
      " [-0.     0.    -0.     0.     0.    -0.    -0.     0.    -0.     0.\n",
      "  -0.     0.    -0.     0.    -0.     0.    -0.     0.     0.001  0.\n",
      "  -0.    -0.    -0.     0.   ]\n",
      " [ 0.     0.     0.    -0.    -0.     0.     0.     0.    -0.    -0.\n",
      "   0.     0.    -0.     0.     0.     0.    -0.     0.     0.     0.001\n",
      "  -0.    -0.     0.    -0.   ]\n",
      " [-0.    -0.     0.    -0.     0.    -0.    -0.     0.     0.     0.\n",
      "   0.    -0.     0.    -0.     0.    -0.     0.     0.    -0.    -0.\n",
      "   0.001 -0.     0.     0.   ]\n",
      " [-0.     0.    -0.    -0.    -0.     0.     0.    -0.     0.    -0.\n",
      "   0.    -0.    -0.    -0.     0.     0.    -0.     0.    -0.    -0.\n",
      "  -0.     0.001  0.    -0.   ]\n",
      " [-0.     0.    -0.     0.    -0.    -0.     0.     0.    -0.     0.\n",
      "  -0.    -0.     0.    -0.    -0.     0.    -0.     0.    -0.     0.\n",
      "   0.     0.     0.001 -0.   ]\n",
      " [ 0.    -0.     0.    -0.    -0.    -0.    -0.     0.    -0.     0.\n",
      "  -0.     0.     0.    -0.    -0.    -0.     0.    -0.     0.    -0.\n",
      "   0.    -0.    -0.     0.001]]\n"
     ]
    }
   ],
   "source": [
    "encoder_layer = Model(inputs=autoencoder.inputs, outputs=autoencoder.layers[0].output)\n",
    "encoded_features = np.array(encoder_layer.predict(X_train_scaled))\n",
    "print('Encoded feature covariance\\n', np.round(np.cov(encoded_features.T), 3))"
   ]
  },
  {
   "cell_type": "code",
   "execution_count": 39,
   "metadata": {},
   "outputs": [
    {
     "name": "stdout",
     "output_type": "stream",
     "text": [
      "Train reconstrunction error\n",
      " 0.00845227080419726\n",
      "Test reconstrunction error\n",
      " 0.38790938848754736\n"
     ]
    }
   ],
   "source": [
    "train_predictions = autoencoder.predict(X_train_scaled)\n",
    "print('Train reconstrunction error\\n', sklearn.metrics.mean_squared_error(X_train_scaled, train_predictions))\n",
    "test_predictions = autoencoder.predict(X_test_scaled)\n",
    "print('Test reconstrunction error\\n', sklearn.metrics.mean_squared_error(X_test_scaled, test_predictions))"
   ]
  },
  {
   "cell_type": "code",
   "execution_count": 40,
   "metadata": {},
   "outputs": [
    {
     "name": "stdout",
     "output_type": "stream",
     "text": [
      "_________________________________________________________________\n",
      "Layer (type)                 Output Shape              Param #   \n",
      "=================================================================\n",
      "dense_9 (Dense)              (None, 24)                5544      \n",
      "_________________________________________________________________\n",
      "dense_10 (Dense)             (None, 230)               5750      \n",
      "=================================================================\n",
      "Total params: 11,294\n",
      "Trainable params: 11,294\n",
      "Non-trainable params: 0\n",
      "_________________________________________________________________\n"
     ]
    },
    {
     "data": {
      "text/plain": [
       "<keras.callbacks.History at 0x7f33c06afe80>"
      ]
     },
     "execution_count": 40,
     "metadata": {},
     "output_type": "execute_result"
    }
   ],
   "source": [
    "encoder = Dense(encoding_dim, activation=\"linear\", input_shape=(input_dim,), use_bias = True, kernel_constraint=UnitNorm(axis=0)) \n",
    "decoder = Dense(input_dim, activation=\"linear\", use_bias = True)\n",
    "\n",
    "autoencoder = Sequential()\n",
    "autoencoder.add(encoder)\n",
    "autoencoder.add(decoder)\n",
    "\n",
    "autoencoder.compile(metrics=['accuracy'],\n",
    "                    loss='mean_squared_error',\n",
    "                    optimizer='sgd')\n",
    "autoencoder.summary()\n",
    "\n",
    "autoencoder.fit(X_train_scaled, X_train_scaled,\n",
    "                epochs=nb_epoch,\n",
    "                batch_size=batch_size,\n",
    "                shuffle=True,\n",
    "                verbose=0)"
   ]
  },
  {
   "cell_type": "code",
   "execution_count": 41,
   "metadata": {},
   "outputs": [
    {
     "name": "stdout",
     "output_type": "stream",
     "text": [
      "Encoder weights norm, \n",
      " [0.999 1.002 0.995 1.002 1.001 1.001 0.996 1.004 1.    1.012 1.001 0.999\n",
      " 1.005 1.006 1.001 1.006 1.    1.002 1.002 0.992 1.014 0.994 0.994 1.003]\n"
     ]
    }
   ],
   "source": [
    "w_encoder = np.round(autoencoder.layers[0].get_weights()[0], 2).T  # W in Figure 2.\n",
    "print('Encoder weights norm, \\n', np.round(np.sum(w_encoder ** 2, axis = 1),3))"
   ]
  },
  {
   "cell_type": "code",
   "execution_count": 42,
   "metadata": {},
   "outputs": [
    {
     "name": "stdout",
     "output_type": "stream",
     "text": [
      "Train reconstrunction error\n",
      " 0.005603250851666225\n",
      "Test reconstrunction error\n",
      " 0.3263081923863532\n"
     ]
    }
   ],
   "source": [
    "train_predictions = autoencoder.predict(X_train_scaled)\n",
    "print('Train reconstrunction error\\n', sklearn.metrics.mean_squared_error(X_train_scaled, train_predictions))\n",
    "test_predictions = autoencoder.predict(X_test_scaled)\n",
    "print('Test reconstrunction error\\n', sklearn.metrics.mean_squared_error(X_test_scaled, test_predictions))"
   ]
  },
  {
   "cell_type": "code",
   "execution_count": 43,
   "metadata": {},
   "outputs": [
    {
     "name": "stdout",
     "output_type": "stream",
     "text": [
      "_________________________________________________________________\n",
      "Layer (type)                 Output Shape              Param #   \n",
      "=================================================================\n",
      "dense_11 (Dense)             (None, 24)                5544      \n",
      "_________________________________________________________________\n",
      "dense_12 (Dense)             (None, 230)               5750      \n",
      "=================================================================\n",
      "Total params: 11,294\n",
      "Trainable params: 11,294\n",
      "Non-trainable params: 0\n",
      "_________________________________________________________________\n"
     ]
    },
    {
     "data": {
      "text/plain": [
       "<keras.callbacks.History at 0x7f33c06464a8>"
      ]
     },
     "execution_count": 43,
     "metadata": {},
     "output_type": "execute_result"
    }
   ],
   "source": [
    "encoder = Dense(encoding_dim, activation=\"linear\", input_shape=(input_dim,), use_bias = True, kernel_constraint=UnitNorm(axis=0)) \n",
    "decoder = Dense(input_dim, activation=\"linear\", use_bias = True, kernel_constraint=UnitNorm(axis=1))\n",
    "\n",
    "autoencoder = Sequential()\n",
    "autoencoder.add(encoder)\n",
    "autoencoder.add(decoder)\n",
    "\n",
    "autoencoder.compile(metrics=['accuracy'],\n",
    "                    loss='mean_squared_error',\n",
    "                    optimizer='sgd')\n",
    "autoencoder.summary()\n",
    "\n",
    "autoencoder.fit(X_train_scaled, X_train_scaled,\n",
    "                epochs=nb_epoch,\n",
    "                batch_size=batch_size,\n",
    "                shuffle=True,\n",
    "                verbose=0)"
   ]
  },
  {
   "cell_type": "code",
   "execution_count": 44,
   "metadata": {},
   "outputs": [
    {
     "name": "stdout",
     "output_type": "stream",
     "text": [
      "Encoder weights norm, \n",
      " [1.001 1.002 0.994 1.002 0.995 1.009 0.999 0.997 1.007 1.005 1.    1.012\n",
      " 1.007 1.005 1.003 1.002 1.003 1.    0.998 1.004 0.994 0.991 1.    1.004]\n",
      "Decoder weights norm, \n",
      " [0.996 0.997 1.004 1.01  0.999 1.001 1.006 1.    1.005 0.994 1.001 1.006\n",
      " 1.003 1.004 1.006 1.003 0.993 1.013 1.005 1.009 0.997 1.    1.013 1.005]\n"
     ]
    }
   ],
   "source": [
    "w_encoder = np.round(autoencoder.layers[0].get_weights()[0], 2).T  # W in Figure 2.\n",
    "w_decoder = np.round(autoencoder.layers[1].get_weights()[0], 2)  # W' in Figure 2.\n",
    "\n",
    "print('Encoder weights norm, \\n', np.round(np.sum(w_encoder ** 2, axis = 1),3))\n",
    "print('Decoder weights norm, \\n', np.round(np.sum(w_decoder ** 2, axis = 1),3))"
   ]
  },
  {
   "cell_type": "code",
   "execution_count": 45,
   "metadata": {},
   "outputs": [
    {
     "name": "stdout",
     "output_type": "stream",
     "text": [
      "Train reconstrunction error\n",
      " 0.0047983591613220255\n",
      "Test reconstrunction error\n",
      " 0.28976182184945626\n"
     ]
    }
   ],
   "source": [
    "train_predictions = autoencoder.predict(X_train_scaled)\n",
    "print('Train reconstrunction error\\n', sklearn.metrics.mean_squared_error(X_train_scaled, train_predictions))\n",
    "test_predictions = autoencoder.predict(X_test_scaled)\n",
    "print('Test reconstrunction error\\n', sklearn.metrics.mean_squared_error(X_test_scaled, test_predictions))"
   ]
  },
  {
   "cell_type": "code",
   "execution_count": 51,
   "metadata": {},
   "outputs": [
    {
     "name": "stdout",
     "output_type": "stream",
     "text": [
      "_________________________________________________________________\n",
      "Layer (type)                 Output Shape              Param #   \n",
      "=================================================================\n",
      "dense_15 (Dense)             (None, 24)                5544      \n",
      "_________________________________________________________________\n",
      "dense_tied_5 (DenseTied)     (None, 230)               5520      \n",
      "=================================================================\n",
      "Total params: 11,064\n",
      "Trainable params: 5,544\n",
      "Non-trainable params: 5,520\n",
      "_________________________________________________________________\n"
     ]
    },
    {
     "data": {
      "text/plain": [
       "<keras.callbacks.History at 0x7f33c0655f28>"
      ]
     },
     "execution_count": 51,
     "metadata": {},
     "output_type": "execute_result"
    }
   ],
   "source": [
    "encoder = Dense(encoding_dim, activation=\"linear\", input_shape=(input_dim,), use_bias = True, kernel_regularizer=WeightsOrthogonalityConstraint(encoding_dim, weightage=1., axis=0), kernel_constraint=UnitNorm(axis=0)) \n",
    "decoder = DenseTied(input_dim, activation=\"linear\", tied_to=encoder, use_bias = False)\n",
    "\n",
    "autoencoder = Sequential()\n",
    "autoencoder.add(encoder)\n",
    "autoencoder.add(decoder)\n",
    "\n",
    "autoencoder.compile(metrics=['accuracy'],\n",
    "                    loss='mean_squared_error',\n",
    "                    optimizer='sgd')\n",
    "autoencoder.summary()\n",
    "\n",
    "autoencoder.fit(X_train_scaled, X_train_scaled,\n",
    "                epochs=(nb_epoch+300),\n",
    "                batch_size=(batch_size+50),\n",
    "                shuffle=True,\n",
    "                verbose=0)"
   ]
  },
  {
   "cell_type": "code",
   "execution_count": 52,
   "metadata": {},
   "outputs": [
    {
     "name": "stdout",
     "output_type": "stream",
     "text": [
      "Train reconstrunction error\n",
      " 0.0022972988663335562\n",
      "Test reconstrunction error\n",
      " 0.2314895171169397\n"
     ]
    }
   ],
   "source": [
    "train_predictions = autoencoder.predict(X_train_scaled)\n",
    "print('Train reconstrunction error\\n', sklearn.metrics.mean_squared_error(X_train_scaled, train_predictions))\n",
    "test_predictions = autoencoder.predict(X_test_scaled)\n",
    "print('Test reconstrunction error\\n', sklearn.metrics.mean_squared_error(X_test_scaled, test_predictions))"
   ]
  },
  {
   "cell_type": "code",
   "execution_count": 55,
   "metadata": {},
   "outputs": [
    {
     "ename": "NotImplementedError",
     "evalue": "",
     "output_type": "error",
     "traceback": [
      "\u001b[0;31m---------------------------------------------------------------------------\u001b[0m",
      "\u001b[0;31mNotImplementedError\u001b[0m                       Traceback (most recent call last)",
      "\u001b[0;32m<ipython-input-55-20cd335a0935>\u001b[0m in \u001b[0;36m<module>\u001b[0;34m()\u001b[0m\n\u001b[1;32m      7\u001b[0m \u001b[0mDecoderM\u001b[0m \u001b[0;34m=\u001b[0m \u001b[0mSequential\u001b[0m\u001b[0;34m(\u001b[0m\u001b[0;34m)\u001b[0m\u001b[0;34m\u001b[0m\u001b[0m\n\u001b[1;32m      8\u001b[0m \u001b[0mDecoderM\u001b[0m\u001b[0;34m.\u001b[0m\u001b[0madd\u001b[0m\u001b[0;34m(\u001b[0m\u001b[0mdecoder\u001b[0m\u001b[0;34m)\u001b[0m\u001b[0;34m\u001b[0m\u001b[0m\n\u001b[0;32m----> 9\u001b[0;31m \u001b[0mDecoderM\u001b[0m\u001b[0;34m.\u001b[0m\u001b[0msave\u001b[0m\u001b[0;34m(\u001b[0m\u001b[0;34m\"Trained_Decoder_V2_22Mar2020.h5\"\u001b[0m\u001b[0;34m)\u001b[0m\u001b[0;34m\u001b[0m\u001b[0m\n\u001b[0m",
      "\u001b[0;32m~/anaconda3/envs/tensorflow_p36/lib/python3.6/site-packages/keras/engine/network.py\u001b[0m in \u001b[0;36msave\u001b[0;34m(self, filepath, overwrite, include_optimizer)\u001b[0m\n\u001b[1;32m   1086\u001b[0m         \"\"\"\n\u001b[1;32m   1087\u001b[0m         \u001b[0;32mif\u001b[0m \u001b[0;32mnot\u001b[0m \u001b[0mself\u001b[0m\u001b[0;34m.\u001b[0m\u001b[0m_is_graph_network\u001b[0m\u001b[0;34m:\u001b[0m\u001b[0;34m\u001b[0m\u001b[0m\n\u001b[0;32m-> 1088\u001b[0;31m             \u001b[0;32mraise\u001b[0m \u001b[0mNotImplementedError\u001b[0m\u001b[0;34m\u001b[0m\u001b[0m\n\u001b[0m\u001b[1;32m   1089\u001b[0m         \u001b[0;32mfrom\u001b[0m \u001b[0;34m.\u001b[0m\u001b[0;34m.\u001b[0m\u001b[0mmodels\u001b[0m \u001b[0;32mimport\u001b[0m \u001b[0msave_model\u001b[0m\u001b[0;34m\u001b[0m\u001b[0m\n\u001b[1;32m   1090\u001b[0m         \u001b[0msave_model\u001b[0m\u001b[0;34m(\u001b[0m\u001b[0mself\u001b[0m\u001b[0;34m,\u001b[0m \u001b[0mfilepath\u001b[0m\u001b[0;34m,\u001b[0m \u001b[0moverwrite\u001b[0m\u001b[0;34m,\u001b[0m \u001b[0minclude_optimizer\u001b[0m\u001b[0;34m)\u001b[0m\u001b[0;34m\u001b[0m\u001b[0m\n",
      "\u001b[0;31mNotImplementedError\u001b[0m: "
     ]
    }
   ],
   "source": [
    "autoencoder.save(\"Trained_Autoencoder_V2_22Mar2020.h5\")\n",
    "\n",
    "EncoderM = Sequential()\n",
    "EncoderM.add(encoder)\n",
    "EncoderM.save(\"Trained_Encoder_V2_22Mar2020.h5\")\n",
    "\n",
    "DecoderM = Sequential()\n",
    "DecoderM.add(decoder)\n",
    "DecoderM.save(\"Trained_Decoder_V2_22Mar2020.h5\")"
   ]
  },
  {
   "cell_type": "code",
   "execution_count": 58,
   "metadata": {},
   "outputs": [],
   "source": [
    "from keras.models import Model\n",
    "\n",
    "a = Input(shape=(input_dim,))\n",
    "b = encoder(a)\n",
    "encoder_model = Model(inputs=a, outputs=b)\n",
    "encoder_model.save(\"Trained_Encoder_V22_22Mar2020.h5\")\n",
    "\n",
    "\n",
    "b1 = Input(shape=(encoding_dim,))\n",
    "c = decoder(b1)\n",
    "decoder_model = Model(inputs=b1, outputs=c)\n",
    "decoder_model.save(\"Trained_Decoder_V22_22Mar2020.h5\")\n"
   ]
  },
  {
   "cell_type": "code",
   "execution_count": 48,
   "metadata": {},
   "outputs": [],
   "source": [
    "## above part concludes - orthogonal autoencoder , model development & training ##"
   ]
  },
  {
   "cell_type": "code",
   "execution_count": null,
   "metadata": {},
   "outputs": [],
   "source": [
    "# X_train_scaled = scaler.transform(X_train[col_list])\n",
    "# X_test_scaled = scaler.transform(X_test[col_list])\n",
    "\n",
    "# Trained_Autoencoder_V2_22Mar2020 =load_model('Trained_Autoencoder_V2_22Mar2020.h5')\n",
    "# Trained_Decoder_V22_22Mar2020=load_model('Trained_Decoder_V22_22Mar2020.h5')\n",
    "# Trained_Encoder_V2_22Mar2020=load_model('Trained_Encoder_V2_22Mar2020.h5')\n",
    "# Trained_Encoder_V22_22Mar2020=load_model('Trained_Encoder_V22_22Mar2020.h5')"
   ]
  },
  {
   "cell_type": "code",
   "execution_count": 62,
   "metadata": {},
   "outputs": [
    {
     "data": {
      "text/plain": [
       "(30234, 230)"
      ]
     },
     "execution_count": 62,
     "metadata": {},
     "output_type": "execute_result"
    }
   ],
   "source": [
    "X_test_scaled.shape"
   ]
  },
  {
   "cell_type": "code",
   "execution_count": 63,
   "metadata": {},
   "outputs": [
    {
     "data": {
      "text/plain": [
       "(30234, 255)"
      ]
     },
     "execution_count": 63,
     "metadata": {},
     "output_type": "execute_result"
    }
   ],
   "source": [
    "X_test.shape"
   ]
  },
  {
   "cell_type": "code",
   "execution_count": 82,
   "metadata": {},
   "outputs": [],
   "source": [
    "#encoded_data = encoder_rad.predict(_x)\n",
    "#decoded_output = autoencoder_rad.predict(_x)\n",
    "X_train_scale_encoded_data_bottleneck_output = EncoderM.predict(X_train_scaled) #Trained_Encoder_V2_22Mar2020\n",
    "X_train_scale_encoded_data_bottleneck_output2 = encoder_model.predict(X_train_scaled) \n",
    "((X_train_scale_encoded_data_bottleneck_output-X_train_scale_encoded_data_bottleneck_output2)**2).sum()\n",
    "\n",
    "X_test_scale_encoded_data_bottleneck_output = EncoderM.predict(X_test_scaled)"
   ]
  },
  {
   "cell_type": "code",
   "execution_count": 68,
   "metadata": {},
   "outputs": [],
   "source": [
    "Y_train = X_train['ANN_EGR']\n",
    "Y_test = X_test['ANN_EGR']\n",
    "import numpy as np \n",
    "Y_train_binary = np.array(list(map(lambda x: 0 if (x=='0' or x==0) else 1,Y_train))).reshape(-1,)\n",
    "#(Y_train_df['ANN_EGR'].isin([0,'0'])\n",
    "Y_test_binary = np.array(list(map(lambda x: 0 if (x=='0' or x==0) else 1,Y_test))).reshape(-1,)"
   ]
  },
  {
   "cell_type": "code",
   "execution_count": 69,
   "metadata": {},
   "outputs": [
    {
     "data": {
      "text/plain": [
       "(79611,)"
      ]
     },
     "execution_count": 69,
     "metadata": {},
     "output_type": "execute_result"
    }
   ],
   "source": [
    "Y_train_binary.shape"
   ]
  },
  {
   "cell_type": "code",
   "execution_count": 70,
   "metadata": {},
   "outputs": [
    {
     "data": {
      "text/plain": [
       "(30234,)"
      ]
     },
     "execution_count": 70,
     "metadata": {},
     "output_type": "execute_result"
    }
   ],
   "source": [
    "Y_test_binary.shape"
   ]
  },
  {
   "cell_type": "code",
   "execution_count": 77,
   "metadata": {},
   "outputs": [
    {
     "data": {
      "text/plain": [
       "'\\n'"
      ]
     },
     "execution_count": 77,
     "metadata": {},
     "output_type": "execute_result"
    }
   ],
   "source": [
    "from keras.models import Sequential, Model\n",
    "from keras.layers import Dense, Input\n",
    "Clf_egr_v2 = Sequential()\n",
    "Clf_egr_v2.add(Dense(24, activation='tanh', input_shape=(24,)))\n",
    "Clf_egr_v2.add(Dense(24, activation='relu'))\n",
    "Clf_egr_v2.add(Dense(2,  activation='sigmoid'))\n",
    "Clf_egr_v2.add(Dense(1,  activation='sigmoid'))\n",
    "'''\n",
    "'''"
   ]
  },
  {
   "cell_type": "code",
   "execution_count": 78,
   "metadata": {
    "collapsed": true,
    "jupyter": {
     "outputs_hidden": true
    }
   },
   "outputs": [
    {
     "name": "stdout",
     "output_type": "stream",
     "text": [
      "Epoch 1/200\n",
      "79611/79611 [==============================] - 2s 31us/step - loss: 0.0278\n",
      "Epoch 2/200\n",
      "79611/79611 [==============================] - 1s 10us/step - loss: 0.0206\n",
      "Epoch 3/200\n",
      "79611/79611 [==============================] - 1s 11us/step - loss: 0.0183\n",
      "Epoch 4/200\n",
      "79611/79611 [==============================] - 1s 10us/step - loss: 0.0173\n",
      "Epoch 5/200\n",
      "79611/79611 [==============================] - 1s 10us/step - loss: 0.0169\n",
      "Epoch 6/200\n",
      "79611/79611 [==============================] - 1s 10us/step - loss: 0.0168\n",
      "Epoch 7/200\n",
      "79611/79611 [==============================] - 1s 10us/step - loss: 0.0168\n",
      "Epoch 8/200\n",
      "79611/79611 [==============================] - 1s 11us/step - loss: 0.0167\n",
      "Epoch 9/200\n",
      "79611/79611 [==============================] - 1s 11us/step - loss: 0.0167\n",
      "Epoch 10/200\n",
      "79611/79611 [==============================] - 1s 10us/step - loss: 0.0167\n",
      "Epoch 11/200\n",
      "79611/79611 [==============================] - 1s 10us/step - loss: 0.0167\n",
      "Epoch 12/200\n",
      "79611/79611 [==============================] - 1s 11us/step - loss: 0.0167\n",
      "Epoch 13/200\n",
      "79611/79611 [==============================] - 1s 10us/step - loss: 0.0166\n",
      "Epoch 14/200\n",
      "79611/79611 [==============================] - 1s 11us/step - loss: 0.0166\n",
      "Epoch 15/200\n",
      "79611/79611 [==============================] - 1s 11us/step - loss: 0.0166\n",
      "Epoch 16/200\n",
      "79611/79611 [==============================] - 1s 10us/step - loss: 0.0166\n",
      "Epoch 17/200\n",
      "79611/79611 [==============================] - 1s 10us/step - loss: 0.0166\n",
      "Epoch 18/200\n",
      "79611/79611 [==============================] - 1s 10us/step - loss: 0.0166\n",
      "Epoch 19/200\n",
      "79611/79611 [==============================] - 1s 10us/step - loss: 0.0165\n",
      "Epoch 20/200\n",
      "79611/79611 [==============================] - 1s 10us/step - loss: 0.0162\n",
      "Epoch 21/200\n",
      "79611/79611 [==============================] - 1s 11us/step - loss: 0.0161\n",
      "Epoch 22/200\n",
      "79611/79611 [==============================] - 1s 10us/step - loss: 0.0159\n",
      "Epoch 23/200\n",
      "79611/79611 [==============================] - 1s 10us/step - loss: 0.0158\n",
      "Epoch 24/200\n",
      "79611/79611 [==============================] - 1s 11us/step - loss: 0.0156\n",
      "Epoch 25/200\n",
      "79611/79611 [==============================] - 1s 10us/step - loss: 0.0156\n",
      "Epoch 26/200\n",
      "79611/79611 [==============================] - 1s 14us/step - loss: 0.0156\n",
      "Epoch 27/200\n",
      "79611/79611 [==============================] - 2s 22us/step - loss: 0.0155\n",
      "Epoch 28/200\n",
      "79611/79611 [==============================] - 2s 22us/step - loss: 0.0156\n",
      "Epoch 29/200\n",
      "79611/79611 [==============================] - 1s 14us/step - loss: 0.0155\n",
      "Epoch 30/200\n",
      "79611/79611 [==============================] - 1s 10us/step - loss: 0.0155\n",
      "Epoch 31/200\n",
      "79611/79611 [==============================] - 1s 11us/step - loss: 0.0156\n",
      "Epoch 32/200\n",
      "79611/79611 [==============================] - 1s 10us/step - loss: 0.0155\n",
      "Epoch 33/200\n",
      "79611/79611 [==============================] - 1s 10us/step - loss: 0.0155\n",
      "Epoch 34/200\n",
      "79611/79611 [==============================] - 1s 10us/step - loss: 0.0155\n",
      "Epoch 35/200\n",
      "79611/79611 [==============================] - 1s 11us/step - loss: 0.0155\n",
      "Epoch 36/200\n",
      "79611/79611 [==============================] - 1s 10us/step - loss: 0.0155\n",
      "Epoch 37/200\n",
      "79611/79611 [==============================] - 1s 10us/step - loss: 0.0154\n",
      "Epoch 38/200\n",
      "79611/79611 [==============================] - 1s 11us/step - loss: 0.0153\n",
      "Epoch 39/200\n",
      "79611/79611 [==============================] - 1s 10us/step - loss: 0.0154\n",
      "Epoch 40/200\n",
      "79611/79611 [==============================] - 1s 10us/step - loss: 0.0153\n",
      "Epoch 41/200\n",
      "79611/79611 [==============================] - 1s 10us/step - loss: 0.0153\n",
      "Epoch 42/200\n",
      "79611/79611 [==============================] - 1s 10us/step - loss: 0.0152\n",
      "Epoch 43/200\n",
      "79611/79611 [==============================] - 1s 11us/step - loss: 0.0152\n",
      "Epoch 44/200\n",
      "79611/79611 [==============================] - 1s 10us/step - loss: 0.0152\n",
      "Epoch 45/200\n",
      "79611/79611 [==============================] - 1s 10us/step - loss: 0.0151\n",
      "Epoch 46/200\n",
      "79611/79611 [==============================] - 1s 10us/step - loss: 0.0151\n",
      "Epoch 47/200\n",
      "79611/79611 [==============================] - 1s 11us/step - loss: 0.0151\n",
      "Epoch 48/200\n",
      "79611/79611 [==============================] - 1s 10us/step - loss: 0.0150\n",
      "Epoch 49/200\n",
      "79611/79611 [==============================] - 1s 10us/step - loss: 0.0150\n",
      "Epoch 50/200\n",
      "79611/79611 [==============================] - 1s 10us/step - loss: 0.0150\n",
      "Epoch 51/200\n",
      "79611/79611 [==============================] - 1s 10us/step - loss: 0.0149\n",
      "Epoch 52/200\n",
      "79611/79611 [==============================] - 1s 10us/step - loss: 0.0149\n",
      "Epoch 53/200\n",
      "79611/79611 [==============================] - 1s 10us/step - loss: 0.0149\n",
      "Epoch 54/200\n",
      "79611/79611 [==============================] - 1s 10us/step - loss: 0.0149\n",
      "Epoch 55/200\n",
      "79611/79611 [==============================] - 1s 10us/step - loss: 0.0148\n",
      "Epoch 56/200\n",
      "79611/79611 [==============================] - 1s 10us/step - loss: 0.0149\n",
      "Epoch 57/200\n",
      "79611/79611 [==============================] - 1s 10us/step - loss: 0.0148\n",
      "Epoch 58/200\n",
      "79611/79611 [==============================] - 1s 10us/step - loss: 0.0147\n",
      "Epoch 59/200\n",
      "79611/79611 [==============================] - 1s 10us/step - loss: 0.0148\n",
      "Epoch 60/200\n",
      "79611/79611 [==============================] - 1s 11us/step - loss: 0.0147\n",
      "Epoch 61/200\n",
      "79611/79611 [==============================] - 1s 10us/step - loss: 0.0146\n",
      "Epoch 62/200\n",
      "79611/79611 [==============================] - 1s 10us/step - loss: 0.0147\n",
      "Epoch 63/200\n",
      "79611/79611 [==============================] - 1s 11us/step - loss: 0.0146\n",
      "Epoch 64/200\n",
      "79611/79611 [==============================] - 1s 11us/step - loss: 0.0146\n",
      "Epoch 65/200\n",
      "79611/79611 [==============================] - 1s 10us/step - loss: 0.0147\n",
      "Epoch 66/200\n",
      "79611/79611 [==============================] - 1s 10us/step - loss: 0.0146\n",
      "Epoch 67/200\n",
      "79611/79611 [==============================] - 1s 11us/step - loss: 0.0146\n",
      "Epoch 68/200\n",
      "79611/79611 [==============================] - 1s 11us/step - loss: 0.0146\n",
      "Epoch 69/200\n",
      "79611/79611 [==============================] - 1s 11us/step - loss: 0.0146\n",
      "Epoch 70/200\n",
      "79611/79611 [==============================] - 1s 10us/step - loss: 0.0146\n",
      "Epoch 71/200\n",
      "79611/79611 [==============================] - 1s 11us/step - loss: 0.0145\n",
      "Epoch 72/200\n",
      "79611/79611 [==============================] - 1s 10us/step - loss: 0.0146\n",
      "Epoch 73/200\n",
      "79611/79611 [==============================] - 1s 11us/step - loss: 0.0145\n",
      "Epoch 74/200\n",
      "79611/79611 [==============================] - 1s 10us/step - loss: 0.0145\n",
      "Epoch 75/200\n",
      "79611/79611 [==============================] - 1s 11us/step - loss: 0.0145\n",
      "Epoch 76/200\n",
      "79611/79611 [==============================] - 1s 10us/step - loss: 0.0145\n",
      "Epoch 77/200\n",
      "79611/79611 [==============================] - 1s 10us/step - loss: 0.0145\n",
      "Epoch 78/200\n",
      "79611/79611 [==============================] - 1s 10us/step - loss: 0.0144\n",
      "Epoch 79/200\n",
      "79611/79611 [==============================] - 1s 10us/step - loss: 0.0145\n",
      "Epoch 80/200\n",
      "79611/79611 [==============================] - 1s 11us/step - loss: 0.0144\n",
      "Epoch 81/200\n",
      "79611/79611 [==============================] - 1s 11us/step - loss: 0.0144\n",
      "Epoch 82/200\n",
      "79611/79611 [==============================] - 1s 10us/step - loss: 0.0144\n",
      "Epoch 83/200\n",
      "79611/79611 [==============================] - 1s 11us/step - loss: 0.0144\n",
      "Epoch 84/200\n",
      "79611/79611 [==============================] - 1s 11us/step - loss: 0.0144\n",
      "Epoch 85/200\n",
      "79611/79611 [==============================] - 1s 10us/step - loss: 0.0144\n",
      "Epoch 86/200\n",
      "79611/79611 [==============================] - 1s 10us/step - loss: 0.0145\n",
      "Epoch 87/200\n",
      "79611/79611 [==============================] - 1s 10us/step - loss: 0.0143\n",
      "Epoch 88/200\n",
      "79611/79611 [==============================] - 1s 10us/step - loss: 0.0143\n",
      "Epoch 89/200\n",
      "79611/79611 [==============================] - 1s 11us/step - loss: 0.0144\n",
      "Epoch 90/200\n",
      "79611/79611 [==============================] - 1s 10us/step - loss: 0.0143\n",
      "Epoch 91/200\n",
      "79611/79611 [==============================] - 1s 10us/step - loss: 0.0143\n",
      "Epoch 92/200\n",
      "79611/79611 [==============================] - 1s 10us/step - loss: 0.0143\n",
      "Epoch 93/200\n",
      "79611/79611 [==============================] - 1s 13us/step - loss: 0.0143\n",
      "Epoch 94/200\n",
      "79611/79611 [==============================] - 1s 11us/step - loss: 0.0143\n",
      "Epoch 95/200\n",
      "79611/79611 [==============================] - 1s 11us/step - loss: 0.0142\n",
      "Epoch 96/200\n",
      "79611/79611 [==============================] - 1s 11us/step - loss: 0.0142\n",
      "Epoch 97/200\n",
      "79611/79611 [==============================] - 1s 10us/step - loss: 0.0142\n",
      "Epoch 98/200\n",
      "79611/79611 [==============================] - 1s 10us/step - loss: 0.0142\n",
      "Epoch 99/200\n",
      "79611/79611 [==============================] - 1s 11us/step - loss: 0.0142\n",
      "Epoch 100/200\n",
      "79611/79611 [==============================] - 1s 10us/step - loss: 0.0142\n",
      "Epoch 101/200\n",
      "79611/79611 [==============================] - 1s 10us/step - loss: 0.0142\n",
      "Epoch 102/200\n",
      "79611/79611 [==============================] - 1s 10us/step - loss: 0.0142\n",
      "Epoch 103/200\n",
      "79611/79611 [==============================] - 1s 11us/step - loss: 0.0142\n",
      "Epoch 104/200\n",
      "79611/79611 [==============================] - 1s 11us/step - loss: 0.0142\n",
      "Epoch 105/200\n",
      "79611/79611 [==============================] - 1s 10us/step - loss: 0.0141\n",
      "Epoch 106/200\n",
      "79611/79611 [==============================] - 1s 10us/step - loss: 0.0142\n",
      "Epoch 107/200\n",
      "79611/79611 [==============================] - 1s 11us/step - loss: 0.0142\n",
      "Epoch 108/200\n",
      "79611/79611 [==============================] - 1s 10us/step - loss: 0.0141\n",
      "Epoch 109/200\n",
      "79611/79611 [==============================] - 1s 10us/step - loss: 0.0141\n",
      "Epoch 110/200\n",
      "79611/79611 [==============================] - 1s 10us/step - loss: 0.0141\n",
      "Epoch 111/200\n",
      "79611/79611 [==============================] - 1s 11us/step - loss: 0.0141\n",
      "Epoch 112/200\n",
      "79611/79611 [==============================] - 1s 11us/step - loss: 0.0140\n",
      "Epoch 113/200\n",
      "79611/79611 [==============================] - 1s 10us/step - loss: 0.0141\n",
      "Epoch 114/200\n",
      "79611/79611 [==============================] - 1s 10us/step - loss: 0.0140\n",
      "Epoch 115/200\n",
      "79611/79611 [==============================] - 1s 10us/step - loss: 0.0140\n",
      "Epoch 116/200\n",
      "79611/79611 [==============================] - 1s 10us/step - loss: 0.0140\n",
      "Epoch 117/200\n",
      "79611/79611 [==============================] - 1s 11us/step - loss: 0.0140\n",
      "Epoch 118/200\n",
      "79611/79611 [==============================] - 1s 10us/step - loss: 0.0140\n",
      "Epoch 119/200\n",
      "79611/79611 [==============================] - 1s 11us/step - loss: 0.0140\n",
      "Epoch 120/200\n",
      "79611/79611 [==============================] - 1s 14us/step - loss: 0.0139\n",
      "Epoch 121/200\n",
      "79611/79611 [==============================] - 1s 10us/step - loss: 0.0140\n",
      "Epoch 122/200\n",
      "79611/79611 [==============================] - 1s 10us/step - loss: 0.0140\n",
      "Epoch 123/200\n",
      "79611/79611 [==============================] - 1s 11us/step - loss: 0.0139\n",
      "Epoch 124/200\n",
      "79611/79611 [==============================] - 1s 11us/step - loss: 0.0140\n",
      "Epoch 125/200\n",
      "79611/79611 [==============================] - 1s 10us/step - loss: 0.0139\n",
      "Epoch 126/200\n",
      "79611/79611 [==============================] - 1s 10us/step - loss: 0.0139\n",
      "Epoch 127/200\n",
      "79611/79611 [==============================] - 1s 11us/step - loss: 0.0139\n",
      "Epoch 128/200\n",
      "79611/79611 [==============================] - 1s 10us/step - loss: 0.0140\n",
      "Epoch 129/200\n",
      "79611/79611 [==============================] - 1s 10us/step - loss: 0.0139\n",
      "Epoch 130/200\n",
      "79611/79611 [==============================] - 1s 10us/step - loss: 0.0139\n",
      "Epoch 131/200\n",
      "79611/79611 [==============================] - 1s 10us/step - loss: 0.0138\n",
      "Epoch 132/200\n",
      "79611/79611 [==============================] - 1s 10us/step - loss: 0.0138\n",
      "Epoch 133/200\n",
      "79611/79611 [==============================] - 1s 10us/step - loss: 0.0138\n",
      "Epoch 134/200\n",
      "79611/79611 [==============================] - 1s 10us/step - loss: 0.0139\n",
      "Epoch 135/200\n",
      "79611/79611 [==============================] - 1s 10us/step - loss: 0.0139\n",
      "Epoch 136/200\n",
      "79611/79611 [==============================] - 1s 10us/step - loss: 0.0138\n",
      "Epoch 137/200\n",
      "79611/79611 [==============================] - 1s 11us/step - loss: 0.0138\n",
      "Epoch 138/200\n",
      "79611/79611 [==============================] - 1s 10us/step - loss: 0.0137\n",
      "Epoch 139/200\n",
      "79611/79611 [==============================] - 1s 10us/step - loss: 0.0138\n",
      "Epoch 140/200\n",
      "79611/79611 [==============================] - 1s 10us/step - loss: 0.0137\n",
      "Epoch 141/200\n",
      "79611/79611 [==============================] - 1s 10us/step - loss: 0.0137\n",
      "Epoch 142/200\n",
      "79611/79611 [==============================] - 1s 11us/step - loss: 0.0137\n",
      "Epoch 143/200\n",
      "79611/79611 [==============================] - 1s 10us/step - loss: 0.0138\n",
      "Epoch 144/200\n",
      "79611/79611 [==============================] - 1s 11us/step - loss: 0.0136\n",
      "Epoch 145/200\n",
      "79611/79611 [==============================] - 1s 11us/step - loss: 0.0136\n",
      "Epoch 146/200\n",
      "79611/79611 [==============================] - 1s 11us/step - loss: 0.0136\n",
      "Epoch 147/200\n",
      "79611/79611 [==============================] - 1s 11us/step - loss: 0.0136\n",
      "Epoch 148/200\n",
      "79611/79611 [==============================] - 1s 10us/step - loss: 0.0136\n",
      "Epoch 149/200\n",
      "79611/79611 [==============================] - 1s 10us/step - loss: 0.0136\n",
      "Epoch 150/200\n",
      "79611/79611 [==============================] - 1s 11us/step - loss: 0.0135\n",
      "Epoch 151/200\n",
      "79611/79611 [==============================] - 1s 11us/step - loss: 0.0136\n",
      "Epoch 152/200\n",
      "79611/79611 [==============================] - 1s 10us/step - loss: 0.0135\n",
      "Epoch 153/200\n",
      "79611/79611 [==============================] - 1s 10us/step - loss: 0.0135\n",
      "Epoch 154/200\n",
      "79611/79611 [==============================] - 1s 10us/step - loss: 0.0134\n",
      "Epoch 155/200\n",
      "79611/79611 [==============================] - 1s 10us/step - loss: 0.0134\n",
      "Epoch 156/200\n",
      "79611/79611 [==============================] - 1s 11us/step - loss: 0.0135\n",
      "Epoch 157/200\n",
      "79611/79611 [==============================] - 1s 10us/step - loss: 0.0134\n",
      "Epoch 158/200\n",
      "79611/79611 [==============================] - 1s 10us/step - loss: 0.0135\n",
      "Epoch 159/200\n",
      "79611/79611 [==============================] - 1s 10us/step - loss: 0.0135\n",
      "Epoch 160/200\n",
      "79611/79611 [==============================] - 1s 10us/step - loss: 0.0133\n",
      "Epoch 161/200\n",
      "79611/79611 [==============================] - 1s 10us/step - loss: 0.0134\n",
      "Epoch 162/200\n",
      "79611/79611 [==============================] - 1s 10us/step - loss: 0.0153\n",
      "Epoch 163/200\n",
      "79611/79611 [==============================] - 1s 11us/step - loss: 0.0145\n",
      "Epoch 164/200\n",
      "79611/79611 [==============================] - 1s 10us/step - loss: 0.0143\n",
      "Epoch 165/200\n",
      "79611/79611 [==============================] - 1s 11us/step - loss: 0.0141\n",
      "Epoch 166/200\n",
      "79611/79611 [==============================] - 1s 11us/step - loss: 0.0137\n",
      "Epoch 167/200\n",
      "79611/79611 [==============================] - 1s 10us/step - loss: 0.0135\n",
      "Epoch 168/200\n",
      "79611/79611 [==============================] - 1s 10us/step - loss: 0.0134\n",
      "Epoch 169/200\n",
      "79611/79611 [==============================] - 1s 11us/step - loss: 0.0134\n",
      "Epoch 170/200\n",
      "79611/79611 [==============================] - 1s 10us/step - loss: 0.0133\n",
      "Epoch 171/200\n",
      "79611/79611 [==============================] - 1s 10us/step - loss: 0.0133\n",
      "Epoch 172/200\n",
      "79611/79611 [==============================] - 1s 11us/step - loss: 0.0136\n",
      "Epoch 173/200\n",
      "79611/79611 [==============================] - 1s 10us/step - loss: 0.0131\n",
      "Epoch 174/200\n",
      "79611/79611 [==============================] - 1s 10us/step - loss: 0.0131\n",
      "Epoch 175/200\n",
      "79611/79611 [==============================] - 1s 10us/step - loss: 0.0132\n",
      "Epoch 176/200\n",
      "79611/79611 [==============================] - 1s 11us/step - loss: 0.0131\n",
      "Epoch 177/200\n",
      "79611/79611 [==============================] - 1s 10us/step - loss: 0.0132\n",
      "Epoch 178/200\n",
      "79611/79611 [==============================] - 1s 10us/step - loss: 0.0130\n",
      "Epoch 179/200\n",
      "79611/79611 [==============================] - 1s 11us/step - loss: 0.0130\n",
      "Epoch 180/200\n",
      "79611/79611 [==============================] - 1s 10us/step - loss: 0.0129\n",
      "Epoch 181/200\n",
      "79611/79611 [==============================] - 1s 10us/step - loss: 0.0130\n",
      "Epoch 182/200\n",
      "79611/79611 [==============================] - 1s 10us/step - loss: 0.0129\n",
      "Epoch 183/200\n",
      "79611/79611 [==============================] - 1s 11us/step - loss: 0.0129\n",
      "Epoch 184/200\n",
      "79611/79611 [==============================] - 1s 11us/step - loss: 0.0129\n",
      "Epoch 185/200\n",
      "79611/79611 [==============================] - 1s 11us/step - loss: 0.0128\n",
      "Epoch 186/200\n",
      "79611/79611 [==============================] - 1s 11us/step - loss: 0.0128\n",
      "Epoch 187/200\n",
      "79611/79611 [==============================] - 1s 11us/step - loss: 0.0128\n",
      "Epoch 188/200\n",
      "79611/79611 [==============================] - 1s 11us/step - loss: 0.0128\n",
      "Epoch 189/200\n",
      "79611/79611 [==============================] - 1s 11us/step - loss: 0.0126\n",
      "Epoch 190/200\n",
      "79611/79611 [==============================] - 1s 11us/step - loss: 0.0127\n",
      "Epoch 191/200\n",
      "79611/79611 [==============================] - 1s 10us/step - loss: 0.0128\n",
      "Epoch 192/200\n",
      "79611/79611 [==============================] - 1s 10us/step - loss: 0.0125\n",
      "Epoch 193/200\n",
      "79611/79611 [==============================] - 1s 11us/step - loss: 0.0126\n",
      "Epoch 194/200\n",
      "79611/79611 [==============================] - 1s 10us/step - loss: 0.0126\n",
      "Epoch 195/200\n",
      "79611/79611 [==============================] - 1s 10us/step - loss: 0.0127\n",
      "Epoch 196/200\n",
      "79611/79611 [==============================] - 1s 11us/step - loss: 0.0126\n",
      "Epoch 197/200\n",
      "79611/79611 [==============================] - 1s 11us/step - loss: 0.0124\n",
      "Epoch 198/200\n",
      "79611/79611 [==============================] - 1s 10us/step - loss: 0.0125\n",
      "Epoch 199/200\n",
      "79611/79611 [==============================] - 1s 10us/step - loss: 0.0124\n",
      "Epoch 200/200\n",
      "79611/79611 [==============================] - 1s 10us/step - loss: 0.0125\n"
     ]
    },
    {
     "data": {
      "text/plain": [
       "'\\n'"
      ]
     },
     "execution_count": 78,
     "metadata": {},
     "output_type": "execute_result"
    }
   ],
   "source": [
    "Clf_egr_v2.compile(optimizer='Adam', loss='binary_crossentropy')\n",
    "Clf_egr_v2.fit(x=X_train_scale_encoded_data_bottleneck_output, y=Y_train_binary, batch_size=200, epochs=200, verbose=1, class_weight={1:0.9, 0:0.1})\n",
    "'''\n",
    "'''"
   ]
  },
  {
   "cell_type": "code",
   "execution_count": null,
   "metadata": {},
   "outputs": [],
   "source": []
  },
  {
   "cell_type": "code",
   "execution_count": null,
   "metadata": {},
   "outputs": [],
   "source": []
  },
  {
   "cell_type": "code",
   "execution_count": 79,
   "metadata": {},
   "outputs": [],
   "source": [
    "Clf_egr_v2.save('Clf_egr_v2.h5')"
   ]
  },
  {
   "cell_type": "code",
   "execution_count": 81,
   "metadata": {},
   "outputs": [],
   "source": [
    "y_train_predict= Clf_egr_v2.predict(X_train_scale_encoded_data_bottleneck_output)"
   ]
  },
  {
   "cell_type": "code",
   "execution_count": 84,
   "metadata": {},
   "outputs": [],
   "source": [
    "y_test_predict= Clf_egr_v2.predict(X_test_scale_encoded_data_bottleneck_output)"
   ]
  },
  {
   "cell_type": "code",
   "execution_count": 85,
   "metadata": {},
   "outputs": [],
   "source": [
    "from sklearn.metrics import confusion_matrix as cm\n",
    "#cm(Y_train_binary.ravel(),y_train_predict.ravel())\n",
    "from sklearn.metrics import roc_curve as roc\n",
    "roc_data = roc(Y_train_binary.ravel(),y_train_predict.ravel())"
   ]
  },
  {
   "cell_type": "code",
   "execution_count": 86,
   "metadata": {},
   "outputs": [],
   "source": [
    "roc_data_test = roc(Y_test_binary.ravel(),y_test_predict.ravel())"
   ]
  },
  {
   "cell_type": "code",
   "execution_count": null,
   "metadata": {},
   "outputs": [],
   "source": [
    "## part 2 ## resutls & viz"
   ]
  },
  {
   "cell_type": "code",
   "execution_count": 88,
   "metadata": {},
   "outputs": [
    {
     "data": {
      "text/plain": [
       "<matplotlib.collections.PathCollection at 0x7f331b8d5160>"
      ]
     },
     "execution_count": 88,
     "metadata": {},
     "output_type": "execute_result"
    },
    {
     "data": {
      "image/png": "[encoded data removed]",
      "text/plain": [
       "<Figure size 432x288 with 1 Axes>"
      ]
     },
     "metadata": {},
     "output_type": "display_data"
    }
   ],
   "source": [
    "import matplotlib.pyplot as plt\n",
    "%matplotlib inline\n",
    "plt.scatter(y_train_predict.ravel(),range(0,len(y_train_predict)),c=Y_train_binary.ravel(),alpha=0.02, cmap='gray')"
   ]
  },
  {
   "cell_type": "code",
   "execution_count": 89,
   "metadata": {},
   "outputs": [
    {
     "data": {
      "text/plain": [
       "<matplotlib.collections.PathCollection at 0x7f331b8c2be0>"
      ]
     },
     "execution_count": 89,
     "metadata": {},
     "output_type": "execute_result"
    },
    {
     "data": {
      "image/png": "[encoded data removed]",
      "text/plain": [
       "<Figure size 432x288 with 1 Axes>"
      ]
     },
     "metadata": {},
     "output_type": "display_data"
    }
   ],
   "source": [
    "plt.scatter(y_test_predict.ravel(),range(0,len(y_test_predict)),c=Y_test_binary.ravel(),alpha=0.02, cmap='gray')"
   ]
  },
  {
   "cell_type": "code",
   "execution_count": 90,
   "metadata": {},
   "outputs": [
    {
     "data": {
      "text/plain": [
       "[<matplotlib.lines.Line2D at 0x7f331b864f28>]"
      ]
     },
     "execution_count": 90,
     "metadata": {},
     "output_type": "execute_result"
    },
    {
     "data": {
      "image/png": "[encoded data removed]",
      "text/plain": [
       "<Figure size 432x288 with 1 Axes>"
      ]
     },
     "metadata": {},
     "output_type": "display_data"
    }
   ],
   "source": [
    "plt.plot(roc_data[0], roc_data[1])\n",
    "plt.plot(roc_data[1], roc_data[1])\n",
    "#plt.plot(roc_data[2], roc_data[1])"
   ]
  },
  {
   "cell_type": "code",
   "execution_count": 91,
   "metadata": {},
   "outputs": [
    {
     "data": {
      "text/plain": [
       "[<matplotlib.lines.Line2D at 0x7f331b7d8c18>]"
      ]
     },
     "execution_count": 91,
     "metadata": {},
     "output_type": "execute_result"
    },
    {
     "data": {
      "image/png": "[encoded data removed]",
      "text/plain": [
       "<Figure size 432x288 with 1 Axes>"
      ]
     },
     "metadata": {},
     "output_type": "display_data"
    }
   ],
   "source": [
    "plt.plot(roc_data_test[0], roc_data_test[1])\n",
    "plt.plot(roc_data_test[1], roc_data_test[1])\n",
    "#plt.plot(roc_data[2], roc_data[1])"
   ]
  },
  {
   "cell_type": "code",
   "execution_count": 106,
   "metadata": {},
   "outputs": [],
   "source": [
    "df_egr_train_pred = pd.DataFrame({'pred':y_train_predict.ravel(), 'label': Y_train_binary.ravel()})"
   ]
  },
  {
   "cell_type": "code",
   "execution_count": 241,
   "metadata": {},
   "outputs": [],
   "source": [
    "df_egr_test_pred = pd.DataFrame({'pred':y_test_predict.ravel(), 'label': Y_test_binary.ravel()})"
   ]
  },
  {
   "cell_type": "code",
   "execution_count": 108,
   "metadata": {},
   "outputs": [],
   "source": [
    "df_win1 = df_egr_train_pred[df_egr_train_pred['label']>0.5]"
   ]
  },
  {
   "cell_type": "code",
   "execution_count": 242,
   "metadata": {},
   "outputs": [],
   "source": [
    "df_win1_test = df_egr_test_pred[df_egr_test_pred['label']>0.5]"
   ]
  },
  {
   "cell_type": "code",
   "execution_count": 126,
   "metadata": {},
   "outputs": [
    {
     "data": {
      "text/plain": [
       "<matplotlib.collections.PathCollection at 0x7f6c395b1208>"
      ]
     },
     "execution_count": 126,
     "metadata": {},
     "output_type": "execute_result"
    },
    {
     "data": {
      "image/png": "[encoded data removed]",
      "text/plain": [
       "<Figure size 432x288 with 1 Axes>"
      ]
     },
     "metadata": {},
     "output_type": "display_data"
    }
   ],
   "source": [
    "plt.scatter(range(0,1988), df_win1['pred'], alpha=0.2)"
   ]
  },
  {
   "cell_type": "code",
   "execution_count": 245,
   "metadata": {},
   "outputs": [
    {
     "data": {
      "text/plain": [
       "<matplotlib.collections.PathCollection at 0x7f6c34abfa20>"
      ]
     },
     "execution_count": 245,
     "metadata": {},
     "output_type": "execute_result"
    },
    {
     "data": {
      "image/png": "[encoded data removed]",
      "text/plain": [
       "<Figure size 432x288 with 1 Axes>"
      ]
     },
     "metadata": {},
     "output_type": "display_data"
    }
   ],
   "source": [
    "plt.scatter(range(0,2518), df_win1_test['pred'], alpha=0.2)"
   ]
  },
  {
   "cell_type": "code",
   "execution_count": 246,
   "metadata": {},
   "outputs": [],
   "source": [
    "df_win2_test = df_egr_test_pred[df_egr_test_pred['label']<0.5]"
   ]
  },
  {
   "cell_type": "code",
   "execution_count": 113,
   "metadata": {},
   "outputs": [],
   "source": [
    "df_win2 = df_egr_train_pred[df_egr_train_pred['label']<0.5]"
   ]
  },
  {
   "cell_type": "code",
   "execution_count": 248,
   "metadata": {},
   "outputs": [],
   "source": [
    "#df_win2_test.describe()"
   ]
  },
  {
   "cell_type": "code",
   "execution_count": 123,
   "metadata": {},
   "outputs": [
    {
     "data": {
      "text/plain": [
       "<matplotlib.collections.PathCollection at 0x7f6c3a051208>"
      ]
     },
     "execution_count": 123,
     "metadata": {},
     "output_type": "execute_result"
    },
    {
     "data": {
      "image/png": "[encoded data removed]",
      "text/plain": [
       "<Figure size 432x288 with 1 Axes>"
      ]
     },
     "metadata": {},
     "output_type": "display_data"
    }
   ],
   "source": [
    "plt.scatter(range(0,77096), df_win2['pred'], alpha=0.002)"
   ]
  },
  {
   "cell_type": "code",
   "execution_count": 249,
   "metadata": {},
   "outputs": [
    {
     "data": {
      "text/plain": [
       "<matplotlib.collections.PathCollection at 0x7f6c3444d438>"
      ]
     },
     "execution_count": 249,
     "metadata": {},
     "output_type": "execute_result"
    },
    {
     "data": {
      "image/png": "[encoded data removed]",
      "text/plain": [
       "<Figure size 432x288 with 1 Axes>"
      ]
     },
     "metadata": {},
     "output_type": "display_data"
    }
   ],
   "source": [
    "plt.scatter(range(0,67707), df_win2_test['pred'], alpha=0.002)"
   ]
  },
  {
   "cell_type": "code",
   "execution_count": 130,
   "metadata": {},
   "outputs": [],
   "source": [
    "def thres_pred(lis,thres=0.5):\n",
    "    return list(map(lambda x: 1 if x>=thres else 0, lis))"
   ]
  },
  {
   "cell_type": "code",
   "execution_count": null,
   "metadata": {},
   "outputs": [],
   "source": [
    "df_egr_train_pred['pred'], df_egr_train_pred['label']"
   ]
  },
  {
   "cell_type": "code",
   "execution_count": null,
   "metadata": {},
   "outputs": [
    {
     "name": "stderr",
     "output_type": "stream",
     "text": [
      "/home/ec2-user/anaconda3/envs/tensorflow_p36/lib/python3.6/site-packages/sklearn/metrics/classification.py:1437: UndefinedMetricWarning: Precision is ill-defined and being set to 0.0 due to no predicted samples.\n",
      "  'precision', 'predicted', average, warn_for)\n"
     ]
    }
   ],
   "source": [
    "from sklearn.metrics import recall_score, precision_score, accuracy_score\n",
    "pr=[]\n",
    "rec=[]\n",
    "acc=[]\n",
    "cm_ls=[]\n",
    "for thres in roc_data[2]:\n",
    "    pred_tmp = thres_pred(thres=thres,lis=df_egr_train_pred['pred'] )\n",
    "    cm_ls.append(cm(df_egr_train_pred['label'], pred_tmp))\n",
    "    pr.append(precision_score(df_egr_train_pred['label'], pred_tmp))\n",
    "    rec.append(recall_score(df_egr_train_pred['label'], pred_tmp))\n",
    "    acc.append(accuracy_score(df_egr_train_pred['label'], pred_tmp))"
   ]
  },
  {
   "cell_type": "code",
   "execution_count": 250,
   "metadata": {},
   "outputs": [
    {
     "name": "stderr",
     "output_type": "stream",
     "text": [
      "/home/ec2-user/anaconda3/envs/tensorflow_p36/lib/python3.6/site-packages/sklearn/metrics/classification.py:1437: UndefinedMetricWarning: Precision is ill-defined and being set to 0.0 due to no predicted samples.\n",
      "  'precision', 'predicted', average, warn_for)\n"
     ]
    }
   ],
   "source": [
    "from sklearn.metrics import recall_score, precision_score, accuracy_score\n",
    "prt=[]\n",
    "rect=[]\n",
    "acct=[]\n",
    "cm_lst=[]\n",
    "for thres in roc_data_test[2]:\n",
    "    pred_tmp = thres_pred(thres=thres,lis=df_egr_test_pred['pred'] )\n",
    "    cm_lst.append(cm(df_egr_test_pred['label'], pred_tmp))\n",
    "    prt.append(precision_score(df_egr_test_pred['label'], pred_tmp))\n",
    "    rect.append(recall_score(df_egr_test_pred['label'], pred_tmp))\n",
    "    acct.append(accuracy_score(df_egr_test_pred['label'], pred_tmp))"
   ]
  },
  {
   "cell_type": "code",
   "execution_count": 255,
   "metadata": {},
   "outputs": [
    {
     "data": {
      "text/plain": [
       "0.08333333333333333"
      ]
     },
     "execution_count": 255,
     "metadata": {},
     "output_type": "execute_result"
    }
   ],
   "source": [
    "max(prt)"
   ]
  },
  {
   "cell_type": "code",
   "execution_count": 143,
   "metadata": {},
   "outputs": [
    {
     "data": {
      "text/plain": [
       "0.9748621718678873"
      ]
     },
     "execution_count": 143,
     "metadata": {},
     "output_type": "execute_result"
    }
   ],
   "source": [
    "max(acc)"
   ]
  },
  {
   "cell_type": "code",
   "execution_count": null,
   "metadata": {},
   "outputs": [],
   "source": []
  },
  {
   "cell_type": "code",
   "execution_count": 184,
   "metadata": {},
   "outputs": [],
   "source": [
    "df_egr_train_pred_score = pd.DataFrame({'cm_TN':list(map( lambda x: x[0][0], cm_ls)), 'cm_TP':list(map( lambda x: x[1][1], cm_ls)), 'cm_FN':list(map( lambda x: x[1][0], cm_ls)), 'cm_FP':list(map( lambda x: x[0][1], cm_ls)), 'pr':pr, 'rec':rec, 'acc':acc, 'thres':roc_data[2]})"
   ]
  },
  {
   "cell_type": "code",
   "execution_count": 251,
   "metadata": {},
   "outputs": [],
   "source": [
    "df_egr_test_pred_score = pd.DataFrame({'cm_TN':list(map( lambda x: x[0][0], cm_lst)), 'cm_TP':list(map( lambda x: x[1][1], cm_lst)), 'cm_FN':list(map( lambda x: x[1][0], cm_lst)), 'cm_FP':list(map( lambda x: x[0][1], cm_lst)), 'pr':prt, 'rec':rect, 'acc':acct, 'thres':roc_data_test[2]})"
   ]
  },
  {
   "cell_type": "code",
   "execution_count": 219,
   "metadata": {},
   "outputs": [
    {
     "data": {
      "text/html": [
       "<div>\n",
       "<style scoped>\n",
       "    .dataframe tbody tr th:only-of-type {\n",
       "        vertical-align: middle;\n",
       "    }\n",
       "\n",
       "    .dataframe tbody tr th {\n",
       "        vertical-align: top;\n",
       "    }\n",
       "\n",
       "    .dataframe thead th {\n",
       "        text-align: right;\n",
       "    }\n",
       "</style>\n",
       "<table border=\"1\" class=\"dataframe\">\n",
       "  <thead>\n",
       "    <tr style=\"text-align: right;\">\n",
       "      <th></th>\n",
       "      <th>cm_TN</th>\n",
       "      <th>cm_TP</th>\n",
       "      <th>cm_FN</th>\n",
       "      <th>cm_FP</th>\n",
       "      <th>pr</th>\n",
       "      <th>rec</th>\n",
       "      <th>acc</th>\n",
       "      <th>thres</th>\n",
       "    </tr>\n",
       "  </thead>\n",
       "  <tbody>\n",
       "    <tr>\n",
       "      <th>2100</th>\n",
       "      <td>62143</td>\n",
       "      <td>1153</td>\n",
       "      <td>835</td>\n",
       "      <td>14953</td>\n",
       "      <td>0.071588</td>\n",
       "      <td>0.579980</td>\n",
       "      <td>0.800364</td>\n",
       "      <td>0.239928</td>\n",
       "    </tr>\n",
       "    <tr>\n",
       "      <th>2098</th>\n",
       "      <td>62189</td>\n",
       "      <td>1152</td>\n",
       "      <td>836</td>\n",
       "      <td>14907</td>\n",
       "      <td>0.071735</td>\n",
       "      <td>0.579477</td>\n",
       "      <td>0.800933</td>\n",
       "      <td>0.240453</td>\n",
       "    </tr>\n",
       "    <tr>\n",
       "      <th>2099</th>\n",
       "      <td>62143</td>\n",
       "      <td>1152</td>\n",
       "      <td>836</td>\n",
       "      <td>14953</td>\n",
       "      <td>0.071531</td>\n",
       "      <td>0.579477</td>\n",
       "      <td>0.800352</td>\n",
       "      <td>0.239929</td>\n",
       "    </tr>\n",
       "    <tr>\n",
       "      <th>2096</th>\n",
       "      <td>62238</td>\n",
       "      <td>1151</td>\n",
       "      <td>837</td>\n",
       "      <td>14858</td>\n",
       "      <td>0.071897</td>\n",
       "      <td>0.578974</td>\n",
       "      <td>0.801540</td>\n",
       "      <td>0.240988</td>\n",
       "    </tr>\n",
       "    <tr>\n",
       "      <th>2097</th>\n",
       "      <td>62189</td>\n",
       "      <td>1151</td>\n",
       "      <td>837</td>\n",
       "      <td>14907</td>\n",
       "      <td>0.071678</td>\n",
       "      <td>0.578974</td>\n",
       "      <td>0.800921</td>\n",
       "      <td>0.240456</td>\n",
       "    </tr>\n",
       "    <tr>\n",
       "      <th>2094</th>\n",
       "      <td>62306</td>\n",
       "      <td>1150</td>\n",
       "      <td>838</td>\n",
       "      <td>14790</td>\n",
       "      <td>0.072146</td>\n",
       "      <td>0.578471</td>\n",
       "      <td>0.802387</td>\n",
       "      <td>0.241617</td>\n",
       "    </tr>\n",
       "    <tr>\n",
       "      <th>2095</th>\n",
       "      <td>62238</td>\n",
       "      <td>1150</td>\n",
       "      <td>838</td>\n",
       "      <td>14858</td>\n",
       "      <td>0.071839</td>\n",
       "      <td>0.578471</td>\n",
       "      <td>0.801527</td>\n",
       "      <td>0.240991</td>\n",
       "    </tr>\n",
       "    <tr>\n",
       "      <th>2092</th>\n",
       "      <td>62312</td>\n",
       "      <td>1149</td>\n",
       "      <td>839</td>\n",
       "      <td>14784</td>\n",
       "      <td>0.072114</td>\n",
       "      <td>0.577968</td>\n",
       "      <td>0.802451</td>\n",
       "      <td>0.241671</td>\n",
       "    </tr>\n",
       "    <tr>\n",
       "      <th>2093</th>\n",
       "      <td>62306</td>\n",
       "      <td>1149</td>\n",
       "      <td>839</td>\n",
       "      <td>14790</td>\n",
       "      <td>0.072087</td>\n",
       "      <td>0.577968</td>\n",
       "      <td>0.802375</td>\n",
       "      <td>0.241619</td>\n",
       "    </tr>\n",
       "    <tr>\n",
       "      <th>2090</th>\n",
       "      <td>62313</td>\n",
       "      <td>1148</td>\n",
       "      <td>840</td>\n",
       "      <td>14783</td>\n",
       "      <td>0.072061</td>\n",
       "      <td>0.577465</td>\n",
       "      <td>0.802451</td>\n",
       "      <td>0.241679</td>\n",
       "    </tr>\n",
       "    <tr>\n",
       "      <th>2091</th>\n",
       "      <td>62312</td>\n",
       "      <td>1148</td>\n",
       "      <td>840</td>\n",
       "      <td>14784</td>\n",
       "      <td>0.072056</td>\n",
       "      <td>0.577465</td>\n",
       "      <td>0.802438</td>\n",
       "      <td>0.241675</td>\n",
       "    </tr>\n",
       "    <tr>\n",
       "      <th>2088</th>\n",
       "      <td>62315</td>\n",
       "      <td>1147</td>\n",
       "      <td>841</td>\n",
       "      <td>14781</td>\n",
       "      <td>0.072012</td>\n",
       "      <td>0.576962</td>\n",
       "      <td>0.802463</td>\n",
       "      <td>0.241713</td>\n",
       "    </tr>\n",
       "    <tr>\n",
       "      <th>2089</th>\n",
       "      <td>62313</td>\n",
       "      <td>1147</td>\n",
       "      <td>841</td>\n",
       "      <td>14783</td>\n",
       "      <td>0.072003</td>\n",
       "      <td>0.576962</td>\n",
       "      <td>0.802438</td>\n",
       "      <td>0.241695</td>\n",
       "    </tr>\n",
       "    <tr>\n",
       "      <th>2086</th>\n",
       "      <td>62347</td>\n",
       "      <td>1146</td>\n",
       "      <td>842</td>\n",
       "      <td>14749</td>\n",
       "      <td>0.072098</td>\n",
       "      <td>0.576459</td>\n",
       "      <td>0.802855</td>\n",
       "      <td>0.242073</td>\n",
       "    </tr>\n",
       "    <tr>\n",
       "      <th>2087</th>\n",
       "      <td>62315</td>\n",
       "      <td>1146</td>\n",
       "      <td>842</td>\n",
       "      <td>14781</td>\n",
       "      <td>0.071953</td>\n",
       "      <td>0.576459</td>\n",
       "      <td>0.802451</td>\n",
       "      <td>0.241716</td>\n",
       "    </tr>\n",
       "    <tr>\n",
       "      <th>2084</th>\n",
       "      <td>62375</td>\n",
       "      <td>1145</td>\n",
       "      <td>843</td>\n",
       "      <td>14721</td>\n",
       "      <td>0.072167</td>\n",
       "      <td>0.575956</td>\n",
       "      <td>0.803197</td>\n",
       "      <td>0.242349</td>\n",
       "    </tr>\n",
       "    <tr>\n",
       "      <th>2085</th>\n",
       "      <td>62347</td>\n",
       "      <td>1145</td>\n",
       "      <td>843</td>\n",
       "      <td>14749</td>\n",
       "      <td>0.072040</td>\n",
       "      <td>0.575956</td>\n",
       "      <td>0.802843</td>\n",
       "      <td>0.242088</td>\n",
       "    </tr>\n",
       "    <tr>\n",
       "      <th>2082</th>\n",
       "      <td>62396</td>\n",
       "      <td>1144</td>\n",
       "      <td>844</td>\n",
       "      <td>14700</td>\n",
       "      <td>0.072204</td>\n",
       "      <td>0.575453</td>\n",
       "      <td>0.803449</td>\n",
       "      <td>0.242522</td>\n",
       "    </tr>\n",
       "    <tr>\n",
       "      <th>2083</th>\n",
       "      <td>62375</td>\n",
       "      <td>1144</td>\n",
       "      <td>844</td>\n",
       "      <td>14721</td>\n",
       "      <td>0.072108</td>\n",
       "      <td>0.575453</td>\n",
       "      <td>0.803184</td>\n",
       "      <td>0.242349</td>\n",
       "    </tr>\n",
       "    <tr>\n",
       "      <th>2080</th>\n",
       "      <td>62449</td>\n",
       "      <td>1143</td>\n",
       "      <td>845</td>\n",
       "      <td>14647</td>\n",
       "      <td>0.072388</td>\n",
       "      <td>0.574950</td>\n",
       "      <td>0.804107</td>\n",
       "      <td>0.243127</td>\n",
       "    </tr>\n",
       "    <tr>\n",
       "      <th>2081</th>\n",
       "      <td>62396</td>\n",
       "      <td>1143</td>\n",
       "      <td>845</td>\n",
       "      <td>14700</td>\n",
       "      <td>0.072145</td>\n",
       "      <td>0.574950</td>\n",
       "      <td>0.803437</td>\n",
       "      <td>0.242557</td>\n",
       "    </tr>\n",
       "    <tr>\n",
       "      <th>2078</th>\n",
       "      <td>62508</td>\n",
       "      <td>1142</td>\n",
       "      <td>846</td>\n",
       "      <td>14588</td>\n",
       "      <td>0.072600</td>\n",
       "      <td>0.574447</td>\n",
       "      <td>0.804840</td>\n",
       "      <td>0.243787</td>\n",
       "    </tr>\n",
       "  </tbody>\n",
       "</table>\n",
       "</div>"
      ],
      "text/plain": [
       "      cm_TN  cm_TP  cm_FN  cm_FP        pr       rec       acc     thres\n",
       "2100  62143   1153    835  14953  0.071588  0.579980  0.800364  0.239928\n",
       "2098  62189   1152    836  14907  0.071735  0.579477  0.800933  0.240453\n",
       "2099  62143   1152    836  14953  0.071531  0.579477  0.800352  0.239929\n",
       "2096  62238   1151    837  14858  0.071897  0.578974  0.801540  0.240988\n",
       "2097  62189   1151    837  14907  0.071678  0.578974  0.800921  0.240456\n",
       "2094  62306   1150    838  14790  0.072146  0.578471  0.802387  0.241617\n",
       "2095  62238   1150    838  14858  0.071839  0.578471  0.801527  0.240991\n",
       "2092  62312   1149    839  14784  0.072114  0.577968  0.802451  0.241671\n",
       "2093  62306   1149    839  14790  0.072087  0.577968  0.802375  0.241619\n",
       "2090  62313   1148    840  14783  0.072061  0.577465  0.802451  0.241679\n",
       "2091  62312   1148    840  14784  0.072056  0.577465  0.802438  0.241675\n",
       "2088  62315   1147    841  14781  0.072012  0.576962  0.802463  0.241713\n",
       "2089  62313   1147    841  14783  0.072003  0.576962  0.802438  0.241695\n",
       "2086  62347   1146    842  14749  0.072098  0.576459  0.802855  0.242073\n",
       "2087  62315   1146    842  14781  0.071953  0.576459  0.802451  0.241716\n",
       "2084  62375   1145    843  14721  0.072167  0.575956  0.803197  0.242349\n",
       "2085  62347   1145    843  14749  0.072040  0.575956  0.802843  0.242088\n",
       "2082  62396   1144    844  14700  0.072204  0.575453  0.803449  0.242522\n",
       "2083  62375   1144    844  14721  0.072108  0.575453  0.803184  0.242349\n",
       "2080  62449   1143    845  14647  0.072388  0.574950  0.804107  0.243127\n",
       "2081  62396   1143    845  14700  0.072145  0.574950  0.803437  0.242557\n",
       "2078  62508   1142    846  14588  0.072600  0.574447  0.804840  0.243787"
      ]
     },
     "execution_count": 219,
     "metadata": {},
     "output_type": "execute_result"
    }
   ],
   "source": [
    "# df_egr_train_pred_score[df_egr_train_pred_score['cm_FN']<400]\n",
    "# plt.hist(df_egr_train_pred_score['acc'].values)\n",
    "(df_egr_train_pred_score[df_egr_train_pred_score['acc']>0.8]).sort_values(['cm_TP','pr'], ascending=False).head(22)"
   ]
  },
  {
   "cell_type": "code",
   "execution_count": 252,
   "metadata": {},
   "outputs": [
    {
     "data": {
      "text/html": [
       "<div>\n",
       "<style scoped>\n",
       "    .dataframe tbody tr th:only-of-type {\n",
       "        vertical-align: middle;\n",
       "    }\n",
       "\n",
       "    .dataframe tbody tr th {\n",
       "        vertical-align: top;\n",
       "    }\n",
       "\n",
       "    .dataframe thead th {\n",
       "        text-align: right;\n",
       "    }\n",
       "</style>\n",
       "<table border=\"1\" class=\"dataframe\">\n",
       "  <thead>\n",
       "    <tr style=\"text-align: right;\">\n",
       "      <th></th>\n",
       "      <th>cm_TN</th>\n",
       "      <th>cm_TP</th>\n",
       "      <th>cm_FN</th>\n",
       "      <th>cm_FP</th>\n",
       "      <th>pr</th>\n",
       "      <th>rec</th>\n",
       "      <th>acc</th>\n",
       "      <th>thres</th>\n",
       "    </tr>\n",
       "  </thead>\n",
       "  <tbody>\n",
       "    <tr>\n",
       "      <th>968</th>\n",
       "      <td>55739</td>\n",
       "      <td>488</td>\n",
       "      <td>2030</td>\n",
       "      <td>11968</td>\n",
       "      <td>0.039178</td>\n",
       "      <td>0.193805</td>\n",
       "      <td>0.800669</td>\n",
       "      <td>0.365553</td>\n",
       "    </tr>\n",
       "    <tr>\n",
       "      <th>969</th>\n",
       "      <td>55710</td>\n",
       "      <td>488</td>\n",
       "      <td>2030</td>\n",
       "      <td>11997</td>\n",
       "      <td>0.039087</td>\n",
       "      <td>0.193805</td>\n",
       "      <td>0.800256</td>\n",
       "      <td>0.365113</td>\n",
       "    </tr>\n",
       "    <tr>\n",
       "      <th>970</th>\n",
       "      <td>55708</td>\n",
       "      <td>488</td>\n",
       "      <td>2030</td>\n",
       "      <td>11999</td>\n",
       "      <td>0.039081</td>\n",
       "      <td>0.193805</td>\n",
       "      <td>0.800228</td>\n",
       "      <td>0.365102</td>\n",
       "    </tr>\n",
       "    <tr>\n",
       "      <th>966</th>\n",
       "      <td>55772</td>\n",
       "      <td>487</td>\n",
       "      <td>2031</td>\n",
       "      <td>11935</td>\n",
       "      <td>0.039205</td>\n",
       "      <td>0.193407</td>\n",
       "      <td>0.801125</td>\n",
       "      <td>0.366030</td>\n",
       "    </tr>\n",
       "    <tr>\n",
       "      <th>967</th>\n",
       "      <td>55739</td>\n",
       "      <td>487</td>\n",
       "      <td>2031</td>\n",
       "      <td>11968</td>\n",
       "      <td>0.039101</td>\n",
       "      <td>0.193407</td>\n",
       "      <td>0.800655</td>\n",
       "      <td>0.365571</td>\n",
       "    </tr>\n",
       "    <tr>\n",
       "      <th>964</th>\n",
       "      <td>55773</td>\n",
       "      <td>486</td>\n",
       "      <td>2032</td>\n",
       "      <td>11934</td>\n",
       "      <td>0.039130</td>\n",
       "      <td>0.193010</td>\n",
       "      <td>0.801125</td>\n",
       "      <td>0.366094</td>\n",
       "    </tr>\n",
       "    <tr>\n",
       "      <th>965</th>\n",
       "      <td>55772</td>\n",
       "      <td>486</td>\n",
       "      <td>2032</td>\n",
       "      <td>11935</td>\n",
       "      <td>0.039127</td>\n",
       "      <td>0.193010</td>\n",
       "      <td>0.801111</td>\n",
       "      <td>0.366058</td>\n",
       "    </tr>\n",
       "    <tr>\n",
       "      <th>962</th>\n",
       "      <td>55827</td>\n",
       "      <td>485</td>\n",
       "      <td>2033</td>\n",
       "      <td>11880</td>\n",
       "      <td>0.039224</td>\n",
       "      <td>0.192613</td>\n",
       "      <td>0.801880</td>\n",
       "      <td>0.366890</td>\n",
       "    </tr>\n",
       "    <tr>\n",
       "      <th>963</th>\n",
       "      <td>55773</td>\n",
       "      <td>485</td>\n",
       "      <td>2033</td>\n",
       "      <td>11934</td>\n",
       "      <td>0.039053</td>\n",
       "      <td>0.192613</td>\n",
       "      <td>0.801111</td>\n",
       "      <td>0.366097</td>\n",
       "    </tr>\n",
       "    <tr>\n",
       "      <th>960</th>\n",
       "      <td>55843</td>\n",
       "      <td>484</td>\n",
       "      <td>2034</td>\n",
       "      <td>11864</td>\n",
       "      <td>0.039197</td>\n",
       "      <td>0.192216</td>\n",
       "      <td>0.802093</td>\n",
       "      <td>0.367123</td>\n",
       "    </tr>\n",
       "    <tr>\n",
       "      <th>961</th>\n",
       "      <td>55827</td>\n",
       "      <td>484</td>\n",
       "      <td>2034</td>\n",
       "      <td>11880</td>\n",
       "      <td>0.039146</td>\n",
       "      <td>0.192216</td>\n",
       "      <td>0.801865</td>\n",
       "      <td>0.366893</td>\n",
       "    </tr>\n",
       "    <tr>\n",
       "      <th>958</th>\n",
       "      <td>55853</td>\n",
       "      <td>483</td>\n",
       "      <td>2035</td>\n",
       "      <td>11854</td>\n",
       "      <td>0.039151</td>\n",
       "      <td>0.191819</td>\n",
       "      <td>0.802221</td>\n",
       "      <td>0.367227</td>\n",
       "    </tr>\n",
       "    <tr>\n",
       "      <th>959</th>\n",
       "      <td>55843</td>\n",
       "      <td>483</td>\n",
       "      <td>2035</td>\n",
       "      <td>11864</td>\n",
       "      <td>0.039119</td>\n",
       "      <td>0.191819</td>\n",
       "      <td>0.802079</td>\n",
       "      <td>0.367136</td>\n",
       "    </tr>\n",
       "    <tr>\n",
       "      <th>956</th>\n",
       "      <td>55855</td>\n",
       "      <td>482</td>\n",
       "      <td>2036</td>\n",
       "      <td>11852</td>\n",
       "      <td>0.039079</td>\n",
       "      <td>0.191422</td>\n",
       "      <td>0.802236</td>\n",
       "      <td>0.367244</td>\n",
       "    </tr>\n",
       "    <tr>\n",
       "      <th>957</th>\n",
       "      <td>55853</td>\n",
       "      <td>482</td>\n",
       "      <td>2036</td>\n",
       "      <td>11854</td>\n",
       "      <td>0.039073</td>\n",
       "      <td>0.191422</td>\n",
       "      <td>0.802207</td>\n",
       "      <td>0.367234</td>\n",
       "    </tr>\n",
       "    <tr>\n",
       "      <th>954</th>\n",
       "      <td>55867</td>\n",
       "      <td>481</td>\n",
       "      <td>2037</td>\n",
       "      <td>11840</td>\n",
       "      <td>0.039039</td>\n",
       "      <td>0.191025</td>\n",
       "      <td>0.802392</td>\n",
       "      <td>0.367402</td>\n",
       "    </tr>\n",
       "    <tr>\n",
       "      <th>955</th>\n",
       "      <td>55855</td>\n",
       "      <td>481</td>\n",
       "      <td>2037</td>\n",
       "      <td>11852</td>\n",
       "      <td>0.039001</td>\n",
       "      <td>0.191025</td>\n",
       "      <td>0.802221</td>\n",
       "      <td>0.367255</td>\n",
       "    </tr>\n",
       "    <tr>\n",
       "      <th>952</th>\n",
       "      <td>55885</td>\n",
       "      <td>480</td>\n",
       "      <td>2038</td>\n",
       "      <td>11822</td>\n",
       "      <td>0.039018</td>\n",
       "      <td>0.190627</td>\n",
       "      <td>0.802634</td>\n",
       "      <td>0.367648</td>\n",
       "    </tr>\n",
       "    <tr>\n",
       "      <th>953</th>\n",
       "      <td>55867</td>\n",
       "      <td>480</td>\n",
       "      <td>2038</td>\n",
       "      <td>11840</td>\n",
       "      <td>0.038961</td>\n",
       "      <td>0.190627</td>\n",
       "      <td>0.802378</td>\n",
       "      <td>0.367405</td>\n",
       "    </tr>\n",
       "    <tr>\n",
       "      <th>950</th>\n",
       "      <td>55904</td>\n",
       "      <td>479</td>\n",
       "      <td>2039</td>\n",
       "      <td>11803</td>\n",
       "      <td>0.039000</td>\n",
       "      <td>0.190230</td>\n",
       "      <td>0.802891</td>\n",
       "      <td>0.368086</td>\n",
       "    </tr>\n",
       "    <tr>\n",
       "      <th>951</th>\n",
       "      <td>55885</td>\n",
       "      <td>479</td>\n",
       "      <td>2039</td>\n",
       "      <td>11822</td>\n",
       "      <td>0.038940</td>\n",
       "      <td>0.190230</td>\n",
       "      <td>0.802620</td>\n",
       "      <td>0.367657</td>\n",
       "    </tr>\n",
       "    <tr>\n",
       "      <th>946</th>\n",
       "      <td>55955</td>\n",
       "      <td>478</td>\n",
       "      <td>2040</td>\n",
       "      <td>11752</td>\n",
       "      <td>0.039084</td>\n",
       "      <td>0.189833</td>\n",
       "      <td>0.803603</td>\n",
       "      <td>0.368571</td>\n",
       "    </tr>\n",
       "  </tbody>\n",
       "</table>\n",
       "</div>"
      ],
      "text/plain": [
       "     cm_TN  cm_TP  cm_FN  cm_FP        pr       rec       acc     thres\n",
       "968  55739    488   2030  11968  0.039178  0.193805  0.800669  0.365553\n",
       "969  55710    488   2030  11997  0.039087  0.193805  0.800256  0.365113\n",
       "970  55708    488   2030  11999  0.039081  0.193805  0.800228  0.365102\n",
       "966  55772    487   2031  11935  0.039205  0.193407  0.801125  0.366030\n",
       "967  55739    487   2031  11968  0.039101  0.193407  0.800655  0.365571\n",
       "964  55773    486   2032  11934  0.039130  0.193010  0.801125  0.366094\n",
       "965  55772    486   2032  11935  0.039127  0.193010  0.801111  0.366058\n",
       "962  55827    485   2033  11880  0.039224  0.192613  0.801880  0.366890\n",
       "963  55773    485   2033  11934  0.039053  0.192613  0.801111  0.366097\n",
       "960  55843    484   2034  11864  0.039197  0.192216  0.802093  0.367123\n",
       "961  55827    484   2034  11880  0.039146  0.192216  0.801865  0.366893\n",
       "958  55853    483   2035  11854  0.039151  0.191819  0.802221  0.367227\n",
       "959  55843    483   2035  11864  0.039119  0.191819  0.802079  0.367136\n",
       "956  55855    482   2036  11852  0.039079  0.191422  0.802236  0.367244\n",
       "957  55853    482   2036  11854  0.039073  0.191422  0.802207  0.367234\n",
       "954  55867    481   2037  11840  0.039039  0.191025  0.802392  0.367402\n",
       "955  55855    481   2037  11852  0.039001  0.191025  0.802221  0.367255\n",
       "952  55885    480   2038  11822  0.039018  0.190627  0.802634  0.367648\n",
       "953  55867    480   2038  11840  0.038961  0.190627  0.802378  0.367405\n",
       "950  55904    479   2039  11803  0.039000  0.190230  0.802891  0.368086\n",
       "951  55885    479   2039  11822  0.038940  0.190230  0.802620  0.367657\n",
       "946  55955    478   2040  11752  0.039084  0.189833  0.803603  0.368571"
      ]
     },
     "execution_count": 252,
     "metadata": {},
     "output_type": "execute_result"
    }
   ],
   "source": [
    "(df_egr_test_pred_score[df_egr_test_pred_score['acc']>0.8]).sort_values(['cm_TP','pr'], ascending=False).head(22)"
   ]
  },
  {
   "cell_type": "code",
   "execution_count": 226,
   "metadata": {},
   "outputs": [
    {
     "data": {
      "text/html": [
       "<div>\n",
       "<style scoped>\n",
       "    .dataframe tbody tr th:only-of-type {\n",
       "        vertical-align: middle;\n",
       "    }\n",
       "\n",
       "    .dataframe tbody tr th {\n",
       "        vertical-align: top;\n",
       "    }\n",
       "\n",
       "    .dataframe thead th {\n",
       "        text-align: right;\n",
       "    }\n",
       "</style>\n",
       "<table border=\"1\" class=\"dataframe\">\n",
       "  <thead>\n",
       "    <tr style=\"text-align: right;\">\n",
       "      <th></th>\n",
       "      <th>cm_TN</th>\n",
       "      <th>cm_TP</th>\n",
       "      <th>cm_FN</th>\n",
       "      <th>cm_FP</th>\n",
       "      <th>pr</th>\n",
       "      <th>rec</th>\n",
       "      <th>acc</th>\n",
       "      <th>thres</th>\n",
       "    </tr>\n",
       "  </thead>\n",
       "  <tbody>\n",
       "    <tr>\n",
       "      <th>1408</th>\n",
       "      <td>69959</td>\n",
       "      <td>795</td>\n",
       "      <td>1193</td>\n",
       "      <td>7137</td>\n",
       "      <td>0.100227</td>\n",
       "      <td>0.399899</td>\n",
       "      <td>0.894669</td>\n",
       "      <td>0.351392</td>\n",
       "    </tr>\n",
       "    <tr>\n",
       "      <th>1406</th>\n",
       "      <td>69965</td>\n",
       "      <td>794</td>\n",
       "      <td>1194</td>\n",
       "      <td>7131</td>\n",
       "      <td>0.100189</td>\n",
       "      <td>0.399396</td>\n",
       "      <td>0.894732</td>\n",
       "      <td>0.351564</td>\n",
       "    </tr>\n",
       "    <tr>\n",
       "      <th>1407</th>\n",
       "      <td>69959</td>\n",
       "      <td>794</td>\n",
       "      <td>1194</td>\n",
       "      <td>7137</td>\n",
       "      <td>0.100113</td>\n",
       "      <td>0.399396</td>\n",
       "      <td>0.894656</td>\n",
       "      <td>0.351453</td>\n",
       "    </tr>\n",
       "    <tr>\n",
       "      <th>1404</th>\n",
       "      <td>69975</td>\n",
       "      <td>793</td>\n",
       "      <td>1195</td>\n",
       "      <td>7121</td>\n",
       "      <td>0.100202</td>\n",
       "      <td>0.398893</td>\n",
       "      <td>0.894846</td>\n",
       "      <td>0.351732</td>\n",
       "    </tr>\n",
       "    <tr>\n",
       "      <th>1405</th>\n",
       "      <td>69965</td>\n",
       "      <td>793</td>\n",
       "      <td>1195</td>\n",
       "      <td>7131</td>\n",
       "      <td>0.100076</td>\n",
       "      <td>0.398893</td>\n",
       "      <td>0.894720</td>\n",
       "      <td>0.351581</td>\n",
       "    </tr>\n",
       "    <tr>\n",
       "      <th>1402</th>\n",
       "      <td>69992</td>\n",
       "      <td>792</td>\n",
       "      <td>1196</td>\n",
       "      <td>7104</td>\n",
       "      <td>0.100304</td>\n",
       "      <td>0.398390</td>\n",
       "      <td>0.895048</td>\n",
       "      <td>0.352210</td>\n",
       "    </tr>\n",
       "    <tr>\n",
       "      <th>1403</th>\n",
       "      <td>69975</td>\n",
       "      <td>792</td>\n",
       "      <td>1196</td>\n",
       "      <td>7121</td>\n",
       "      <td>0.100088</td>\n",
       "      <td>0.398390</td>\n",
       "      <td>0.894833</td>\n",
       "      <td>0.351733</td>\n",
       "    </tr>\n",
       "    <tr>\n",
       "      <th>1400</th>\n",
       "      <td>70003</td>\n",
       "      <td>791</td>\n",
       "      <td>1197</td>\n",
       "      <td>7093</td>\n",
       "      <td>0.100330</td>\n",
       "      <td>0.397887</td>\n",
       "      <td>0.895175</td>\n",
       "      <td>0.352582</td>\n",
       "    </tr>\n",
       "    <tr>\n",
       "      <th>1401</th>\n",
       "      <td>69992</td>\n",
       "      <td>791</td>\n",
       "      <td>1197</td>\n",
       "      <td>7104</td>\n",
       "      <td>0.100190</td>\n",
       "      <td>0.397887</td>\n",
       "      <td>0.895036</td>\n",
       "      <td>0.352210</td>\n",
       "    </tr>\n",
       "    <tr>\n",
       "      <th>1398</th>\n",
       "      <td>70010</td>\n",
       "      <td>790</td>\n",
       "      <td>1198</td>\n",
       "      <td>7086</td>\n",
       "      <td>0.100305</td>\n",
       "      <td>0.397384</td>\n",
       "      <td>0.895251</td>\n",
       "      <td>0.352789</td>\n",
       "    </tr>\n",
       "  </tbody>\n",
       "</table>\n",
       "</div>"
      ],
      "text/plain": [
       "      cm_TN  cm_TP  cm_FN  cm_FP        pr       rec       acc     thres\n",
       "1408  69959    795   1193   7137  0.100227  0.399899  0.894669  0.351392\n",
       "1406  69965    794   1194   7131  0.100189  0.399396  0.894732  0.351564\n",
       "1407  69959    794   1194   7137  0.100113  0.399396  0.894656  0.351453\n",
       "1404  69975    793   1195   7121  0.100202  0.398893  0.894846  0.351732\n",
       "1405  69965    793   1195   7131  0.100076  0.398893  0.894720  0.351581\n",
       "1402  69992    792   1196   7104  0.100304  0.398390  0.895048  0.352210\n",
       "1403  69975    792   1196   7121  0.100088  0.398390  0.894833  0.351733\n",
       "1400  70003    791   1197   7093  0.100330  0.397887  0.895175  0.352582\n",
       "1401  69992    791   1197   7104  0.100190  0.397887  0.895036  0.352210\n",
       "1398  70010    790   1198   7086  0.100305  0.397384  0.895251  0.352789"
      ]
     },
     "execution_count": 226,
     "metadata": {},
     "output_type": "execute_result"
    }
   ],
   "source": [
    "(df_egr_train_pred_score[df_egr_train_pred_score['pr']>0.1]).sort_values(['cm_TP','acc'], ascending=False).head(10)"
   ]
  },
  {
   "cell_type": "code",
   "execution_count": 299,
   "metadata": {},
   "outputs": [
    {
     "data": {
      "text/html": [
       "<div>\n",
       "<style scoped>\n",
       "    .dataframe tbody tr th:only-of-type {\n",
       "        vertical-align: middle;\n",
       "    }\n",
       "\n",
       "    .dataframe tbody tr th {\n",
       "        vertical-align: top;\n",
       "    }\n",
       "\n",
       "    .dataframe thead th {\n",
       "        text-align: right;\n",
       "    }\n",
       "</style>\n",
       "<table border=\"1\" class=\"dataframe\">\n",
       "  <thead>\n",
       "    <tr style=\"text-align: right;\">\n",
       "      <th></th>\n",
       "      <th>cm_TN</th>\n",
       "      <th>cm_TP</th>\n",
       "      <th>cm_FN</th>\n",
       "      <th>cm_FP</th>\n",
       "      <th>pr</th>\n",
       "      <th>rec</th>\n",
       "      <th>acc</th>\n",
       "      <th>thres</th>\n",
       "    </tr>\n",
       "  </thead>\n",
       "  <tbody>\n",
       "    <tr>\n",
       "      <th>2206</th>\n",
       "      <td>42544</td>\n",
       "      <td>1103</td>\n",
       "      <td>1415</td>\n",
       "      <td>25163</td>\n",
       "      <td>0.041993</td>\n",
       "      <td>0.438046</td>\n",
       "      <td>0.621531</td>\n",
       "      <td>0.230706</td>\n",
       "    </tr>\n",
       "    <tr>\n",
       "      <th>141</th>\n",
       "      <td>66165</td>\n",
       "      <td>71</td>\n",
       "      <td>2447</td>\n",
       "      <td>1542</td>\n",
       "      <td>0.044017</td>\n",
       "      <td>0.028197</td>\n",
       "      <td>0.943197</td>\n",
       "      <td>0.590117</td>\n",
       "    </tr>\n",
       "    <tr>\n",
       "      <th>137</th>\n",
       "      <td>66210</td>\n",
       "      <td>70</td>\n",
       "      <td>2448</td>\n",
       "      <td>1497</td>\n",
       "      <td>0.044671</td>\n",
       "      <td>0.027800</td>\n",
       "      <td>0.943823</td>\n",
       "      <td>0.591814</td>\n",
       "    </tr>\n",
       "    <tr>\n",
       "      <th>138</th>\n",
       "      <td>66171</td>\n",
       "      <td>70</td>\n",
       "      <td>2448</td>\n",
       "      <td>1536</td>\n",
       "      <td>0.043587</td>\n",
       "      <td>0.027800</td>\n",
       "      <td>0.943268</td>\n",
       "      <td>0.590231</td>\n",
       "    </tr>\n",
       "    <tr>\n",
       "      <th>139</th>\n",
       "      <td>66169</td>\n",
       "      <td>70</td>\n",
       "      <td>2448</td>\n",
       "      <td>1538</td>\n",
       "      <td>0.043532</td>\n",
       "      <td>0.027800</td>\n",
       "      <td>0.943240</td>\n",
       "      <td>0.590227</td>\n",
       "    </tr>\n",
       "    <tr>\n",
       "      <th>140</th>\n",
       "      <td>66165</td>\n",
       "      <td>70</td>\n",
       "      <td>2448</td>\n",
       "      <td>1542</td>\n",
       "      <td>0.043424</td>\n",
       "      <td>0.027800</td>\n",
       "      <td>0.943183</td>\n",
       "      <td>0.590168</td>\n",
       "    </tr>\n",
       "    <tr>\n",
       "      <th>135</th>\n",
       "      <td>66218</td>\n",
       "      <td>69</td>\n",
       "      <td>2449</td>\n",
       "      <td>1489</td>\n",
       "      <td>0.044288</td>\n",
       "      <td>0.027403</td>\n",
       "      <td>0.943923</td>\n",
       "      <td>0.592015</td>\n",
       "    </tr>\n",
       "    <tr>\n",
       "      <th>136</th>\n",
       "      <td>66210</td>\n",
       "      <td>69</td>\n",
       "      <td>2449</td>\n",
       "      <td>1497</td>\n",
       "      <td>0.044061</td>\n",
       "      <td>0.027403</td>\n",
       "      <td>0.943809</td>\n",
       "      <td>0.591835</td>\n",
       "    </tr>\n",
       "    <tr>\n",
       "      <th>133</th>\n",
       "      <td>66224</td>\n",
       "      <td>68</td>\n",
       "      <td>2450</td>\n",
       "      <td>1483</td>\n",
       "      <td>0.043843</td>\n",
       "      <td>0.027006</td>\n",
       "      <td>0.943994</td>\n",
       "      <td>0.592159</td>\n",
       "    </tr>\n",
       "    <tr>\n",
       "      <th>134</th>\n",
       "      <td>66218</td>\n",
       "      <td>68</td>\n",
       "      <td>2450</td>\n",
       "      <td>1489</td>\n",
       "      <td>0.043674</td>\n",
       "      <td>0.027006</td>\n",
       "      <td>0.943909</td>\n",
       "      <td>0.592024</td>\n",
       "    </tr>\n",
       "  </tbody>\n",
       "</table>\n",
       "</div>"
      ],
      "text/plain": [
       "      cm_TN  cm_TP  cm_FN  cm_FP        pr       rec       acc     thres\n",
       "2206  42544   1103   1415  25163  0.041993  0.438046  0.621531  0.230706\n",
       "141   66165     71   2447   1542  0.044017  0.028197  0.943197  0.590117\n",
       "137   66210     70   2448   1497  0.044671  0.027800  0.943823  0.591814\n",
       "138   66171     70   2448   1536  0.043587  0.027800  0.943268  0.590231\n",
       "139   66169     70   2448   1538  0.043532  0.027800  0.943240  0.590227\n",
       "140   66165     70   2448   1542  0.043424  0.027800  0.943183  0.590168\n",
       "135   66218     69   2449   1489  0.044288  0.027403  0.943923  0.592015\n",
       "136   66210     69   2449   1497  0.044061  0.027403  0.943809  0.591835\n",
       "133   66224     68   2450   1483  0.043843  0.027006  0.943994  0.592159\n",
       "134   66218     68   2450   1489  0.043674  0.027006  0.943909  0.592024"
      ]
     },
     "execution_count": 299,
     "metadata": {},
     "output_type": "execute_result"
    }
   ],
   "source": [
    "(df_egr_test_pred_score[df_egr_test_pred_score['pr']>0.04199]).sort_values(['cm_TP','acc'], ascending=False).head(10)"
   ]
  },
  {
   "cell_type": "code",
   "execution_count": 206,
   "metadata": {},
   "outputs": [
    {
     "data": {
      "text/html": [
       "<div>\n",
       "<style scoped>\n",
       "    .dataframe tbody tr th:only-of-type {\n",
       "        vertical-align: middle;\n",
       "    }\n",
       "\n",
       "    .dataframe tbody tr th {\n",
       "        vertical-align: top;\n",
       "    }\n",
       "\n",
       "    .dataframe thead th {\n",
       "        text-align: right;\n",
       "    }\n",
       "</style>\n",
       "<table border=\"1\" class=\"dataframe\">\n",
       "  <thead>\n",
       "    <tr style=\"text-align: right;\">\n",
       "      <th></th>\n",
       "      <th>cm_TN</th>\n",
       "      <th>cm_TP</th>\n",
       "      <th>cm_FN</th>\n",
       "      <th>cm_FP</th>\n",
       "      <th>pr</th>\n",
       "      <th>rec</th>\n",
       "      <th>acc</th>\n",
       "      <th>thres</th>\n",
       "    </tr>\n",
       "  </thead>\n",
       "  <tbody>\n",
       "    <tr>\n",
       "      <th>2599</th>\n",
       "      <td>53874</td>\n",
       "      <td>1392</td>\n",
       "      <td>596</td>\n",
       "      <td>23222</td>\n",
       "      <td>0.056553</td>\n",
       "      <td>0.700201</td>\n",
       "      <td>0.698827</td>\n",
       "      <td>0.176299</td>\n",
       "    </tr>\n",
       "    <tr>\n",
       "      <th>2601</th>\n",
       "      <td>53863</td>\n",
       "      <td>1394</td>\n",
       "      <td>594</td>\n",
       "      <td>23233</td>\n",
       "      <td>0.056605</td>\n",
       "      <td>0.701207</td>\n",
       "      <td>0.698713</td>\n",
       "      <td>0.176216</td>\n",
       "    </tr>\n",
       "    <tr>\n",
       "      <th>2600</th>\n",
       "      <td>53863</td>\n",
       "      <td>1392</td>\n",
       "      <td>596</td>\n",
       "      <td>23233</td>\n",
       "      <td>0.056528</td>\n",
       "      <td>0.700201</td>\n",
       "      <td>0.698687</td>\n",
       "      <td>0.176224</td>\n",
       "    </tr>\n",
       "    <tr>\n",
       "      <th>2603</th>\n",
       "      <td>53820</td>\n",
       "      <td>1395</td>\n",
       "      <td>593</td>\n",
       "      <td>23276</td>\n",
       "      <td>0.056544</td>\n",
       "      <td>0.701710</td>\n",
       "      <td>0.698182</td>\n",
       "      <td>0.175929</td>\n",
       "    </tr>\n",
       "    <tr>\n",
       "      <th>2602</th>\n",
       "      <td>53820</td>\n",
       "      <td>1394</td>\n",
       "      <td>594</td>\n",
       "      <td>23276</td>\n",
       "      <td>0.056506</td>\n",
       "      <td>0.701207</td>\n",
       "      <td>0.698169</td>\n",
       "      <td>0.175933</td>\n",
       "    </tr>\n",
       "  </tbody>\n",
       "</table>\n",
       "</div>"
      ],
      "text/plain": [
       "      cm_TN  cm_TP  cm_FN  cm_FP        pr       rec       acc     thres\n",
       "2599  53874   1392    596  23222  0.056553  0.700201  0.698827  0.176299\n",
       "2601  53863   1394    594  23233  0.056605  0.701207  0.698713  0.176216\n",
       "2600  53863   1392    596  23233  0.056528  0.700201  0.698687  0.176224\n",
       "2603  53820   1395    593  23276  0.056544  0.701710  0.698182  0.175929\n",
       "2602  53820   1394    594  23276  0.056506  0.701207  0.698169  0.175933"
      ]
     },
     "execution_count": 206,
     "metadata": {},
     "output_type": "execute_result"
    }
   ],
   "source": [
    "(df_egr_train_pred_score[df_egr_train_pred_score['rec']>0.7]).sort_values(['acc'], ascending=False).head()"
   ]
  },
  {
   "cell_type": "code",
   "execution_count": 291,
   "metadata": {},
   "outputs": [
    {
     "data": {
      "text/html": [
       "<div>\n",
       "<style scoped>\n",
       "    .dataframe tbody tr th:only-of-type {\n",
       "        vertical-align: middle;\n",
       "    }\n",
       "\n",
       "    .dataframe tbody tr th {\n",
       "        vertical-align: top;\n",
       "    }\n",
       "\n",
       "    .dataframe thead th {\n",
       "        text-align: right;\n",
       "    }\n",
       "</style>\n",
       "<table border=\"1\" class=\"dataframe\">\n",
       "  <thead>\n",
       "    <tr style=\"text-align: right;\">\n",
       "      <th></th>\n",
       "      <th>cm_TN</th>\n",
       "      <th>cm_TP</th>\n",
       "      <th>cm_FN</th>\n",
       "      <th>cm_FP</th>\n",
       "      <th>pr</th>\n",
       "      <th>rec</th>\n",
       "      <th>acc</th>\n",
       "      <th>thres</th>\n",
       "    </tr>\n",
       "  </thead>\n",
       "  <tbody>\n",
       "    <tr>\n",
       "      <th>2531</th>\n",
       "      <td>38479</td>\n",
       "      <td>1260</td>\n",
       "      <td>1258</td>\n",
       "      <td>29228</td>\n",
       "      <td>0.041328</td>\n",
       "      <td>0.500397</td>\n",
       "      <td>0.565881</td>\n",
       "      <td>0.203328</td>\n",
       "    </tr>\n",
       "    <tr>\n",
       "      <th>2533</th>\n",
       "      <td>38468</td>\n",
       "      <td>1262</td>\n",
       "      <td>1256</td>\n",
       "      <td>29239</td>\n",
       "      <td>0.041376</td>\n",
       "      <td>0.501191</td>\n",
       "      <td>0.565753</td>\n",
       "      <td>0.203202</td>\n",
       "    </tr>\n",
       "    <tr>\n",
       "      <th>2532</th>\n",
       "      <td>38468</td>\n",
       "      <td>1260</td>\n",
       "      <td>1258</td>\n",
       "      <td>29239</td>\n",
       "      <td>0.041313</td>\n",
       "      <td>0.500397</td>\n",
       "      <td>0.565724</td>\n",
       "      <td>0.203216</td>\n",
       "    </tr>\n",
       "    <tr>\n",
       "      <th>2535</th>\n",
       "      <td>38442</td>\n",
       "      <td>1263</td>\n",
       "      <td>1255</td>\n",
       "      <td>29265</td>\n",
       "      <td>0.041372</td>\n",
       "      <td>0.501589</td>\n",
       "      <td>0.565397</td>\n",
       "      <td>0.203038</td>\n",
       "    </tr>\n",
       "    <tr>\n",
       "      <th>2534</th>\n",
       "      <td>38442</td>\n",
       "      <td>1262</td>\n",
       "      <td>1256</td>\n",
       "      <td>29265</td>\n",
       "      <td>0.041340</td>\n",
       "      <td>0.501191</td>\n",
       "      <td>0.565383</td>\n",
       "      <td>0.203040</td>\n",
       "    </tr>\n",
       "  </tbody>\n",
       "</table>\n",
       "</div>"
      ],
      "text/plain": [
       "      cm_TN  cm_TP  cm_FN  cm_FP        pr       rec       acc     thres\n",
       "2531  38479   1260   1258  29228  0.041328  0.500397  0.565881  0.203328\n",
       "2533  38468   1262   1256  29239  0.041376  0.501191  0.565753  0.203202\n",
       "2532  38468   1260   1258  29239  0.041313  0.500397  0.565724  0.203216\n",
       "2535  38442   1263   1255  29265  0.041372  0.501589  0.565397  0.203038\n",
       "2534  38442   1262   1256  29265  0.041340  0.501191  0.565383  0.203040"
      ]
     },
     "execution_count": 291,
     "metadata": {},
     "output_type": "execute_result"
    }
   ],
   "source": [
    "(df_egr_test_pred_score[df_egr_test_pred_score['rec']>0.5]).sort_values(['acc'], ascending=False).head()"
   ]
  },
  {
   "cell_type": "code",
   "execution_count": 223,
   "metadata": {},
   "outputs": [
    {
     "data": {
      "text/plain": [
       "Text(0, 0.5, 'Precision')"
      ]
     },
     "execution_count": 223,
     "metadata": {},
     "output_type": "execute_result"
    },
    {
     "data": {
      "image/png": "[encoded data removed]",
      "text/plain": [
       "<Figure size 432x288 with 1 Axes>"
      ]
     },
     "metadata": {},
     "output_type": "display_data"
    }
   ],
   "source": [
    "plt.plot(df_egr_train_pred_score['rec'], df_egr_train_pred_score['pr'])\n",
    "plt.xlabel('Recall')\n",
    "plt.ylabel('Precision')"
   ]
  },
  {
   "cell_type": "code",
   "execution_count": 296,
   "metadata": {},
   "outputs": [
    {
     "data": {
      "text/plain": [
       "<matplotlib.collections.LineCollection at 0x7f6c346d0278>"
      ]
     },
     "execution_count": 296,
     "metadata": {},
     "output_type": "execute_result"
    },
    {
     "data": {
      "image/png": "[encoded data removed]",
      "text/plain": [
       "<Figure size 432x288 with 1 Axes>"
      ]
     },
     "metadata": {},
     "output_type": "display_data"
    }
   ],
   "source": [
    "plt.plot(df_egr_test_pred_score['rec'], df_egr_test_pred_score['pr'])\n",
    "plt.xlabel('Recall')\n",
    "plt.ylabel('Precision')\n",
    "plt.hlines(0.04, 0.0, 1.0, alpha=0.4)"
   ]
  },
  {
   "cell_type": "code",
   "execution_count": 303,
   "metadata": {},
   "outputs": [
    {
     "data": {
      "text/html": [
       "<div>\n",
       "<style scoped>\n",
       "    .dataframe tbody tr th:only-of-type {\n",
       "        vertical-align: middle;\n",
       "    }\n",
       "\n",
       "    .dataframe tbody tr th {\n",
       "        vertical-align: top;\n",
       "    }\n",
       "\n",
       "    .dataframe thead th {\n",
       "        text-align: right;\n",
       "    }\n",
       "</style>\n",
       "<table border=\"1\" class=\"dataframe\">\n",
       "  <thead>\n",
       "    <tr style=\"text-align: right;\">\n",
       "      <th></th>\n",
       "      <th>cm_TN</th>\n",
       "      <th>cm_TP</th>\n",
       "      <th>cm_FN</th>\n",
       "      <th>cm_FP</th>\n",
       "      <th>pr</th>\n",
       "      <th>rec</th>\n",
       "      <th>acc</th>\n",
       "      <th>thres</th>\n",
       "    </tr>\n",
       "  </thead>\n",
       "  <tbody>\n",
       "    <tr>\n",
       "      <th>2332</th>\n",
       "      <td>41021</td>\n",
       "      <td>1166</td>\n",
       "      <td>1352</td>\n",
       "      <td>26686</td>\n",
       "      <td>0.041864</td>\n",
       "      <td>0.463066</td>\n",
       "      <td>0.600740</td>\n",
       "      <td>0.219924</td>\n",
       "    </tr>\n",
       "    <tr>\n",
       "      <th>2330</th>\n",
       "      <td>41024</td>\n",
       "      <td>1165</td>\n",
       "      <td>1353</td>\n",
       "      <td>26683</td>\n",
       "      <td>0.041834</td>\n",
       "      <td>0.462669</td>\n",
       "      <td>0.600769</td>\n",
       "      <td>0.219935</td>\n",
       "    </tr>\n",
       "    <tr>\n",
       "      <th>2331</th>\n",
       "      <td>41021</td>\n",
       "      <td>1165</td>\n",
       "      <td>1353</td>\n",
       "      <td>26686</td>\n",
       "      <td>0.041830</td>\n",
       "      <td>0.462669</td>\n",
       "      <td>0.600726</td>\n",
       "      <td>0.219925</td>\n",
       "    </tr>\n",
       "    <tr>\n",
       "      <th>2328</th>\n",
       "      <td>41038</td>\n",
       "      <td>1164</td>\n",
       "      <td>1354</td>\n",
       "      <td>26669</td>\n",
       "      <td>0.041821</td>\n",
       "      <td>0.462272</td>\n",
       "      <td>0.600954</td>\n",
       "      <td>0.220051</td>\n",
       "    </tr>\n",
       "    <tr>\n",
       "      <th>2329</th>\n",
       "      <td>41024</td>\n",
       "      <td>1164</td>\n",
       "      <td>1354</td>\n",
       "      <td>26683</td>\n",
       "      <td>0.041800</td>\n",
       "      <td>0.462272</td>\n",
       "      <td>0.600755</td>\n",
       "      <td>0.219942</td>\n",
       "    </tr>\n",
       "    <tr>\n",
       "      <th>2326</th>\n",
       "      <td>41068</td>\n",
       "      <td>1163</td>\n",
       "      <td>1355</td>\n",
       "      <td>26639</td>\n",
       "      <td>0.041832</td>\n",
       "      <td>0.461875</td>\n",
       "      <td>0.601367</td>\n",
       "      <td>0.220304</td>\n",
       "    </tr>\n",
       "    <tr>\n",
       "      <th>2327</th>\n",
       "      <td>41038</td>\n",
       "      <td>1163</td>\n",
       "      <td>1355</td>\n",
       "      <td>26669</td>\n",
       "      <td>0.041786</td>\n",
       "      <td>0.461875</td>\n",
       "      <td>0.600940</td>\n",
       "      <td>0.220056</td>\n",
       "    </tr>\n",
       "    <tr>\n",
       "      <th>2324</th>\n",
       "      <td>41094</td>\n",
       "      <td>1162</td>\n",
       "      <td>1356</td>\n",
       "      <td>26613</td>\n",
       "      <td>0.041836</td>\n",
       "      <td>0.461477</td>\n",
       "      <td>0.601723</td>\n",
       "      <td>0.220486</td>\n",
       "    </tr>\n",
       "    <tr>\n",
       "      <th>2325</th>\n",
       "      <td>41068</td>\n",
       "      <td>1162</td>\n",
       "      <td>1356</td>\n",
       "      <td>26639</td>\n",
       "      <td>0.041797</td>\n",
       "      <td>0.461477</td>\n",
       "      <td>0.601353</td>\n",
       "      <td>0.220304</td>\n",
       "    </tr>\n",
       "    <tr>\n",
       "      <th>2322</th>\n",
       "      <td>41139</td>\n",
       "      <td>1161</td>\n",
       "      <td>1357</td>\n",
       "      <td>26568</td>\n",
       "      <td>0.041870</td>\n",
       "      <td>0.461080</td>\n",
       "      <td>0.602350</td>\n",
       "      <td>0.220766</td>\n",
       "    </tr>\n",
       "  </tbody>\n",
       "</table>\n",
       "</div>"
      ],
      "text/plain": [
       "      cm_TN  cm_TP  cm_FN  cm_FP        pr       rec       acc     thres\n",
       "2332  41021   1166   1352  26686  0.041864  0.463066  0.600740  0.219924\n",
       "2330  41024   1165   1353  26683  0.041834  0.462669  0.600769  0.219935\n",
       "2331  41021   1165   1353  26686  0.041830  0.462669  0.600726  0.219925\n",
       "2328  41038   1164   1354  26669  0.041821  0.462272  0.600954  0.220051\n",
       "2329  41024   1164   1354  26683  0.041800  0.462272  0.600755  0.219942\n",
       "2326  41068   1163   1355  26639  0.041832  0.461875  0.601367  0.220304\n",
       "2327  41038   1163   1355  26669  0.041786  0.461875  0.600940  0.220056\n",
       "2324  41094   1162   1356  26613  0.041836  0.461477  0.601723  0.220486\n",
       "2325  41068   1162   1356  26639  0.041797  0.461477  0.601353  0.220304\n",
       "2322  41139   1161   1357  26568  0.041870  0.461080  0.602350  0.220766"
      ]
     },
     "execution_count": 303,
     "metadata": {},
     "output_type": "execute_result"
    }
   ],
   "source": [
    "(df_egr_test_pred_score[df_egr_test_pred_score['acc']>0.6]).sort_values(['cm_TP','rec'], ascending=False).head(10)"
   ]
  },
  {
   "cell_type": "code",
   "execution_count": 318,
   "metadata": {},
   "outputs": [
    {
     "data": {
      "text/plain": [
       "(469, 335)"
      ]
     },
     "execution_count": 318,
     "metadata": {},
     "output_type": "execute_result"
    }
   ],
   "source": [
    "(X_test_list[0].shape)"
   ]
  },
  {
   "cell_type": "code",
   "execution_count": 314,
   "metadata": {},
   "outputs": [
    {
     "data": {
      "text/plain": [
       "Index(['distance_idle%', 'distance_overrun%', 'distance_decel%',\n",
       "       'distance_accel%', 'distance_cruise%', 'statedwell_km', 'time_idle%',\n",
       "       'time_overrun%', 'time_decel%', 'time_accel%',\n",
       "       ...\n",
       "       'FUEL_CONSUM_kurtosis', 'FUEL_CONSUM_skewness',\n",
       "       'VEHICAL_BATTERY_POTENTIAL_mean', 'VEHICAL_BATTERY_POTENTIAL_median',\n",
       "       'VEHICAL_BATTERY_POTENTIAL_variance', 'VEHICAL_BATTERY_POTENTIAL_max',\n",
       "       'VEHICAL_BATTERY_POTENTIAL_min', 'VEHICAL_BATTERY_POTENTIAL_max-min',\n",
       "       'VEHICAL_BATTERY_POTENTIAL_kurtosis',\n",
       "       'VEHICAL_BATTERY_POTENTIAL_skewness'],\n",
       "      dtype='object', length=269)"
      ]
     },
     "execution_count": 314,
     "metadata": {},
     "output_type": "execute_result"
    }
   ],
   "source": [
    "X_test.columns"
   ]
  },
  {
   "cell_type": "code",
   "execution_count": 313,
   "metadata": {},
   "outputs": [
    {
     "data": {
      "text/plain": [
       "(79084, 2)"
      ]
     },
     "execution_count": 313,
     "metadata": {},
     "output_type": "execute_result"
    }
   ],
   "source": [
    "df_egr_train_pred.shape"
   ]
  },
  {
   "cell_type": "code",
   "execution_count": 310,
   "metadata": {},
   "outputs": [
    {
     "data": {
      "text/plain": [
       "70225"
      ]
     },
     "execution_count": 310,
     "metadata": {},
     "output_type": "execute_result"
    }
   ],
   "source": [
    "len(df_egr_test_pred)"
   ]
  },
  {
   "cell_type": "code",
   "execution_count": null,
   "metadata": {},
   "outputs": [],
   "source": [
    "# veh count\n",
    "points=0\n",
    "flen=0\n",
    "fc=0\n",
    "TN=0\n",
    "TP=0\n",
    "FP=0\n",
    "FN=0\n",
    "OT= 0.111 #0.203328\n",
    "\n",
    "\n",
    "for df1 in X_test_list[0:]: # X_train_list\n",
    "       \n",
    "    __x=df1[col_list_335].copy()\n",
    "    __x.fillna(method='ffill', inplace=True)\n",
    "    __x.fillna(method='bfill', inplace=True)\n",
    "    __x.fillna(value=0, inplace=True)\n",
    "    if(len(__x)>0): \n",
    "        _x = rs1.transform(__x)\n",
    "        # output in test mode = 0\n",
    "        bottleneck_output = get_layer_output([__x,0])[0]  # bottleneck representation\n",
    "        y_pred = Clf_rad_v21.predict(bottleneck_output)\n",
    "\n",
    "        df2=pd.DataFrame(y_pred)\n",
    "        #points=points+len(y_pred)\n",
    "        #if (min(df2[0])<= 0.966): l1[vin]=1-min(df2[0])\n",
    "        df3=df1[df1['ANN_Radiator']!='N'][['statedwell_km']] \n",
    "        df3['Measurement in KM'] = df3['statedwell_km']\n",
    "\n",
    "        if(len(df3)==0):\n",
    "            if(df1.iloc[(df2[df2[0]>OT][0]).index]['statedwell_km'].shape[0]==0): TN+=1\n",
    "            else: FP+=1\n",
    "        else: \n",
    "            if((df1.iloc[(df2[df2[0]>OT][0]).index]['statedwell_km'].min() <= df3['Measurement in KM'].min() ) & (df1.iloc[(df2[df2[0]>OT][0]).index]['statedwell_km'].max()+25000 >= df3['Measurement in KM'].min() )): TP+=1\n",
    "            elif((df1.iloc[(df2[df2[0]>OT][0]).index]['statedwell_km'].min() <= df3['Measurement in KM'].max() ) & (df1.iloc[(df2[df2[0]>OT][0]).index]['statedwell_km'].max()+25000 >= df3['Measurement in KM'].max() )): TP+=1 \n",
    "            elif(df1.iloc[(df2[df2[0]>OT][0]).index]['statedwell_km'].shape[0]==0): FN+=1\n",
    "            else: FN+=1\n",
    "\n",
    "        #print(vin)\n",
    "        #flen=flen+(len(df3['Measurement in KM'].unique()))\n",
    "        fc=fc+1\n",
    "   "
   ]
  },
  {
   "cell_type": "code",
   "execution_count": null,
   "metadata": {},
   "outputs": [],
   "source": [
    "print(TN, TP, FN, FP ) # test set @ 0.111"
   ]
  },
  {
   "cell_type": "code",
   "execution_count": 424,
   "metadata": {},
   "outputs": [
    {
     "name": "stdout",
     "output_type": "stream",
     "text": [
      "103 9 46 16\n"
     ]
    }
   ],
   "source": [
    "print(TN, TP, FN, FP ) # test set @ 0.12"
   ]
  },
  {
   "cell_type": "code",
   "execution_count": 413,
   "metadata": {},
   "outputs": [
    {
     "name": "stdout",
     "output_type": "stream",
     "text": [
      "105 8 47 14\n"
     ]
    }
   ],
   "source": [
    "print(TN, TP, FN, FP ) # test set @ 0.203328"
   ]
  },
  {
   "cell_type": "code",
   "execution_count": null,
   "metadata": {},
   "outputs": [],
   "source": []
  },
  {
   "cell_type": "code",
   "execution_count": 409,
   "metadata": {},
   "outputs": [
    {
     "name": "stdout",
     "output_type": "stream",
     "text": [
      "105 8 47 14\n"
     ]
    }
   ],
   "source": [
    "print(TN, TP, FN, FP ) # test set @ 0.230706"
   ]
  },
  {
   "cell_type": "code",
   "execution_count": 411,
   "metadata": {},
   "outputs": [
    {
     "name": "stdout",
     "output_type": "stream",
     "text": [
      "119 0 55 0\n"
     ]
    }
   ],
   "source": [
    "print(TN, TP, FN, FP ) # test set @ 0.590117"
   ]
  },
  {
   "cell_type": "code",
   "execution_count": null,
   "metadata": {},
   "outputs": [],
   "source": []
  },
  {
   "cell_type": "code",
   "execution_count": null,
   "metadata": {},
   "outputs": [],
   "source": []
  },
  {
   "cell_type": "code",
   "execution_count": null,
   "metadata": {},
   "outputs": [],
   "source": []
  },
  {
   "cell_type": "code",
   "execution_count": null,
   "metadata": {},
   "outputs": [],
   "source": []
  },
  {
   "cell_type": "code",
   "execution_count": 389,
   "metadata": {},
   "outputs": [
    {
     "name": "stdout",
     "output_type": "stream",
     "text": [
      "110 7 33 24\n"
     ]
    }
   ],
   "source": [
    "print(TN, TP, FN, FP ) # tr .113"
   ]
  },
  {
   "cell_type": "code",
   "execution_count": 407,
   "metadata": {},
   "outputs": [
    {
     "name": "stdout",
     "output_type": "stream",
     "text": [
      "0 40 0 134\n"
     ]
    }
   ],
   "source": [
    "print(TN, TP, FN, FP ) # train set @ 0.1105#001"
   ]
  },
  {
   "cell_type": "code",
   "execution_count": 376,
   "metadata": {},
   "outputs": [
    {
     "name": "stdout",
     "output_type": "stream",
     "text": [
      "114 5 35 20\n"
     ]
    }
   ],
   "source": [
    "print(TN, TP, FN, FP ) # train set @ 0.176299 "
   ]
  },
  {
   "cell_type": "code",
   "execution_count": 378,
   "metadata": {},
   "outputs": [
    {
     "name": "stdout",
     "output_type": "stream",
     "text": [
      "114 5 35 20\n"
     ]
    }
   ],
   "source": [
    "print(TN, TP, FN, FP ) # train set @ 0.239928 "
   ]
  },
  {
   "cell_type": "code",
   "execution_count": 373,
   "metadata": {},
   "outputs": [
    {
     "name": "stdout",
     "output_type": "stream",
     "text": [
      "123 3 37 11\n"
     ]
    }
   ],
   "source": [
    "print(TN, TP, FN, FP ) # train set @ 0.351392"
   ]
  },
  {
   "cell_type": "code",
   "execution_count": null,
   "metadata": {},
   "outputs": [],
   "source": []
  },
  {
   "cell_type": "code",
   "execution_count": 347,
   "metadata": {},
   "outputs": [
    {
     "data": {
      "text/plain": [
       "0"
      ]
     },
     "execution_count": 347,
     "metadata": {},
     "output_type": "execute_result"
    }
   ],
   "source": []
  },
  {
   "cell_type": "code",
   "execution_count": 371,
   "metadata": {},
   "outputs": [
    {
     "data": {
      "text/plain": [
       "(429, 269)"
      ]
     },
     "execution_count": 371,
     "metadata": {},
     "output_type": "execute_result"
    }
   ],
   "source": [
    "__x.fillna(method='ffill', inplace=True)\n",
    "__x.fillna(method='bfill', inplace=True)\n",
    "__x.fillna(value=0, inplace=True)\n",
    "__x.dropna().shape"
   ]
  },
  {
   "cell_type": "code",
   "execution_count": 370,
   "metadata": {},
   "outputs": [
    {
     "data": {
      "text/plain": [
       "power[75,inf]_min                       0.0\n",
       "power[75,inf]_median                    0.0\n",
       "power[75,inf]_kurtosis                  0.0\n",
       "power[75,inf]_skewness                  0.0\n",
       "power[75,inf]_mean                      0.0\n",
       "power[75,inf]_variance                  0.0\n",
       "power[75,inf]_max                       0.0\n",
       "power[-inf,-10]_max-min               429.0\n",
       "power[-10,0]_variance                 429.0\n",
       "power[-10,0]_median                   429.0\n",
       "power[-10,0]_mean                     429.0\n",
       "power[-10,0]_count                    429.0\n",
       "EFF_TORQUE_mean                       429.0\n",
       "EFF_TORQUE_median                     429.0\n",
       "EFF_TORQUE_variance                   429.0\n",
       "EFF_TORQUE_max                        429.0\n",
       "EFF_TORQUE_min                        429.0\n",
       "EFF_TORQUE_max-min                    429.0\n",
       "EFF_TORQUE_kurtosis                   429.0\n",
       "EFF_TORQUE_skewness                   429.0\n",
       "power[-inf,-10]_kurtosis              429.0\n",
       "Power_mean                            429.0\n",
       "Power_variance                        429.0\n",
       "Power_max                             429.0\n",
       "power[-inf,-10]_skewness              429.0\n",
       "Power_max-min                         429.0\n",
       "Power_kurtosis                        429.0\n",
       "Power_skewness                        429.0\n",
       "power[-inf,-10]_count                 429.0\n",
       "power[-inf,-10]_mean                  429.0\n",
       "                                      ...  \n",
       "4626                                  429.0\n",
       "1314                                  429.0\n",
       "267060                                429.0\n",
       "4385                                  429.0\n",
       "5696                                  429.0\n",
       "4612                                  429.0\n",
       "533                                   429.0\n",
       "5634                                  429.0\n",
       "4375                                  429.0\n",
       "5159                                  429.0\n",
       "74065                                 429.0\n",
       "5409_count                            429.0\n",
       "267048_count                          429.0\n",
       "535_count                             429.0\n",
       "6912_count                            429.0\n",
       "5888_count                            429.0\n",
       "6144_count                            429.0\n",
       "131363_count                          429.0\n",
       "131619_count                          429.0\n",
       "8501_count                            429.0\n",
       "5688_count                            429.0\n",
       "262288_count                          429.0\n",
       "131895_count                          429.0\n",
       "4386_count                            429.0\n",
       "69888_count                           429.0\n",
       "5169_count                            429.0\n",
       "4356_count                            429.0\n",
       "4406_count                            429.0\n",
       "525569_count                          429.0\n",
       "VEHICAL_BATTERY_POTENTIAL_skewness    429.0\n",
       "Name: count, Length: 269, dtype: float64"
      ]
     },
     "execution_count": 370,
     "metadata": {},
     "output_type": "execute_result"
    }
   ],
   "source": [
    "(__x.describe().iloc[0]).sort_values(ascending=True)"
   ]
  },
  {
   "cell_type": "code",
   "execution_count": null,
   "metadata": {},
   "outputs": [],
   "source": []
  },
  {
   "cell_type": "code",
   "execution_count": null,
   "metadata": {},
   "outputs": [],
   "source": []
  },
  {
   "cell_type": "code",
   "execution_count": 4,
   "metadata": {},
   "outputs": [],
   "source": [
    "bucket=\"relai.poc.temp\"\n",
    "file_extn='.csv'\n",
    "%matplotlib inline\n",
    "import matplotlib.pyplot as plt\n",
    "import numpy as np\n",
    "import seaborn as sns\n",
    "import pandas as pd\n",
    "from d2 import get_vin_list\n",
    "f1=get_vin_list(bucket=bucket, folder_base='res/1/', file_extn=file_extn)  #reading source\n",
    "#'s3://{}/{}{}.csv'.format(bucket,'res/1',vin)\n",
    "setA=set(list(pd.read_csv('ANOVA_EGR.csv')['Feature'])[0:54] ) \n",
    "setB=set(['power[0,25]_count %', 'power[75,inf]_count %', 'power[25,75]_count %'])\n",
    "col_list = list(setA-setB)  # Annova top 51\n",
    "             \n",
    "# predictions\n",
    "from keras import backend as K# with a Sequential model\n",
    "ib=1\n",
    "get_layer_output = K.function([autoencoder_egr.layers[0].input], [autoencoder_egr.layers[ib].output])\n"
   ]
  },
  {
   "cell_type": "code",
   "execution_count": null,
   "metadata": {},
   "outputs": [],
   "source": []
  },
  {
   "cell_type": "code",
   "execution_count": 10,
   "metadata": {},
   "outputs": [
    {
     "name": "stdout",
     "output_type": "stream",
     "text": [
      "MB1A3CHD2JAEH9187\n",
      "MB1A3EHD2JPGC1112\n",
      "MB1A3EHD3JPBE1810\n",
      "MB1A3EHD5JAGH5930\n",
      "MB1A3EHDXJAHH5103\n",
      "MB1CTCFD0HAEG4824\n",
      "MB1CTCFD3HAEG4803\n",
      "MB1CTCFD6HAEG4844\n",
      "MB1CTCHD0HAJH3802\n",
      "MB1CTCHD0HAVH2225\n",
      "MB1CTCHD0HEXZ0162\n",
      "MB1CTCHD0JPAE7090\n",
      "MB1CTCHD0JPHB6359\n",
      "MB1CTCHD1HEXY9828\n",
      "MB1CTCHD1JPGB8828\n",
      "MB1CTCHD2HAVH2209\n",
      "MB1CTCHD2HEVZ4367\n",
      "MB1CTCHD3HEVZ3678\n",
      "MB1CTCHD3HPWA4775\n",
      "MB1CTCHD4HAAG7582\n"
     ]
    },
    {
     "name": "stderr",
     "output_type": "stream",
     "text": [
      "/home/ec2-user/anaconda3/envs/tensorflow_p36/lib/python3.6/site-packages/matplotlib/pyplot.py:514: RuntimeWarning: More than 20 figures have been opened. Figures created through the pyplot interface (`matplotlib.pyplot.figure`) are retained until explicitly closed and may consume too much memory. (To control this warning, see the rcParam `figure.max_open_warning`).\n",
      "  max_open_warning, RuntimeWarning)\n"
     ]
    },
    {
     "name": "stdout",
     "output_type": "stream",
     "text": [
      "MB1CTCHD4HPWA5613\n",
      "MB1CTCHD4JADJ1242\n",
      "MB1CTCHD5HPJB2216\n",
      "MB1CTCHD5JPEC8773\n",
      "MB1CTCHD6JPEC8779\n",
      "MB1CTCHD6JPEC8782\n",
      "MB1CTCHD6JPEC9172\n",
      "MB1CTCHD7JAGH6526\n",
      "MB1CTCHD8HPWA3573\n",
      "MB1CTCHD8JPEC8783\n",
      "MB1CTCHD9HPWA4778\n",
      "MB1CTCHD9JAHH4408\n",
      "MB1CTCHD9JPEC9005\n",
      "MB1CTCHD9JPGC1217\n",
      "MB1JADHD0JRGW0273\n",
      "MB1KACFD7HPGX1732\n",
      "MB1KACHD0JPHB8128\n",
      "MB1KACHD1JRGW2953\n",
      "MB1KACHD2HEVZ4497\n",
      "MB1KACHD2JPGC2162\n",
      "MB1KACHD3HAJH3312\n",
      "MB1KACHD3JPGC1778\n",
      "MB1KACHD4HRWU7757\n",
      "MB1KACHD4JRHV9161\n",
      "MB1KACHD5HEJZ5499\n",
      "MB1KACHD6HEJZ5205\n",
      "MB1KACHD6HRWU6299\n",
      "MB1KACHD6JRFW8650\n",
      "MB1KACHD6JRGW3886\n",
      "MB1KACHD6JRHV7539\n",
      "MB1KACHD6JRHV9534\n",
      "MB1KACHD7HEVZ2552\n",
      "MB1KACHD7HPJB3207\n",
      "MB1KACHD8HRWU7762\n",
      "MB1KACHD8JPHB4554\n",
      "MB1KACHD8JPHB6241\n",
      "MB1KACHD9JPGB9890\n",
      "MB1KACHD9JRHV8880\n",
      "MB1KACHDXHAVH2301\n",
      "MB1KACHDXJRHV9455\n",
      "MB1KADYD2HPEY0142\n",
      "MB1NACHD0HAVH1462\n",
      "MB1NACHD0HPXA1107\n",
      "MB1NACHD0JAHH4327\n",
      "MB1NACHD0JRHV6500\n",
      "MB1NACHD1HRVV1159\n",
      "MB1NACHD2HRVU8948\n",
      "MB1NACHD2HRWU8175\n",
      "MB1NACHD3HPVA6182\n",
      "MB1NACHD4JAHH4217\n",
      "MB1NACHD4JPHB7061\n",
      "MB1NACHD5HPWA3996\n",
      "MB1NACHD5JEGZ9945\n",
      "MB1NACHD6HPJA9422\n",
      "MB1NACHD7HRVV1456\n",
      "MB1NACHD7JRHV8356\n",
      "MB1NACHD8HPYZ7866\n",
      "MB1NACHD8JPHB4907\n",
      "MB1NACHDXHRJV2993\n",
      "MB1NAVHD5HPFX4003\n",
      "MB1UPDHD0JPGC2562\n",
      "MB1UPDHD0JPHB6019\n",
      "MB1UPDHD2JPGC2983\n",
      "MB1UPDHD3JPFC7459\n",
      "MB1UPDHD3JPHB4748\n",
      "MB1UPDHD5JPGC2296\n",
      "MB1UPDHD6JPFC7469\n",
      "MB1UPDHDXJPFC7412\n"
     ]
    },
    {
     "data": {
      "text/plain": [
       "<Figure size 432x288 with 0 Axes>"
      ]
     },
     "metadata": {},
     "output_type": "display_data"
    },
    {
     "data": {
      "text/plain": [
       "<Figure size 432x288 with 0 Axes>"
      ]
     },
     "metadata": {},
     "output_type": "display_data"
    },
    {
     "data": {
      "text/plain": [
       "<Figure size 432x288 with 0 Axes>"
      ]
     },
     "metadata": {},
     "output_type": "display_data"
    },
    {
     "data": {
      "text/plain": [
       "<Figure size 432x288 with 0 Axes>"
      ]
     },
     "metadata": {},
     "output_type": "display_data"
    },
    {
     "data": {
      "text/plain": [
       "<Figure size 432x288 with 0 Axes>"
      ]
     },
     "metadata": {},
     "output_type": "display_data"
    },
    {
     "data": {
      "text/plain": [
       "<Figure size 432x288 with 0 Axes>"
      ]
     },
     "metadata": {},
     "output_type": "display_data"
    },
    {
     "data": {
      "text/plain": [
       "<Figure size 432x288 with 0 Axes>"
      ]
     },
     "metadata": {},
     "output_type": "display_data"
    },
    {
     "data": {
      "text/plain": [
       "<Figure size 432x288 with 0 Axes>"
      ]
     },
     "metadata": {},
     "output_type": "display_data"
    },
    {
     "data": {
      "text/plain": [
       "<Figure size 432x288 with 0 Axes>"
      ]
     },
     "metadata": {},
     "output_type": "display_data"
    },
    {
     "data": {
      "text/plain": [
       "<Figure size 432x288 with 0 Axes>"
      ]
     },
     "metadata": {},
     "output_type": "display_data"
    },
    {
     "data": {
      "text/plain": [
       "<Figure size 432x288 with 0 Axes>"
      ]
     },
     "metadata": {},
     "output_type": "display_data"
    },
    {
     "data": {
      "text/plain": [
       "<Figure size 432x288 with 0 Axes>"
      ]
     },
     "metadata": {},
     "output_type": "display_data"
    },
    {
     "data": {
      "text/plain": [
       "<Figure size 432x288 with 0 Axes>"
      ]
     },
     "metadata": {},
     "output_type": "display_data"
    },
    {
     "data": {
      "text/plain": [
       "<Figure size 432x288 with 0 Axes>"
      ]
     },
     "metadata": {},
     "output_type": "display_data"
    },
    {
     "data": {
      "text/plain": [
       "<Figure size 432x288 with 0 Axes>"
      ]
     },
     "metadata": {},
     "output_type": "display_data"
    },
    {
     "data": {
      "text/plain": [
       "<Figure size 432x288 with 0 Axes>"
      ]
     },
     "metadata": {},
     "output_type": "display_data"
    },
    {
     "data": {
      "text/plain": [
       "<Figure size 432x288 with 0 Axes>"
      ]
     },
     "metadata": {},
     "output_type": "display_data"
    },
    {
     "data": {
      "text/plain": [
       "<Figure size 432x288 with 0 Axes>"
      ]
     },
     "metadata": {},
     "output_type": "display_data"
    },
    {
     "data": {
      "text/plain": [
       "<Figure size 432x288 with 0 Axes>"
      ]
     },
     "metadata": {},
     "output_type": "display_data"
    },
    {
     "data": {
      "text/plain": [
       "<Figure size 432x288 with 0 Axes>"
      ]
     },
     "metadata": {},
     "output_type": "display_data"
    },
    {
     "data": {
      "text/plain": [
       "<Figure size 432x288 with 0 Axes>"
      ]
     },
     "metadata": {},
     "output_type": "display_data"
    },
    {
     "data": {
      "text/plain": [
       "<Figure size 432x288 with 0 Axes>"
      ]
     },
     "metadata": {},
     "output_type": "display_data"
    },
    {
     "data": {
      "text/plain": [
       "<Figure size 432x288 with 0 Axes>"
      ]
     },
     "metadata": {},
     "output_type": "display_data"
    },
    {
     "data": {
      "text/plain": [
       "<Figure size 432x288 with 0 Axes>"
      ]
     },
     "metadata": {},
     "output_type": "display_data"
    },
    {
     "data": {
      "text/plain": [
       "<Figure size 432x288 with 0 Axes>"
      ]
     },
     "metadata": {},
     "output_type": "display_data"
    },
    {
     "data": {
      "text/plain": [
       "<Figure size 432x288 with 0 Axes>"
      ]
     },
     "metadata": {},
     "output_type": "display_data"
    },
    {
     "data": {
      "text/plain": [
       "<Figure size 432x288 with 0 Axes>"
      ]
     },
     "metadata": {},
     "output_type": "display_data"
    },
    {
     "data": {
      "text/plain": [
       "<Figure size 432x288 with 0 Axes>"
      ]
     },
     "metadata": {},
     "output_type": "display_data"
    },
    {
     "data": {
      "text/plain": [
       "<Figure size 432x288 with 0 Axes>"
      ]
     },
     "metadata": {},
     "output_type": "display_data"
    },
    {
     "data": {
      "text/plain": [
       "<Figure size 432x288 with 0 Axes>"
      ]
     },
     "metadata": {},
     "output_type": "display_data"
    },
    {
     "data": {
      "text/plain": [
       "<Figure size 432x288 with 0 Axes>"
      ]
     },
     "metadata": {},
     "output_type": "display_data"
    },
    {
     "data": {
      "text/plain": [
       "<Figure size 432x288 with 0 Axes>"
      ]
     },
     "metadata": {},
     "output_type": "display_data"
    },
    {
     "data": {
      "text/plain": [
       "<Figure size 432x288 with 0 Axes>"
      ]
     },
     "metadata": {},
     "output_type": "display_data"
    },
    {
     "data": {
      "text/plain": [
       "<Figure size 432x288 with 0 Axes>"
      ]
     },
     "metadata": {},
     "output_type": "display_data"
    },
    {
     "data": {
      "text/plain": [
       "<Figure size 432x288 with 0 Axes>"
      ]
     },
     "metadata": {},
     "output_type": "display_data"
    },
    {
     "data": {
      "text/plain": [
       "<Figure size 432x288 with 0 Axes>"
      ]
     },
     "metadata": {},
     "output_type": "display_data"
    },
    {
     "data": {
      "text/plain": [
       "<Figure size 432x288 with 0 Axes>"
      ]
     },
     "metadata": {},
     "output_type": "display_data"
    },
    {
     "data": {
      "text/plain": [
       "<Figure size 432x288 with 0 Axes>"
      ]
     },
     "metadata": {},
     "output_type": "display_data"
    },
    {
     "data": {
      "text/plain": [
       "<Figure size 432x288 with 0 Axes>"
      ]
     },
     "metadata": {},
     "output_type": "display_data"
    },
    {
     "data": {
      "text/plain": [
       "<Figure size 432x288 with 0 Axes>"
      ]
     },
     "metadata": {},
     "output_type": "display_data"
    },
    {
     "data": {
      "text/plain": [
       "<Figure size 432x288 with 0 Axes>"
      ]
     },
     "metadata": {},
     "output_type": "display_data"
    },
    {
     "data": {
      "text/plain": [
       "<Figure size 432x288 with 0 Axes>"
      ]
     },
     "metadata": {},
     "output_type": "display_data"
    },
    {
     "data": {
      "text/plain": [
       "<Figure size 432x288 with 0 Axes>"
      ]
     },
     "metadata": {},
     "output_type": "display_data"
    },
    {
     "data": {
      "text/plain": [
       "<Figure size 432x288 with 0 Axes>"
      ]
     },
     "metadata": {},
     "output_type": "display_data"
    },
    {
     "data": {
      "text/plain": [
       "<Figure size 432x288 with 0 Axes>"
      ]
     },
     "metadata": {},
     "output_type": "display_data"
    },
    {
     "data": {
      "text/plain": [
       "<Figure size 432x288 with 0 Axes>"
      ]
     },
     "metadata": {},
     "output_type": "display_data"
    },
    {
     "data": {
      "text/plain": [
       "<Figure size 432x288 with 0 Axes>"
      ]
     },
     "metadata": {},
     "output_type": "display_data"
    },
    {
     "data": {
      "text/plain": [
       "<Figure size 432x288 with 0 Axes>"
      ]
     },
     "metadata": {},
     "output_type": "display_data"
    },
    {
     "data": {
      "text/plain": [
       "<Figure size 432x288 with 0 Axes>"
      ]
     },
     "metadata": {},
     "output_type": "display_data"
    },
    {
     "data": {
      "text/plain": [
       "<Figure size 432x288 with 0 Axes>"
      ]
     },
     "metadata": {},
     "output_type": "display_data"
    },
    {
     "data": {
      "text/plain": [
       "<Figure size 432x288 with 0 Axes>"
      ]
     },
     "metadata": {},
     "output_type": "display_data"
    },
    {
     "data": {
      "text/plain": [
       "<Figure size 432x288 with 0 Axes>"
      ]
     },
     "metadata": {},
     "output_type": "display_data"
    },
    {
     "data": {
      "text/plain": [
       "<Figure size 432x288 with 0 Axes>"
      ]
     },
     "metadata": {},
     "output_type": "display_data"
    },
    {
     "data": {
      "text/plain": [
       "<Figure size 432x288 with 0 Axes>"
      ]
     },
     "metadata": {},
     "output_type": "display_data"
    },
    {
     "data": {
      "text/plain": [
       "<Figure size 432x288 with 0 Axes>"
      ]
     },
     "metadata": {},
     "output_type": "display_data"
    },
    {
     "data": {
      "text/plain": [
       "<Figure size 432x288 with 0 Axes>"
      ]
     },
     "metadata": {},
     "output_type": "display_data"
    },
    {
     "data": {
      "text/plain": [
       "<Figure size 432x288 with 0 Axes>"
      ]
     },
     "metadata": {},
     "output_type": "display_data"
    },
    {
     "data": {
      "text/plain": [
       "<Figure size 432x288 with 0 Axes>"
      ]
     },
     "metadata": {},
     "output_type": "display_data"
    },
    {
     "data": {
      "text/plain": [
       "<Figure size 432x288 with 0 Axes>"
      ]
     },
     "metadata": {},
     "output_type": "display_data"
    },
    {
     "data": {
      "text/plain": [
       "<Figure size 432x288 with 0 Axes>"
      ]
     },
     "metadata": {},
     "output_type": "display_data"
    },
    {
     "data": {
      "text/plain": [
       "<Figure size 432x288 with 0 Axes>"
      ]
     },
     "metadata": {},
     "output_type": "display_data"
    },
    {
     "data": {
      "text/plain": [
       "<Figure size 432x288 with 0 Axes>"
      ]
     },
     "metadata": {},
     "output_type": "display_data"
    },
    {
     "data": {
      "text/plain": [
       "<Figure size 432x288 with 0 Axes>"
      ]
     },
     "metadata": {},
     "output_type": "display_data"
    },
    {
     "data": {
      "text/plain": [
       "<Figure size 432x288 with 0 Axes>"
      ]
     },
     "metadata": {},
     "output_type": "display_data"
    },
    {
     "data": {
      "text/plain": [
       "<Figure size 432x288 with 0 Axes>"
      ]
     },
     "metadata": {},
     "output_type": "display_data"
    },
    {
     "data": {
      "text/plain": [
       "<Figure size 432x288 with 0 Axes>"
      ]
     },
     "metadata": {},
     "output_type": "display_data"
    },
    {
     "data": {
      "text/plain": [
       "<Figure size 432x288 with 0 Axes>"
      ]
     },
     "metadata": {},
     "output_type": "display_data"
    },
    {
     "data": {
      "text/plain": [
       "<Figure size 432x288 with 0 Axes>"
      ]
     },
     "metadata": {},
     "output_type": "display_data"
    },
    {
     "data": {
      "text/plain": [
       "<Figure size 432x288 with 0 Axes>"
      ]
     },
     "metadata": {},
     "output_type": "display_data"
    },
    {
     "data": {
      "text/plain": [
       "<Figure size 432x288 with 0 Axes>"
      ]
     },
     "metadata": {},
     "output_type": "display_data"
    },
    {
     "data": {
      "text/plain": [
       "<Figure size 432x288 with 0 Axes>"
      ]
     },
     "metadata": {},
     "output_type": "display_data"
    },
    {
     "data": {
      "text/plain": [
       "<Figure size 432x288 with 0 Axes>"
      ]
     },
     "metadata": {},
     "output_type": "display_data"
    },
    {
     "data": {
      "text/plain": [
       "<Figure size 432x288 with 0 Axes>"
      ]
     },
     "metadata": {},
     "output_type": "display_data"
    },
    {
     "data": {
      "text/plain": [
       "<Figure size 432x288 with 0 Axes>"
      ]
     },
     "metadata": {},
     "output_type": "display_data"
    },
    {
     "data": {
      "text/plain": [
       "<Figure size 432x288 with 0 Axes>"
      ]
     },
     "metadata": {},
     "output_type": "display_data"
    },
    {
     "data": {
      "text/plain": [
       "<Figure size 432x288 with 0 Axes>"
      ]
     },
     "metadata": {},
     "output_type": "display_data"
    },
    {
     "data": {
      "text/plain": [
       "<Figure size 432x288 with 0 Axes>"
      ]
     },
     "metadata": {},
     "output_type": "display_data"
    },
    {
     "data": {
      "text/plain": [
       "<Figure size 432x288 with 0 Axes>"
      ]
     },
     "metadata": {},
     "output_type": "display_data"
    },
    {
     "data": {
      "text/plain": [
       "<Figure size 432x288 with 0 Axes>"
      ]
     },
     "metadata": {},
     "output_type": "display_data"
    },
    {
     "data": {
      "text/plain": [
       "<Figure size 432x288 with 0 Axes>"
      ]
     },
     "metadata": {},
     "output_type": "display_data"
    },
    {
     "data": {
      "text/plain": [
       "<Figure size 432x288 with 0 Axes>"
      ]
     },
     "metadata": {},
     "output_type": "display_data"
    },
    {
     "data": {
      "text/plain": [
       "<Figure size 432x288 with 0 Axes>"
      ]
     },
     "metadata": {},
     "output_type": "display_data"
    },
    {
     "data": {
      "text/plain": [
       "<Figure size 432x288 with 0 Axes>"
      ]
     },
     "metadata": {},
     "output_type": "display_data"
    },
    {
     "data": {
      "text/plain": [
       "<Figure size 432x288 with 0 Axes>"
      ]
     },
     "metadata": {},
     "output_type": "display_data"
    },
    {
     "data": {
      "text/plain": [
       "<Figure size 432x288 with 0 Axes>"
      ]
     },
     "metadata": {},
     "output_type": "display_data"
    },
    {
     "data": {
      "text/plain": [
       "<Figure size 432x288 with 0 Axes>"
      ]
     },
     "metadata": {},
     "output_type": "display_data"
    },
    {
     "data": {
      "text/plain": [
       "<Figure size 432x288 with 0 Axes>"
      ]
     },
     "metadata": {},
     "output_type": "display_data"
    },
    {
     "data": {
      "text/plain": [
       "<Figure size 432x288 with 0 Axes>"
      ]
     },
     "metadata": {},
     "output_type": "display_data"
    }
   ],
   "source": [
    "f1=get_vin_list(bucket=bucket, folder_base='res/1/', file_extn=file_extn)  #reading source\n",
    "for vin in f1[0:]:\n",
    "    df1=pd.read_csv('s3://{}/{}{}.csv'.format(bucket,'res/1/',vin))\n",
    "    #df1.columns=[str(i) for i in (df1.columns)]\n",
    "    c_df3=0\n",
    "    try:\n",
    "        df3=pd.read_csv('s3://{}/{}{}.csv'.format(bucket,'jcd/',vin))\n",
    "        c_df3=1\n",
    "    except:\n",
    "        c_df3=0\n",
    "    # y_pred = autoencoder_egr.predict()  # Reconstruction\n",
    "    try:\n",
    "        _x=df1[col_list]\n",
    "        # output in test mode = 0\n",
    "        bottleneck_output = get_layer_output([_x,0])[0]  # bottleneck representation\n",
    "        y_pred = predictor_egr.predict(bottleneck_output)\n",
    "        df2=pd.DataFrame(y_pred)\n",
    "        '''\n",
    "        df1=pd.read_csv('s3://{}/{}{}.csv'.format(bucket,'res/1/',vin))\n",
    "        df2=pd.DataFrame(y_pred)\n",
    "        df3=pd.read_csv('s3://{}/{}{}.csv'.format(bucket,'jcd/',vin))\n",
    "        '''\n",
    "        plt.figure()\n",
    "        try: sns.kdeplot(df1.iloc[(df2[df2[0]<0.966][0]).index]['statedwell_km'], alpha=0.8,legend=False)\n",
    "        except: pass\n",
    "        if (c_df3==1): plt.vlines(df3['Measurement in KM'],0,1)\n",
    "        plt.vlines(df1[np.isnan(df2[0])]['statedwell_km'],0,1, colors='red', alpha=0.05) #'ENGINE_SPEED_x_count',\n",
    "        #plt.vlines(df1[df1['ENGINE_SPEED_x_count']<5]['statedwell_km'],0,1, colors='red', alpha=0.03) #\n",
    "        ax2=plt.twinx()\n",
    "        ax2.plot(df1.iloc[(df2[df2[0]<0.966][0]).index]['statedwell_km'], 1-df2[df2[0]<0.966][0], alpha=0.4)\n",
    "        ax2.set_ylim(0,1)\n",
    "        plt.legend().set_visible(False)\n",
    "        plt.title('EGR failure prediction for {}'.format(vin))\n",
    "        doc = 'temp.png'\n",
    "        plt.savefig(doc)\n",
    "        from boto3 import resource\n",
    "        s3 = resource('s3')\n",
    "        from os import remove\n",
    "        s3.Bucket(bucket).Object('res/8/{}.png'.format(vin)).upload_file(doc)\n",
    "        remove(doc)\n",
    "        plt.clf()\n",
    "        print(vin)\n",
    "    except: pass"
   ]
  },
  {
   "cell_type": "code",
   "execution_count": 6,
   "metadata": {},
   "outputs": [
    {
     "data": {
      "text/plain": [
       "'MB1A3CHD8JEHZ9434'"
      ]
     },
     "execution_count": 6,
     "metadata": {},
     "output_type": "execute_result"
    }
   ],
   "source": [
    "vin#pd.read_csv('s3://{}/{}{}.csv'.format(bucket,'res/1/',f1[1])) #list(df1.columns)#=[str(i) for i in (df1.columns)]"
   ]
  },
  {
   "cell_type": "code",
   "execution_count": 193,
   "metadata": {},
   "outputs": [],
   "source": [
    "# (df2[df2[0]<0.966][0])"
   ]
  },
  {
   "cell_type": "code",
   "execution_count": 170,
   "metadata": {},
   "outputs": [
    {
     "data": {
      "text/plain": [
       "Text(0.5, 1.0, 'EGR failure prediction for MB1CTCHD0HAVH2225')"
      ]
     },
     "execution_count": 170,
     "metadata": {},
     "output_type": "execute_result"
    },
    {
     "data": {
      "image/png": "[encoded data removed]",
      "text/plain": [
       "<Figure size 432x288 with 1 Axes>"
      ]
     },
     "metadata": {},
     "output_type": "display_data"
    }
   ],
   "source": [
    "'''\n",
    "sns.kdeplot(df1.iloc[(df2[df2[0]<0.966][0]).index]['statedwell_km'])\n",
    "plt.vlines(df3['Measurement in KM'],0,1)\n",
    "#plt.vlines(df1[np.isnan(df2[0])]['statedwell_km'],0,1, colors='red', alpha=0.05) #'ENGINE_SPEED_x_count',\n",
    "plt.vlines(df1[df1['ENGINE_SPEED_x_count']<5]['statedwell_km'],0,1, colors='red', alpha=0.03) #\n",
    "plt.legend().set_visible(False)\n",
    "plt.title('EGR failure prediction for {}'.format(vin))\n",
    "'''"
   ]
  },
  {
   "cell_type": "code",
   "execution_count": 201,
   "metadata": {},
   "outputs": [
    {
     "data": {
      "text/plain": [
       "(0, 1)"
      ]
     },
     "execution_count": 201,
     "metadata": {},
     "output_type": "execute_result"
    },
    {
     "data": {
      "image/png": "[encoded data removed]",
      "text/plain": [
       "<Figure size 432x288 with 2 Axes>"
      ]
     },
     "metadata": {},
     "output_type": "display_data"
    }
   ],
   "source": [
    "sns.kdeplot(df1.iloc[(df2[df2[0]<0.966][0]).index]['statedwell_km'], alpha=0.8)\n",
    "plt.vlines(df3['Measurement in KM'],0,1, alpha=0.8)\n",
    "#plt.vlines(df1[np.isnan(df2[0])]['statedwell_km'],0,1, colors='red', alpha=0.05) #'ENGINE_SPEED_x_count',\n",
    "plt.vlines(df1[df1['ENGINE_SPEED_x_count']<5]['statedwell_km'],0,1, colors='red', alpha=0.03) #\n",
    "plt.legend().set_visible(False)\n",
    "plt.title('EGR failure prediction for {}'.format(vin))\n",
    "ax2=plt.twinx()\n",
    "ax2.plot(df1.iloc[(df2[df2[0]<0.966][0]).index]['statedwell_km'], 1-df2[df2[0]<0.966][0], alpha=0.4)\n",
    "ax2.set_ylim(0,1)\n",
    "#ax2.plot(df1.iloc[(df2[df2[0]<0.966][0]).index]['statedwell_km'], df2[df2[0]<0.966][0])\n"
   ]
  },
  {
   "cell_type": "code",
   "execution_count": 39,
   "metadata": {},
   "outputs": [
    {
     "data": {
      "text/plain": [
       "<keras.layers.core.Dense at 0x7f4889d17e10>"
      ]
     },
     "execution_count": 39,
     "metadata": {},
     "output_type": "execute_result"
    }
   ],
   "source": [
    "#bottleneck\n",
    "autoencoder_egr.get_layer('bottleneck').shape"
   ]
  },
  {
   "cell_type": "code",
   "execution_count": 85,
   "metadata": {},
   "outputs": [],
   "source": [
    "from keras import backend as K\n",
    "# with a Sequential model\n",
    "get_layer_output = K.function([autoencoder_egr.layers[0].input], [autoencoder_egr.layers[1].output])\n",
    "# output in test mode = 0\n",
    "x=df1[col_list].head(2)\n",
    "bottleneck_output = get_layer_output([x])[0]"
   ]
  },
  {
   "cell_type": "code",
   "execution_count": 86,
   "metadata": {},
   "outputs": [
    {
     "data": {
      "text/plain": [
       "array([[-1.,  1., -1.,  1.,  1.,  1., -1., -1.],\n",
       "       [nan, nan, nan, nan, nan, nan, nan, nan]], dtype=float32)"
      ]
     },
     "execution_count": 86,
     "metadata": {},
     "output_type": "execute_result"
    }
   ],
   "source": [
    "layer_output"
   ]
  },
  {
   "cell_type": "code",
   "execution_count": 58,
   "metadata": {},
   "outputs": [],
   "source": [
    "#autoencoder_egr.get_config()"
   ]
  },
  {
   "cell_type": "code",
   "execution_count": 62,
   "metadata": {},
   "outputs": [
    {
     "name": "stdout",
     "output_type": "stream",
     "text": [
      "0 (1, 16)\n",
      "1 (1, 8)\n",
      "2 (1, 16)\n",
      "3 (1, 51)\n"
     ]
    }
   ],
   "source": [
    " for i in range(0,4):\n",
    "    get_layer_output = K.function([autoencoder_egr.layers[0].input], [autoencoder_egr.layers[i].output])\n",
    "    # output in test mode = 0\n",
    "    x=df1[col_list].head(1)\n",
    "    layer_output = get_layer_output([x,0])[0]\n",
    "    print(i, layer_output.shape)"
   ]
  },
  {
   "cell_type": "code",
   "execution_count": 269,
   "metadata": {},
   "outputs": [
    {
     "data": {
      "image/png": "[encoded data removed]",
      "text/plain": [
       "<Figure size 432x288 with 1 Axes>"
      ]
     },
     "metadata": {},
     "output_type": "display_data"
    },
    {
     "data": {
      "image/png": "[encoded data removed]",
      "text/plain": [
       "<Figure size 432x288 with 1 Axes>"
      ]
     },
     "metadata": {},
     "output_type": "display_data"
    },
    {
     "data": {
      "image/png": "[encoded data removed]",
      "text/plain": [
       "<Figure size 432x288 with 1 Axes>"
      ]
     },
     "metadata": {},
     "output_type": "display_data"
    },
    {
     "data": {
      "image/png": "[encoded data removed]",
      "text/plain": [
       "<Figure size 432x288 with 1 Axes>"
      ]
     },
     "metadata": {},
     "output_type": "display_data"
    },
    {
     "data": {
      "image/png": "[encoded data removed]",
      "text/plain": [
       "<Figure size 432x288 with 1 Axes>"
      ]
     },
     "metadata": {},
     "output_type": "display_data"
    },
    {
     "data": {
      "image/png": "[encoded data removed]",
      "text/plain": [
       "<Figure size 432x288 with 1 Axes>"
      ]
     },
     "metadata": {},
     "output_type": "display_data"
    },
    {
     "data": {
      "image/png": "[encoded data removed]",
      "text/plain": [
       "<Figure size 432x288 with 1 Axes>"
      ]
     },
     "metadata": {},
     "output_type": "display_data"
    },
    {
     "data": {
      "image/png": "[encoded data removed]",
      "text/plain": [
       "<Figure size 432x288 with 1 Axes>"
      ]
     },
     "metadata": {},
     "output_type": "display_data"
    },
    {
     "data": {
      "image/png": "[encoded data removed]",
      "text/plain": [
       "<Figure size 432x288 with 1 Axes>"
      ]
     },
     "metadata": {},
     "output_type": "display_data"
    }
   ],
   "source": [
    "#f6=get_vin_list(bucket=bucket, folder_base='res/7/', file_extn='.png')  #reading source\n",
    "import matplotlib.pyplot as plt\n",
    "import matplotlib.image as mpimg\n",
    "import numpy as np\n",
    "import boto3\n",
    "import io\n",
    "import tempfile\n",
    "bucket=\"relai.poc.temp\"\n",
    "s3 = boto3.resource('s3', region_name='us-east-1')\n",
    "bucket = s3.Bucket(bucket)\n",
    "for i in f6[0:9]:\n",
    "    #print('s3://{}/res/7/{}.png'.format(bucket,i))\n",
    "    #plt.imread('s3://{}/res/7/{}.png'.format(bucket,i))\n",
    "    object = bucket.Object('res/7/{}.png'.format(i))\n",
    "    file_stream = io.BytesIO()\n",
    "    object.download_fileobj(file_stream)\n",
    "    #img = plt.imread(file_stream)\n",
    "    #plt.imshow(img)\n",
    "    tmp = tempfile.NamedTemporaryFile()\n",
    "    with open(tmp.name, 'wb') as f:\n",
    "        object.download_fileobj(f)\n",
    "        img=mpimg.imread(tmp.name)\n",
    "        plt.imshow(img)\n",
    "        # ...Do jobs using img\n",
    "    plt.show()\n",
    "    "
   ]
  },
  {
   "cell_type": "code",
   "execution_count": null,
   "metadata": {},
   "outputs": [],
   "source": []
  }
 ],
 "metadata": {
  "kernelspec": {
   "display_name": "conda_tensorflow_p36",
   "language": "python",
   "name": "conda_tensorflow_p36"
  },
  "language_info": {
   "codemirror_mode": {
    "name": "ipython",
    "version": 3
   },
   "file_extension": ".py",
   "mimetype": "text/x-python",
   "name": "python",
   "nbconvert_exporter": "python",
   "pygments_lexer": "ipython3",
   "version": "3.6.10"
  }
 },
 "nbformat": 4,
 "nbformat_minor": 4
}
