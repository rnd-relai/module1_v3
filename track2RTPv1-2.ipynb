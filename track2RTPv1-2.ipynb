{
 "cells": [
  {
   "cell_type": "code",
   "execution_count": 62,
   "metadata": {},
   "outputs": [],
   "source": [
    "import pandas as pd"
   ]
  },
  {
   "cell_type": "code",
   "execution_count": 63,
   "metadata": {},
   "outputs": [],
   "source": [
    "dataAfterFE= pd.read_csv('res_df_egr_airfilter_radiator.csv')"
   ]
  },
  {
   "cell_type": "code",
   "execution_count": 64,
   "metadata": {},
   "outputs": [],
   "source": [
    "col_list = ['Power_mean',\n",
    " 'Power_median',\n",
    " 'Power_variance',\n",
    " 'Power_max',\n",
    " 'Power_min',\n",
    " 'Power_max-min',\n",
    "\n",
    " 'Power_kurtosis',\n",
    " 'Power_skewness',\n",
    " 'engine_speed_mean',\n",
    " 'engine_speed_median',\n",
    " 'engine_speed_variance',\n",
    " 'engine_speed_max',\n",
    " 'engine_speed_min',\n",
    " 'engine_speed_max-min',\n",
    " \n",
    " 'engine_speed_kurtosis',\n",
    " 'engine_speed_skewness',\n",
    " 'VEHICAL_BATTERY_POTENTIAL_mean',\n",
    " 'VEHICAL_BATTERY_POTENTIAL_median',\n",
    " 'VEHICAL_BATTERY_POTENTIAL_variance',\n",
    " 'VEHICAL_BATTERY_POTENTIAL_max',\n",
    " 'VEHICAL_BATTERY_POTENTIAL_min',\n",
    " 'VEHICAL_BATTERY_POTENTIAL_max-min',\n",
    "\n",
    " 'VEHICAL_BATTERY_POTENTIAL_kurtosis',\n",
    " 'VEHICAL_BATTERY_POTENTIAL_skewness',\n",
    " 'FUEL_CONSUM_mean',\n",
    " 'FUEL_CONSUM_median',\n",
    " 'FUEL_CONSUM_variance',\n",
    " 'FUEL_CONSUM_max',\n",
    " 'FUEL_CONSUM_min',\n",
    " 'FUEL_CONSUM_max-min',\n",
    "\n",
    " 'FUEL_CONSUM_kurtosis',\n",
    " 'FUEL_CONSUM_skewness',\n",
    " 'THROTTLE_POS_mean',\n",
    " 'THROTTLE_POS_median',\n",
    " 'THROTTLE_POS_variance',\n",
    " 'THROTTLE_POS_max',\n",
    " 'THROTTLE_POS_min',\n",
    " 'THROTTLE_POS_max-min',\n",
    "\n",
    " 'THROTTLE_POS_kurtosis',\n",
    " 'THROTTLE_POS_skewness',\n",
    " 'ACTUAL_ENGINE_TORQUE_mean',\n",
    " 'ACTUAL_ENGINE_TORQUE_median',\n",
    " 'ACTUAL_ENGINE_TORQUE_variance',\n",
    " 'ACTUAL_ENGINE_TORQUE_max',\n",
    " 'ACTUAL_ENGINE_TORQUE_min',\n",
    " 'ACTUAL_ENGINE_TORQUE_max-min',\n",
    "\n",
    " 'ACTUAL_ENGINE_TORQUE_kurtosis',\n",
    " 'ACTUAL_ENGINE_TORQUE_skewness',\n",
    " 'ENGINE_OIL_TEMP_mean',\n",
    " 'ENGINE_OIL_TEMP_median',\n",
    " 'ENGINE_OIL_TEMP_variance',\n",
    " 'ENGINE_OIL_TEMP_max',\n",
    " 'ENGINE_OIL_TEMP_min',\n",
    " 'ENGINE_OIL_TEMP_max-min',\n",
    "\n",
    " 'ENGINE_OIL_TEMP_kurtosis',\n",
    " 'ENGINE_OIL_TEMP_skewness',\n",
    " 'ENGINE_INTAKE_M_PRESSURE_mean',\n",
    " 'ENGINE_INTAKE_M_PRESSURE_median',\n",
    " 'ENGINE_INTAKE_M_PRESSURE_variance',\n",
    " 'ENGINE_INTAKE_M_PRESSURE_max',\n",
    " 'ENGINE_INTAKE_M_PRESSURE_min',\n",
    " 'ENGINE_INTAKE_M_PRESSURE_max-min',\n",
    "\n",
    " 'ENGINE_INTAKE_M_PRESSURE_kurtosis',\n",
    " 'ENGINE_INTAKE_M_PRESSURE_skewness',\n",
    " 'ENGINE_INTAKE_M_TEMPERATURE_mean',\n",
    " 'ENGINE_INTAKE_M_TEMPERATURE_median',\n",
    " 'ENGINE_INTAKE_M_TEMPERATURE_variance',\n",
    " 'ENGINE_INTAKE_M_TEMPERATURE_max',\n",
    " 'ENGINE_INTAKE_M_TEMPERATURE_min',\n",
    " 'ENGINE_INTAKE_M_TEMPERATURE_max-min',\n",
    "\n",
    " 'ENGINE_INTAKE_M_TEMPERATURE_kurtosis',\n",
    " 'ENGINE_INTAKE_M_TEMPERATURE_skewness',\n",
    " 'ENGINE_AIR_INLET_PRESSURE_mean',\n",
    " 'ENGINE_AIR_INLET_PRESSURE_median',\n",
    " 'ENGINE_AIR_INLET_PRESSURE_variance',\n",
    " 'ENGINE_AIR_INLET_PRESSURE_max',\n",
    " 'ENGINE_AIR_INLET_PRESSURE_min',\n",
    " 'ENGINE_AIR_INLET_PRESSURE_max-min',\n",
    "\n",
    " 'ENGINE_AIR_INLET_PRESSURE_kurtosis',\n",
    " 'ENGINE_AIR_INLET_PRESSURE_skewness',\n",
    " 'AMBIENT_AIR_TEMP_mean',\n",
    " 'AMBIENT_AIR_TEMP_median',\n",
    " 'AMBIENT_AIR_TEMP_variance',\n",
    " 'AMBIENT_AIR_TEMP_max',\n",
    " 'AMBIENT_AIR_TEMP_min',\n",
    " 'AMBIENT_AIR_TEMP_max-min',\n",
    " \n",
    " 'AMBIENT_AIR_TEMP_kurtosis',\n",
    " 'AMBIENT_AIR_TEMP_skewness',\n",
    " 'ENGINE_FUEL_TEMP_1_mean',\n",
    " 'ENGINE_FUEL_TEMP_1_median',\n",
    " 'ENGINE_FUEL_TEMP_1_variance',\n",
    " 'ENGINE_FUEL_TEMP_1_max',\n",
    " 'ENGINE_FUEL_TEMP_1_min',\n",
    " 'ENGINE_FUEL_TEMP_1_max-min',\n",
    "\n",
    " 'ENGINE_FUEL_TEMP_1_kurtosis',\n",
    " 'ENGINE_FUEL_TEMP_1_skewness',\n",
    " 'BAT_CHARGING_CURRENT_mean',\n",
    " 'BAT_CHARGING_CURRENT_median',\n",
    " 'BAT_CHARGING_CURRENT_variance',\n",
    " 'BAT_CHARGING_CURRENT_max',\n",
    " 'BAT_CHARGING_CURRENT_min',\n",
    " 'BAT_CHARGING_CURRENT_max-min',\n",
    "\n",
    " 'BAT_CHARGING_CURRENT_kurtosis',\n",
    " 'BAT_CHARGING_CURRENT_skewness',\n",
    " 'ENGINE_OIL_PRESSURE_mean',\n",
    " 'ENGINE_OIL_PRESSURE_median',\n",
    " 'ENGINE_OIL_PRESSURE_variance',\n",
    " 'ENGINE_OIL_PRESSURE_max',\n",
    " 'ENGINE_OIL_PRESSURE_min',\n",
    " 'ENGINE_OIL_PRESSURE_max-min',\n",
    " \n",
    " 'ENGINE_OIL_PRESSURE_kurtosis',\n",
    " 'ENGINE_OIL_PRESSURE_skewness',\n",
    " 'AIR_PRESSURE_1_mean',\n",
    " 'AIR_PRESSURE_1_median',\n",
    " 'AIR_PRESSURE_1_variance',\n",
    " 'AIR_PRESSURE_1_max',\n",
    " 'AIR_PRESSURE_1_min',\n",
    " 'AIR_PRESSURE_1_max-min',\n",
    "\n",
    " 'AIR_PRESSURE_1_kurtosis',\n",
    " 'AIR_PRESSURE_1_skewness',\n",
    " 'AIR_PRESSURE_2_mean',\n",
    " 'AIR_PRESSURE_2_median',\n",
    " 'AIR_PRESSURE_2_variance',\n",
    " 'AIR_PRESSURE_2_max',\n",
    " 'AIR_PRESSURE_2_min',\n",
    " 'AIR_PRESSURE_2_max-min',\n",
    "\n",
    " 'AIR_PRESSURE_2_kurtosis',\n",
    " 'AIR_PRESSURE_2_skewness',\n",
    " 'AIR_PRESSURE_DIGITAL_mean',\n",
    " 'AIR_PRESSURE_DIGITAL_median',\n",
    " 'AIR_PRESSURE_DIGITAL_variance',\n",
    " 'AIR_PRESSURE_DIGITAL_max',\n",
    " 'AIR_PRESSURE_DIGITAL_min',\n",
    " 'AIR_PRESSURE_DIGITAL_max-min',\n",
    " \n",
    " 'AIR_PRESSURE_DIGITAL_kurtosis',\n",
    " 'AIR_PRESSURE_DIGITAL_skewness',\n",
    " 'ENG_OIL_DIGITAL_mean',\n",
    " 'ENG_OIL_DIGITAL_median',\n",
    " 'ENG_OIL_DIGITAL_variance',\n",
    " 'ENG_OIL_DIGITAL_max',\n",
    " 'ENG_OIL_DIGITAL_min',\n",
    " 'ENG_OIL_DIGITAL_max-min',\n",
    " \n",
    " 'ENG_OIL_DIGITAL_kurtosis',\n",
    " 'ENG_OIL_DIGITAL_skewness',\n",
    " 'eng_coolant_temp_mean',\n",
    " 'eng_coolant_temp_median',\n",
    " 'eng_coolant_temp_variance',\n",
    " 'eng_coolant_temp_max',\n",
    " 'eng_coolant_temp_min',\n",
    " 'eng_coolant_temp_max-min',\n",
    "\n",
    " 'eng_coolant_temp_kurtosis',\n",
    " 'eng_coolant_temp_skewness',\n",
    " 'distance_idle%',\n",
    " 'distance_overrun%',\n",
    " 'distance_decel%',\n",
    " 'distance_accel%',\n",
    " 'time_idle%',\n",
    " 'time_overrun%',\n",
    " 'time_decel%',\n",
    " 'time_accel%',\n",
    " '5409',\n",
    " '535',\n",
    " '525569',\n",
    " '6912',\n",
    " '5888',\n",
    " '6144',\n",
    " '131363',\n",
    " '131619',\n",
    " '8501',\n",
    " '5688',\n",
    " '262288',\n",
    " '131895',\n",
    " '4386',\n",
    " '69888',\n",
    " '5169',\n",
    " '4356',\n",
    " '4406',\n",
    " '131906',\n",
    " '267048',\n",
    " 'total',\n",
    " '22',\n",
    " '4377',\n",
    " '408',\n",
    " '267012',\n",
    " '4390',\n",
    " '9502',\n",
    " '4369',\n",
    " '1315',\n",
    " '4371',\n",
    " '65939',\n",
    " '4613',\n",
    " '1028',\n",
    " '1025',\n",
    " '1030',\n",
    " '1156',\n",
    " '4614',\n",
    " '66104',\n",
    " '1159',\n",
    " '65816',\n",
    " '275',\n",
    " '1344',\n",
    " '5376',\n",
    " '1316',\n",
    " '4374',\n",
    " '66370',\n",
    " '267024',\n",
    " '537',\n",
    " '663',\n",
    " '9501',\n",
    " '70434',\n",
    " '267042',\n",
    " '257',\n",
    " '295',\n",
    " '6657',\n",
    " '131352',\n",
    " '5120',\n",
    " '6400',\n",
    " '66359',\n",
    " '1026',\n",
    " '4626',\n",
    " '1314',\n",
    " '267060',\n",
    " '4385',\n",
    " '5696',\n",
    " '4612',\n",
    " '533',\n",
    " '5634',\n",
    " '4375',\n",
    " '5159',\n",
    " '74065']"
   ]
  },
  {
   "cell_type": "code",
   "execution_count": 65,
   "metadata": {},
   "outputs": [],
   "source": [
    "#list(dataAfterFE.columns)"
   ]
  },
  {
   "cell_type": "code",
   "execution_count": 66,
   "metadata": {},
   "outputs": [],
   "source": [
    "X = dataAfterFE[col_list]\n",
    "y = dataAfterFE[['ANN_RADIATOR_N']]"
   ]
  },
  {
   "cell_type": "code",
   "execution_count": 67,
   "metadata": {},
   "outputs": [
    {
     "name": "stdout",
     "output_type": "stream",
     "text": [
      "(76891, 230) (32954, 230) (76891, 1) (32954, 1)\n"
     ]
    }
   ],
   "source": [
    "from sklearn.model_selection import train_test_split\n",
    "X_train, X_test, y_train, y_test = train_test_split(X, y, test_size=0.30, random_state=1, stratify=y)\n",
    "print(X_train.shape, X_test.shape, y_train.shape, y_test.shape)"
   ]
  },
  {
   "cell_type": "code",
   "execution_count": 68,
   "metadata": {},
   "outputs": [],
   "source": [
    "bucket=\"relai.poc.data\" # aws bucket for sourcing data\n",
    "folder_base = '/unified_Fx_D3_power_annotated/'  # prev modules: data cleaning/sticthing, feature engineering/extraction, annotations \n",
    "extn='.csv' # presently dealing only with csv files\n",
    "\n",
    "#dataAfterFE_withkm = pd.DataFrame()\n",
    "#checkdf = pd.Dataframe(\"\",column = ['tocheck'])\n",
    "checklist = [] \n",
    "listofdf = []\n",
    "i=1\n",
    "for v,df in dataAfterFE.groupby('vin'):\n",
    "    #print(str(i)+':'+v)\n",
    "    temp = pd.read_csv('s3://{}/{}{}{}'.format(bucket, folder_base, v, extn))\n",
    "    if df.shape[0] == temp.shape[0]:\n",
    "        pass\n",
    "    else:\n",
    "        checklist.append(v)\n",
    "        \n",
    "    listofdf.append(temp)\n",
    "    #print(v + 'read')\n",
    "    #df['statedwell_km'] = temp['statedwell_km'].values\n",
    "    #dataAfterFE_withkm = dataAfterFE_withkm.append(df)\n",
    "    i+=1"
   ]
  },
  {
   "cell_type": "code",
   "execution_count": 69,
   "metadata": {},
   "outputs": [
    {
     "data": {
      "text/plain": [
       "['MB1KACHD7KPJG5914']"
      ]
     },
     "execution_count": 69,
     "metadata": {},
     "output_type": "execute_result"
    }
   ],
   "source": [
    "checklist"
   ]
  },
  {
   "cell_type": "code",
   "execution_count": 70,
   "metadata": {},
   "outputs": [],
   "source": [
    "dataAfterFE_withkm = pd.concat(listofdf)\n",
    "dataAfterFE_withkm_avoid5914 = dataAfterFE_withkm[dataAfterFE_withkm['vin'] != 'MB1KACHD7KPJG5914']\n",
    "dataAfterFE_avoid5914 = dataAfterFE[dataAfterFE['vin'] != 'MB1KACHD7KPJG5914']"
   ]
  },
  {
   "cell_type": "code",
   "execution_count": 71,
   "metadata": {},
   "outputs": [],
   "source": [
    "X_C = dataAfterFE_avoid5914[col_list]\n",
    "y_c = dataAfterFE_avoid5914[['ANN_RADIATOR_N']]"
   ]
  },
  {
   "cell_type": "code",
   "execution_count": 72,
   "metadata": {},
   "outputs": [
    {
     "data": {
      "text/plain": [
       "Index(['ANN_RADIATOR_N'], dtype='object')"
      ]
     },
     "execution_count": 72,
     "metadata": {},
     "output_type": "execute_result"
    }
   ],
   "source": [
    "y_c.columns"
   ]
  },
  {
   "cell_type": "code",
   "execution_count": 73,
   "metadata": {},
   "outputs": [
    {
     "data": {
      "text/plain": [
       "array([ 0.50565755, 44.68877136])"
      ]
     },
     "execution_count": 73,
     "metadata": {},
     "output_type": "execute_result"
    }
   ],
   "source": [
    "import numpy as np\n",
    "from sklearn.utils import class_weight\n",
    "class_weights = class_weight.compute_class_weight('balanced',np.unique(y['ANN_RADIATOR_N']),y['ANN_RADIATOR_N'])\n",
    "class_weights"
   ]
  },
  {
   "cell_type": "code",
   "execution_count": 74,
   "metadata": {},
   "outputs": [],
   "source": [
    "from sklearn.ensemble import RandomForestClassifier\n",
    "from sklearn.neighbors import KNeighborsClassifier\n",
    "from sklearn.tree import DecisionTreeClassifier\n",
    "from sklearn.svm import SVC, LinearSVC"
   ]
  },
  {
   "cell_type": "code",
   "execution_count": 75,
   "metadata": {},
   "outputs": [
    {
     "name": "stderr",
     "output_type": "stream",
     "text": [
      "/home/ec2-user/anaconda3/envs/python3/lib/python3.6/site-packages/ipykernel/__main__.py:3: DataConversionWarning: A column-vector y was passed when a 1d array was expected. Please change the shape of y to (n_samples,), for example using ravel().\n",
      "  app.launch_new_instance()\n"
     ]
    }
   ],
   "source": [
    "# Random Forest\n",
    "random_forest = RandomForestClassifier(n_estimators = 100,class_weight={0:class_weights[0],1:class_weights[1]})\n",
    "random_forest.fit(X_train, y_train)\n",
    "#y_pred = random_forest.predict(X_test)\n",
    "random_forest_score = ('{:.2f}'.format(random_forest.score(X_train, y_train)*100))"
   ]
  },
  {
   "cell_type": "code",
   "execution_count": 76,
   "metadata": {},
   "outputs": [
    {
     "name": "stderr",
     "output_type": "stream",
     "text": [
      "/home/ec2-user/anaconda3/envs/python3/lib/python3.6/site-packages/ipykernel/__main__.py:3: DataConversionWarning: A column-vector y was passed when a 1d array was expected. Please change the shape of y to (n_samples, ), for example using ravel().\n",
      "  app.launch_new_instance()\n"
     ]
    }
   ],
   "source": [
    "# K Nearest Neighbor\n",
    "knn= KNeighborsClassifier(n_neighbors=5,weights='distance')\n",
    "knn.fit(X_train, y_train)\n",
    "#y_pred = knn.predict(X_test)\n",
    "knn_score = ('{:.2f}'.format(knn.score(X_train, y_train)*100))"
   ]
  },
  {
   "cell_type": "code",
   "execution_count": 77,
   "metadata": {},
   "outputs": [
    {
     "name": "stderr",
     "output_type": "stream",
     "text": [
      "/home/ec2-user/anaconda3/envs/python3/lib/python3.6/site-packages/sklearn/utils/validation.py:760: DataConversionWarning: A column-vector y was passed when a 1d array was expected. Please change the shape of y to (n_samples, ), for example using ravel().\n",
      "  y = column_or_1d(y, warn=True)\n",
      "/home/ec2-user/anaconda3/envs/python3/lib/python3.6/site-packages/sklearn/svm/_base.py:947: ConvergenceWarning: Liblinear failed to converge, increase the number of iterations.\n",
      "  \"the number of iterations.\", ConvergenceWarning)\n"
     ]
    }
   ],
   "source": [
    "# Linear Support Vector Machine\n",
    "linear_svc = LinearSVC(class_weight={0:class_weights[0],1:class_weights[1]})\n",
    "linear_svc.fit(X_train, y_train)\n",
    "#y_pred = linear_svc.predict(X_test)\n",
    "linear_svc_score = ('{:.2f}'.format(linear_svc.score(X_train, y_train)*100))"
   ]
  },
  {
   "cell_type": "code",
   "execution_count": 78,
   "metadata": {},
   "outputs": [],
   "source": [
    "# Decision Tree\n",
    "dt = DecisionTreeClassifier(class_weight={0:class_weights[0],1:class_weights[1]})\n",
    "dt.fit(X_train, y_train)\n",
    "#y_pred = dt.predict(X_test)\n",
    "dt_score = ('{:.2f}'.format(dt.score(X_train, y_train)*100))"
   ]
  },
  {
   "cell_type": "code",
   "execution_count": 79,
   "metadata": {},
   "outputs": [
    {
     "data": {
      "text/html": [
       "<div>\n",
       "<style scoped>\n",
       "    .dataframe tbody tr th:only-of-type {\n",
       "        vertical-align: middle;\n",
       "    }\n",
       "\n",
       "    .dataframe tbody tr th {\n",
       "        vertical-align: top;\n",
       "    }\n",
       "\n",
       "    .dataframe thead th {\n",
       "        text-align: right;\n",
       "    }\n",
       "</style>\n",
       "<table border=\"1\" class=\"dataframe\">\n",
       "  <thead>\n",
       "    <tr style=\"text-align: right;\">\n",
       "      <th></th>\n",
       "      <th>Model</th>\n",
       "    </tr>\n",
       "    <tr>\n",
       "      <th>Score</th>\n",
       "      <th></th>\n",
       "    </tr>\n",
       "  </thead>\n",
       "  <tbody>\n",
       "    <tr>\n",
       "      <th>92.79</th>\n",
       "      <td>Linear Support Vector Machine</td>\n",
       "    </tr>\n",
       "    <tr>\n",
       "      <th>100.00</th>\n",
       "      <td>Random Forest</td>\n",
       "    </tr>\n",
       "    <tr>\n",
       "      <th>100.00</th>\n",
       "      <td>K Nearest Neighbor</td>\n",
       "    </tr>\n",
       "    <tr>\n",
       "      <th>100.00</th>\n",
       "      <td>Decision Tree</td>\n",
       "    </tr>\n",
       "  </tbody>\n",
       "</table>\n",
       "</div>"
      ],
      "text/plain": [
       "                                Model\n",
       "Score                                \n",
       "92.79   Linear Support Vector Machine\n",
       "100.00                  Random Forest\n",
       "100.00             K Nearest Neighbor\n",
       "100.00                  Decision Tree"
      ]
     },
     "execution_count": 79,
     "metadata": {},
     "output_type": "execute_result"
    }
   ],
   "source": [
    "results = pd.DataFrame({'Model': ['Random Forest','K Nearest Neighbor', 'Linear Support Vector Machine', 'Decision Tree'], #'Support Vector Machine',\n",
    "                        'Score': [random_forest_score,knn_score, linear_svc_score, dt_score]}) # svc_score,\n",
    "\n",
    "df_results = results.sort_values(by='Score', ascending=False)\n",
    "df_results = df_results.set_index('Score')\n",
    "df_results"
   ]
  },
  {
   "cell_type": "code",
   "execution_count": 23,
   "metadata": {},
   "outputs": [
    {
     "data": {
      "text/plain": [
       "['rad_knn_v1.pkl']"
      ]
     },
     "execution_count": 23,
     "metadata": {},
     "output_type": "execute_result"
    }
   ],
   "source": [
    "import joblib\n",
    "#saving the model\n",
    "joblib.dump(dt,'rad_dt_v1.pkl')\n",
    "joblib.dump(random_forest,'rad_random_forest_v1.pkl')\n",
    "joblib.dump(linear_svc,'rad_linear_svc_v1.pkl')\n",
    "joblib.dump(knn,'rad_knn_v1.pkl')"
   ]
  },
  {
   "cell_type": "code",
   "execution_count": 80,
   "metadata": {},
   "outputs": [],
   "source": [
    "y_pred_rf = random_forest.predict(X_test)\n",
    "y_pred_knn = knn.predict(X_test)\n",
    "y_pred_svm = linear_svc.predict(X_test)\n",
    "y_pred_dt = dt.predict(X_test)"
   ]
  },
  {
   "cell_type": "code",
   "execution_count": 81,
   "metadata": {},
   "outputs": [],
   "source": [
    "from sklearn.metrics import confusion_matrix,accuracy_score,precision_score,recall_score,roc_curve"
   ]
  },
  {
   "cell_type": "code",
   "execution_count": 82,
   "metadata": {},
   "outputs": [
    {
     "name": "stdout",
     "output_type": "stream",
     "text": [
      "rf confusion matrix :  [[32579     6]\n",
      " [  366     3]]\n",
      "accuracy_score on test dataset :  0.9887115372944104\n",
      "precision score on test dataset:  0.3333333333333333\n",
      "recall score on test dataset:  0.008130081300813009\n"
     ]
    }
   ],
   "source": [
    "#RF model metrics\n",
    "accuracy_test_rf = accuracy_score(y_test,y_pred_rf)\n",
    "precision_test_rf = precision_score(y_test, y_pred_rf)\n",
    "recall_test_rf = recall_score(y_test, y_pred_rf)\n",
    "    \n",
    "print('rf confusion matrix : ',confusion_matrix(y_test, y_pred_rf,labels=[0,1]))\n",
    "print('accuracy_score on test dataset : ', accuracy_test_rf)\n",
    "print('precision score on test dataset: ',precision_test_rf)\n",
    "print('recall score on test dataset: ',recall_test_rf)"
   ]
  },
  {
   "cell_type": "code",
   "execution_count": 83,
   "metadata": {},
   "outputs": [
    {
     "name": "stdout",
     "output_type": "stream",
     "text": [
      "knn confusion matrix :  [[32558    27]\n",
      " [  330    39]]\n",
      "accuracy_score on test dataset :  0.9891667172422164\n",
      "precision score on test dataset:  0.5909090909090909\n",
      "recall score on test dataset:  0.10569105691056911\n"
     ]
    }
   ],
   "source": [
    "#KNN model metrics\n",
    "accuracy_test_knn = accuracy_score(y_test,y_pred_knn)\n",
    "precision_test_knn = precision_score(y_test, y_pred_knn)\n",
    "recall_test_knn = recall_score(y_test, y_pred_knn)\n",
    "    \n",
    "print('knn confusion matrix : ',confusion_matrix(y_test, y_pred_knn,labels=[0,1]))\n",
    "print('accuracy_score on test dataset : ', accuracy_test_knn)\n",
    "print('precision score on test dataset: ',precision_test_knn)\n",
    "print('recall score on test dataset: ',recall_test_knn)"
   ]
  },
  {
   "cell_type": "code",
   "execution_count": 84,
   "metadata": {},
   "outputs": [
    {
     "name": "stdout",
     "output_type": "stream",
     "text": [
      "svm confusion matrix :  [[30527  2058]\n",
      " [  289    80]]\n",
      "accuracy_score on test dataset :  0.9287795108332828\n",
      "precision score on test dataset:  0.037418147801683815\n",
      "recall score on test dataset:  0.21680216802168023\n"
     ]
    }
   ],
   "source": [
    "#SVM model metrics\n",
    "accuracy_test_svm = accuracy_score(y_test,y_pred_svm)\n",
    "precision_test_svm = precision_score(y_test, y_pred_svm)\n",
    "recall_test_svm = recall_score(y_test, y_pred_svm)\n",
    "    \n",
    "print('svm confusion matrix : ',confusion_matrix(y_test, y_pred_svm,labels=[0,1]))\n",
    "print('accuracy_score on test dataset : ', accuracy_test_svm)\n",
    "print('precision score on test dataset: ',precision_test_svm)\n",
    "print('recall score on test dataset: ',recall_test_svm)"
   ]
  },
  {
   "cell_type": "code",
   "execution_count": 85,
   "metadata": {},
   "outputs": [
    {
     "name": "stdout",
     "output_type": "stream",
     "text": [
      "dt confusion matrix :  [[32234   351]\n",
      " [  331    38]]\n",
      "accuracy_score on test dataset :  0.9793044850397524\n",
      "precision score on test dataset:  0.09768637532133675\n",
      "recall score on test dataset:  0.10298102981029811\n"
     ]
    }
   ],
   "source": [
    "#DT model metrics\n",
    "accuracy_test_dt = accuracy_score(y_test,y_pred_dt)\n",
    "precision_test_dt = precision_score(y_test, y_pred_dt)\n",
    "recall_test_dt = recall_score(y_test, y_pred_dt)\n",
    "    \n",
    "print('dt confusion matrix : ',confusion_matrix(y_test, y_pred_dt,labels=[0,1]))\n",
    "print('accuracy_score on test dataset : ', accuracy_test_dt)\n",
    "print('precision score on test dataset: ',precision_test_dt)\n",
    "print('recall score on test dataset: ',recall_test_dt)"
   ]
  },
  {
   "cell_type": "code",
   "execution_count": 86,
   "metadata": {},
   "outputs": [],
   "source": [
    "#fitting the model to whole dataset\n",
    "y_p_rf = random_forest.predict(X_C)\n",
    "y_p_knn = knn.predict(X_C)\n",
    "y_p_svm = linear_svc.predict(X_C)\n",
    "y_p_dt = dt.predict(X_C)"
   ]
  },
  {
   "cell_type": "code",
   "execution_count": 87,
   "metadata": {},
   "outputs": [
    {
     "name": "stdout",
     "output_type": "stream",
     "text": [
      "rf confusion matrix :  [[108521      6]\n",
      " [   366    863]]\n",
      "accuracy_score on test dataset :  0.9966106636539233\n",
      "precision score on test dataset:  0.9930955120828538\n",
      "recall score on test dataset:  0.7021969080553295\n"
     ]
    }
   ],
   "source": [
    "#RF model metrics for whole data\n",
    "accuracy_test_rf = accuracy_score(y_c['ANN_RADIATOR_N'],y_p_rf)\n",
    "precision_test_rf = precision_score(y_c['ANN_RADIATOR_N'],y_p_rf)\n",
    "recall_test_rf = recall_score(y_c['ANN_RADIATOR_N'],y_p_rf)\n",
    "    \n",
    "print('rf confusion matrix : ',confusion_matrix(y_c['ANN_RADIATOR_N'],y_p_rf,labels=[0,1]))\n",
    "print('accuracy_score on test dataset : ', accuracy_test_rf)\n",
    "print('precision score on test dataset: ',precision_test_rf)\n",
    "print('recall score on test dataset: ',recall_test_rf)"
   ]
  },
  {
   "cell_type": "code",
   "execution_count": 88,
   "metadata": {},
   "outputs": [
    {
     "name": "stdout",
     "output_type": "stream",
     "text": [
      "knn confusion matrix :  [[108500     27]\n",
      " [   330    899]]\n",
      "accuracy_score on test dataset :  0.9967473304420715\n",
      "precision score on test dataset:  0.9708423326133909\n",
      "recall score on test dataset:  0.7314890154597233\n"
     ]
    }
   ],
   "source": [
    "#KNN model metrics for whole data\n",
    "accuracy_test_knn = accuracy_score(y_c['ANN_RADIATOR_N'],y_p_knn)\n",
    "precision_test_knn = precision_score(y_c['ANN_RADIATOR_N'],y_p_knn)\n",
    "recall_test_knn = recall_score(y_c['ANN_RADIATOR_N'],y_p_knn)\n",
    "    \n",
    "print('knn confusion matrix : ',confusion_matrix(y_c['ANN_RADIATOR_N'],y_p_knn,labels=[0,1]))\n",
    "print('accuracy_score on test dataset : ', accuracy_test_knn)\n",
    "print('precision score on test dataset: ',precision_test_knn)\n",
    "print('recall score on test dataset: ',recall_test_knn)"
   ]
  },
  {
   "cell_type": "code",
   "execution_count": 89,
   "metadata": {},
   "outputs": [
    {
     "name": "stdout",
     "output_type": "stream",
     "text": [
      "svm confusion matrix :  [[101623   6904]\n",
      " [   988    241]]\n",
      "accuracy_score on test dataset :  0.9280950471955975\n",
      "precision score on test dataset:  0.033729881035689295\n",
      "recall score on test dataset:  0.19609438567941415\n"
     ]
    }
   ],
   "source": [
    "#SVM model metrics for whole data\n",
    "accuracy_test_svm = accuracy_score(y_c['ANN_RADIATOR_N'],y_p_svm)\n",
    "precision_test_svm = precision_score(y_c['ANN_RADIATOR_N'],y_p_svm)\n",
    "recall_test_svm = recall_score(y_c['ANN_RADIATOR_N'],y_p_svm)\n",
    "    \n",
    "print('svm confusion matrix : ',confusion_matrix(y_c['ANN_RADIATOR_N'],y_p_svm,labels=[0,1]))\n",
    "print('accuracy_score on test dataset : ', accuracy_test_svm)\n",
    "print('precision score on test dataset: ',precision_test_svm)\n",
    "print('recall score on test dataset: ',recall_test_svm)"
   ]
  },
  {
   "cell_type": "code",
   "execution_count": 90,
   "metadata": {},
   "outputs": [
    {
     "name": "stdout",
     "output_type": "stream",
     "text": [
      "dt confusion matrix :  [[108176    351]\n",
      " [   331    898]]\n",
      "accuracy_score on test dataset :  0.9937862166988592\n",
      "precision score on test dataset:  0.7189751801441153\n",
      "recall score on test dataset:  0.7306753458096013\n"
     ]
    }
   ],
   "source": [
    "#DT model metrics for whole data\n",
    "accuracy_test_dt = accuracy_score(y_c['ANN_RADIATOR_N'],y_p_dt)\n",
    "precision_test_dt = precision_score(y_c['ANN_RADIATOR_N'],y_p_dt)\n",
    "recall_test_dt = recall_score(y_c['ANN_RADIATOR_N'],y_p_dt)\n",
    "    \n",
    "print('dt confusion matrix : ',confusion_matrix(y_c['ANN_RADIATOR_N'],y_p_dt,labels=[0,1]))\n",
    "print('accuracy_score on test dataset : ', accuracy_test_dt)\n",
    "print('precision score on test dataset: ',precision_test_dt)\n",
    "print('recall score on test dataset: ',recall_test_dt)"
   ]
  },
  {
   "cell_type": "code",
   "execution_count": 91,
   "metadata": {},
   "outputs": [],
   "source": [
    "X_C_km = dataAfterFE_avoid5914.copy()\n",
    "X_C_km['y_pred_dt'] = y_p_dt.ravel()\n",
    "X_C_km['y_pred_knn'] = y_p_knn.ravel()\n",
    "X_C_km['y_pred_rf'] = y_p_rf.ravel()\n",
    "X_C_km['y_pred_svm'] = y_p_svm.ravel()\n",
    "X_C_km['statedwell_km'] = dataAfterFE_withkm_avoid5914['statedwell_km'].values"
   ]
  },
  {
   "cell_type": "code",
   "execution_count": 113,
   "metadata": {},
   "outputs": [],
   "source": [
    "#X_extended =pd.read_csv(\"AI_03_EGR_dataAfterFE_withkm.csv\")\n",
    "ls_TN=list()\n",
    "ls_TP=list()\n",
    "ls_FP=list()\n",
    "ls_FN=list()\n",
    "\n",
    "TN_Note_vin=list()\n",
    "TN_Note_km=list()\n",
    "\n",
    "FN_Note_vin=list()\n",
    "FN_Note_km=list()\n",
    "\n",
    "TP_Note_vin=list()\n",
    "TP_Note_km=list()\n",
    "\n",
    "FP_Note_vin=list()\n",
    "FP_Note_km=list()\n",
    "\n",
    "    \n",
    "# veh count\n",
    "points=0\n",
    "flen=0\n",
    "fc=0\n",
    "TN=0\n",
    "TP=0\n",
    "FP=0\n",
    "FN=0\n",
    "\n",
    "df21 = X_C_km.groupby('vin')\n",
    "OT = 1\n",
    "for i in df21: # X_train_list\n",
    "    df1=i[1]   \n",
    "    if(len(df1)>0): \n",
    "        df2=pd.DataFrame()\n",
    "        df2['y_pred']=df1['y_pred_dt']\n",
    "        df3=df1[df1['ANN_RADIATOR_N']!=0][['ANN_RADIATOR_KM']] # 0\n",
    "        df3['Measurement in KM'] = df3['ANN_RADIATOR_KM']\n",
    "\n",
    "        if(len(df3)==0):\n",
    "            if(df1.loc[(df2[df2['y_pred']==OT]['y_pred']).index]['statedwell_km'].shape[0]==0): \n",
    "                TN+=1\n",
    "                TN_Note_vin.append(i[0])\n",
    "                TN_Note_km.append(df1.loc[(df2[df2['y_pred']==OT]['y_pred']).index]['statedwell_km'].min() )\n",
    "            else:\n",
    "                FP+=1\n",
    "                FP_Note_vin.append(i[0])\n",
    "                FP_Note_km.append(df1.loc[(df2[df2['y_pred']==OT]['y_pred']).index]['statedwell_km'].min() )\n",
    "        else: \n",
    "            if((df1.loc[(df2[df2['y_pred']==OT]['y_pred']).index]['statedwell_km'].min() <= df3['Measurement in KM'].min()) & (df1.loc[(df2[df2['y_pred']==OT]['y_pred']).index]['statedwell_km'].max()+25000 >= df3['Measurement in KM'].min() )): \n",
    "                TP+=1\n",
    "                TP_Note_vin.append(i[0])\n",
    "                TP_Note_km.append(df1.loc[(df2[df2['y_pred']==OT]['y_pred']).index]['statedwell_km'].min() )\n",
    "            \n",
    "            elif((df1.loc[(df2[df2['y_pred']==OT]['y_pred']).index]['statedwell_km'].min() <= df3['Measurement in KM'].max() ) & (df1.loc[(df2[df2['y_pred']==OT]['y_pred']).index]['statedwell_km'].max()+25000 >= df3['Measurement in KM'].max() )): \n",
    "                TP+=1\n",
    "                TP_Note_vin.append(i[0])\n",
    "                TP_Note_km.append(df1.loc[(df2[df2['y_pred']==OT]['y_pred']).index]['statedwell_km'].min()) \n",
    "            \n",
    "            elif(df1.loc[(df2[df2['y_pred']==OT]['y_pred']).index]['statedwell_km'].shape[0]==0): \n",
    "                FN+=1\n",
    "                FN_Note_vin.append(i[0])\n",
    "                FN_Note_km.append(df1.loc[(df2[df2['y_pred']==OT]['y_pred']).index]['statedwell_km'].min() )                    \n",
    "            \n",
    "            else: \n",
    "                FN+=1\n",
    "                FN_Note_vin.append(i[0])\n",
    "                FN_Note_km.append(df1.loc[(df2[df2['y_pred']==OT]['y_pred']).index]['statedwell_km'].min() )\n",
    "\n",
    "        #print(vin)\n",
    "        #flen=flen+(len(df3['Measurement in KM'].unique()))\n",
    "fc=fc+1\n",
    "ls_TN.append(TN)\n",
    "ls_TP.append(TP)\n",
    "ls_FP.append(FP)\n",
    "ls_FN.append(FN)\n",
    "\n",
    "df_EGR_vinkm_TN = pd.DataFrame({'vin':TN_Note_vin, '1st_prediction_instance_km':TN_Note_km})\n",
    "df_EGR_vinkm_TN['Predicted as Failed'] = \"N\"\n",
    "df_EGR_vinkm_TN['Actual Failed'] = \"N\"\n",
    "\n",
    "df_EGR_vinkm_TP = pd.DataFrame({'vin':TP_Note_vin, '1st_prediction_instance_km':TP_Note_km})\n",
    "df_EGR_vinkm_TP['Predicted as Failed'] = \"Y\"\n",
    "df_EGR_vinkm_TP['Actual Failed'] = \"Y\"\n",
    "\n",
    "df_EGR_vinkm_FN = pd.DataFrame({'vin':FN_Note_vin, '1st_prediction_instance_km':FN_Note_km})\n",
    "df_EGR_vinkm_FN['Predicted as Failed'] = \"N\"\n",
    "df_EGR_vinkm_FN['Actual Failed'] = \"Y\"\n",
    "\n",
    "df_EGR_vinkm_FP = pd.DataFrame({'vin':FP_Note_vin, '1st_prediction_instance_km':FP_Note_km})\n",
    "df_EGR_vinkm_FP['Predicted as Failed'] = \"Y\"\n",
    "df_EGR_vinkm_FP['Actual Failed'] = \"N\"\n",
    "\n",
    "df_EGR_vinkm_formatted_compiled = pd.concat([df_EGR_vinkm_TP, df_EGR_vinkm_FP, df_EGR_vinkm_TN,df_EGR_vinkm_FN])\n",
    "#df_EGR_vinkm_formatted_compiled.to_csv('D:/EGR_Failure_Prediction_formatted_compiled_svm.csv')"
   ]
  },
  {
   "cell_type": "code",
   "execution_count": 114,
   "metadata": {},
   "outputs": [],
   "source": [
    "#df_EGR_vinkm = pd.DataFrame({'vin':Note_vin, 'km':Note_km})\n",
    "df_failed = X_C_km[X_C_km['ANN_RADIATOR_N']==1][['vin','ANN_RADIATOR_KM']].drop_duplicates()\n",
    "df_EGR_vinkm_formatted_compiled = df_EGR_vinkm_formatted_compiled.merge(df_failed, on='vin', how='outer')\n",
    "df_EGR_vinkm_formatted_compiled['Predicted in advance km'] = df_EGR_vinkm_formatted_compiled['ANN_RADIATOR_KM']-df_EGR_vinkm_formatted_compiled['1st_prediction_instance_km']"
   ]
  },
  {
   "cell_type": "code",
   "execution_count": 115,
   "metadata": {},
   "outputs": [],
   "source": [
    "#df_EGR_vinkm_formatted_compiled.to_csv('Raditor_Failure_Prediction_SVM.csv')"
   ]
  },
  {
   "cell_type": "code",
   "execution_count": 116,
   "metadata": {},
   "outputs": [],
   "source": [
    "cm=[]\n",
    "for ind,row in df_EGR_vinkm_formatted_compiled.iterrows():\n",
    "    if row.loc['Actual Failed'] == 'Y' and row.loc['Predicted as Failed'] == 'Y':\n",
    "        cm.append('TP')\n",
    "    elif row.loc['Actual Failed'] == 'N' and row.loc['Predicted as Failed'] == 'N':\n",
    "        cm.append('TN')\n",
    "    elif row.loc['Actual Failed'] == 'Y' and row.loc['Predicted as Failed'] == 'N':\n",
    "        cm.append('FN')\n",
    "    elif row.loc['Actual Failed'] == 'N' and row.loc['Predicted as Failed'] == 'Y':\n",
    "        cm.append('FP')"
   ]
  },
  {
   "cell_type": "code",
   "execution_count": 117,
   "metadata": {},
   "outputs": [
    {
     "data": {
      "text/plain": [
       "Counter({'TP': 72, 'FP': 197, 'TN': 860})"
      ]
     },
     "execution_count": 117,
     "metadata": {},
     "output_type": "execute_result"
    }
   ],
   "source": [
    "from collections import Counter\n",
    "Counter(cm) #DT"
   ]
  },
  {
   "cell_type": "code",
   "execution_count": 45,
   "metadata": {},
   "outputs": [
    {
     "data": {
      "text/plain": [
       "Counter({'TP': 72, 'FP': 9, 'TN': 1048})"
      ]
     },
     "execution_count": 45,
     "metadata": {},
     "output_type": "execute_result"
    }
   ],
   "source": [
    "Counter(cm) #KNN"
   ]
  },
  {
   "cell_type": "code",
   "execution_count": 50,
   "metadata": {},
   "outputs": [
    {
     "data": {
      "text/plain": [
       "Counter({'TP': 72, 'FP': 1, 'TN': 1056})"
      ]
     },
     "execution_count": 50,
     "metadata": {},
     "output_type": "execute_result"
    }
   ],
   "source": [
    "Counter(cm) #RF"
   ]
  },
  {
   "cell_type": "code",
   "execution_count": 58,
   "metadata": {},
   "outputs": [
    {
     "data": {
      "text/plain": [
       "Counter({'TP': 26, 'FP': 111, 'TN': 946, 'FN': 46})"
      ]
     },
     "execution_count": 58,
     "metadata": {},
     "output_type": "execute_result"
    }
   ],
   "source": [
    "Counter(cm) #SVM"
   ]
  },
  {
   "cell_type": "code",
   "execution_count": null,
   "metadata": {},
   "outputs": [],
   "source": []
  },
  {
   "cell_type": "code",
   "execution_count": 59,
   "metadata": {},
   "outputs": [],
   "source": [
    "aio= pd.read_csv('Raditor_Failure_Prediction_SVM.csv')"
   ]
  },
  {
   "cell_type": "code",
   "execution_count": 60,
   "metadata": {},
   "outputs": [],
   "source": [
    "cm=[]\n",
    "for ind,row in aio.iterrows():\n",
    "    if row.loc['Actual Failed'] == 'Y' and row.loc['Predicted as Failed'] == 'Y':\n",
    "        cm.append('TP')\n",
    "    elif row.loc['Actual Failed'] == 'N' and row.loc['Predicted as Failed'] == 'N':\n",
    "        cm.append('TN')\n",
    "    elif row.loc['Actual Failed'] == 'Y' and row.loc['Predicted as Failed'] == 'N':\n",
    "        cm.append('FN')\n",
    "    elif row.loc['Actual Failed'] == 'N' and row.loc['Predicted as Failed'] == 'Y':\n",
    "        cm.append('FP')"
   ]
  },
  {
   "cell_type": "code",
   "execution_count": 61,
   "metadata": {},
   "outputs": [
    {
     "data": {
      "text/plain": [
       "Counter({'TP': 26, 'FP': 111, 'TN': 946, 'FN': 46})"
      ]
     },
     "execution_count": 61,
     "metadata": {},
     "output_type": "execute_result"
    }
   ],
   "source": [
    "Counter(cm)"
   ]
  },
  {
   "cell_type": "code",
   "execution_count": null,
   "metadata": {},
   "outputs": [],
   "source": []
  }
 ],
 "metadata": {
  "kernelspec": {
   "display_name": "conda_python3",
   "language": "python",
   "name": "conda_python3"
  },
  "language_info": {
   "codemirror_mode": {
    "name": "ipython",
    "version": 3
   },
   "file_extension": ".py",
   "mimetype": "text/x-python",
   "name": "python",
   "nbconvert_exporter": "python",
   "pygments_lexer": "ipython3",
   "version": "3.6.10"
  }
 },
 "nbformat": 4,
 "nbformat_minor": 4
}
